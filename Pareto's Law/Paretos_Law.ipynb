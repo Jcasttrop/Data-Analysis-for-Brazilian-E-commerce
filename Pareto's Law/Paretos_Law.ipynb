{
 "cells": [
  {
   "cell_type": "markdown",
   "source": "# Question",
   "metadata": {
    "formattedRanges": [],
    "cell_id": "bcf4c8063acd4669b9d998673dc7b28d",
    "tags": [],
    "is_collapsed": false,
    "deepnote_cell_type": "text-cell-h1"
   }
  },
  {
   "cell_type": "markdown",
   "source": "Does the Pareto principle apply to this ecommerce?",
   "metadata": {
    "formattedRanges": [],
    "cell_id": "affe076c87f04c138128200c5749b10c",
    "tags": [],
    "is_collapsed": false,
    "deepnote_cell_type": "text-cell-p"
   }
  },
  {
   "cell_type": "markdown",
   "source": "# Preparing data",
   "metadata": {
    "formattedRanges": [],
    "cell_id": "7a28e718522d433daf3893ad1f245342",
    "tags": [],
    "is_collapsed": false,
    "deepnote_cell_type": "text-cell-h1"
   }
  },
  {
   "cell_type": "markdown",
   "source": "Import libraries",
   "metadata": {
    "formattedRanges": [],
    "cell_id": "d1d38f34a9f94f1b8e02d4eea30218c2",
    "tags": [],
    "is_collapsed": false,
    "deepnote_cell_type": "text-cell-p"
   }
  },
  {
   "cell_type": "code",
   "metadata": {
    "tags": [],
    "cell_id": "bcb5fbb0-eec6-4824-88f4-662cad9893c7",
    "deepnote_to_be_reexecuted": false,
    "source_hash": "7bb27f00",
    "execution_start": 1656370060126,
    "execution_millis": 3231,
    "deepnote_cell_type": "code",
    "deepnote_cell_height": 153
   },
   "source": "import pandas as pd\nimport numpy as np\nimport matplotlib.pyplot as plt\nimport seaborn as sns\nimport functools as ft",
   "execution_count": 1,
   "outputs": []
  },
  {
   "cell_type": "markdown",
   "source": "Save data frames with correct data types",
   "metadata": {
    "formattedRanges": [],
    "cell_id": "159f3bb5d00f438f9b82878984642fdf",
    "tags": [],
    "is_collapsed": false,
    "deepnote_cell_type": "text-cell-p"
   }
  },
  {
   "cell_type": "code",
   "metadata": {
    "cell_id": "4509fd91519645768573b12254b5c2a3",
    "tags": [],
    "deepnote_to_be_reexecuted": false,
    "source_hash": "eea86beb",
    "execution_start": 1656370063374,
    "execution_millis": 8831,
    "deepnote_cell_type": "code",
    "deepnote_cell_height": 135
   },
   "source": "dir_pandas = '/datasets/drive/platzi_master/proyecto_1/{}'\nitems = pd.read_csv(dir_pandas.format('olist_order_items_dataset.csv')).convert_dtypes()\norders = pd.read_csv(dir_pandas.format('olist_orders_dataset.csv')).convert_dtypes()\nproducts = pd.read_csv(dir_pandas.format('olist_products_dataset.csv')).convert_dtypes()",
   "execution_count": 2,
   "outputs": []
  },
  {
   "cell_type": "markdown",
   "source": "Merge data frames",
   "metadata": {
    "formattedRanges": [],
    "cell_id": "6c0b441a427741cb9b9e917b441c183e",
    "tags": [],
    "is_collapsed": false,
    "deepnote_cell_type": "text-cell-p"
   }
  },
  {
   "cell_type": "code",
   "metadata": {
    "cell_id": "4392db2b6f1f4d148a898e7e78948700",
    "tags": [],
    "deepnote_to_be_reexecuted": false,
    "source_hash": "2e2a5ea1",
    "execution_start": 1656370072214,
    "execution_millis": 478,
    "deepnote_cell_type": "code",
    "deepnote_cell_height": 99
   },
   "source": "dfs = [items, orders, products]\ndf = ft.reduce(lambda left, right: pd.merge(left, right), dfs)",
   "execution_count": 3,
   "outputs": []
  },
  {
   "cell_type": "markdown",
   "source": "Apply correct data type to date columns",
   "metadata": {
    "formattedRanges": [],
    "cell_id": "0737416b96524f748ab27927f6393b81",
    "tags": [],
    "is_collapsed": false,
    "deepnote_cell_type": "text-cell-p"
   }
  },
  {
   "cell_type": "code",
   "metadata": {
    "cell_id": "cc45d58af6f24f7cbbdaf49119924a3c",
    "tags": [],
    "deepnote_to_be_reexecuted": false,
    "source_hash": "f50f2be8",
    "execution_start": 1656370072699,
    "execution_millis": 239,
    "deepnote_cell_type": "code",
    "deepnote_cell_height": 99
   },
   "source": "df_time_columns = ['shipping_limit_date','order_purchase_timestamp','order_approved_at','order_delivered_carrier_date','order_delivered_customer_date','order_estimated_delivery_date']\ndf[df_time_columns] = df[df_time_columns].apply(pd.to_datetime)",
   "execution_count": 4,
   "outputs": []
  },
  {
   "cell_type": "markdown",
   "source": "Keep the original data frame and use a copy to the analysis",
   "metadata": {
    "formattedRanges": [],
    "cell_id": "6ec585027e934737b283fb7cfe846210",
    "tags": [],
    "is_collapsed": false,
    "deepnote_cell_type": "text-cell-p"
   }
  },
  {
   "cell_type": "code",
   "metadata": {
    "cell_id": "de064a87ee2d4670ab3d49ea9601929d",
    "tags": [],
    "deepnote_to_be_reexecuted": false,
    "source_hash": "3118123c",
    "execution_start": 1656370072940,
    "execution_millis": 30,
    "deepnote_cell_type": "code",
    "deepnote_cell_height": 81
   },
   "source": "df_olist = df.copy()",
   "execution_count": 5,
   "outputs": []
  },
  {
   "cell_type": "markdown",
   "source": "# Analysis",
   "metadata": {
    "formattedRanges": [],
    "cell_id": "04b04fedb24646a29526e1781ff96d8f",
    "tags": [],
    "is_collapsed": false,
    "deepnote_cell_type": "text-cell-h1"
   }
  },
  {
   "cell_type": "markdown",
   "source": "Filter the data frame with succeed orders",
   "metadata": {
    "formattedRanges": [],
    "cell_id": "d9c36305d01645eabd224e4ef106ed7e",
    "tags": [],
    "is_collapsed": false,
    "deepnote_cell_type": "text-cell-p"
   }
  },
  {
   "cell_type": "code",
   "metadata": {
    "cell_id": "b05e85b535f84ecfa47495391a64447b",
    "tags": [],
    "deepnote_to_be_reexecuted": false,
    "source_hash": "cee8a91",
    "execution_start": 1656370072979,
    "execution_millis": 2,
    "deepnote_cell_type": "code",
    "deepnote_cell_height": 136.1875,
    "deepnote_output_heights": [
     21.1875
    ]
   },
   "source": "total_orders = len(df_olist)\ntotal_orders",
   "execution_count": 6,
   "outputs": [
    {
     "output_type": "execute_result",
     "execution_count": 6,
     "data": {
      "text/plain": "112650"
     },
     "metadata": {}
    }
   ]
  },
  {
   "cell_type": "code",
   "metadata": {
    "cell_id": "ed4194690da942b5901826f7aa5979bb",
    "tags": [],
    "deepnote_to_be_reexecuted": false,
    "source_hash": "2ec6b133",
    "execution_start": 1656370072987,
    "execution_millis": 809,
    "deepnote_cell_type": "code",
    "deepnote_cell_height": 233.3125,
    "deepnote_output_heights": [
     136.3125
    ]
   },
   "source": "list(df_olist['order_status'].unique())",
   "execution_count": 7,
   "outputs": [
    {
     "output_type": "execute_result",
     "execution_count": 7,
     "data": {
      "text/plain": "['delivered',\n 'shipped',\n 'canceled',\n 'invoiced',\n 'processing',\n 'unavailable',\n 'approved']"
     },
     "metadata": {}
    }
   ]
  },
  {
   "cell_type": "code",
   "metadata": {
    "cell_id": "8c478ab29aa0436199a734cd43c9ae57",
    "tags": [],
    "deepnote_to_be_reexecuted": false,
    "source_hash": "b8d483e4",
    "execution_start": 1656370073002,
    "execution_millis": 794,
    "deepnote_table_state": {
     "pageSize": 10,
     "pageIndex": 0,
     "filters": [
      {
       "id": "order_status",
       "value": "",
       "type": "contains"
      }
     ],
     "sortBy": []
    },
    "deepnote_table_loading": false,
    "deepnote_table_invalid": false,
    "deepnote_cell_type": "code",
    "deepnote_cell_height": 154.1875,
    "deepnote_output_heights": [
     21.1875
    ]
   },
   "source": "released_orders = df_olist.query('order_status != [\"unavailable\",\"canceled\"]')\ntotal_sales = len(released_orders)\ntotal_sales",
   "execution_count": 8,
   "outputs": [
    {
     "output_type": "execute_result",
     "execution_count": 8,
     "data": {
      "text/plain": "112101"
     },
     "metadata": {}
    }
   ]
  },
  {
   "cell_type": "code",
   "metadata": {
    "cell_id": "bd021eb853894bc3bfc388e6cacc4bd6",
    "tags": [],
    "deepnote_to_be_reexecuted": false,
    "source_hash": "cb2f52f7",
    "execution_start": 1656370073067,
    "execution_millis": 730,
    "deepnote_cell_type": "code",
    "deepnote_cell_height": 136.1875,
    "deepnote_output_heights": [
     21.1875
    ]
   },
   "source": "released_share = total_sales / total_orders\nreleased_share",
   "execution_count": 9,
   "outputs": [
    {
     "output_type": "execute_result",
     "execution_count": 9,
     "data": {
      "text/plain": "0.9951264980026631"
     },
     "metadata": {}
    }
   ]
  },
  {
   "cell_type": "markdown",
   "source": "Describe data to find details",
   "metadata": {
    "formattedRanges": [],
    "cell_id": "b35fbcba8d7440d8ac4f13de6aa41b5f",
    "tags": [],
    "is_collapsed": false,
    "deepnote_cell_type": "text-cell-p"
   }
  },
  {
   "cell_type": "code",
   "metadata": {
    "cell_id": "fc4f10a1c9b549629cef57c9a32322d5",
    "tags": [],
    "deepnote_to_be_reexecuted": false,
    "source_hash": "3d70742",
    "execution_start": 1656370073117,
    "execution_millis": 1052,
    "deepnote_cell_type": "code",
    "deepnote_cell_height": 617
   },
   "source": "released_orders.describe(include='all', datetime_is_numeric=True)",
   "execution_count": 10,
   "outputs": [
    {
     "output_type": "execute_result",
     "execution_count": 10,
     "data": {
      "application/vnd.deepnote.dataframe.v3+json": {
       "column_count": 22,
       "row_count": 11,
       "columns": [
        {
         "name": "order_id",
         "dtype": "object",
         "stats": {
          "unique_count": 4,
          "nan_count": 7,
          "categories": [
           {
            "name": "112101",
            "count": 1
           },
           {
            "name": "3 others",
            "count": 3
           },
           {
            "name": "Missing",
            "count": 7
           }
          ]
         }
        },
        {
         "name": "order_item_id",
         "dtype": "float64",
         "stats": {
          "unique_count": 5,
          "nan_count": 3,
          "min": "0.7043072026919425",
          "max": "112101.0",
          "histogram": [
           {
            "bin_start": 0.7043072026919425,
            "bin_end": 11210.733876482424,
            "count": 7
           },
           {
            "bin_start": 11210.733876482424,
            "bin_end": 22420.763445762157,
            "count": 0
           },
           {
            "bin_start": 22420.763445762157,
            "bin_end": 33630.79301504189,
            "count": 0
           },
           {
            "bin_start": 33630.79301504189,
            "bin_end": 44840.82258432162,
            "count": 0
           },
           {
            "bin_start": 44840.82258432162,
            "bin_end": 56050.85215360135,
            "count": 0
           },
           {
            "bin_start": 56050.85215360135,
            "bin_end": 67260.88172288108,
            "count": 0
           },
           {
            "bin_start": 67260.88172288108,
            "bin_end": 78470.9112921608,
            "count": 0
           },
           {
            "bin_start": 78470.9112921608,
            "bin_end": 89680.94086144054,
            "count": 0
           },
           {
            "bin_start": 89680.94086144054,
            "bin_end": 100890.97043072028,
            "count": 0
           },
           {
            "bin_start": 100890.97043072028,
            "bin_end": 112101,
            "count": 1
           }
          ]
         }
        },
        {
         "name": "product_id",
         "dtype": "object",
         "stats": {
          "unique_count": 4,
          "nan_count": 7,
          "categories": [
           {
            "name": "112101",
            "count": 1
           },
           {
            "name": "3 others",
            "count": 3
           },
           {
            "name": "Missing",
            "count": 7
           }
          ]
         }
        },
        {
         "name": "seller_id",
         "dtype": "object",
         "stats": {
          "unique_count": 4,
          "nan_count": 7,
          "categories": [
           {
            "name": "112101",
            "count": 1
           },
           {
            "name": "3 others",
            "count": 3
           },
           {
            "name": "Missing",
            "count": 7
           }
          ]
         }
        },
        {
         "name": "shipping_limit_date",
         "dtype": "object",
         "stats": {
          "unique_count": 7,
          "nan_count": 4,
          "categories": [
           {
            "name": "112101",
            "count": 1
           },
           {
            "name": "6 others",
            "count": 6
           },
           {
            "name": "Missing",
            "count": 4
           }
          ]
         }
        },
        {
         "name": "price",
         "dtype": "float64",
         "stats": {
          "unique_count": 8,
          "nan_count": 3,
          "min": "0.85",
          "max": "112101.0",
          "histogram": [
           {
            "bin_start": 0.85,
            "bin_end": 11210.865,
            "count": 7
           },
           {
            "bin_start": 11210.865,
            "bin_end": 22420.879999999997,
            "count": 0
           },
           {
            "bin_start": 22420.879999999997,
            "bin_end": 33630.895,
            "count": 0
           },
           {
            "bin_start": 33630.895,
            "bin_end": 44840.909999999996,
            "count": 0
           },
           {
            "bin_start": 44840.909999999996,
            "bin_end": 56050.924999999996,
            "count": 0
           },
           {
            "bin_start": 56050.924999999996,
            "bin_end": 67260.94,
            "count": 0
           },
           {
            "bin_start": 67260.94,
            "bin_end": 78470.955,
            "count": 0
           },
           {
            "bin_start": 78470.955,
            "bin_end": 89680.97,
            "count": 0
           },
           {
            "bin_start": 89680.97,
            "bin_end": 100890.985,
            "count": 0
           },
           {
            "bin_start": 100890.985,
            "bin_end": 112101,
            "count": 1
           }
          ]
         }
        },
        {
         "name": "freight_value",
         "dtype": "float64",
         "stats": {
          "unique_count": 8,
          "nan_count": 3,
          "min": "0.0",
          "max": "112101.0",
          "histogram": [
           {
            "bin_start": 0,
            "bin_end": 11210.1,
            "count": 7
           },
           {
            "bin_start": 11210.1,
            "bin_end": 22420.2,
            "count": 0
           },
           {
            "bin_start": 22420.2,
            "bin_end": 33630.3,
            "count": 0
           },
           {
            "bin_start": 33630.3,
            "bin_end": 44840.4,
            "count": 0
           },
           {
            "bin_start": 44840.4,
            "bin_end": 56050.5,
            "count": 0
           },
           {
            "bin_start": 56050.5,
            "bin_end": 67260.6,
            "count": 0
           },
           {
            "bin_start": 67260.6,
            "bin_end": 78470.7,
            "count": 0
           },
           {
            "bin_start": 78470.7,
            "bin_end": 89680.8,
            "count": 0
           },
           {
            "bin_start": 89680.8,
            "bin_end": 100890.90000000001,
            "count": 0
           },
           {
            "bin_start": 100890.90000000001,
            "bin_end": 112101,
            "count": 1
           }
          ]
         }
        },
        {
         "name": "customer_id",
         "dtype": "object",
         "stats": {
          "unique_count": 4,
          "nan_count": 7,
          "categories": [
           {
            "name": "112101",
            "count": 1
           },
           {
            "name": "3 others",
            "count": 3
           },
           {
            "name": "Missing",
            "count": 7
           }
          ]
         }
        },
        {
         "name": "order_status",
         "dtype": "object",
         "stats": {
          "unique_count": 4,
          "nan_count": 7,
          "categories": [
           {
            "name": "112101",
            "count": 1
           },
           {
            "name": "3 others",
            "count": 3
           },
           {
            "name": "Missing",
            "count": 7
           }
          ]
         }
        },
        {
         "name": "order_purchase_timestamp",
         "dtype": "object",
         "stats": {
          "unique_count": 7,
          "nan_count": 4,
          "categories": [
           {
            "name": "112101",
            "count": 1
           },
           {
            "name": "6 others",
            "count": 6
           },
           {
            "name": "Missing",
            "count": 4
           }
          ]
         }
        },
        {
         "name": "order_approved_at",
         "dtype": "object",
         "stats": {
          "unique_count": 7,
          "nan_count": 4,
          "categories": [
           {
            "name": "112086",
            "count": 1
           },
           {
            "name": "6 others",
            "count": 6
           },
           {
            "name": "Missing",
            "count": 4
           }
          ]
         }
        },
        {
         "name": "order_delivered_carrier_date",
         "dtype": "object",
         "stats": {
          "unique_count": 7,
          "nan_count": 4,
          "categories": [
           {
            "name": "111380",
            "count": 1
           },
           {
            "name": "6 others",
            "count": 6
           },
           {
            "name": "Missing",
            "count": 4
           }
          ]
         }
        },
        {
         "name": "order_delivered_customer_date",
         "dtype": "object",
         "stats": {
          "unique_count": 7,
          "nan_count": 4,
          "categories": [
           {
            "name": "110189",
            "count": 1
           },
           {
            "name": "6 others",
            "count": 6
           },
           {
            "name": "Missing",
            "count": 4
           }
          ]
         }
        },
        {
         "name": "order_estimated_delivery_date",
         "dtype": "object",
         "stats": {
          "unique_count": 7,
          "nan_count": 4,
          "categories": [
           {
            "name": "112101",
            "count": 1
           },
           {
            "name": "6 others",
            "count": 6
           },
           {
            "name": "Missing",
            "count": 4
           }
          ]
         }
        },
        {
         "name": "product_category_name",
         "dtype": "object",
         "stats": {
          "unique_count": 4,
          "nan_count": 7,
          "categories": [
           {
            "name": "110512",
            "count": 1
           },
           {
            "name": "3 others",
            "count": 3
           },
           {
            "name": "Missing",
            "count": 7
           }
          ]
         }
        },
        {
         "name": "product_name_lenght",
         "dtype": "float64",
         "stats": {
          "unique_count": 8,
          "nan_count": 3,
          "min": "5.0",
          "max": "110512.0",
          "histogram": [
           {
            "bin_start": 5,
            "bin_end": 11055.7,
            "count": 7
           },
           {
            "bin_start": 11055.7,
            "bin_end": 22106.4,
            "count": 0
           },
           {
            "bin_start": 22106.4,
            "bin_end": 33157.100000000006,
            "count": 0
           },
           {
            "bin_start": 33157.100000000006,
            "bin_end": 44207.8,
            "count": 0
           },
           {
            "bin_start": 44207.8,
            "bin_end": 55258.5,
            "count": 0
           },
           {
            "bin_start": 55258.5,
            "bin_end": 66309.20000000001,
            "count": 0
           },
           {
            "bin_start": 66309.20000000001,
            "bin_end": 77359.90000000001,
            "count": 0
           },
           {
            "bin_start": 77359.90000000001,
            "bin_end": 88410.6,
            "count": 0
           },
           {
            "bin_start": 88410.6,
            "bin_end": 99461.3,
            "count": 0
           },
           {
            "bin_start": 99461.3,
            "bin_end": 110512,
            "count": 1
           }
          ]
         }
        },
        {
         "name": "product_description_lenght",
         "dtype": "float64",
         "stats": {
          "unique_count": 8,
          "nan_count": 3,
          "min": "4.0",
          "max": "110512.0",
          "histogram": [
           {
            "bin_start": 4,
            "bin_end": 11054.8,
            "count": 7
           },
           {
            "bin_start": 11054.8,
            "bin_end": 22105.6,
            "count": 0
           },
           {
            "bin_start": 22105.6,
            "bin_end": 33156.399999999994,
            "count": 0
           },
           {
            "bin_start": 33156.399999999994,
            "bin_end": 44207.2,
            "count": 0
           },
           {
            "bin_start": 44207.2,
            "bin_end": 55258,
            "count": 0
           },
           {
            "bin_start": 55258,
            "bin_end": 66308.79999999999,
            "count": 0
           },
           {
            "bin_start": 66308.79999999999,
            "bin_end": 77359.59999999999,
            "count": 0
           },
           {
            "bin_start": 77359.59999999999,
            "bin_end": 88410.4,
            "count": 0
           },
           {
            "bin_start": 88410.4,
            "bin_end": 99461.2,
            "count": 0
           },
           {
            "bin_start": 99461.2,
            "bin_end": 110512,
            "count": 1
           }
          ]
         }
        },
        {
         "name": "product_photos_qty",
         "dtype": "float64",
         "stats": {
          "unique_count": 6,
          "nan_count": 3,
          "min": "1.0",
          "max": "110512.0",
          "histogram": [
           {
            "bin_start": 1,
            "bin_end": 11052.1,
            "count": 7
           },
           {
            "bin_start": 11052.1,
            "bin_end": 22103.2,
            "count": 0
           },
           {
            "bin_start": 22103.2,
            "bin_end": 33154.3,
            "count": 0
           },
           {
            "bin_start": 33154.3,
            "bin_end": 44205.4,
            "count": 0
           },
           {
            "bin_start": 44205.4,
            "bin_end": 55256.5,
            "count": 0
           },
           {
            "bin_start": 55256.5,
            "bin_end": 66307.6,
            "count": 0
           },
           {
            "bin_start": 66307.6,
            "bin_end": 77358.7,
            "count": 0
           },
           {
            "bin_start": 77358.7,
            "bin_end": 88409.8,
            "count": 0
           },
           {
            "bin_start": 88409.8,
            "bin_end": 99460.90000000001,
            "count": 0
           },
           {
            "bin_start": 99460.90000000001,
            "bin_end": 110512,
            "count": 1
           }
          ]
         }
        },
        {
         "name": "product_weight_g",
         "dtype": "float64",
         "stats": {
          "unique_count": 8,
          "nan_count": 3,
          "min": "0.0",
          "max": "112083.0",
          "histogram": [
           {
            "bin_start": 0,
            "bin_end": 11208.3,
            "count": 6
           },
           {
            "bin_start": 11208.3,
            "bin_end": 22416.6,
            "count": 0
           },
           {
            "bin_start": 22416.6,
            "bin_end": 33624.899999999994,
            "count": 0
           },
           {
            "bin_start": 33624.899999999994,
            "bin_end": 44833.2,
            "count": 1
           },
           {
            "bin_start": 44833.2,
            "bin_end": 56041.5,
            "count": 0
           },
           {
            "bin_start": 56041.5,
            "bin_end": 67249.79999999999,
            "count": 0
           },
           {
            "bin_start": 67249.79999999999,
            "bin_end": 78458.09999999999,
            "count": 0
           },
           {
            "bin_start": 78458.09999999999,
            "bin_end": 89666.4,
            "count": 0
           },
           {
            "bin_start": 89666.4,
            "bin_end": 100874.7,
            "count": 0
           },
           {
            "bin_start": 100874.7,
            "bin_end": 112083,
            "count": 1
           }
          ]
         }
        },
        {
         "name": "product_length_cm",
         "dtype": "float64",
         "stats": {
          "unique_count": 8,
          "nan_count": 3,
          "min": "7.0",
          "max": "112083.0",
          "histogram": [
           {
            "bin_start": 7,
            "bin_end": 11214.6,
            "count": 7
           },
           {
            "bin_start": 11214.6,
            "bin_end": 22422.2,
            "count": 0
           },
           {
            "bin_start": 22422.2,
            "bin_end": 33629.8,
            "count": 0
           },
           {
            "bin_start": 33629.8,
            "bin_end": 44837.4,
            "count": 0
           },
           {
            "bin_start": 44837.4,
            "bin_end": 56045,
            "count": 0
           },
           {
            "bin_start": 56045,
            "bin_end": 67252.6,
            "count": 0
           },
           {
            "bin_start": 67252.6,
            "bin_end": 78460.2,
            "count": 0
           },
           {
            "bin_start": 78460.2,
            "bin_end": 89667.8,
            "count": 0
           },
           {
            "bin_start": 89667.8,
            "bin_end": 100875.40000000001,
            "count": 0
           },
           {
            "bin_start": 100875.40000000001,
            "bin_end": 112083,
            "count": 1
           }
          ]
         }
        },
        {
         "name": "product_height_cm",
         "dtype": "float64",
         "stats": {
          "unique_count": 8,
          "nan_count": 3,
          "min": "2.0",
          "max": "112083.0",
          "histogram": [
           {
            "bin_start": 2,
            "bin_end": 11210.1,
            "count": 7
           },
           {
            "bin_start": 11210.1,
            "bin_end": 22418.2,
            "count": 0
           },
           {
            "bin_start": 22418.2,
            "bin_end": 33626.3,
            "count": 0
           },
           {
            "bin_start": 33626.3,
            "bin_end": 44834.4,
            "count": 0
           },
           {
            "bin_start": 44834.4,
            "bin_end": 56042.5,
            "count": 0
           },
           {
            "bin_start": 56042.5,
            "bin_end": 67250.6,
            "count": 0
           },
           {
            "bin_start": 67250.6,
            "bin_end": 78458.7,
            "count": 0
           },
           {
            "bin_start": 78458.7,
            "bin_end": 89666.8,
            "count": 0
           },
           {
            "bin_start": 89666.8,
            "bin_end": 100874.90000000001,
            "count": 0
           },
           {
            "bin_start": 100874.90000000001,
            "bin_end": 112083,
            "count": 1
           }
          ]
         }
        },
        {
         "name": "product_width_cm",
         "dtype": "float64",
         "stats": {
          "unique_count": 8,
          "nan_count": 3,
          "min": "6.0",
          "max": "112083.0",
          "histogram": [
           {
            "bin_start": 6,
            "bin_end": 11213.7,
            "count": 7
           },
           {
            "bin_start": 11213.7,
            "bin_end": 22421.4,
            "count": 0
           },
           {
            "bin_start": 22421.4,
            "bin_end": 33629.100000000006,
            "count": 0
           },
           {
            "bin_start": 33629.100000000006,
            "bin_end": 44836.8,
            "count": 0
           },
           {
            "bin_start": 44836.8,
            "bin_end": 56044.5,
            "count": 0
           },
           {
            "bin_start": 56044.5,
            "bin_end": 67252.20000000001,
            "count": 0
           },
           {
            "bin_start": 67252.20000000001,
            "bin_end": 78459.90000000001,
            "count": 0
           },
           {
            "bin_start": 78459.90000000001,
            "bin_end": 89667.6,
            "count": 0
           },
           {
            "bin_start": 89667.6,
            "bin_end": 100875.3,
            "count": 0
           },
           {
            "bin_start": 100875.3,
            "bin_end": 112083,
            "count": 1
           }
          ]
         }
        },
        {
         "name": "_deepnote_index_column",
         "dtype": "object"
        }
       ],
       "rows": [
        {
         "order_id": "112101",
         "order_item_id": 112101,
         "product_id": "112101",
         "seller_id": "112101",
         "shipping_limit_date": "112101",
         "price": 112101,
         "freight_value": 112101,
         "customer_id": "112101",
         "order_status": "112101",
         "order_purchase_timestamp": "112101",
         "order_approved_at": "112086",
         "order_delivered_carrier_date": "111380",
         "order_delivered_customer_date": "110189",
         "order_estimated_delivery_date": "112101",
         "product_category_name": "110512",
         "product_name_lenght": 110512,
         "product_description_lenght": 110512,
         "product_photos_qty": 110512,
         "product_weight_g": 112083,
         "product_length_cm": 112083,
         "product_height_cm": 112083,
         "product_width_cm": 112083,
         "_deepnote_index_column": "count"
        },
        {
         "order_id": "98199",
         "order_item_id": "nan",
         "product_id": "32729",
         "seller_id": "3053",
         "shipping_limit_date": "nan",
         "price": "nan",
         "freight_value": "nan",
         "customer_id": "98199",
         "order_status": "5",
         "order_purchase_timestamp": "nan",
         "order_approved_at": "nan",
         "order_delivered_carrier_date": "nan",
         "order_delivered_customer_date": "nan",
         "order_estimated_delivery_date": "nan",
         "product_category_name": "73",
         "product_name_lenght": "nan",
         "product_description_lenght": "nan",
         "product_photos_qty": "nan",
         "product_weight_g": "nan",
         "product_length_cm": "nan",
         "product_height_cm": "nan",
         "product_width_cm": "nan",
         "_deepnote_index_column": "unique"
        },
        {
         "order_id": "8272b63d03f5f79c56e9e4120aec44ef",
         "order_item_id": "nan",
         "product_id": "aca2eb7d00ea1a7b8ebd4e68314663af",
         "seller_id": "6560211a19b47992c3666cc44a7e94c0",
         "shipping_limit_date": "nan",
         "price": "nan",
         "freight_value": "nan",
         "customer_id": "fc3d1daec319d62d49bfb5e1f83123e9",
         "order_status": "delivered",
         "order_purchase_timestamp": "nan",
         "order_approved_at": "nan",
         "order_delivered_carrier_date": "nan",
         "order_delivered_customer_date": "nan",
         "order_estimated_delivery_date": "nan",
         "product_category_name": "cama_mesa_banho",
         "product_name_lenght": "nan",
         "product_description_lenght": "nan",
         "product_photos_qty": "nan",
         "product_weight_g": "nan",
         "product_length_cm": "nan",
         "product_height_cm": "nan",
         "product_width_cm": "nan",
         "_deepnote_index_column": "top"
        },
        {
         "order_id": "21",
         "order_item_id": "nan",
         "product_id": "527",
         "seller_id": "2025",
         "shipping_limit_date": "nan",
         "price": "nan",
         "freight_value": "nan",
         "customer_id": "21",
         "order_status": "110197",
         "order_purchase_timestamp": "nan",
         "order_approved_at": "nan",
         "order_delivered_carrier_date": "nan",
         "order_delivered_customer_date": "nan",
         "order_estimated_delivery_date": "nan",
         "product_category_name": "11097",
         "product_name_lenght": "nan",
         "product_description_lenght": "nan",
         "product_photos_qty": "nan",
         "product_weight_g": "nan",
         "product_length_cm": "nan",
         "product_height_cm": "nan",
         "product_width_cm": "nan",
         "_deepnote_index_column": "freq"
        },
        {
         "order_id": "nan",
         "order_item_id": 1.1973488193682482,
         "product_id": "nan",
         "seller_id": "nan",
         "shipping_limit_date": "2018-01-07 19:28:06.622447616",
         "price": 120.37716648379586,
         "freight_value": 19.99202763579272,
         "customer_id": "nan",
         "order_status": "nan",
         "order_purchase_timestamp": "2018-01-01 04:20:37.930892544",
         "order_approved_at": "2018-01-01 15:56:38.286271488",
         "order_delivered_carrier_date": "2018-01-05 02:26:07.599586816",
         "order_delivered_customer_date": "2018-01-14 13:59:34.689261568",
         "order_estimated_delivery_date": "2018-01-25 00:31:16.736157696",
         "product_category_name": "nan",
         "product_name_lenght": 48.78969704647459,
         "product_description_lenght": 787.9161810482119,
         "product_photos_qty": 2.2105201245113655,
         "product_weight_g": 2093.615186959664,
         "product_length_cm": 30.154492652766255,
         "product_height_cm": 16.58445080877564,
         "product_width_cm": 22.99435239956104,
         "_deepnote_index_column": "mean"
        },
        {
         "order_id": "nan",
         "order_item_id": 1,
         "product_id": "nan",
         "seller_id": "nan",
         "shipping_limit_date": "2016-09-19 23:11:33",
         "price": 0.85,
         "freight_value": 0,
         "customer_id": "nan",
         "order_status": "nan",
         "order_purchase_timestamp": "2016-09-04 21:15:19",
         "order_approved_at": "2016-09-15 12:16:38",
         "order_delivered_carrier_date": "2016-10-08 10:34:01",
         "order_delivered_customer_date": "2016-10-11 13:46:32",
         "order_estimated_delivery_date": "2016-10-04 00:00:00",
         "product_category_name": "nan",
         "product_name_lenght": 5,
         "product_description_lenght": 4,
         "product_photos_qty": 1,
         "product_weight_g": 0,
         "product_length_cm": 7,
         "product_height_cm": 2,
         "product_width_cm": 6,
         "_deepnote_index_column": "min"
        },
        {
         "order_id": "nan",
         "order_item_id": 1,
         "product_id": "nan",
         "seller_id": "nan",
         "shipping_limit_date": "2017-09-20 23:24:26",
         "price": 39.9,
         "freight_value": 13.08,
         "customer_id": "nan",
         "order_status": "nan",
         "order_purchase_timestamp": "2017-09-13 23:13:16",
         "order_approved_at": "2017-09-14 11:50:23",
         "order_delivered_carrier_date": "2017-09-18 20:19:28.249999872",
         "order_delivered_customer_date": "2017-09-26 20:15:35",
         "order_estimated_delivery_date": "2017-10-05 00:00:00",
         "product_category_name": "nan",
         "product_name_lenght": 42,
         "product_description_lenght": 348,
         "product_photos_qty": 1,
         "product_weight_g": 300,
         "product_length_cm": 18,
         "product_height_cm": 8,
         "product_width_cm": 15,
         "_deepnote_index_column": "25%"
        },
        {
         "order_id": "nan",
         "order_item_id": 1,
         "product_id": "nan",
         "seller_id": "nan",
         "shipping_limit_date": "2018-01-26 13:59:24",
         "price": 74.9,
         "freight_value": 16.27,
         "customer_id": "nan",
         "order_status": "nan",
         "order_purchase_timestamp": "2018-01-19 22:20:50",
         "order_approved_at": "2018-01-20 12:51:33.500000",
         "order_delivered_carrier_date": "2018-01-24 18:09:24",
         "order_delivered_customer_date": "2018-02-02 21:05:09",
         "order_estimated_delivery_date": "2018-02-16 00:00:00",
         "product_category_name": "nan",
         "product_name_lenght": 52,
         "product_description_lenght": 603,
         "product_photos_qty": 1,
         "product_weight_g": 700,
         "product_length_cm": 25,
         "product_height_cm": 13,
         "product_width_cm": 20,
         "_deepnote_index_column": "50%"
        },
        {
         "order_id": "nan",
         "order_item_id": 1,
         "product_id": "nan",
         "seller_id": "nan",
         "shipping_limit_date": "2018-05-10 14:53:13",
         "price": 134.9,
         "freight_value": 21.15,
         "customer_id": "nan",
         "order_status": "nan",
         "order_purchase_timestamp": "2018-05-04 17:51:51",
         "order_approved_at": "2018-05-05 03:15:10.500000",
         "order_delivered_carrier_date": "2018-05-08 13:38:15",
         "order_delivered_customer_date": "2018-05-15 20:14:33",
         "order_estimated_delivery_date": "2018-05-28 00:00:00",
         "product_category_name": "nan",
         "product_name_lenght": 57,
         "product_description_lenght": 987,
         "product_photos_qty": 3,
         "product_weight_g": 1800,
         "product_length_cm": 38,
         "product_height_cm": 20,
         "product_width_cm": 30,
         "_deepnote_index_column": "75%"
        },
        {
         "order_id": "nan",
         "order_item_id": 21,
         "product_id": "nan",
         "seller_id": "nan",
         "shipping_limit_date": "2020-04-09 22:35:08",
         "price": 6735,
         "freight_value": 409.68,
         "customer_id": "nan",
         "order_status": "nan",
         "order_purchase_timestamp": "2018-09-03 09:06:57",
         "order_approved_at": "2018-09-03 17:40:06",
         "order_delivered_carrier_date": "2018-09-11 19:48:28",
         "order_delivered_customer_date": "2018-10-17 13:22:46",
         "order_estimated_delivery_date": "2018-10-25 00:00:00",
         "product_category_name": "nan",
         "product_name_lenght": 76,
         "product_description_lenght": 3992,
         "product_photos_qty": 20,
         "product_weight_g": 40425,
         "product_length_cm": 105,
         "product_height_cm": 105,
         "product_width_cm": 118,
         "_deepnote_index_column": "max"
        }
       ]
      },
      "text/plain": "                                order_id  order_item_id  \\\ncount                             112101  112101.000000   \nunique                             98199            NaN   \ntop     8272b63d03f5f79c56e9e4120aec44ef            NaN   \nfreq                                  21            NaN   \nmean                                 NaN       1.197349   \nmin                                  NaN       1.000000   \n25%                                  NaN       1.000000   \n50%                                  NaN       1.000000   \n75%                                  NaN       1.000000   \nmax                                  NaN      21.000000   \nstd                                  NaN       0.704307   \n\n                              product_id                         seller_id  \\\ncount                             112101                            112101   \nunique                             32729                              3053   \ntop     aca2eb7d00ea1a7b8ebd4e68314663af  6560211a19b47992c3666cc44a7e94c0   \nfreq                                 527                              2025   \nmean                                 NaN                               NaN   \nmin                                  NaN                               NaN   \n25%                                  NaN                               NaN   \n50%                                  NaN                               NaN   \n75%                                  NaN                               NaN   \nmax                                  NaN                               NaN   \nstd                                  NaN                               NaN   \n\n                  shipping_limit_date          price  freight_value  \\\ncount                          112101  112101.000000  112101.000000   \nunique                            NaN            NaN            NaN   \ntop                               NaN            NaN            NaN   \nfreq                              NaN            NaN            NaN   \nmean    2018-01-07 19:28:06.622447616     120.377166      19.992028   \nmin               2016-09-19 23:11:33       0.850000       0.000000   \n25%               2017-09-20 23:24:26      39.900000      13.080000   \n50%               2018-01-26 13:59:24      74.900000      16.270000   \n75%               2018-05-10 14:53:13     134.900000      21.150000   \nmax               2020-04-09 22:35:08    6735.000000     409.680000   \nstd                               NaN     182.637401      15.797782   \n\n                             customer_id order_status  \\\ncount                             112101       112101   \nunique                             98199            5   \ntop     fc3d1daec319d62d49bfb5e1f83123e9    delivered   \nfreq                                  21       110197   \nmean                                 NaN          NaN   \nmin                                  NaN          NaN   \n25%                                  NaN          NaN   \n50%                                  NaN          NaN   \n75%                                  NaN          NaN   \nmax                                  NaN          NaN   \nstd                                  NaN          NaN   \n\n             order_purchase_timestamp  ...  order_delivered_customer_date  \\\ncount                          112101  ...                         110189   \nunique                            NaN  ...                            NaN   \ntop                               NaN  ...                            NaN   \nfreq                              NaN  ...                            NaN   \nmean    2018-01-01 04:20:37.930892544  ...  2018-01-14 13:59:34.689261568   \nmin               2016-09-04 21:15:19  ...            2016-10-11 13:46:32   \n25%               2017-09-13 23:13:16  ...            2017-09-26 20:15:35   \n50%               2018-01-19 22:20:50  ...            2018-02-02 21:05:09   \n75%               2018-05-04 17:51:51  ...            2018-05-15 20:14:33   \nmax               2018-09-03 09:06:57  ...            2018-10-17 13:22:46   \nstd                               NaN  ...                            NaN   \n\n        order_estimated_delivery_date product_category_name  \\\ncount                          112101                110512   \nunique                            NaN                    73   \ntop                               NaN       cama_mesa_banho   \nfreq                              NaN                 11097   \nmean    2018-01-25 00:31:16.736157696                   NaN   \nmin               2016-10-04 00:00:00                   NaN   \n25%               2017-10-05 00:00:00                   NaN   \n50%               2018-02-16 00:00:00                   NaN   \n75%               2018-05-28 00:00:00                   NaN   \nmax               2018-10-25 00:00:00                   NaN   \nstd                               NaN                   NaN   \n\n       product_name_lenght product_description_lenght  product_photos_qty  \\\ncount        110512.000000              110512.000000        110512.00000   \nunique                 NaN                        NaN                 NaN   \ntop                    NaN                        NaN                 NaN   \nfreq                   NaN                        NaN                 NaN   \nmean             48.789697                 787.916181             2.21052   \nmin               5.000000                   4.000000             1.00000   \n25%              42.000000                 348.000000             1.00000   \n50%              52.000000                 603.000000             1.00000   \n75%              57.000000                 987.000000             3.00000   \nmax              76.000000                3992.000000            20.00000   \nstd              10.017949                 651.974900             1.72216   \n\n        product_weight_g  product_length_cm  product_height_cm  \\\ncount      112083.000000      112083.000000      112083.000000   \nunique               NaN                NaN                NaN   \ntop                  NaN                NaN                NaN   \nfreq                 NaN                NaN                NaN   \nmean         2093.615187          30.154493          16.584451   \nmin             0.000000           7.000000           2.000000   \n25%           300.000000          18.000000           8.000000   \n50%           700.000000          25.000000          13.000000   \n75%          1800.000000          38.000000          20.000000   \nmax         40425.000000         105.000000         105.000000   \nstd          3751.385096          16.153039          13.435684   \n\n        product_width_cm  \ncount      112083.000000  \nunique               NaN  \ntop                  NaN  \nfreq                 NaN  \nmean           22.994352  \nmin             6.000000  \n25%            15.000000  \n50%            20.000000  \n75%            30.000000  \nmax           118.000000  \nstd            11.700765  \n\n[11 rows x 22 columns]",
      "text/html": "<div>\n<style scoped>\n    .dataframe tbody tr th:only-of-type {\n        vertical-align: middle;\n    }\n\n    .dataframe tbody tr th {\n        vertical-align: top;\n    }\n\n    .dataframe thead th {\n        text-align: right;\n    }\n</style>\n<table border=\"1\" class=\"dataframe\">\n  <thead>\n    <tr style=\"text-align: right;\">\n      <th></th>\n      <th>order_id</th>\n      <th>order_item_id</th>\n      <th>product_id</th>\n      <th>seller_id</th>\n      <th>shipping_limit_date</th>\n      <th>price</th>\n      <th>freight_value</th>\n      <th>customer_id</th>\n      <th>order_status</th>\n      <th>order_purchase_timestamp</th>\n      <th>...</th>\n      <th>order_delivered_customer_date</th>\n      <th>order_estimated_delivery_date</th>\n      <th>product_category_name</th>\n      <th>product_name_lenght</th>\n      <th>product_description_lenght</th>\n      <th>product_photos_qty</th>\n      <th>product_weight_g</th>\n      <th>product_length_cm</th>\n      <th>product_height_cm</th>\n      <th>product_width_cm</th>\n    </tr>\n  </thead>\n  <tbody>\n    <tr>\n      <th>count</th>\n      <td>112101</td>\n      <td>112101.000000</td>\n      <td>112101</td>\n      <td>112101</td>\n      <td>112101</td>\n      <td>112101.000000</td>\n      <td>112101.000000</td>\n      <td>112101</td>\n      <td>112101</td>\n      <td>112101</td>\n      <td>...</td>\n      <td>110189</td>\n      <td>112101</td>\n      <td>110512</td>\n      <td>110512.000000</td>\n      <td>110512.000000</td>\n      <td>110512.00000</td>\n      <td>112083.000000</td>\n      <td>112083.000000</td>\n      <td>112083.000000</td>\n      <td>112083.000000</td>\n    </tr>\n    <tr>\n      <th>unique</th>\n      <td>98199</td>\n      <td>NaN</td>\n      <td>32729</td>\n      <td>3053</td>\n      <td>NaN</td>\n      <td>NaN</td>\n      <td>NaN</td>\n      <td>98199</td>\n      <td>5</td>\n      <td>NaN</td>\n      <td>...</td>\n      <td>NaN</td>\n      <td>NaN</td>\n      <td>73</td>\n      <td>NaN</td>\n      <td>NaN</td>\n      <td>NaN</td>\n      <td>NaN</td>\n      <td>NaN</td>\n      <td>NaN</td>\n      <td>NaN</td>\n    </tr>\n    <tr>\n      <th>top</th>\n      <td>8272b63d03f5f79c56e9e4120aec44ef</td>\n      <td>NaN</td>\n      <td>aca2eb7d00ea1a7b8ebd4e68314663af</td>\n      <td>6560211a19b47992c3666cc44a7e94c0</td>\n      <td>NaN</td>\n      <td>NaN</td>\n      <td>NaN</td>\n      <td>fc3d1daec319d62d49bfb5e1f83123e9</td>\n      <td>delivered</td>\n      <td>NaN</td>\n      <td>...</td>\n      <td>NaN</td>\n      <td>NaN</td>\n      <td>cama_mesa_banho</td>\n      <td>NaN</td>\n      <td>NaN</td>\n      <td>NaN</td>\n      <td>NaN</td>\n      <td>NaN</td>\n      <td>NaN</td>\n      <td>NaN</td>\n    </tr>\n    <tr>\n      <th>freq</th>\n      <td>21</td>\n      <td>NaN</td>\n      <td>527</td>\n      <td>2025</td>\n      <td>NaN</td>\n      <td>NaN</td>\n      <td>NaN</td>\n      <td>21</td>\n      <td>110197</td>\n      <td>NaN</td>\n      <td>...</td>\n      <td>NaN</td>\n      <td>NaN</td>\n      <td>11097</td>\n      <td>NaN</td>\n      <td>NaN</td>\n      <td>NaN</td>\n      <td>NaN</td>\n      <td>NaN</td>\n      <td>NaN</td>\n      <td>NaN</td>\n    </tr>\n    <tr>\n      <th>mean</th>\n      <td>NaN</td>\n      <td>1.197349</td>\n      <td>NaN</td>\n      <td>NaN</td>\n      <td>2018-01-07 19:28:06.622447616</td>\n      <td>120.377166</td>\n      <td>19.992028</td>\n      <td>NaN</td>\n      <td>NaN</td>\n      <td>2018-01-01 04:20:37.930892544</td>\n      <td>...</td>\n      <td>2018-01-14 13:59:34.689261568</td>\n      <td>2018-01-25 00:31:16.736157696</td>\n      <td>NaN</td>\n      <td>48.789697</td>\n      <td>787.916181</td>\n      <td>2.21052</td>\n      <td>2093.615187</td>\n      <td>30.154493</td>\n      <td>16.584451</td>\n      <td>22.994352</td>\n    </tr>\n    <tr>\n      <th>min</th>\n      <td>NaN</td>\n      <td>1.000000</td>\n      <td>NaN</td>\n      <td>NaN</td>\n      <td>2016-09-19 23:11:33</td>\n      <td>0.850000</td>\n      <td>0.000000</td>\n      <td>NaN</td>\n      <td>NaN</td>\n      <td>2016-09-04 21:15:19</td>\n      <td>...</td>\n      <td>2016-10-11 13:46:32</td>\n      <td>2016-10-04 00:00:00</td>\n      <td>NaN</td>\n      <td>5.000000</td>\n      <td>4.000000</td>\n      <td>1.00000</td>\n      <td>0.000000</td>\n      <td>7.000000</td>\n      <td>2.000000</td>\n      <td>6.000000</td>\n    </tr>\n    <tr>\n      <th>25%</th>\n      <td>NaN</td>\n      <td>1.000000</td>\n      <td>NaN</td>\n      <td>NaN</td>\n      <td>2017-09-20 23:24:26</td>\n      <td>39.900000</td>\n      <td>13.080000</td>\n      <td>NaN</td>\n      <td>NaN</td>\n      <td>2017-09-13 23:13:16</td>\n      <td>...</td>\n      <td>2017-09-26 20:15:35</td>\n      <td>2017-10-05 00:00:00</td>\n      <td>NaN</td>\n      <td>42.000000</td>\n      <td>348.000000</td>\n      <td>1.00000</td>\n      <td>300.000000</td>\n      <td>18.000000</td>\n      <td>8.000000</td>\n      <td>15.000000</td>\n    </tr>\n    <tr>\n      <th>50%</th>\n      <td>NaN</td>\n      <td>1.000000</td>\n      <td>NaN</td>\n      <td>NaN</td>\n      <td>2018-01-26 13:59:24</td>\n      <td>74.900000</td>\n      <td>16.270000</td>\n      <td>NaN</td>\n      <td>NaN</td>\n      <td>2018-01-19 22:20:50</td>\n      <td>...</td>\n      <td>2018-02-02 21:05:09</td>\n      <td>2018-02-16 00:00:00</td>\n      <td>NaN</td>\n      <td>52.000000</td>\n      <td>603.000000</td>\n      <td>1.00000</td>\n      <td>700.000000</td>\n      <td>25.000000</td>\n      <td>13.000000</td>\n      <td>20.000000</td>\n    </tr>\n    <tr>\n      <th>75%</th>\n      <td>NaN</td>\n      <td>1.000000</td>\n      <td>NaN</td>\n      <td>NaN</td>\n      <td>2018-05-10 14:53:13</td>\n      <td>134.900000</td>\n      <td>21.150000</td>\n      <td>NaN</td>\n      <td>NaN</td>\n      <td>2018-05-04 17:51:51</td>\n      <td>...</td>\n      <td>2018-05-15 20:14:33</td>\n      <td>2018-05-28 00:00:00</td>\n      <td>NaN</td>\n      <td>57.000000</td>\n      <td>987.000000</td>\n      <td>3.00000</td>\n      <td>1800.000000</td>\n      <td>38.000000</td>\n      <td>20.000000</td>\n      <td>30.000000</td>\n    </tr>\n    <tr>\n      <th>max</th>\n      <td>NaN</td>\n      <td>21.000000</td>\n      <td>NaN</td>\n      <td>NaN</td>\n      <td>2020-04-09 22:35:08</td>\n      <td>6735.000000</td>\n      <td>409.680000</td>\n      <td>NaN</td>\n      <td>NaN</td>\n      <td>2018-09-03 09:06:57</td>\n      <td>...</td>\n      <td>2018-10-17 13:22:46</td>\n      <td>2018-10-25 00:00:00</td>\n      <td>NaN</td>\n      <td>76.000000</td>\n      <td>3992.000000</td>\n      <td>20.00000</td>\n      <td>40425.000000</td>\n      <td>105.000000</td>\n      <td>105.000000</td>\n      <td>118.000000</td>\n    </tr>\n    <tr>\n      <th>std</th>\n      <td>NaN</td>\n      <td>0.704307</td>\n      <td>NaN</td>\n      <td>NaN</td>\n      <td>NaN</td>\n      <td>182.637401</td>\n      <td>15.797782</td>\n      <td>NaN</td>\n      <td>NaN</td>\n      <td>NaN</td>\n      <td>...</td>\n      <td>NaN</td>\n      <td>NaN</td>\n      <td>NaN</td>\n      <td>10.017949</td>\n      <td>651.974900</td>\n      <td>1.72216</td>\n      <td>3751.385096</td>\n      <td>16.153039</td>\n      <td>13.435684</td>\n      <td>11.700765</td>\n    </tr>\n  </tbody>\n</table>\n<p>11 rows × 22 columns</p>\n</div>"
     },
     "metadata": {}
    }
   ]
  },
  {
   "cell_type": "code",
   "metadata": {
    "cell_id": "a7a6220ff7344865853b6bdc35f28ff5",
    "tags": [],
    "deepnote_to_be_reexecuted": false,
    "source_hash": "4fed6895",
    "execution_start": 1656370074173,
    "execution_millis": 306,
    "deepnote_cell_type": "code",
    "deepnote_cell_height": 540.3125,
    "deepnote_output_heights": [
     443.3125
    ]
   },
   "source": "released_orders.nunique()",
   "execution_count": 11,
   "outputs": [
    {
     "output_type": "execute_result",
     "execution_count": 11,
     "data": {
      "text/plain": "order_id                         98199\norder_item_id                       21\nproduct_id                       32729\nseller_id                         3053\nshipping_limit_date              92883\nprice                             5934\nfreight_value                     6985\ncustomer_id                      98199\norder_status                         5\norder_purchase_timestamp         97647\norder_approved_at                89757\norder_delivered_carrier_date     80950\norder_delivered_customer_date    95658\norder_estimated_delivery_date      447\nproduct_category_name               73\nproduct_name_lenght                 66\nproduct_description_lenght        2957\nproduct_photos_qty                  19\nproduct_weight_g                  2193\nproduct_length_cm                   99\nproduct_height_cm                  102\nproduct_width_cm                    95\ndtype: int64"
     },
     "metadata": {}
    }
   ]
  },
  {
   "cell_type": "code",
   "source": "released_orders.head(1)",
   "metadata": {
    "cell_id": "534ef3ecf8294110940154018907779d",
    "tags": [],
    "deepnote_to_be_reexecuted": false,
    "source_hash": "7db32550",
    "execution_start": 1656370947646,
    "execution_millis": 126,
    "deepnote_cell_type": "code",
    "deepnote_cell_height": 248
   },
   "outputs": [
    {
     "output_type": "execute_result",
     "execution_count": 25,
     "data": {
      "application/vnd.deepnote.dataframe.v3+json": {
       "column_count": 22,
       "row_count": 1,
       "columns": [
        {
         "name": "order_id",
         "dtype": "string",
         "stats": {
          "unique_count": 1,
          "nan_count": 0,
          "categories": [
           {
            "name": "00010242fe8c5a6d1ba2dd792cb16214",
            "count": 1
           }
          ]
         }
        },
        {
         "name": "order_item_id",
         "dtype": "Int64",
         "stats": {
          "unique_count": 1,
          "nan_count": 0,
          "categories": [
           {
            "name": "1",
            "count": 1
           }
          ]
         }
        },
        {
         "name": "product_id",
         "dtype": "string",
         "stats": {
          "unique_count": 1,
          "nan_count": 0,
          "categories": [
           {
            "name": "4244733e06e7ecb4970a6e2683c13e61",
            "count": 1
           }
          ]
         }
        },
        {
         "name": "seller_id",
         "dtype": "string",
         "stats": {
          "unique_count": 1,
          "nan_count": 0,
          "categories": [
           {
            "name": "48436dade18ac8b2bce089ec2a041202",
            "count": 1
           }
          ]
         }
        },
        {
         "name": "shipping_limit_date",
         "dtype": "datetime64[ns]",
         "stats": {
          "unique_count": 1,
          "nan_count": 0,
          "min": "2017-09-19 09:45:35",
          "max": "2017-09-19 09:45:35",
          "histogram": null
         }
        },
        {
         "name": "price",
         "dtype": "Float64",
         "stats": {
          "unique_count": 1,
          "nan_count": 0,
          "categories": [
           {
            "name": "58.9",
            "count": 1
           }
          ]
         }
        },
        {
         "name": "freight_value",
         "dtype": "Float64",
         "stats": {
          "unique_count": 1,
          "nan_count": 0,
          "categories": [
           {
            "name": "13.29",
            "count": 1
           }
          ]
         }
        },
        {
         "name": "customer_id",
         "dtype": "string",
         "stats": {
          "unique_count": 1,
          "nan_count": 0,
          "categories": [
           {
            "name": "3ce436f183e68e07877b285a838db11a",
            "count": 1
           }
          ]
         }
        },
        {
         "name": "order_status",
         "dtype": "string",
         "stats": {
          "unique_count": 1,
          "nan_count": 0,
          "categories": [
           {
            "name": "delivered",
            "count": 1
           }
          ]
         }
        },
        {
         "name": "order_purchase_timestamp",
         "dtype": "datetime64[ns]",
         "stats": {
          "unique_count": 1,
          "nan_count": 0,
          "min": "2017-09-13 08:59:02",
          "max": "2017-09-13 08:59:02",
          "histogram": null
         }
        },
        {
         "name": "order_approved_at",
         "dtype": "datetime64[ns]",
         "stats": {
          "unique_count": 1,
          "nan_count": 0,
          "min": "2017-09-13 09:45:35",
          "max": "2017-09-13 09:45:35",
          "histogram": null
         }
        },
        {
         "name": "order_delivered_carrier_date",
         "dtype": "datetime64[ns]",
         "stats": {
          "unique_count": 1,
          "nan_count": 0,
          "min": "2017-09-19 18:34:16",
          "max": "2017-09-19 18:34:16",
          "histogram": null
         }
        },
        {
         "name": "order_delivered_customer_date",
         "dtype": "datetime64[ns]",
         "stats": {
          "unique_count": 1,
          "nan_count": 0,
          "min": "2017-09-20 23:43:48",
          "max": "2017-09-20 23:43:48",
          "histogram": null
         }
        },
        {
         "name": "order_estimated_delivery_date",
         "dtype": "datetime64[ns]",
         "stats": {
          "unique_count": 1,
          "nan_count": 0,
          "min": "2017-09-29 00:00:00",
          "max": "2017-09-29 00:00:00",
          "histogram": null
         }
        },
        {
         "name": "product_category_name",
         "dtype": "string",
         "stats": {
          "unique_count": 1,
          "nan_count": 0,
          "categories": [
           {
            "name": "cool_stuff",
            "count": 1
           }
          ]
         }
        },
        {
         "name": "product_name_lenght",
         "dtype": "Int64",
         "stats": {
          "unique_count": 1,
          "nan_count": 0,
          "categories": [
           {
            "name": "58",
            "count": 1
           }
          ]
         }
        },
        {
         "name": "product_description_lenght",
         "dtype": "Int64",
         "stats": {
          "unique_count": 1,
          "nan_count": 0,
          "categories": [
           {
            "name": "598",
            "count": 1
           }
          ]
         }
        },
        {
         "name": "product_photos_qty",
         "dtype": "Int64",
         "stats": {
          "unique_count": 1,
          "nan_count": 0,
          "categories": [
           {
            "name": "4",
            "count": 1
           }
          ]
         }
        },
        {
         "name": "product_weight_g",
         "dtype": "Int64",
         "stats": {
          "unique_count": 1,
          "nan_count": 0,
          "categories": [
           {
            "name": "650",
            "count": 1
           }
          ]
         }
        },
        {
         "name": "product_length_cm",
         "dtype": "Int64",
         "stats": {
          "unique_count": 1,
          "nan_count": 0,
          "categories": [
           {
            "name": "28",
            "count": 1
           }
          ]
         }
        },
        {
         "name": "product_height_cm",
         "dtype": "Int64",
         "stats": {
          "unique_count": 1,
          "nan_count": 0,
          "categories": [
           {
            "name": "9",
            "count": 1
           }
          ]
         }
        },
        {
         "name": "product_width_cm",
         "dtype": "Int64",
         "stats": {
          "unique_count": 1,
          "nan_count": 0,
          "categories": [
           {
            "name": "14",
            "count": 1
           }
          ]
         }
        },
        {
         "name": "_deepnote_index_column",
         "dtype": "int64"
        }
       ],
       "rows": [
        {
         "order_id": "00010242fe8c5a6d1ba2dd792cb16214",
         "order_item_id": 1,
         "product_id": "4244733e06e7ecb4970a6e2683c13e61",
         "seller_id": "48436dade18ac8b2bce089ec2a041202",
         "shipping_limit_date": "2017-09-19T09:45:35.000000",
         "price": 58.9,
         "freight_value": 13.29,
         "customer_id": "3ce436f183e68e07877b285a838db11a",
         "order_status": "delivered",
         "order_purchase_timestamp": "2017-09-13T08:59:02.000000",
         "order_approved_at": "2017-09-13T09:45:35.000000",
         "order_delivered_carrier_date": "2017-09-19T18:34:16.000000",
         "order_delivered_customer_date": "2017-09-20T23:43:48.000000",
         "order_estimated_delivery_date": "2017-09-29T00:00:00.000000",
         "product_category_name": "cool_stuff",
         "product_name_lenght": 58,
         "product_description_lenght": 598,
         "product_photos_qty": 4,
         "product_weight_g": 650,
         "product_length_cm": 28,
         "product_height_cm": 9,
         "product_width_cm": 14,
         "_deepnote_index_column": 0
        }
       ]
      },
      "text/plain": "                           order_id  order_item_id  \\\n0  00010242fe8c5a6d1ba2dd792cb16214              1   \n\n                         product_id                         seller_id  \\\n0  4244733e06e7ecb4970a6e2683c13e61  48436dade18ac8b2bce089ec2a041202   \n\n  shipping_limit_date  price  freight_value                       customer_id  \\\n0 2017-09-19 09:45:35   58.9          13.29  3ce436f183e68e07877b285a838db11a   \n\n  order_status order_purchase_timestamp  ... order_delivered_customer_date  \\\n0    delivered      2017-09-13 08:59:02  ...           2017-09-20 23:43:48   \n\n  order_estimated_delivery_date product_category_name product_name_lenght  \\\n0                    2017-09-29            cool_stuff                  58   \n\n  product_description_lenght  product_photos_qty  product_weight_g  \\\n0                        598                   4               650   \n\n   product_length_cm  product_height_cm  product_width_cm  \n0                 28                  9                14  \n\n[1 rows x 22 columns]",
      "text/html": "<div>\n<style scoped>\n    .dataframe tbody tr th:only-of-type {\n        vertical-align: middle;\n    }\n\n    .dataframe tbody tr th {\n        vertical-align: top;\n    }\n\n    .dataframe thead th {\n        text-align: right;\n    }\n</style>\n<table border=\"1\" class=\"dataframe\">\n  <thead>\n    <tr style=\"text-align: right;\">\n      <th></th>\n      <th>order_id</th>\n      <th>order_item_id</th>\n      <th>product_id</th>\n      <th>seller_id</th>\n      <th>shipping_limit_date</th>\n      <th>price</th>\n      <th>freight_value</th>\n      <th>customer_id</th>\n      <th>order_status</th>\n      <th>order_purchase_timestamp</th>\n      <th>...</th>\n      <th>order_delivered_customer_date</th>\n      <th>order_estimated_delivery_date</th>\n      <th>product_category_name</th>\n      <th>product_name_lenght</th>\n      <th>product_description_lenght</th>\n      <th>product_photos_qty</th>\n      <th>product_weight_g</th>\n      <th>product_length_cm</th>\n      <th>product_height_cm</th>\n      <th>product_width_cm</th>\n    </tr>\n  </thead>\n  <tbody>\n    <tr>\n      <th>0</th>\n      <td>00010242fe8c5a6d1ba2dd792cb16214</td>\n      <td>1</td>\n      <td>4244733e06e7ecb4970a6e2683c13e61</td>\n      <td>48436dade18ac8b2bce089ec2a041202</td>\n      <td>2017-09-19 09:45:35</td>\n      <td>58.9</td>\n      <td>13.29</td>\n      <td>3ce436f183e68e07877b285a838db11a</td>\n      <td>delivered</td>\n      <td>2017-09-13 08:59:02</td>\n      <td>...</td>\n      <td>2017-09-20 23:43:48</td>\n      <td>2017-09-29</td>\n      <td>cool_stuff</td>\n      <td>58</td>\n      <td>598</td>\n      <td>4</td>\n      <td>650</td>\n      <td>28</td>\n      <td>9</td>\n      <td>14</td>\n    </tr>\n  </tbody>\n</table>\n<p>1 rows × 22 columns</p>\n</div>"
     },
     "metadata": {}
    }
   ],
   "execution_count": 25
  },
  {
   "cell_type": "code",
   "source": "for key_group, group in released_orders.head(1).groupby('seller_id'):\n    print('key: {} \\n group: {}'.format(key_group, group))",
   "metadata": {
    "cell_id": "4548b80f91af453cbf86b0fcfa5c7e4b",
    "tags": [],
    "deepnote_to_be_reexecuted": false,
    "source_hash": "f3ee677f",
    "execution_start": 1656370908065,
    "execution_millis": 20,
    "owner_user_id": "2dbf2bcb-4b1f-487d-8450-9cfa28d2e998",
    "deepnote_cell_type": "code",
    "deepnote_cell_height": 574.3125
   },
   "outputs": [
    {
     "name": "stdout",
     "text": "key: 48436dade18ac8b2bce089ec2a041202 \n group:                            order_id  order_item_id  \\\n0  00010242fe8c5a6d1ba2dd792cb16214              1   \n\n                         product_id                         seller_id  \\\n0  4244733e06e7ecb4970a6e2683c13e61  48436dade18ac8b2bce089ec2a041202   \n\n  shipping_limit_date  price  freight_value                       customer_id  \\\n0 2017-09-19 09:45:35   58.9          13.29  3ce436f183e68e07877b285a838db11a   \n\n  order_status order_purchase_timestamp  ... order_delivered_customer_date  \\\n0    delivered      2017-09-13 08:59:02  ...           2017-09-20 23:43:48   \n\n  order_estimated_delivery_date product_category_name product_name_lenght  \\\n0                    2017-09-29            cool_stuff                  58   \n\n  product_description_lenght  product_photos_qty  product_weight_g  \\\n0                        598                   4               650   \n\n   product_length_cm  product_height_cm  product_width_cm  \n0                 28                  9                14  \n\n[1 rows x 22 columns]\n",
     "output_type": "stream"
    }
   ],
   "execution_count": 24
  },
  {
   "cell_type": "markdown",
   "source": "Group information by top sellers",
   "metadata": {
    "formattedRanges": [],
    "cell_id": "3ab7555a761f4ae38cbe7672dd536464",
    "tags": [],
    "is_collapsed": false,
    "deepnote_cell_type": "text-cell-p"
   }
  },
  {
   "cell_type": "code",
   "metadata": {
    "cell_id": "ece7385eb33c4d5fb7756fbf10334b08",
    "tags": [],
    "deepnote_to_be_reexecuted": false,
    "source_hash": "ed3ed448",
    "execution_start": 1656370074501,
    "execution_millis": 791,
    "deepnote_table_state": {
     "pageSize": 10,
     "pageIndex": 0,
     "filters": [],
     "sortBy": []
    },
    "deepnote_table_loading": false,
    "deepnote_cell_type": "code",
    "deepnote_cell_height": 816
   },
   "source": "top_sellers = (\n    released_orders.groupby(\"seller_id\")\n    .aggregate(\n        {\n            \"order_item_id\": \"count\",\n            \"product_category_name\": pd.Series.mode,\n            \"price\": \"mean\",\n        }\n    )\n    .sort_values(by=\"order_item_id\", ascending=False)\n)\ntop_sellers\n",
   "execution_count": 12,
   "outputs": [
    {
     "output_type": "execute_result",
     "execution_count": 12,
     "data": {
      "application/vnd.deepnote.dataframe.v3+json": {
       "column_count": 3,
       "row_count": 3053,
       "columns": [
        {
         "name": "order_item_id",
         "dtype": "int64",
         "stats": {
          "unique_count": 259,
          "nan_count": 0,
          "min": "1",
          "max": "2025",
          "histogram": [
           {
            "bin_start": 1,
            "bin_end": 203.4,
            "count": 2953
           },
           {
            "bin_start": 203.4,
            "bin_end": 405.8,
            "count": 61
           },
           {
            "bin_start": 405.8,
            "bin_end": 608.2,
            "count": 19
           },
           {
            "bin_start": 608.2,
            "bin_end": 810.6,
            "count": 6
           },
           {
            "bin_start": 810.6,
            "bin_end": 1013,
            "count": 1
           },
           {
            "bin_start": 1013,
            "bin_end": 1215.4,
            "count": 5
           },
           {
            "bin_start": 1215.4,
            "bin_end": 1417.8,
            "count": 1
           },
           {
            "bin_start": 1417.8,
            "bin_end": 1620.2,
            "count": 3
           },
           {
            "bin_start": 1620.2,
            "bin_end": 1822.6000000000001,
            "count": 1
           },
           {
            "bin_start": 1822.6000000000001,
            "bin_end": 2025,
            "count": 3
           }
          ]
         }
        },
        {
         "name": "product_category_name",
         "dtype": "object",
         "stats": {
          "unique_count": 3053,
          "nan_count": 0,
          "categories": [
           {
            "name": "beleza_saude",
            "count": 301
           },
           {
            "name": "esporte_lazer",
            "count": 281
           },
           {
            "name": "157 others",
            "count": 2471
           }
          ]
         }
        },
        {
         "name": "price",
         "dtype": "Float64",
         "stats": {
          "unique_count": 2678,
          "nan_count": 0,
          "categories": [
           {
            "name": "59.9",
            "count": 11
           },
           {
            "name": "39.9",
            "count": 11
           },
           {
            "name": "2676 others",
            "count": 3031
           }
          ]
         }
        },
        {
         "name": "_deepnote_index_column",
         "dtype": "object"
        }
       ],
       "rows": [
        {
         "order_item_id": 2025,
         "product_category_name": "relogios_presentes",
         "price": 60.630533333333375,
         "_deepnote_index_column": "6560211a19b47992c3666cc44a7e94c0"
        },
        {
         "order_item_id": 1985,
         "product_category_name": "cama_mesa_banho",
         "price": 100.91995969773106,
         "_deepnote_index_column": "4a3ca9315b744ce9f8e9374361493884"
        },
        {
         "order_item_id": 1930,
         "product_category_name": "ferramentas_jardim",
         "price": 55.38306217616458,
         "_deepnote_index_column": "1f50f920176fa81dab994f9023523100"
        },
        {
         "order_item_id": 1766,
         "product_category_name": "beleza_saude",
         "price": 58.683187995471805,
         "_deepnote_index_column": "cc419e0650a3c5ba77189a1882b7556a"
        },
        {
         "order_item_id": 1551,
         "product_category_name": "cama_mesa_banho",
         "price": 103.31177949709615,
         "_deepnote_index_column": "da8622b14eb17ae2831f4ac5b9dab84a"
        },
        {
         "order_item_id": 1498,
         "product_category_name": "moveis_decoracao",
         "price": 90.22676902536767,
         "_deepnote_index_column": "955fee9216a65b617aa5c0531780ce60"
        },
        {
         "order_item_id": 1428,
         "product_category_name": "moveis_decoracao",
         "price": 97.31691176470571,
         "_deepnote_index_column": "1025f0e2d44d7041d6cf58b6550e0bfa"
        },
        {
         "order_item_id": 1364,
         "product_category_name": "moveis_escritorio",
         "price": 137.77411290322536,
         "_deepnote_index_column": "7c67e1448b00f6e969d365cea6b010ab"
        },
        {
         "order_item_id": 1202,
         "product_category_name": "telefonia",
         "price": 30.90476705490892,
         "_deepnote_index_column": "ea8482cd71df3c1969d7b9473ff13abc"
        },
        {
         "order_item_id": 1170,
         "product_category_name": "cool_stuff",
         "price": 121.12439316239457,
         "_deepnote_index_column": "7a67c85e85bb2ce8582c35f2203ad736"
        }
       ]
      },
      "text/plain": "                                  order_item_id        product_category_name  \\\nseller_id                                                                      \n6560211a19b47992c3666cc44a7e94c0           2025           relogios_presentes   \n4a3ca9315b744ce9f8e9374361493884           1985              cama_mesa_banho   \n1f50f920176fa81dab994f9023523100           1930           ferramentas_jardim   \ncc419e0650a3c5ba77189a1882b7556a           1766                 beleza_saude   \nda8622b14eb17ae2831f4ac5b9dab84a           1551              cama_mesa_banho   \n...                                         ...                          ...   \n6c6cc59a5c00cacc5054ca06d65cc282              1                     pet_shop   \ndde698c6d0bd24834c586e5111c2bba7              1  fashion_bolsas_e_acessorios   \ndda37071807e404c5bb2a1590c66326f              1             malas_acessorios   \ndd9661d3cda1e6feb237f0c4d8b26f2e              1        utilidades_domesticas   \nda4d149c0ddbac90557103ac0a0ec356              1              casa_construcao   \n\n                                       price  \nseller_id                                     \n6560211a19b47992c3666cc44a7e94c0   60.630533  \n4a3ca9315b744ce9f8e9374361493884   100.91996  \n1f50f920176fa81dab994f9023523100   55.383062  \ncc419e0650a3c5ba77189a1882b7556a   58.683188  \nda8622b14eb17ae2831f4ac5b9dab84a  103.311779  \n...                                      ...  \n6c6cc59a5c00cacc5054ca06d65cc282      1107.0  \ndde698c6d0bd24834c586e5111c2bba7       155.9  \ndda37071807e404c5bb2a1590c66326f      199.99  \ndd9661d3cda1e6feb237f0c4d8b26f2e       174.0  \nda4d149c0ddbac90557103ac0a0ec356       730.0  \n\n[3053 rows x 3 columns]",
      "text/html": "<div>\n<style scoped>\n    .dataframe tbody tr th:only-of-type {\n        vertical-align: middle;\n    }\n\n    .dataframe tbody tr th {\n        vertical-align: top;\n    }\n\n    .dataframe thead th {\n        text-align: right;\n    }\n</style>\n<table border=\"1\" class=\"dataframe\">\n  <thead>\n    <tr style=\"text-align: right;\">\n      <th></th>\n      <th>order_item_id</th>\n      <th>product_category_name</th>\n      <th>price</th>\n    </tr>\n    <tr>\n      <th>seller_id</th>\n      <th></th>\n      <th></th>\n      <th></th>\n    </tr>\n  </thead>\n  <tbody>\n    <tr>\n      <th>6560211a19b47992c3666cc44a7e94c0</th>\n      <td>2025</td>\n      <td>relogios_presentes</td>\n      <td>60.630533</td>\n    </tr>\n    <tr>\n      <th>4a3ca9315b744ce9f8e9374361493884</th>\n      <td>1985</td>\n      <td>cama_mesa_banho</td>\n      <td>100.91996</td>\n    </tr>\n    <tr>\n      <th>1f50f920176fa81dab994f9023523100</th>\n      <td>1930</td>\n      <td>ferramentas_jardim</td>\n      <td>55.383062</td>\n    </tr>\n    <tr>\n      <th>cc419e0650a3c5ba77189a1882b7556a</th>\n      <td>1766</td>\n      <td>beleza_saude</td>\n      <td>58.683188</td>\n    </tr>\n    <tr>\n      <th>da8622b14eb17ae2831f4ac5b9dab84a</th>\n      <td>1551</td>\n      <td>cama_mesa_banho</td>\n      <td>103.311779</td>\n    </tr>\n    <tr>\n      <th>...</th>\n      <td>...</td>\n      <td>...</td>\n      <td>...</td>\n    </tr>\n    <tr>\n      <th>6c6cc59a5c00cacc5054ca06d65cc282</th>\n      <td>1</td>\n      <td>pet_shop</td>\n      <td>1107.0</td>\n    </tr>\n    <tr>\n      <th>dde698c6d0bd24834c586e5111c2bba7</th>\n      <td>1</td>\n      <td>fashion_bolsas_e_acessorios</td>\n      <td>155.9</td>\n    </tr>\n    <tr>\n      <th>dda37071807e404c5bb2a1590c66326f</th>\n      <td>1</td>\n      <td>malas_acessorios</td>\n      <td>199.99</td>\n    </tr>\n    <tr>\n      <th>dd9661d3cda1e6feb237f0c4d8b26f2e</th>\n      <td>1</td>\n      <td>utilidades_domesticas</td>\n      <td>174.0</td>\n    </tr>\n    <tr>\n      <th>da4d149c0ddbac90557103ac0a0ec356</th>\n      <td>1</td>\n      <td>casa_construcao</td>\n      <td>730.0</td>\n    </tr>\n  </tbody>\n</table>\n<p>3053 rows × 3 columns</p>\n</div>"
     },
     "metadata": {}
    }
   ]
  },
  {
   "cell_type": "markdown",
   "source": "Find the most sold category",
   "metadata": {
    "formattedRanges": [],
    "cell_id": "ff7795d990134e3198e463c1498e067c",
    "tags": [],
    "is_collapsed": false,
    "deepnote_cell_type": "text-cell-p"
   }
  },
  {
   "cell_type": "code",
   "metadata": {
    "cell_id": "5801185c02f6419eb4cdafce6ff983f1",
    "tags": [],
    "deepnote_to_be_reexecuted": false,
    "source_hash": "6766c081",
    "execution_start": 1656370075399,
    "execution_millis": 183,
    "deepnote_cell_type": "code",
    "deepnote_cell_height": 136.1875,
    "deepnote_output_heights": [
     21.1875
    ]
   },
   "source": "top_category = top_sellers['product_category_name'].value_counts().idxmax()\ntop_category",
   "execution_count": 13,
   "outputs": [
    {
     "output_type": "execute_result",
     "execution_count": 13,
     "data": {
      "text/plain": "'beleza_saude'"
     },
     "metadata": {}
    }
   ]
  },
  {
   "cell_type": "code",
   "metadata": {
    "cell_id": "f9e76208be744ee982c01b0f817b1817",
    "tags": [],
    "deepnote_to_be_reexecuted": false,
    "source_hash": "3cd9797",
    "execution_start": 1656370075585,
    "execution_millis": 9,
    "deepnote_cell_type": "code",
    "deepnote_cell_height": 136.1875,
    "deepnote_output_heights": [
     21.1875
    ]
   },
   "source": "total_sellers = len(top_sellers)\ntotal_sellers",
   "execution_count": 14,
   "outputs": [
    {
     "output_type": "execute_result",
     "execution_count": 14,
     "data": {
      "text/plain": "3053"
     },
     "metadata": {}
    }
   ]
  },
  {
   "cell_type": "code",
   "metadata": {
    "cell_id": "de7ec08272c14760b5fdeae73650c523",
    "tags": [],
    "deepnote_to_be_reexecuted": false,
    "source_hash": "acf0067e",
    "execution_start": 1656370075595,
    "execution_millis": 26,
    "deepnote_cell_type": "code",
    "deepnote_cell_height": 136.1875,
    "deepnote_output_heights": [
     21.1875
    ]
   },
   "source": "pareto_sales = total_sales * 0.8\npareto_sales",
   "execution_count": 15,
   "outputs": [
    {
     "output_type": "execute_result",
     "execution_count": 15,
     "data": {
      "text/plain": "89680.8"
     },
     "metadata": {}
    }
   ]
  },
  {
   "cell_type": "markdown",
   "source": "Accumulate sales by seller to find de the Pareto sales number",
   "metadata": {
    "formattedRanges": [],
    "cell_id": "a2f8a8b045b54faaa52c5d232a0eab90",
    "tags": [],
    "is_collapsed": false,
    "deepnote_cell_type": "text-cell-p"
   }
  },
  {
   "cell_type": "code",
   "metadata": {
    "cell_id": "b506d8b411454061ab1b7afdbc0a107c",
    "tags": [],
    "deepnote_to_be_reexecuted": false,
    "source_hash": "8322d06c",
    "execution_start": 1656370075665,
    "execution_millis": 12,
    "deepnote_cell_type": "code",
    "deepnote_cell_height": 618
   },
   "source": "top_sellers['cum_sales'] = top_sellers['order_item_id'].cumsum()\ntop_sellers",
   "execution_count": 16,
   "outputs": [
    {
     "output_type": "execute_result",
     "execution_count": 16,
     "data": {
      "application/vnd.deepnote.dataframe.v3+json": {
       "column_count": 4,
       "row_count": 3053,
       "columns": [
        {
         "name": "order_item_id",
         "dtype": "int64",
         "stats": {
          "unique_count": 259,
          "nan_count": 0,
          "min": "1",
          "max": "2025",
          "histogram": [
           {
            "bin_start": 1,
            "bin_end": 203.4,
            "count": 2953
           },
           {
            "bin_start": 203.4,
            "bin_end": 405.8,
            "count": 61
           },
           {
            "bin_start": 405.8,
            "bin_end": 608.2,
            "count": 19
           },
           {
            "bin_start": 608.2,
            "bin_end": 810.6,
            "count": 6
           },
           {
            "bin_start": 810.6,
            "bin_end": 1013,
            "count": 1
           },
           {
            "bin_start": 1013,
            "bin_end": 1215.4,
            "count": 5
           },
           {
            "bin_start": 1215.4,
            "bin_end": 1417.8,
            "count": 1
           },
           {
            "bin_start": 1417.8,
            "bin_end": 1620.2,
            "count": 3
           },
           {
            "bin_start": 1620.2,
            "bin_end": 1822.6000000000001,
            "count": 1
           },
           {
            "bin_start": 1822.6000000000001,
            "bin_end": 2025,
            "count": 3
           }
          ]
         }
        },
        {
         "name": "product_category_name",
         "dtype": "object",
         "stats": {
          "unique_count": 3053,
          "nan_count": 0,
          "categories": [
           {
            "name": "beleza_saude",
            "count": 301
           },
           {
            "name": "esporte_lazer",
            "count": 281
           },
           {
            "name": "157 others",
            "count": 2471
           }
          ]
         }
        },
        {
         "name": "price",
         "dtype": "Float64",
         "stats": {
          "unique_count": 2678,
          "nan_count": 0,
          "categories": [
           {
            "name": "59.9",
            "count": 11
           },
           {
            "name": "39.9",
            "count": 11
           },
           {
            "name": "2676 others",
            "count": 3031
           }
          ]
         }
        },
        {
         "name": "cum_sales",
         "dtype": "int64",
         "stats": {
          "unique_count": 3053,
          "nan_count": 0,
          "min": "2025",
          "max": "112101",
          "histogram": [
           {
            "bin_start": 2025,
            "bin_end": 13032.6,
            "count": 7
           },
           {
            "bin_start": 13032.6,
            "bin_end": 24040.2,
            "count": 12
           },
           {
            "bin_start": 24040.2,
            "bin_end": 35047.8,
            "count": 23
           },
           {
            "bin_start": 35047.8,
            "bin_end": 46055.4,
            "count": 37
           },
           {
            "bin_start": 46055.4,
            "bin_end": 57063,
            "count": 56
           },
           {
            "bin_start": 57063,
            "bin_end": 68070.6,
            "count": 82
           },
           {
            "bin_start": 68070.6,
            "bin_end": 79078.2,
            "count": 125
           },
           {
            "bin_start": 79078.2,
            "bin_end": 90085.8,
            "count": 203
           },
           {
            "bin_start": 90085.8,
            "bin_end": 101093.40000000001,
            "count": 415
           },
           {
            "bin_start": 101093.40000000001,
            "bin_end": 112101,
            "count": 2093
           }
          ]
         }
        },
        {
         "name": "_deepnote_index_column",
         "dtype": "object"
        }
       ],
       "rows": [
        {
         "order_item_id": 2025,
         "product_category_name": "relogios_presentes",
         "price": 60.630533333333375,
         "cum_sales": 2025,
         "_deepnote_index_column": "6560211a19b47992c3666cc44a7e94c0"
        },
        {
         "order_item_id": 1985,
         "product_category_name": "cama_mesa_banho",
         "price": 100.91995969773106,
         "cum_sales": 4010,
         "_deepnote_index_column": "4a3ca9315b744ce9f8e9374361493884"
        },
        {
         "order_item_id": 1930,
         "product_category_name": "ferramentas_jardim",
         "price": 55.38306217616458,
         "cum_sales": 5940,
         "_deepnote_index_column": "1f50f920176fa81dab994f9023523100"
        },
        {
         "order_item_id": 1766,
         "product_category_name": "beleza_saude",
         "price": 58.683187995471805,
         "cum_sales": 7706,
         "_deepnote_index_column": "cc419e0650a3c5ba77189a1882b7556a"
        },
        {
         "order_item_id": 1551,
         "product_category_name": "cama_mesa_banho",
         "price": 103.31177949709615,
         "cum_sales": 9257,
         "_deepnote_index_column": "da8622b14eb17ae2831f4ac5b9dab84a"
        },
        {
         "order_item_id": 1498,
         "product_category_name": "moveis_decoracao",
         "price": 90.22676902536767,
         "cum_sales": 10755,
         "_deepnote_index_column": "955fee9216a65b617aa5c0531780ce60"
        },
        {
         "order_item_id": 1428,
         "product_category_name": "moveis_decoracao",
         "price": 97.31691176470571,
         "cum_sales": 12183,
         "_deepnote_index_column": "1025f0e2d44d7041d6cf58b6550e0bfa"
        },
        {
         "order_item_id": 1364,
         "product_category_name": "moveis_escritorio",
         "price": 137.77411290322536,
         "cum_sales": 13547,
         "_deepnote_index_column": "7c67e1448b00f6e969d365cea6b010ab"
        },
        {
         "order_item_id": 1202,
         "product_category_name": "telefonia",
         "price": 30.90476705490892,
         "cum_sales": 14749,
         "_deepnote_index_column": "ea8482cd71df3c1969d7b9473ff13abc"
        },
        {
         "order_item_id": 1170,
         "product_category_name": "cool_stuff",
         "price": 121.12439316239457,
         "cum_sales": 15919,
         "_deepnote_index_column": "7a67c85e85bb2ce8582c35f2203ad736"
        }
       ]
      },
      "text/plain": "                                  order_item_id        product_category_name  \\\nseller_id                                                                      \n6560211a19b47992c3666cc44a7e94c0           2025           relogios_presentes   \n4a3ca9315b744ce9f8e9374361493884           1985              cama_mesa_banho   \n1f50f920176fa81dab994f9023523100           1930           ferramentas_jardim   \ncc419e0650a3c5ba77189a1882b7556a           1766                 beleza_saude   \nda8622b14eb17ae2831f4ac5b9dab84a           1551              cama_mesa_banho   \n...                                         ...                          ...   \n6c6cc59a5c00cacc5054ca06d65cc282              1                     pet_shop   \ndde698c6d0bd24834c586e5111c2bba7              1  fashion_bolsas_e_acessorios   \ndda37071807e404c5bb2a1590c66326f              1             malas_acessorios   \ndd9661d3cda1e6feb237f0c4d8b26f2e              1        utilidades_domesticas   \nda4d149c0ddbac90557103ac0a0ec356              1              casa_construcao   \n\n                                       price  cum_sales  \nseller_id                                                \n6560211a19b47992c3666cc44a7e94c0   60.630533       2025  \n4a3ca9315b744ce9f8e9374361493884   100.91996       4010  \n1f50f920176fa81dab994f9023523100   55.383062       5940  \ncc419e0650a3c5ba77189a1882b7556a   58.683188       7706  \nda8622b14eb17ae2831f4ac5b9dab84a  103.311779       9257  \n...                                      ...        ...  \n6c6cc59a5c00cacc5054ca06d65cc282      1107.0     112097  \ndde698c6d0bd24834c586e5111c2bba7       155.9     112098  \ndda37071807e404c5bb2a1590c66326f      199.99     112099  \ndd9661d3cda1e6feb237f0c4d8b26f2e       174.0     112100  \nda4d149c0ddbac90557103ac0a0ec356       730.0     112101  \n\n[3053 rows x 4 columns]",
      "text/html": "<div>\n<style scoped>\n    .dataframe tbody tr th:only-of-type {\n        vertical-align: middle;\n    }\n\n    .dataframe tbody tr th {\n        vertical-align: top;\n    }\n\n    .dataframe thead th {\n        text-align: right;\n    }\n</style>\n<table border=\"1\" class=\"dataframe\">\n  <thead>\n    <tr style=\"text-align: right;\">\n      <th></th>\n      <th>order_item_id</th>\n      <th>product_category_name</th>\n      <th>price</th>\n      <th>cum_sales</th>\n    </tr>\n    <tr>\n      <th>seller_id</th>\n      <th></th>\n      <th></th>\n      <th></th>\n      <th></th>\n    </tr>\n  </thead>\n  <tbody>\n    <tr>\n      <th>6560211a19b47992c3666cc44a7e94c0</th>\n      <td>2025</td>\n      <td>relogios_presentes</td>\n      <td>60.630533</td>\n      <td>2025</td>\n    </tr>\n    <tr>\n      <th>4a3ca9315b744ce9f8e9374361493884</th>\n      <td>1985</td>\n      <td>cama_mesa_banho</td>\n      <td>100.91996</td>\n      <td>4010</td>\n    </tr>\n    <tr>\n      <th>1f50f920176fa81dab994f9023523100</th>\n      <td>1930</td>\n      <td>ferramentas_jardim</td>\n      <td>55.383062</td>\n      <td>5940</td>\n    </tr>\n    <tr>\n      <th>cc419e0650a3c5ba77189a1882b7556a</th>\n      <td>1766</td>\n      <td>beleza_saude</td>\n      <td>58.683188</td>\n      <td>7706</td>\n    </tr>\n    <tr>\n      <th>da8622b14eb17ae2831f4ac5b9dab84a</th>\n      <td>1551</td>\n      <td>cama_mesa_banho</td>\n      <td>103.311779</td>\n      <td>9257</td>\n    </tr>\n    <tr>\n      <th>...</th>\n      <td>...</td>\n      <td>...</td>\n      <td>...</td>\n      <td>...</td>\n    </tr>\n    <tr>\n      <th>6c6cc59a5c00cacc5054ca06d65cc282</th>\n      <td>1</td>\n      <td>pet_shop</td>\n      <td>1107.0</td>\n      <td>112097</td>\n    </tr>\n    <tr>\n      <th>dde698c6d0bd24834c586e5111c2bba7</th>\n      <td>1</td>\n      <td>fashion_bolsas_e_acessorios</td>\n      <td>155.9</td>\n      <td>112098</td>\n    </tr>\n    <tr>\n      <th>dda37071807e404c5bb2a1590c66326f</th>\n      <td>1</td>\n      <td>malas_acessorios</td>\n      <td>199.99</td>\n      <td>112099</td>\n    </tr>\n    <tr>\n      <th>dd9661d3cda1e6feb237f0c4d8b26f2e</th>\n      <td>1</td>\n      <td>utilidades_domesticas</td>\n      <td>174.0</td>\n      <td>112100</td>\n    </tr>\n    <tr>\n      <th>da4d149c0ddbac90557103ac0a0ec356</th>\n      <td>1</td>\n      <td>casa_construcao</td>\n      <td>730.0</td>\n      <td>112101</td>\n    </tr>\n  </tbody>\n</table>\n<p>3053 rows × 4 columns</p>\n</div>"
     },
     "metadata": {}
    }
   ]
  },
  {
   "cell_type": "markdown",
   "source": "Filter the Pareto sellers",
   "metadata": {
    "formattedRanges": [],
    "cell_id": "448ff28521a34266b2fdda0f233e583b",
    "tags": [],
    "is_collapsed": false,
    "deepnote_cell_type": "text-cell-p"
   }
  },
  {
   "cell_type": "code",
   "metadata": {
    "cell_id": "58f08598224143b191c37a01fbd9f9d6",
    "tags": [],
    "deepnote_to_be_reexecuted": false,
    "source_hash": "b468adc0",
    "execution_start": 1656370075678,
    "execution_millis": 12,
    "deepnote_cell_type": "code",
    "deepnote_cell_height": 136.1875,
    "deepnote_output_heights": [
     21.1875
    ]
   },
   "source": "pareto_sellers = len(top_sellers[top_sellers['cum_sales'] <= pareto_sales])\npareto_sellers",
   "execution_count": 17,
   "outputs": [
    {
     "output_type": "execute_result",
     "execution_count": 17,
     "data": {
      "text/plain": "535"
     },
     "metadata": {}
    }
   ]
  },
  {
   "cell_type": "code",
   "metadata": {
    "cell_id": "82a980870b984f038bab88cbc71c8e7f",
    "tags": [],
    "deepnote_to_be_reexecuted": false,
    "source_hash": "504fd855",
    "execution_start": 1656370075691,
    "execution_millis": 6,
    "deepnote_table_state": {
     "pageSize": 10,
     "pageIndex": 0,
     "filters": [],
     "sortBy": []
    },
    "deepnote_table_loading": false,
    "deepnote_cell_type": "code",
    "deepnote_cell_height": 136.1875,
    "deepnote_output_heights": [
     21.1875
    ]
   },
   "source": "pareto = pareto_sellers / total_sellers\npareto",
   "execution_count": 18,
   "outputs": [
    {
     "output_type": "execute_result",
     "execution_count": 18,
     "data": {
      "text/plain": "0.1752374713396659"
     },
     "metadata": {}
    }
   ]
  },
  {
   "cell_type": "markdown",
   "source": "# Conclusions",
   "metadata": {
    "formattedRanges": [],
    "cell_id": "b69f397d61db4affa40e13a7bcec4fe3",
    "tags": [],
    "is_collapsed": false,
    "deepnote_cell_type": "text-cell-h1"
   }
  },
  {
   "cell_type": "markdown",
   "source": "## Insights\n\n* There are 112650 orders and 112101 were released orders, that is 99.5%.\n\n* The most sold category is Beleza Saude (Health Beauty).\n\n* The released orders were sold by 3053 sellers.\n\n* The 80% of the total released orders is 89680 orders, and were sold by 535 sellers, that is 17.5%, confirming the Pareto principle.\n\n## Conclusion\n\nThe Pareto principle applies for Olist ecommerce. The ecommerce could focus resources in these 535 sellers to optimize resources to grow in income sales.",
   "metadata": {
    "cell_id": "11a96c1e6f604c3eadf75c5187e010ca",
    "tags": [],
    "deepnote_cell_type": "markdown",
    "deepnote_cell_height": 333.734375
   }
  },
  {
   "cell_type": "markdown",
   "source": "<a style='text-decoration:none;line-height:16px;display:flex;color:#5B5B62;padding:10px;justify-content:end;' href='https://deepnote.com?utm_source=created-in-deepnote-cell&projectId=121826e1-6393-4f2b-82a6-a1186eee7df2' target=\"_blank\">\n<img alt='Created in deepnote.com' style='display:inline;max-height:16px;margin:0px;margin-right:7.5px;' src='data:image/svg+xml;base64,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' > </img>\nCreated in <span style='font-weight:600;margin-left:4px;'>Deepnote</span></a>",
   "metadata": {
    "tags": [],
    "created_in_deepnote_cell": true,
    "deepnote_cell_type": "markdown"
   }
  }
 ],
 "nbformat": 4,
 "nbformat_minor": 2,
 "metadata": {
  "orig_nbformat": 2,
  "deepnote": {},
  "deepnote_notebook_id": "5451e511-b825-4008-a987-efbbc37ff474",
  "deepnote_execution_queue": []
 }
}