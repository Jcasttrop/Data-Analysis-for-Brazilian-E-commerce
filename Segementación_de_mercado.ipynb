{
  "nbformat": 4,
  "nbformat_minor": 0,
  "metadata": {
    "colab": {
      "name": "Segementación de mercado",
      "provenance": [],
      "authorship_tag": "ABX9TyNq/nEkTdYtgqQoIzhQFxoR",
      "include_colab_link": true
    },
    "kernelspec": {
      "name": "python3",
      "display_name": "Python 3"
    },
    "language_info": {
      "name": "python"
    }
  },
  "cells": [
    {
      "cell_type": "markdown",
      "metadata": {
        "id": "view-in-github",
        "colab_type": "text"
      },
      "source": [
        "<a href=\"https://colab.research.google.com/github/Jcasttrop/Data-Analysis-for-Brazilian-E-commerce/blob/main/Segementaci%C3%B3n_de_mercado.ipynb\" target=\"_parent\"><img src=\"https://colab.research.google.com/assets/colab-badge.svg\" alt=\"Open In Colab\"/></a>"
      ]
    },
    {
      "cell_type": "markdown",
      "source": [
        "# Segmentación de mercado\n",
        "\n",
        "Este trabajo surge como una conclusión general de un analisis exploratorio de datos, donde quedará conslidada a traves de las variables más importantes de las tablas otorgadas la segementación del mercado"
      ],
      "metadata": {
        "id": "H9AUs-M7dfEs"
      }
    },
    {
      "cell_type": "code",
      "execution_count": 3,
      "metadata": {
        "id": "Q0FplgmYcj2L"
      },
      "outputs": [],
      "source": [
        "import numpy as np\n",
        "import pandas as pd\n",
        "import matplotlib.pyplot as plt\n",
        "import seaborn as sns"
      ]
    },
    {
      "cell_type": "code",
      "source": [
        "# Descargamos nuestros datos\n",
        "# https://www.kaggle.com/datasets/olistbr/brazilian-ecommerce?resource=download\n",
        "\n",
        "\n",
        "from zipfile import ZipFile\n",
        "\n",
        "_data = \"/content/archive.zip\"\n",
        "\n",
        "with ZipFile(_data, 'r') as zip:\n",
        "    zip.printdir()\n",
        "    zip.extractall() "
      ],
      "metadata": {
        "colab": {
          "base_uri": "https://localhost:8080/"
        },
        "id": "CA92xeVneusU",
        "outputId": "08e01b2d-2be6-4ce7-dcc2-e6b8f6214eac"
      },
      "execution_count": 8,
      "outputs": [
        {
          "output_type": "stream",
          "name": "stdout",
          "text": [
            "File Name                                             Modified             Size\n",
            "olist_customers_dataset.csv                    2021-10-01 19:08:42      9033957\n",
            "olist_geolocation_dataset.csv                  2021-10-01 19:08:44     61273883\n",
            "olist_order_items_dataset.csv                  2021-10-01 19:08:48     15438671\n",
            "olist_order_payments_dataset.csv               2021-10-01 19:08:50      5777138\n",
            "olist_order_reviews_dataset.csv                2021-10-01 19:08:52     14451670\n",
            "olist_orders_dataset.csv                       2021-10-01 19:08:52     17654914\n",
            "olist_products_dataset.csv                     2021-10-01 19:08:54      2379446\n",
            "olist_sellers_dataset.csv                      2021-10-01 19:08:56       174703\n",
            "product_category_name_translation.csv          2021-10-01 19:08:56         2613\n"
          ]
        }
      ]
    },
    {
      "cell_type": "code",
      "source": [
        "#Definimos nuestras variables\n",
        "\n",
        "customers = pd.read_csv(\"/content/olist_customers_dataset.csv\")\n",
        "sellers = pd.read_csv(\"/content/olist_sellers_dataset.csv\")\n",
        "orders_reviews = pd.read_csv(\"/content/olist_order_reviews_dataset.csv\")\n",
        "order_items = pd.read_csv(\"/content/olist_order_items_dataset.csv\")\n",
        "products = pd.read_csv(\"/content/olist_products_dataset.csv\")\n",
        "geolocation = pd.read_csv(\"/content/olist_geolocation_dataset.csv\")\n",
        "category_name_translation = pd.read_csv(\"/content/product_category_name_translation.csv\")\n",
        "orders = pd.read_csv(\"/content/olist_orders_dataset.csv\")\n",
        "orders_payments = pd.read_csv(\"/content/olist_order_payments_dataset.csv\")"
      ],
      "metadata": {
        "id": "bsdCS9VkfAfU"
      },
      "execution_count": 9,
      "outputs": []
    },
    {
      "cell_type": "markdown",
      "source": [
        "Haremos un merge de los datos que tienen relación entre sí"
      ],
      "metadata": {
        "id": "YvBO_CYrhVys"
      }
    },
    {
      "cell_type": "code",
      "source": [
        "clients_total = pd.merge(customers, orders, on='customer_id')\n",
        "orders_total = pd.merge(orders_payments, orders_reviews, on='order_id')\n",
        "\n",
        "df_clients = pd.merge(clients_total, orders_total, on='order_id')"
      ],
      "metadata": {
        "id": "4F0kWezxg7Jt"
      },
      "execution_count": 10,
      "outputs": []
    },
    {
      "cell_type": "code",
      "source": [
        ""
      ],
      "metadata": {
        "id": "ara33jLMhcqg"
      },
      "execution_count": null,
      "outputs": []
    }
  ]
}