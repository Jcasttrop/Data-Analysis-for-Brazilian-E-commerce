{
 "cells": [
  {
   "cell_type": "markdown",
   "source": "Tenemos el siguiente esquema de datos \n",
   "metadata": {
    "cell_id": "c9e1e4cc792c48fabe704893d36de65b",
    "tags": [],
    "deepnote_cell_type": "markdown",
    "deepnote_cell_height": 52.390625
   }
  },
  {
   "cell_type": "markdown",
   "source": "![Picture title](image-20220508-200713.png)",
   "metadata": {
    "cell_id": "d146a3d910d540a7ba646bed88b36ccb",
    "tags": [],
    "deepnote_cell_type": "markdown",
    "deepnote_cell_height": 503.265625
   }
  },
  {
   "cell_type": "markdown",
   "source": "Podemos generar un acercamiento a las reglas de asociacion partiendo de los id de los compradores y los id de los productos.",
   "metadata": {
    "cell_id": "79321519ebc2425485a20c2444d56674",
    "tags": [],
    "deepnote_cell_type": "markdown",
    "deepnote_cell_height": 74.78125
   }
  },
  {
   "cell_type": "code",
   "metadata": {
    "cell_id": "1abd60e0eba049ed84f508d9c880ce18",
    "tags": [],
    "deepnote_to_be_reexecuted": false,
    "source_hash": "6116799",
    "execution_start": 1652064580068,
    "execution_millis": 2,
    "deepnote_cell_type": "code",
    "deepnote_cell_height": 153
   },
   "source": "#Librerias a usar\n\nimport pandas as pd\nimport numpy as np\nimport matplotlib.pyplot as plt",
   "execution_count": null,
   "outputs": []
  },
  {
   "cell_type": "code",
   "metadata": {
    "cell_id": "5eb39de0c0e44be78a138e67548dc2af",
    "tags": [],
    "deepnote_to_be_reexecuted": false,
    "source_hash": "5a3814b",
    "execution_start": 1652063123998,
    "execution_millis": 1341,
    "deepnote_cell_type": "code",
    "deepnote_cell_height": 225
   },
   "source": "#Cargaremos los data sets a usar\n\nproducts_df = pd.read_csv(\"/work/olist_products_dataset.csv\")\n\norders_df = pd.read_csv(\"/work/olist_orders_dataset.csv\")\n\nclientes_df = pd.read_csv(\"/work/olist_customers_dataset.csv\")\n\norden_product_df = pd.read_csv(\"/work/olist_order_items_dataset.csv\")",
   "execution_count": null,
   "outputs": []
  },
  {
   "cell_type": "markdown",
   "source": "Las reglas de asociacion nos permiten ignorar al individuo, enfocandonos exclusivamente en el comportameinto de las compras individuales. Por lo tanto, vamos a ver las tablas que nos ayudan a ejercer esta asociacion",
   "metadata": {
    "cell_id": "31859f37ef5246b78fce72745a60c817",
    "tags": [],
    "deepnote_cell_type": "markdown",
    "deepnote_cell_height": 97.171875
   }
  },
  {
   "cell_type": "code",
   "metadata": {
    "cell_id": "0dcd95c874b348ecba462dcad274d921",
    "tags": [],
    "deepnote_to_be_reexecuted": false,
    "source_hash": "42422561",
    "execution_start": 1652068212313,
    "execution_millis": 128,
    "is_code_hidden": false,
    "is_output_hidden": false,
    "deepnote_cell_type": "code",
    "deepnote_cell_height": 672
   },
   "source": "orders_df.head(1)\n\norders_4merge = orders_df.drop([\"order_delivered_carrier_date\",\"order_status\",\"order_purchase_timestamp\",\"order_approved_at\",\"order_delivered_customer_date\",\"order_estimated_delivery_date\"],axis=1)\n\norders_4merge",
   "execution_count": null,
   "outputs": [
    {
     "output_type": "execute_result",
     "execution_count": 78,
     "data": {
      "application/vnd.deepnote.dataframe.v3+json": {
       "column_count": 2,
       "row_count": 99441,
       "columns": [
        {
         "name": "order_id",
         "dtype": "object",
         "stats": {
          "unique_count": 99441,
          "nan_count": 0,
          "categories": [
           {
            "name": "e481f51cbdc54678b7cc49136f2d6af7",
            "count": 1
           },
           {
            "name": "53cdb2fc8bc7dce0b6741e2150273451",
            "count": 1
           },
           {
            "name": "99439 others",
            "count": 99439
           }
          ]
         }
        },
        {
         "name": "customer_id",
         "dtype": "object"
        },
        {
         "name": "_deepnote_index_column",
         "dtype": "int64"
        }
       ],
       "rows": [
        {
         "order_id": "e481f51cbdc54678b7cc49136f2d6af7",
         "customer_id": "9ef432eb6251297304e76186b10a928d",
         "_deepnote_index_column": 0
        },
        {
         "order_id": "53cdb2fc8bc7dce0b6741e2150273451",
         "customer_id": "b0830fb4747a6c6d20dea0b8c802d7ef",
         "_deepnote_index_column": 1
        },
        {
         "order_id": "47770eb9100c2d0c44946d9cf07ec65d",
         "customer_id": "41ce2a54c0b03bf3443c3d931a367089",
         "_deepnote_index_column": 2
        },
        {
         "order_id": "949d5b44dbf5de918fe9c16f97b45f8a",
         "customer_id": "f88197465ea7920adcdbec7375364d82",
         "_deepnote_index_column": 3
        },
        {
         "order_id": "ad21c59c0840e6cb83a9ceb5573f8159",
         "customer_id": "8ab97904e6daea8866dbdbc4fb7aad2c",
         "_deepnote_index_column": 4
        },
        {
         "order_id": "a4591c265e18cb1dcee52889e2d8acc3",
         "customer_id": "503740e9ca751ccdda7ba28e9ab8f608",
         "_deepnote_index_column": 5
        },
        {
         "order_id": "136cce7faa42fdb2cefd53fdc79a6098",
         "customer_id": "ed0271e0b7da060a393796590e7b737a",
         "_deepnote_index_column": 6
        },
        {
         "order_id": "6514b8ad8028c9f2cc2374ded245783f",
         "customer_id": "9bdf08b4b3b52b5526ff42d37d47f222",
         "_deepnote_index_column": 7
        },
        {
         "order_id": "76c6e866289321a7c93b82b54852dc33",
         "customer_id": "f54a9f0e6b351c431402b8461ea51999",
         "_deepnote_index_column": 8
        },
        {
         "order_id": "e69bfb5eb88e0ed6a785585b27e16dbf",
         "customer_id": "31ad1d1b63eb9962463f764d4e6e0c9d",
         "_deepnote_index_column": 9
        }
       ]
      },
      "text/plain": "                               order_id                       customer_id\n0      e481f51cbdc54678b7cc49136f2d6af7  9ef432eb6251297304e76186b10a928d\n1      53cdb2fc8bc7dce0b6741e2150273451  b0830fb4747a6c6d20dea0b8c802d7ef\n2      47770eb9100c2d0c44946d9cf07ec65d  41ce2a54c0b03bf3443c3d931a367089\n3      949d5b44dbf5de918fe9c16f97b45f8a  f88197465ea7920adcdbec7375364d82\n4      ad21c59c0840e6cb83a9ceb5573f8159  8ab97904e6daea8866dbdbc4fb7aad2c\n...                                 ...                               ...\n99436  9c5dedf39a927c1b2549525ed64a053c  39bd1228ee8140590ac3aca26f2dfe00\n99437  63943bddc261676b46f01ca7ac2f7bd8  1fca14ff2861355f6e5f14306ff977a7\n99438  83c1379a015df1e13d02aae0204711ab  1aa71eb042121263aafbe80c1b562c9c\n99439  11c177c8e97725db2631073c19f07b62  b331b74b18dc79bcdf6532d51e1637c1\n99440  66dea50a8b16d9b4dee7af250b4be1a5  edb027a75a1449115f6b43211ae02a24\n\n[99441 rows x 2 columns]",
      "text/html": "<div>\n<style scoped>\n    .dataframe tbody tr th:only-of-type {\n        vertical-align: middle;\n    }\n\n    .dataframe tbody tr th {\n        vertical-align: top;\n    }\n\n    .dataframe thead th {\n        text-align: right;\n    }\n</style>\n<table border=\"1\" class=\"dataframe\">\n  <thead>\n    <tr style=\"text-align: right;\">\n      <th></th>\n      <th>order_id</th>\n      <th>customer_id</th>\n    </tr>\n  </thead>\n  <tbody>\n    <tr>\n      <th>0</th>\n      <td>e481f51cbdc54678b7cc49136f2d6af7</td>\n      <td>9ef432eb6251297304e76186b10a928d</td>\n    </tr>\n    <tr>\n      <th>1</th>\n      <td>53cdb2fc8bc7dce0b6741e2150273451</td>\n      <td>b0830fb4747a6c6d20dea0b8c802d7ef</td>\n    </tr>\n    <tr>\n      <th>2</th>\n      <td>47770eb9100c2d0c44946d9cf07ec65d</td>\n      <td>41ce2a54c0b03bf3443c3d931a367089</td>\n    </tr>\n    <tr>\n      <th>3</th>\n      <td>949d5b44dbf5de918fe9c16f97b45f8a</td>\n      <td>f88197465ea7920adcdbec7375364d82</td>\n    </tr>\n    <tr>\n      <th>4</th>\n      <td>ad21c59c0840e6cb83a9ceb5573f8159</td>\n      <td>8ab97904e6daea8866dbdbc4fb7aad2c</td>\n    </tr>\n    <tr>\n      <th>...</th>\n      <td>...</td>\n      <td>...</td>\n    </tr>\n    <tr>\n      <th>99436</th>\n      <td>9c5dedf39a927c1b2549525ed64a053c</td>\n      <td>39bd1228ee8140590ac3aca26f2dfe00</td>\n    </tr>\n    <tr>\n      <th>99437</th>\n      <td>63943bddc261676b46f01ca7ac2f7bd8</td>\n      <td>1fca14ff2861355f6e5f14306ff977a7</td>\n    </tr>\n    <tr>\n      <th>99438</th>\n      <td>83c1379a015df1e13d02aae0204711ab</td>\n      <td>1aa71eb042121263aafbe80c1b562c9c</td>\n    </tr>\n    <tr>\n      <th>99439</th>\n      <td>11c177c8e97725db2631073c19f07b62</td>\n      <td>b331b74b18dc79bcdf6532d51e1637c1</td>\n    </tr>\n    <tr>\n      <th>99440</th>\n      <td>66dea50a8b16d9b4dee7af250b4be1a5</td>\n      <td>edb027a75a1449115f6b43211ae02a24</td>\n    </tr>\n  </tbody>\n</table>\n<p>99441 rows × 2 columns</p>\n</div>"
     },
     "metadata": {}
    }
   ]
  },
  {
   "cell_type": "code",
   "metadata": {
    "cell_id": "c4f23d7ce31f4950a995d36f9fb98aee",
    "tags": [],
    "deepnote_to_be_reexecuted": false,
    "source_hash": "85e2c43",
    "execution_start": 1652066653569,
    "execution_millis": 7,
    "deepnote_cell_type": "code",
    "deepnote_cell_height": 339
   },
   "source": "products_df.head(1)\n\n#Vamos a ahorrarnos complicaciones por abajo, eliminando las columnas que no necesitamos aqui\n\nproducts_clean = products_df.drop([\"product_name_lenght\",\"product_description_lenght\",\"product_photos_qty\",\"product_weight_g\",\"product_length_cm\",\"product_height_cm\",\"product_width_cm\"],axis=1)\n\nproducts_clean.head(1)",
   "execution_count": null,
   "outputs": [
    {
     "output_type": "execute_result",
     "execution_count": 61,
     "data": {
      "application/vnd.deepnote.dataframe.v3+json": {
       "column_count": 2,
       "row_count": 1,
       "columns": [
        {
         "name": "product_id",
         "dtype": "object",
         "stats": {
          "unique_count": 1,
          "nan_count": 0,
          "categories": [
           {
            "name": "1e9e8ef04dbcff4541ed26657ea517e5",
            "count": 1
           }
          ]
         }
        },
        {
         "name": "product_category_name",
         "dtype": "object",
         "stats": {
          "unique_count": 1,
          "nan_count": 0,
          "categories": [
           {
            "name": "perfumaria",
            "count": 1
           }
          ]
         }
        },
        {
         "name": "_deepnote_index_column",
         "dtype": "int64"
        }
       ],
       "rows": [
        {
         "product_id": "1e9e8ef04dbcff4541ed26657ea517e5",
         "product_category_name": "perfumaria",
         "_deepnote_index_column": 0
        }
       ]
      },
      "text/plain": "                         product_id product_category_name\n0  1e9e8ef04dbcff4541ed26657ea517e5            perfumaria",
      "text/html": "<div>\n<style scoped>\n    .dataframe tbody tr th:only-of-type {\n        vertical-align: middle;\n    }\n\n    .dataframe tbody tr th {\n        vertical-align: top;\n    }\n\n    .dataframe thead th {\n        text-align: right;\n    }\n</style>\n<table border=\"1\" class=\"dataframe\">\n  <thead>\n    <tr style=\"text-align: right;\">\n      <th></th>\n      <th>product_id</th>\n      <th>product_category_name</th>\n    </tr>\n  </thead>\n  <tbody>\n    <tr>\n      <th>0</th>\n      <td>1e9e8ef04dbcff4541ed26657ea517e5</td>\n      <td>perfumaria</td>\n    </tr>\n  </tbody>\n</table>\n</div>"
     },
     "metadata": {}
    }
   ]
  },
  {
   "cell_type": "code",
   "metadata": {
    "cell_id": "4b07d6cb2a7e474195b0f24dfb97d409",
    "tags": [],
    "deepnote_to_be_reexecuted": false,
    "source_hash": "dee90ef",
    "execution_start": 1652067431172,
    "execution_millis": 18,
    "deepnote_cell_type": "code",
    "deepnote_cell_height": 248
   },
   "source": "orden_product_df.head(1)",
   "execution_count": null,
   "outputs": [
    {
     "output_type": "execute_result",
     "execution_count": 72,
     "data": {
      "application/vnd.deepnote.dataframe.v3+json": {
       "column_count": 7,
       "row_count": 1,
       "columns": [
        {
         "name": "order_id",
         "dtype": "object",
         "stats": {
          "unique_count": 1,
          "nan_count": 0,
          "categories": [
           {
            "name": "4244733e06e7ecb4970a6e2683c13e61",
            "count": 1
           }
          ]
         }
        },
        {
         "name": "order_item_id",
         "dtype": "int64",
         "stats": {
          "unique_count": 1,
          "nan_count": 0,
          "min": "1",
          "max": "1",
          "histogram": [
           {
            "bin_start": 0.5,
            "bin_end": 0.6,
            "count": 0
           },
           {
            "bin_start": 0.6,
            "bin_end": 0.7,
            "count": 0
           },
           {
            "bin_start": 0.7,
            "bin_end": 0.8,
            "count": 0
           },
           {
            "bin_start": 0.8,
            "bin_end": 0.9,
            "count": 0
           },
           {
            "bin_start": 0.9,
            "bin_end": 1,
            "count": 0
           },
           {
            "bin_start": 1,
            "bin_end": 1.1,
            "count": 1
           },
           {
            "bin_start": 1.1,
            "bin_end": 1.2000000000000002,
            "count": 0
           },
           {
            "bin_start": 1.2000000000000002,
            "bin_end": 1.3,
            "count": 0
           },
           {
            "bin_start": 1.3,
            "bin_end": 1.4,
            "count": 0
           },
           {
            "bin_start": 1.4,
            "bin_end": 1.5,
            "count": 0
           }
          ]
         }
        },
        {
         "name": "product_id",
         "dtype": "object",
         "stats": {
          "unique_count": 1,
          "nan_count": 0,
          "categories": [
           {
            "name": "4244733e06e7ecb4970a6e2683c13e61",
            "count": 1
           }
          ]
         }
        },
        {
         "name": "seller_id",
         "dtype": "object",
         "stats": {
          "unique_count": 1,
          "nan_count": 0,
          "categories": [
           {
            "name": "48436dade18ac8b2bce089ec2a041202",
            "count": 1
           }
          ]
         }
        },
        {
         "name": "shipping_limit_date",
         "dtype": "object",
         "stats": {
          "unique_count": 1,
          "nan_count": 0,
          "categories": [
           {
            "name": "2017-09-19 09:45:35",
            "count": 1
           }
          ]
         }
        },
        {
         "name": "price",
         "dtype": "float64",
         "stats": {
          "unique_count": 1,
          "nan_count": 0,
          "min": "58.9",
          "max": "58.9",
          "histogram": [
           {
            "bin_start": 58.4,
            "bin_end": 58.5,
            "count": 0
           },
           {
            "bin_start": 58.5,
            "bin_end": 58.6,
            "count": 0
           },
           {
            "bin_start": 58.6,
            "bin_end": 58.699999999999996,
            "count": 0
           },
           {
            "bin_start": 58.699999999999996,
            "bin_end": 58.8,
            "count": 0
           },
           {
            "bin_start": 58.8,
            "bin_end": 58.9,
            "count": 0
           },
           {
            "bin_start": 58.9,
            "bin_end": 59,
            "count": 1
           },
           {
            "bin_start": 59,
            "bin_end": 59.1,
            "count": 0
           },
           {
            "bin_start": 59.1,
            "bin_end": 59.199999999999996,
            "count": 0
           },
           {
            "bin_start": 59.199999999999996,
            "bin_end": 59.3,
            "count": 0
           },
           {
            "bin_start": 59.3,
            "bin_end": 59.4,
            "count": 0
           }
          ]
         }
        },
        {
         "name": "freight_value",
         "dtype": "float64",
         "stats": {
          "unique_count": 1,
          "nan_count": 0,
          "min": "13.29",
          "max": "13.29",
          "histogram": [
           {
            "bin_start": 12.79,
            "bin_end": 12.889999999999999,
            "count": 0
           },
           {
            "bin_start": 12.889999999999999,
            "bin_end": 12.989999999999998,
            "count": 0
           },
           {
            "bin_start": 12.989999999999998,
            "bin_end": 13.09,
            "count": 0
           },
           {
            "bin_start": 13.09,
            "bin_end": 13.19,
            "count": 0
           },
           {
            "bin_start": 13.19,
            "bin_end": 13.29,
            "count": 0
           },
           {
            "bin_start": 13.29,
            "bin_end": 13.389999999999999,
            "count": 1
           },
           {
            "bin_start": 13.389999999999999,
            "bin_end": 13.489999999999998,
            "count": 0
           },
           {
            "bin_start": 13.489999999999998,
            "bin_end": 13.59,
            "count": 0
           },
           {
            "bin_start": 13.59,
            "bin_end": 13.69,
            "count": 0
           },
           {
            "bin_start": 13.69,
            "bin_end": 13.79,
            "count": 0
           }
          ]
         }
        },
        {
         "name": "_deepnote_index_column",
         "dtype": "int64"
        }
       ],
       "rows": [
        {
         "order_id": "4244733e06e7ecb4970a6e2683c13e61",
         "order_item_id": 1,
         "product_id": "4244733e06e7ecb4970a6e2683c13e61",
         "seller_id": "48436dade18ac8b2bce089ec2a041202",
         "shipping_limit_date": "2017-09-19 09:45:35",
         "price": 58.9,
         "freight_value": 13.29,
         "_deepnote_index_column": 0
        }
       ]
      },
      "text/plain": "                           order_id  order_item_id  \\\n0  4244733e06e7ecb4970a6e2683c13e61              1   \n\n                         product_id                         seller_id  \\\n0  4244733e06e7ecb4970a6e2683c13e61  48436dade18ac8b2bce089ec2a041202   \n\n   shipping_limit_date  price  freight_value  \n0  2017-09-19 09:45:35   58.9          13.29  ",
      "text/html": "<div>\n<style scoped>\n    .dataframe tbody tr th:only-of-type {\n        vertical-align: middle;\n    }\n\n    .dataframe tbody tr th {\n        vertical-align: top;\n    }\n\n    .dataframe thead th {\n        text-align: right;\n    }\n</style>\n<table border=\"1\" class=\"dataframe\">\n  <thead>\n    <tr style=\"text-align: right;\">\n      <th></th>\n      <th>order_id</th>\n      <th>order_item_id</th>\n      <th>product_id</th>\n      <th>seller_id</th>\n      <th>shipping_limit_date</th>\n      <th>price</th>\n      <th>freight_value</th>\n    </tr>\n  </thead>\n  <tbody>\n    <tr>\n      <th>0</th>\n      <td>4244733e06e7ecb4970a6e2683c13e61</td>\n      <td>1</td>\n      <td>4244733e06e7ecb4970a6e2683c13e61</td>\n      <td>48436dade18ac8b2bce089ec2a041202</td>\n      <td>2017-09-19 09:45:35</td>\n      <td>58.9</td>\n      <td>13.29</td>\n    </tr>\n  </tbody>\n</table>\n</div>"
     },
     "metadata": {}
    }
   ]
  },
  {
   "cell_type": "code",
   "metadata": {
    "cell_id": "24d91600124e4d08890a5f78dc7ec92a",
    "tags": [],
    "deepnote_to_be_reexecuted": false,
    "source_hash": "fdfe0a5b",
    "execution_start": 1652067750006,
    "execution_millis": 113,
    "deepnote_cell_type": "code",
    "deepnote_cell_height": 690
   },
   "source": "clientes_df.head(1)\n\n#Vamos a dejarle el zip, porque puede ser util para el algoritmo\n\nclientes_clean = clientes_df.drop([\"customer_city\",\"customer_state\"], axis=1)\nclientes_clean",
   "execution_count": null,
   "outputs": [
    {
     "output_type": "execute_result",
     "execution_count": 74,
     "data": {
      "application/vnd.deepnote.dataframe.v3+json": {
       "column_count": 3,
       "row_count": 99441,
       "columns": [
        {
         "name": "customer_id",
         "dtype": "object",
         "stats": {
          "unique_count": 99441,
          "nan_count": 0,
          "categories": [
           {
            "name": "06b8999e2fba1a1fbc88172c00ba8bc7",
            "count": 1
           },
           {
            "name": "18955e83d337fd6b2def6b18a428ac77",
            "count": 1
           },
           {
            "name": "99439 others",
            "count": 99439
           }
          ]
         }
        },
        {
         "name": "customer_unique_id",
         "dtype": "object"
        },
        {
         "name": "customer_zip_code_prefix",
         "dtype": "int64"
        },
        {
         "name": "_deepnote_index_column",
         "dtype": "int64"
        }
       ],
       "rows": [
        {
         "customer_id": "06b8999e2fba1a1fbc88172c00ba8bc7",
         "customer_unique_id": "861eff4711a542e4b93843c6dd7febb0",
         "customer_zip_code_prefix": 14409,
         "_deepnote_index_column": 0
        },
        {
         "customer_id": "18955e83d337fd6b2def6b18a428ac77",
         "customer_unique_id": "290c77bc529b7ac935b93aa66c333dc3",
         "customer_zip_code_prefix": 9790,
         "_deepnote_index_column": 1
        },
        {
         "customer_id": "4e7b3e00288586ebd08712fdd0374a03",
         "customer_unique_id": "060e732b5b29e8181a18229c7b0b2b5e",
         "customer_zip_code_prefix": 1151,
         "_deepnote_index_column": 2
        },
        {
         "customer_id": "b2b6027bc5c5109e529d4dc6358b12c3",
         "customer_unique_id": "259dac757896d24d7702b9acbbff3f3c",
         "customer_zip_code_prefix": 8775,
         "_deepnote_index_column": 3
        },
        {
         "customer_id": "4f2d8ab171c80ec8364f7c12e35b23ad",
         "customer_unique_id": "345ecd01c38d18a9036ed96c73b8d066",
         "customer_zip_code_prefix": 13056,
         "_deepnote_index_column": 4
        },
        {
         "customer_id": "879864dab9bc3047522c92c82e1212b8",
         "customer_unique_id": "4c93744516667ad3b8f1fb645a3116a4",
         "customer_zip_code_prefix": 89254,
         "_deepnote_index_column": 5
        },
        {
         "customer_id": "fd826e7cf63160e536e0908c76c3f441",
         "customer_unique_id": "addec96d2e059c80c30fe6871d30d177",
         "customer_zip_code_prefix": 4534,
         "_deepnote_index_column": 6
        },
        {
         "customer_id": "5e274e7a0c3809e14aba7ad5aae0d407",
         "customer_unique_id": "57b2a98a409812fe9618067b6b8ebe4f",
         "customer_zip_code_prefix": 35182,
         "_deepnote_index_column": 7
        },
        {
         "customer_id": "5adf08e34b2e993982a47070956c5c65",
         "customer_unique_id": "1175e95fb47ddff9de6b2b06188f7e0d",
         "customer_zip_code_prefix": 81560,
         "_deepnote_index_column": 8
        },
        {
         "customer_id": "4b7139f34592b3a31687243a302fa75b",
         "customer_unique_id": "9afe194fb833f79e300e37e580171f22",
         "customer_zip_code_prefix": 30575,
         "_deepnote_index_column": 9
        }
       ]
      },
      "text/plain": "                            customer_id                customer_unique_id  \\\n0      06b8999e2fba1a1fbc88172c00ba8bc7  861eff4711a542e4b93843c6dd7febb0   \n1      18955e83d337fd6b2def6b18a428ac77  290c77bc529b7ac935b93aa66c333dc3   \n2      4e7b3e00288586ebd08712fdd0374a03  060e732b5b29e8181a18229c7b0b2b5e   \n3      b2b6027bc5c5109e529d4dc6358b12c3  259dac757896d24d7702b9acbbff3f3c   \n4      4f2d8ab171c80ec8364f7c12e35b23ad  345ecd01c38d18a9036ed96c73b8d066   \n...                                 ...                               ...   \n99436  17ddf5dd5d51696bb3d7c6291687be6f  1a29b476fee25c95fbafc67c5ac95cf8   \n99437  e7b71a9017aa05c9a7fd292d714858e8  d52a67c98be1cf6a5c84435bd38d095d   \n99438  5e28dfe12db7fb50a4b2f691faecea5e  e9f50caf99f032f0bf3c55141f019d99   \n99439  56b18e2166679b8a959d72dd06da27f9  73c2643a0a458b49f58cea58833b192e   \n99440  274fa6071e5e17fe303b9748641082c8  84732c5050c01db9b23e19ba39899398   \n\n       customer_zip_code_prefix  \n0                         14409  \n1                          9790  \n2                          1151  \n3                          8775  \n4                         13056  \n...                         ...  \n99436                      3937  \n99437                      6764  \n99438                     60115  \n99439                     92120  \n99440                      6703  \n\n[99441 rows x 3 columns]",
      "text/html": "<div>\n<style scoped>\n    .dataframe tbody tr th:only-of-type {\n        vertical-align: middle;\n    }\n\n    .dataframe tbody tr th {\n        vertical-align: top;\n    }\n\n    .dataframe thead th {\n        text-align: right;\n    }\n</style>\n<table border=\"1\" class=\"dataframe\">\n  <thead>\n    <tr style=\"text-align: right;\">\n      <th></th>\n      <th>customer_id</th>\n      <th>customer_unique_id</th>\n      <th>customer_zip_code_prefix</th>\n    </tr>\n  </thead>\n  <tbody>\n    <tr>\n      <th>0</th>\n      <td>06b8999e2fba1a1fbc88172c00ba8bc7</td>\n      <td>861eff4711a542e4b93843c6dd7febb0</td>\n      <td>14409</td>\n    </tr>\n    <tr>\n      <th>1</th>\n      <td>18955e83d337fd6b2def6b18a428ac77</td>\n      <td>290c77bc529b7ac935b93aa66c333dc3</td>\n      <td>9790</td>\n    </tr>\n    <tr>\n      <th>2</th>\n      <td>4e7b3e00288586ebd08712fdd0374a03</td>\n      <td>060e732b5b29e8181a18229c7b0b2b5e</td>\n      <td>1151</td>\n    </tr>\n    <tr>\n      <th>3</th>\n      <td>b2b6027bc5c5109e529d4dc6358b12c3</td>\n      <td>259dac757896d24d7702b9acbbff3f3c</td>\n      <td>8775</td>\n    </tr>\n    <tr>\n      <th>4</th>\n      <td>4f2d8ab171c80ec8364f7c12e35b23ad</td>\n      <td>345ecd01c38d18a9036ed96c73b8d066</td>\n      <td>13056</td>\n    </tr>\n    <tr>\n      <th>...</th>\n      <td>...</td>\n      <td>...</td>\n      <td>...</td>\n    </tr>\n    <tr>\n      <th>99436</th>\n      <td>17ddf5dd5d51696bb3d7c6291687be6f</td>\n      <td>1a29b476fee25c95fbafc67c5ac95cf8</td>\n      <td>3937</td>\n    </tr>\n    <tr>\n      <th>99437</th>\n      <td>e7b71a9017aa05c9a7fd292d714858e8</td>\n      <td>d52a67c98be1cf6a5c84435bd38d095d</td>\n      <td>6764</td>\n    </tr>\n    <tr>\n      <th>99438</th>\n      <td>5e28dfe12db7fb50a4b2f691faecea5e</td>\n      <td>e9f50caf99f032f0bf3c55141f019d99</td>\n      <td>60115</td>\n    </tr>\n    <tr>\n      <th>99439</th>\n      <td>56b18e2166679b8a959d72dd06da27f9</td>\n      <td>73c2643a0a458b49f58cea58833b192e</td>\n      <td>92120</td>\n    </tr>\n    <tr>\n      <th>99440</th>\n      <td>274fa6071e5e17fe303b9748641082c8</td>\n      <td>84732c5050c01db9b23e19ba39899398</td>\n      <td>6703</td>\n    </tr>\n  </tbody>\n</table>\n<p>99441 rows × 3 columns</p>\n</div>"
     },
     "metadata": {}
    }
   ]
  },
  {
   "cell_type": "markdown",
   "source": "Vemos que **orden_product_df** contiene el *order_id* y el *product_id*, lo cual nos puede llevar al nombre del producto usando el **products_df** ",
   "metadata": {
    "cell_id": "5167de468968460589573a2e415d57fc",
    "tags": [],
    "deepnote_cell_type": "markdown",
    "deepnote_cell_height": 74.78125
   }
  },
  {
   "cell_type": "code",
   "metadata": {
    "cell_id": "3e8fe1c0efca4e9eb6306f20dcd10f46",
    "tags": [],
    "deepnote_to_be_reexecuted": false,
    "source_hash": "8a78bf62",
    "execution_start": 1652066758424,
    "execution_millis": 11,
    "deepnote_cell_type": "code",
    "deepnote_cell_height": 351,
    "deepnote_output_heights": [
     232.25
    ]
   },
   "source": "#Antes de hacer un join, voy a rescatar los datos utiles en orden products.\n\n#Creamos la tabla que estaremos usando\norder_products_clean = pd.DataFrame(order_products_clean)\n\n#Nos traemos las columnas que necesitamos\norder_id_a = orden_product_df[\"order_id\"]\nproduct_id_a = orden_product_df[\"product_id\"]\n\n#Rescatamos esos datos como nuevas columnas en el nuevo dataframe\norder_products_clean = order_products_clean.assign(order_id=order_id_a)\norder_products_clean = order_products_clean.assign(product_id=product_id_a)\n\n\n\nDs_4Use = order_products_clean ",
   "execution_count": null,
   "outputs": []
  },
  {
   "cell_type": "code",
   "metadata": {
    "cell_id": "3de25ae8399345b281b28c88f3254060",
    "tags": [],
    "deepnote_to_be_reexecuted": false,
    "source_hash": "904e0bd3",
    "execution_start": 1652066819942,
    "execution_millis": 18,
    "deepnote_cell_type": "code",
    "deepnote_cell_height": 636
   },
   "source": "Ds_4Use.head(1)\nDs4Use = Ds_4Use.drop([\"Order_id\",\"Product_id\"], axis=1)\nDs4Use",
   "execution_count": null,
   "outputs": [
    {
     "output_type": "execute_result",
     "execution_count": 68,
     "data": {
      "application/vnd.deepnote.dataframe.v3+json": {
       "column_count": 2,
       "row_count": 112650,
       "columns": [
        {
         "name": "order_id",
         "dtype": "object"
        },
        {
         "name": "product_id",
         "dtype": "object"
        },
        {
         "name": "_deepnote_index_column",
         "dtype": "int64"
        }
       ],
       "rows": [
        {
         "order_id": "4244733e06e7ecb4970a6e2683c13e61",
         "product_id": "4244733e06e7ecb4970a6e2683c13e61",
         "_deepnote_index_column": 0
        },
        {
         "order_id": "e5f2d52b802189ee658865ca93d83a8f",
         "product_id": "e5f2d52b802189ee658865ca93d83a8f",
         "_deepnote_index_column": 1
        },
        {
         "order_id": "c777355d18b72b67abbeef9df44fd0fd",
         "product_id": "c777355d18b72b67abbeef9df44fd0fd",
         "_deepnote_index_column": 2
        },
        {
         "order_id": "7634da152a4610f1595efa32f14722fc",
         "product_id": "7634da152a4610f1595efa32f14722fc",
         "_deepnote_index_column": 3
        },
        {
         "order_id": "ac6c3623068f30de03045865e4e10089",
         "product_id": "ac6c3623068f30de03045865e4e10089",
         "_deepnote_index_column": 4
        },
        {
         "order_id": "ef92defde845ab8450f9d70c526ef70f",
         "product_id": "ef92defde845ab8450f9d70c526ef70f",
         "_deepnote_index_column": 5
        },
        {
         "order_id": "8d4f2bb7e93e6710a28f34fa83ee7d28",
         "product_id": "8d4f2bb7e93e6710a28f34fa83ee7d28",
         "_deepnote_index_column": 6
        },
        {
         "order_id": "557d850972a7d6f792fd18ae1400d9b6",
         "product_id": "557d850972a7d6f792fd18ae1400d9b6",
         "_deepnote_index_column": 7
        },
        {
         "order_id": "310ae3c140ff94b03219ad0adc3c778f",
         "product_id": "310ae3c140ff94b03219ad0adc3c778f",
         "_deepnote_index_column": 8
        },
        {
         "order_id": "4535b0e1091c278dfd193e5a1d63b39f",
         "product_id": "4535b0e1091c278dfd193e5a1d63b39f",
         "_deepnote_index_column": 9
        }
       ]
      },
      "text/plain": "                                order_id                        product_id\n0       4244733e06e7ecb4970a6e2683c13e61  4244733e06e7ecb4970a6e2683c13e61\n1       e5f2d52b802189ee658865ca93d83a8f  e5f2d52b802189ee658865ca93d83a8f\n2       c777355d18b72b67abbeef9df44fd0fd  c777355d18b72b67abbeef9df44fd0fd\n3       7634da152a4610f1595efa32f14722fc  7634da152a4610f1595efa32f14722fc\n4       ac6c3623068f30de03045865e4e10089  ac6c3623068f30de03045865e4e10089\n...                                  ...                               ...\n112645  4aa6014eceb682077f9dc4bffebc05b0  4aa6014eceb682077f9dc4bffebc05b0\n112646  32e07fd915822b0765e448c4dd74c828  32e07fd915822b0765e448c4dd74c828\n112647  72a30483855e2eafc67aee5dc2560482  72a30483855e2eafc67aee5dc2560482\n112648  9c422a519119dcad7575db5af1ba540e  9c422a519119dcad7575db5af1ba540e\n112649  350688d9dc1e75ff97be326363655e01  350688d9dc1e75ff97be326363655e01\n\n[112650 rows x 2 columns]",
      "text/html": "<div>\n<style scoped>\n    .dataframe tbody tr th:only-of-type {\n        vertical-align: middle;\n    }\n\n    .dataframe tbody tr th {\n        vertical-align: top;\n    }\n\n    .dataframe thead th {\n        text-align: right;\n    }\n</style>\n<table border=\"1\" class=\"dataframe\">\n  <thead>\n    <tr style=\"text-align: right;\">\n      <th></th>\n      <th>order_id</th>\n      <th>product_id</th>\n    </tr>\n  </thead>\n  <tbody>\n    <tr>\n      <th>0</th>\n      <td>4244733e06e7ecb4970a6e2683c13e61</td>\n      <td>4244733e06e7ecb4970a6e2683c13e61</td>\n    </tr>\n    <tr>\n      <th>1</th>\n      <td>e5f2d52b802189ee658865ca93d83a8f</td>\n      <td>e5f2d52b802189ee658865ca93d83a8f</td>\n    </tr>\n    <tr>\n      <th>2</th>\n      <td>c777355d18b72b67abbeef9df44fd0fd</td>\n      <td>c777355d18b72b67abbeef9df44fd0fd</td>\n    </tr>\n    <tr>\n      <th>3</th>\n      <td>7634da152a4610f1595efa32f14722fc</td>\n      <td>7634da152a4610f1595efa32f14722fc</td>\n    </tr>\n    <tr>\n      <th>4</th>\n      <td>ac6c3623068f30de03045865e4e10089</td>\n      <td>ac6c3623068f30de03045865e4e10089</td>\n    </tr>\n    <tr>\n      <th>...</th>\n      <td>...</td>\n      <td>...</td>\n    </tr>\n    <tr>\n      <th>112645</th>\n      <td>4aa6014eceb682077f9dc4bffebc05b0</td>\n      <td>4aa6014eceb682077f9dc4bffebc05b0</td>\n    </tr>\n    <tr>\n      <th>112646</th>\n      <td>32e07fd915822b0765e448c4dd74c828</td>\n      <td>32e07fd915822b0765e448c4dd74c828</td>\n    </tr>\n    <tr>\n      <th>112647</th>\n      <td>72a30483855e2eafc67aee5dc2560482</td>\n      <td>72a30483855e2eafc67aee5dc2560482</td>\n    </tr>\n    <tr>\n      <th>112648</th>\n      <td>9c422a519119dcad7575db5af1ba540e</td>\n      <td>9c422a519119dcad7575db5af1ba540e</td>\n    </tr>\n    <tr>\n      <th>112649</th>\n      <td>350688d9dc1e75ff97be326363655e01</td>\n      <td>350688d9dc1e75ff97be326363655e01</td>\n    </tr>\n  </tbody>\n</table>\n<p>112650 rows × 2 columns</p>\n</div>"
     },
     "metadata": {}
    }
   ]
  },
  {
   "cell_type": "code",
   "metadata": {
    "cell_id": "fd78d510d24e4ff19cabaf8459114214",
    "tags": [],
    "deepnote_to_be_reexecuted": false,
    "source_hash": "1083a555",
    "execution_start": 1652068466362,
    "execution_millis": 3,
    "deepnote_table_state": {
     "pageSize": 10,
     "pageIndex": 0,
     "filters": [],
     "sortBy": []
    },
    "deepnote_table_loading": false,
    "deepnote_cell_type": "code",
    "deepnote_cell_height": 465
   },
   "source": "#Haremos un join de la tabla de orden_products y products\n\n#Esto con el motivo de tener menos datos con los cuales trabajar, \n#teniendo unicamente los \"utiles\"\n\nmergedDs4Use = Ds4Use.merge(products_clean, how=\"inner\",left_index=True, right_index=True)\n\nmergedDs4Use.head(1)\n\n\n#Tras hacer esto, veo que el analisis quedaria inncompleto o no daria mucha informacion\n#con solo tener el order y el producto que nos dio, por lo tanto, voy a hacerle el merge\n#con la tabla de orders, asi traemos a los clientes\n",
   "execution_count": null,
   "outputs": [
    {
     "output_type": "execute_result",
     "execution_count": 80,
     "data": {
      "application/vnd.deepnote.dataframe.v3+json": {
       "column_count": 4,
       "row_count": 1,
       "columns": [
        {
         "name": "order_id",
         "dtype": "object",
         "stats": {
          "unique_count": 1,
          "nan_count": 0,
          "categories": [
           {
            "name": "4244733e06e7ecb4970a6e2683c13e61",
            "count": 1
           }
          ]
         }
        },
        {
         "name": "product_id_x",
         "dtype": "object",
         "stats": {
          "unique_count": 1,
          "nan_count": 0,
          "categories": [
           {
            "name": "4244733e06e7ecb4970a6e2683c13e61",
            "count": 1
           }
          ]
         }
        },
        {
         "name": "product_id_y",
         "dtype": "object",
         "stats": {
          "unique_count": 1,
          "nan_count": 0,
          "categories": [
           {
            "name": "1e9e8ef04dbcff4541ed26657ea517e5",
            "count": 1
           }
          ]
         }
        },
        {
         "name": "product_category_name",
         "dtype": "object",
         "stats": {
          "unique_count": 1,
          "nan_count": 0,
          "categories": [
           {
            "name": "perfumaria",
            "count": 1
           }
          ]
         }
        },
        {
         "name": "_deepnote_index_column",
         "dtype": "int64"
        }
       ],
       "rows": [
        {
         "order_id": "4244733e06e7ecb4970a6e2683c13e61",
         "product_id_x": "4244733e06e7ecb4970a6e2683c13e61",
         "product_id_y": "1e9e8ef04dbcff4541ed26657ea517e5",
         "product_category_name": "perfumaria",
         "_deepnote_index_column": 0
        }
       ]
      },
      "text/plain": "                           order_id                      product_id_x  \\\n0  4244733e06e7ecb4970a6e2683c13e61  4244733e06e7ecb4970a6e2683c13e61   \n\n                       product_id_y product_category_name  \n0  1e9e8ef04dbcff4541ed26657ea517e5            perfumaria  ",
      "text/html": "<div>\n<style scoped>\n    .dataframe tbody tr th:only-of-type {\n        vertical-align: middle;\n    }\n\n    .dataframe tbody tr th {\n        vertical-align: top;\n    }\n\n    .dataframe thead th {\n        text-align: right;\n    }\n</style>\n<table border=\"1\" class=\"dataframe\">\n  <thead>\n    <tr style=\"text-align: right;\">\n      <th></th>\n      <th>order_id</th>\n      <th>product_id_x</th>\n      <th>product_id_y</th>\n      <th>product_category_name</th>\n    </tr>\n  </thead>\n  <tbody>\n    <tr>\n      <th>0</th>\n      <td>4244733e06e7ecb4970a6e2683c13e61</td>\n      <td>4244733e06e7ecb4970a6e2683c13e61</td>\n      <td>1e9e8ef04dbcff4541ed26657ea517e5</td>\n      <td>perfumaria</td>\n    </tr>\n  </tbody>\n</table>\n</div>"
     },
     "metadata": {}
    }
   ]
  },
  {
   "cell_type": "code",
   "metadata": {
    "cell_id": "0922872da8a74d1dbb401489b2666ba0",
    "tags": [],
    "deepnote_to_be_reexecuted": false,
    "source_hash": "6b78dafe",
    "execution_start": 1652068576882,
    "execution_millis": 20,
    "owner_user_id": "0fa89113-b188-42a8-8ea6-6fefdd7de004",
    "deepnote_cell_type": "code",
    "deepnote_cell_height": 180.1875
   },
   "source": "mergedDs4UsePRUEBA = Ds4Use.join(products_clean)\n\nmergedDs4UsePRUEBA.head(1)",
   "execution_count": null,
   "outputs": [
    {
     "output_type": "error",
     "ename": "ValueError",
     "evalue": "columns overlap but no suffix specified: Index(['product_id'], dtype='object')",
     "traceback": [
      "\u001b[0;31m---------------------------------------------------------------------------\u001b[0m",
      "\u001b[0;31mValueError\u001b[0m                                Traceback (most recent call last)",
      "\u001b[0;32m<ipython-input-82-1bb43492e473>\u001b[0m in \u001b[0;36m<module>\u001b[0;34m\u001b[0m\n\u001b[0;32m----> 1\u001b[0;31m \u001b[0mmergedDs4UsePRUEBA\u001b[0m \u001b[0;34m=\u001b[0m \u001b[0mDs4Use\u001b[0m\u001b[0;34m.\u001b[0m\u001b[0mjoin\u001b[0m\u001b[0;34m(\u001b[0m\u001b[0mproducts_clean\u001b[0m\u001b[0;34m)\u001b[0m\u001b[0;34m\u001b[0m\u001b[0;34m\u001b[0m\u001b[0m\n\u001b[0m\u001b[1;32m      2\u001b[0m \u001b[0;34m\u001b[0m\u001b[0m\n\u001b[1;32m      3\u001b[0m \u001b[0mmergedDs4UsePRUEBA\u001b[0m\u001b[0;34m.\u001b[0m\u001b[0mhead\u001b[0m\u001b[0;34m(\u001b[0m\u001b[0;36m1\u001b[0m\u001b[0;34m)\u001b[0m\u001b[0;34m\u001b[0m\u001b[0;34m\u001b[0m\u001b[0m\n",
      "\u001b[0;32m/shared-libs/python3.7/py/lib/python3.7/site-packages/pandas/core/frame.py\u001b[0m in \u001b[0;36mjoin\u001b[0;34m(self, other, on, how, lsuffix, rsuffix, sort)\u001b[0m\n\u001b[1;32m   8109\u001b[0m         \"\"\"\n\u001b[1;32m   8110\u001b[0m         return self._join_compat(\n\u001b[0;32m-> 8111\u001b[0;31m             \u001b[0mother\u001b[0m\u001b[0;34m,\u001b[0m \u001b[0mon\u001b[0m\u001b[0;34m=\u001b[0m\u001b[0mon\u001b[0m\u001b[0;34m,\u001b[0m \u001b[0mhow\u001b[0m\u001b[0;34m=\u001b[0m\u001b[0mhow\u001b[0m\u001b[0;34m,\u001b[0m \u001b[0mlsuffix\u001b[0m\u001b[0;34m=\u001b[0m\u001b[0mlsuffix\u001b[0m\u001b[0;34m,\u001b[0m \u001b[0mrsuffix\u001b[0m\u001b[0;34m=\u001b[0m\u001b[0mrsuffix\u001b[0m\u001b[0;34m,\u001b[0m \u001b[0msort\u001b[0m\u001b[0;34m=\u001b[0m\u001b[0msort\u001b[0m\u001b[0;34m\u001b[0m\u001b[0;34m\u001b[0m\u001b[0m\n\u001b[0m\u001b[1;32m   8112\u001b[0m         )\n\u001b[1;32m   8113\u001b[0m \u001b[0;34m\u001b[0m\u001b[0m\n",
      "\u001b[0;32m/shared-libs/python3.7/py/lib/python3.7/site-packages/pandas/core/frame.py\u001b[0m in \u001b[0;36m_join_compat\u001b[0;34m(self, other, on, how, lsuffix, rsuffix, sort)\u001b[0m\n\u001b[1;32m   8141\u001b[0m                 \u001b[0mright_index\u001b[0m\u001b[0;34m=\u001b[0m\u001b[0;32mTrue\u001b[0m\u001b[0;34m,\u001b[0m\u001b[0;34m\u001b[0m\u001b[0;34m\u001b[0m\u001b[0m\n\u001b[1;32m   8142\u001b[0m                 \u001b[0msuffixes\u001b[0m\u001b[0;34m=\u001b[0m\u001b[0;34m(\u001b[0m\u001b[0mlsuffix\u001b[0m\u001b[0;34m,\u001b[0m \u001b[0mrsuffix\u001b[0m\u001b[0;34m)\u001b[0m\u001b[0;34m,\u001b[0m\u001b[0;34m\u001b[0m\u001b[0;34m\u001b[0m\u001b[0m\n\u001b[0;32m-> 8143\u001b[0;31m                 \u001b[0msort\u001b[0m\u001b[0;34m=\u001b[0m\u001b[0msort\u001b[0m\u001b[0;34m,\u001b[0m\u001b[0;34m\u001b[0m\u001b[0;34m\u001b[0m\u001b[0m\n\u001b[0m\u001b[1;32m   8144\u001b[0m             )\n\u001b[1;32m   8145\u001b[0m         \u001b[0;32melse\u001b[0m\u001b[0;34m:\u001b[0m\u001b[0;34m\u001b[0m\u001b[0;34m\u001b[0m\u001b[0m\n",
      "\u001b[0;32m/shared-libs/python3.7/py/lib/python3.7/site-packages/pandas/core/reshape/merge.py\u001b[0m in \u001b[0;36mmerge\u001b[0;34m(left, right, how, on, left_on, right_on, left_index, right_index, sort, suffixes, copy, indicator, validate)\u001b[0m\n\u001b[1;32m     87\u001b[0m         \u001b[0mvalidate\u001b[0m\u001b[0;34m=\u001b[0m\u001b[0mvalidate\u001b[0m\u001b[0;34m,\u001b[0m\u001b[0;34m\u001b[0m\u001b[0;34m\u001b[0m\u001b[0m\n\u001b[1;32m     88\u001b[0m     )\n\u001b[0;32m---> 89\u001b[0;31m     \u001b[0;32mreturn\u001b[0m \u001b[0mop\u001b[0m\u001b[0;34m.\u001b[0m\u001b[0mget_result\u001b[0m\u001b[0;34m(\u001b[0m\u001b[0;34m)\u001b[0m\u001b[0;34m\u001b[0m\u001b[0;34m\u001b[0m\u001b[0m\n\u001b[0m\u001b[1;32m     90\u001b[0m \u001b[0;34m\u001b[0m\u001b[0m\n\u001b[1;32m     91\u001b[0m \u001b[0;34m\u001b[0m\u001b[0m\n",
      "\u001b[0;32m/shared-libs/python3.7/py/lib/python3.7/site-packages/pandas/core/reshape/merge.py\u001b[0m in \u001b[0;36mget_result\u001b[0;34m(self)\u001b[0m\n\u001b[1;32m    685\u001b[0m \u001b[0;34m\u001b[0m\u001b[0m\n\u001b[1;32m    686\u001b[0m         llabels, rlabels = _items_overlap_with_suffix(\n\u001b[0;32m--> 687\u001b[0;31m             \u001b[0mself\u001b[0m\u001b[0;34m.\u001b[0m\u001b[0mleft\u001b[0m\u001b[0;34m.\u001b[0m\u001b[0m_info_axis\u001b[0m\u001b[0;34m,\u001b[0m \u001b[0mself\u001b[0m\u001b[0;34m.\u001b[0m\u001b[0mright\u001b[0m\u001b[0;34m.\u001b[0m\u001b[0m_info_axis\u001b[0m\u001b[0;34m,\u001b[0m \u001b[0mself\u001b[0m\u001b[0;34m.\u001b[0m\u001b[0msuffixes\u001b[0m\u001b[0;34m\u001b[0m\u001b[0;34m\u001b[0m\u001b[0m\n\u001b[0m\u001b[1;32m    688\u001b[0m         )\n\u001b[1;32m    689\u001b[0m \u001b[0;34m\u001b[0m\u001b[0m\n",
      "\u001b[0;32m/shared-libs/python3.7/py/lib/python3.7/site-packages/pandas/core/reshape/merge.py\u001b[0m in \u001b[0;36m_items_overlap_with_suffix\u001b[0;34m(left, right, suffixes)\u001b[0m\n\u001b[1;32m   2176\u001b[0m \u001b[0;34m\u001b[0m\u001b[0m\n\u001b[1;32m   2177\u001b[0m     \u001b[0;32mif\u001b[0m \u001b[0;32mnot\u001b[0m \u001b[0mlsuffix\u001b[0m \u001b[0;32mand\u001b[0m \u001b[0;32mnot\u001b[0m \u001b[0mrsuffix\u001b[0m\u001b[0;34m:\u001b[0m\u001b[0;34m\u001b[0m\u001b[0;34m\u001b[0m\u001b[0m\n\u001b[0;32m-> 2178\u001b[0;31m         \u001b[0;32mraise\u001b[0m \u001b[0mValueError\u001b[0m\u001b[0;34m(\u001b[0m\u001b[0;34mf\"columns overlap but no suffix specified: {to_rename}\"\u001b[0m\u001b[0;34m)\u001b[0m\u001b[0;34m\u001b[0m\u001b[0;34m\u001b[0m\u001b[0m\n\u001b[0m\u001b[1;32m   2179\u001b[0m \u001b[0;34m\u001b[0m\u001b[0m\n\u001b[1;32m   2180\u001b[0m     \u001b[0;32mdef\u001b[0m \u001b[0mrenamer\u001b[0m\u001b[0;34m(\u001b[0m\u001b[0mx\u001b[0m\u001b[0;34m,\u001b[0m \u001b[0msuffix\u001b[0m\u001b[0;34m)\u001b[0m\u001b[0;34m:\u001b[0m\u001b[0;34m\u001b[0m\u001b[0;34m\u001b[0m\u001b[0m\n",
      "\u001b[0;31mValueError\u001b[0m: columns overlap but no suffix specified: Index(['product_id'], dtype='object')"
     ]
    }
   ]
  },
  {
   "cell_type": "code",
   "metadata": {
    "cell_id": "9333cd852aef4edf857b867e55d8218c",
    "tags": [],
    "deepnote_to_be_reexecuted": false,
    "source_hash": "ac0a54c4",
    "execution_start": 1652068319389,
    "execution_millis": 436,
    "deepnote_cell_type": "code",
    "deepnote_cell_height": 653
   },
   "source": "Order_Product_Customer = mergedDs4Use.merge(orders_4merge,how=\"inner\",left_index=True, right_index=True)\n\nOrder_Product_Customer",
   "execution_count": null,
   "outputs": [
    {
     "output_type": "execute_result",
     "execution_count": 79,
     "data": {
      "application/vnd.deepnote.dataframe.v3+json": {
       "column_count": 6,
       "row_count": 32951,
       "columns": [
        {
         "name": "order_id_x",
         "dtype": "object",
         "stats": {
          "unique_count": 14802,
          "nan_count": 0,
          "categories": [
           {
            "name": "422879e10f46682990de24d770e7f83d",
            "count": 153
           },
           {
            "name": "aca2eb7d00ea1a7b8ebd4e68314663af",
            "count": 144
           },
           {
            "name": "14800 others",
            "count": 32654
           }
          ]
         }
        },
        {
         "name": "product_id_x",
         "dtype": "object",
         "stats": {
          "unique_count": 14802,
          "nan_count": 0,
          "categories": [
           {
            "name": "422879e10f46682990de24d770e7f83d",
            "count": 153
           },
           {
            "name": "aca2eb7d00ea1a7b8ebd4e68314663af",
            "count": 144
           },
           {
            "name": "14800 others",
            "count": 32654
           }
          ]
         }
        },
        {
         "name": "product_id_y",
         "dtype": "object",
         "stats": {
          "unique_count": 32951,
          "nan_count": 0,
          "categories": [
           {
            "name": "1e9e8ef04dbcff4541ed26657ea517e5",
            "count": 1
           },
           {
            "name": "3aa071139cb16b67ca9e5dea641aaa2f",
            "count": 1
           },
           {
            "name": "32949 others",
            "count": 32949
           }
          ]
         }
        },
        {
         "name": "product_category_name",
         "dtype": "object"
        },
        {
         "name": "order_id_y",
         "dtype": "object"
        },
        {
         "name": "customer_id",
         "dtype": "object"
        },
        {
         "name": "_deepnote_index_column",
         "dtype": "int64"
        }
       ],
       "rows": [
        {
         "order_id_x": "4244733e06e7ecb4970a6e2683c13e61",
         "product_id_x": "4244733e06e7ecb4970a6e2683c13e61",
         "product_id_y": "1e9e8ef04dbcff4541ed26657ea517e5",
         "product_category_name": "perfumaria",
         "order_id_y": "e481f51cbdc54678b7cc49136f2d6af7",
         "customer_id": "9ef432eb6251297304e76186b10a928d",
         "_deepnote_index_column": 0
        },
        {
         "order_id_x": "e5f2d52b802189ee658865ca93d83a8f",
         "product_id_x": "e5f2d52b802189ee658865ca93d83a8f",
         "product_id_y": "3aa071139cb16b67ca9e5dea641aaa2f",
         "product_category_name": "artes",
         "order_id_y": "53cdb2fc8bc7dce0b6741e2150273451",
         "customer_id": "b0830fb4747a6c6d20dea0b8c802d7ef",
         "_deepnote_index_column": 1
        },
        {
         "order_id_x": "c777355d18b72b67abbeef9df44fd0fd",
         "product_id_x": "c777355d18b72b67abbeef9df44fd0fd",
         "product_id_y": "96bd76ec8810374ed1b65e291975717f",
         "product_category_name": "esporte_lazer",
         "order_id_y": "47770eb9100c2d0c44946d9cf07ec65d",
         "customer_id": "41ce2a54c0b03bf3443c3d931a367089",
         "_deepnote_index_column": 2
        },
        {
         "order_id_x": "7634da152a4610f1595efa32f14722fc",
         "product_id_x": "7634da152a4610f1595efa32f14722fc",
         "product_id_y": "cef67bcfe19066a932b7673e239eb23d",
         "product_category_name": "bebes",
         "order_id_y": "949d5b44dbf5de918fe9c16f97b45f8a",
         "customer_id": "f88197465ea7920adcdbec7375364d82",
         "_deepnote_index_column": 3
        },
        {
         "order_id_x": "ac6c3623068f30de03045865e4e10089",
         "product_id_x": "ac6c3623068f30de03045865e4e10089",
         "product_id_y": "9dc1a7de274444849c219cff195d0b71",
         "product_category_name": "utilidades_domesticas",
         "order_id_y": "ad21c59c0840e6cb83a9ceb5573f8159",
         "customer_id": "8ab97904e6daea8866dbdbc4fb7aad2c",
         "_deepnote_index_column": 4
        },
        {
         "order_id_x": "ef92defde845ab8450f9d70c526ef70f",
         "product_id_x": "ef92defde845ab8450f9d70c526ef70f",
         "product_id_y": "41d3672d4792049fa1779bb35283ed13",
         "product_category_name": "instrumentos_musicais",
         "order_id_y": "a4591c265e18cb1dcee52889e2d8acc3",
         "customer_id": "503740e9ca751ccdda7ba28e9ab8f608",
         "_deepnote_index_column": 5
        },
        {
         "order_id_x": "8d4f2bb7e93e6710a28f34fa83ee7d28",
         "product_id_x": "8d4f2bb7e93e6710a28f34fa83ee7d28",
         "product_id_y": "732bd381ad09e530fe0a5f457d81becb",
         "product_category_name": "cool_stuff",
         "order_id_y": "136cce7faa42fdb2cefd53fdc79a6098",
         "customer_id": "ed0271e0b7da060a393796590e7b737a",
         "_deepnote_index_column": 6
        },
        {
         "order_id_x": "557d850972a7d6f792fd18ae1400d9b6",
         "product_id_x": "557d850972a7d6f792fd18ae1400d9b6",
         "product_id_y": "2548af3e6e77a690cf3eb6368e9ab61e",
         "product_category_name": "moveis_decoracao",
         "order_id_y": "6514b8ad8028c9f2cc2374ded245783f",
         "customer_id": "9bdf08b4b3b52b5526ff42d37d47f222",
         "_deepnote_index_column": 7
        },
        {
         "order_id_x": "310ae3c140ff94b03219ad0adc3c778f",
         "product_id_x": "310ae3c140ff94b03219ad0adc3c778f",
         "product_id_y": "37cc742be07708b53a98702e77a21a02",
         "product_category_name": "eletrodomesticos",
         "order_id_y": "76c6e866289321a7c93b82b54852dc33",
         "customer_id": "f54a9f0e6b351c431402b8461ea51999",
         "_deepnote_index_column": 8
        },
        {
         "order_id_x": "4535b0e1091c278dfd193e5a1d63b39f",
         "product_id_x": "4535b0e1091c278dfd193e5a1d63b39f",
         "product_id_y": "8c92109888e8cdf9d66dc7e463025574",
         "product_category_name": "brinquedos",
         "order_id_y": "e69bfb5eb88e0ed6a785585b27e16dbf",
         "customer_id": "31ad1d1b63eb9962463f764d4e6e0c9d",
         "_deepnote_index_column": 9
        }
       ]
      },
      "text/plain": "                             order_id_x                      product_id_x  \\\n0      4244733e06e7ecb4970a6e2683c13e61  4244733e06e7ecb4970a6e2683c13e61   \n1      e5f2d52b802189ee658865ca93d83a8f  e5f2d52b802189ee658865ca93d83a8f   \n2      c777355d18b72b67abbeef9df44fd0fd  c777355d18b72b67abbeef9df44fd0fd   \n3      7634da152a4610f1595efa32f14722fc  7634da152a4610f1595efa32f14722fc   \n4      ac6c3623068f30de03045865e4e10089  ac6c3623068f30de03045865e4e10089   \n...                                 ...                               ...   \n32946  a35a9f46dcee0a67c8c7ad8493eb4135  a35a9f46dcee0a67c8c7ad8493eb4135   \n32947  c8e98656b0bfc1efbadc25aa3fb9640e  c8e98656b0bfc1efbadc25aa3fb9640e   \n32948  7814c273ab16783d73a9863ebfa8b141  7814c273ab16783d73a9863ebfa8b141   \n32949  8d7654102992872ef4342f91f9997e64  8d7654102992872ef4342f91f9997e64   \n32950  4601231c3480315049971ea0a61d3839  4601231c3480315049971ea0a61d3839   \n\n                           product_id_y              product_category_name  \\\n0      1e9e8ef04dbcff4541ed26657ea517e5                         perfumaria   \n1      3aa071139cb16b67ca9e5dea641aaa2f                              artes   \n2      96bd76ec8810374ed1b65e291975717f                      esporte_lazer   \n3      cef67bcfe19066a932b7673e239eb23d                              bebes   \n4      9dc1a7de274444849c219cff195d0b71              utilidades_domesticas   \n...                                 ...                                ...   \n32946  a0b7d5a992ccda646f2d34e418fff5a0                   moveis_decoracao   \n32947  bf4538d88321d0fd4412a93c974510e6  construcao_ferramentas_iluminacao   \n32948  9a7c6041fa9592d9d9ef6cfe62a71f8c                    cama_mesa_banho   \n32949  83808703fc0706a22e264b9d75f04a2e             informatica_acessorios   \n32950  106392145fca363410d287a815be6de4                    cama_mesa_banho   \n\n                             order_id_y                       customer_id  \n0      e481f51cbdc54678b7cc49136f2d6af7  9ef432eb6251297304e76186b10a928d  \n1      53cdb2fc8bc7dce0b6741e2150273451  b0830fb4747a6c6d20dea0b8c802d7ef  \n2      47770eb9100c2d0c44946d9cf07ec65d  41ce2a54c0b03bf3443c3d931a367089  \n3      949d5b44dbf5de918fe9c16f97b45f8a  f88197465ea7920adcdbec7375364d82  \n4      ad21c59c0840e6cb83a9ceb5573f8159  8ab97904e6daea8866dbdbc4fb7aad2c  \n...                                 ...                               ...  \n32946  9bfee44b6fa92f64b8dcc72d2170686b  29e0e64fe43d5a03a37dc252ba6a1682  \n32947  bf6861804f97bcf7644f603c5bcf7784  10af356de782e4d80677dc414c3d8325  \n32948  f847f9f6a559fe5fedf35c9542c29dbe  96563a6cccd0e1af7719f9a67929f13c  \n32949  48e6590a35c4212b1525039dbe8cd750  193a0a61cc788e051974f428cc35df10  \n32950  fb46ec58122be3837cc47f9d175de2bf  4cad73afd092cc3432dd5ce0b5fa5d6d  \n\n[32951 rows x 6 columns]",
      "text/html": "<div>\n<style scoped>\n    .dataframe tbody tr th:only-of-type {\n        vertical-align: middle;\n    }\n\n    .dataframe tbody tr th {\n        vertical-align: top;\n    }\n\n    .dataframe thead th {\n        text-align: right;\n    }\n</style>\n<table border=\"1\" class=\"dataframe\">\n  <thead>\n    <tr style=\"text-align: right;\">\n      <th></th>\n      <th>order_id_x</th>\n      <th>product_id_x</th>\n      <th>product_id_y</th>\n      <th>product_category_name</th>\n      <th>order_id_y</th>\n      <th>customer_id</th>\n    </tr>\n  </thead>\n  <tbody>\n    <tr>\n      <th>0</th>\n      <td>4244733e06e7ecb4970a6e2683c13e61</td>\n      <td>4244733e06e7ecb4970a6e2683c13e61</td>\n      <td>1e9e8ef04dbcff4541ed26657ea517e5</td>\n      <td>perfumaria</td>\n      <td>e481f51cbdc54678b7cc49136f2d6af7</td>\n      <td>9ef432eb6251297304e76186b10a928d</td>\n    </tr>\n    <tr>\n      <th>1</th>\n      <td>e5f2d52b802189ee658865ca93d83a8f</td>\n      <td>e5f2d52b802189ee658865ca93d83a8f</td>\n      <td>3aa071139cb16b67ca9e5dea641aaa2f</td>\n      <td>artes</td>\n      <td>53cdb2fc8bc7dce0b6741e2150273451</td>\n      <td>b0830fb4747a6c6d20dea0b8c802d7ef</td>\n    </tr>\n    <tr>\n      <th>2</th>\n      <td>c777355d18b72b67abbeef9df44fd0fd</td>\n      <td>c777355d18b72b67abbeef9df44fd0fd</td>\n      <td>96bd76ec8810374ed1b65e291975717f</td>\n      <td>esporte_lazer</td>\n      <td>47770eb9100c2d0c44946d9cf07ec65d</td>\n      <td>41ce2a54c0b03bf3443c3d931a367089</td>\n    </tr>\n    <tr>\n      <th>3</th>\n      <td>7634da152a4610f1595efa32f14722fc</td>\n      <td>7634da152a4610f1595efa32f14722fc</td>\n      <td>cef67bcfe19066a932b7673e239eb23d</td>\n      <td>bebes</td>\n      <td>949d5b44dbf5de918fe9c16f97b45f8a</td>\n      <td>f88197465ea7920adcdbec7375364d82</td>\n    </tr>\n    <tr>\n      <th>4</th>\n      <td>ac6c3623068f30de03045865e4e10089</td>\n      <td>ac6c3623068f30de03045865e4e10089</td>\n      <td>9dc1a7de274444849c219cff195d0b71</td>\n      <td>utilidades_domesticas</td>\n      <td>ad21c59c0840e6cb83a9ceb5573f8159</td>\n      <td>8ab97904e6daea8866dbdbc4fb7aad2c</td>\n    </tr>\n    <tr>\n      <th>...</th>\n      <td>...</td>\n      <td>...</td>\n      <td>...</td>\n      <td>...</td>\n      <td>...</td>\n      <td>...</td>\n    </tr>\n    <tr>\n      <th>32946</th>\n      <td>a35a9f46dcee0a67c8c7ad8493eb4135</td>\n      <td>a35a9f46dcee0a67c8c7ad8493eb4135</td>\n      <td>a0b7d5a992ccda646f2d34e418fff5a0</td>\n      <td>moveis_decoracao</td>\n      <td>9bfee44b6fa92f64b8dcc72d2170686b</td>\n      <td>29e0e64fe43d5a03a37dc252ba6a1682</td>\n    </tr>\n    <tr>\n      <th>32947</th>\n      <td>c8e98656b0bfc1efbadc25aa3fb9640e</td>\n      <td>c8e98656b0bfc1efbadc25aa3fb9640e</td>\n      <td>bf4538d88321d0fd4412a93c974510e6</td>\n      <td>construcao_ferramentas_iluminacao</td>\n      <td>bf6861804f97bcf7644f603c5bcf7784</td>\n      <td>10af356de782e4d80677dc414c3d8325</td>\n    </tr>\n    <tr>\n      <th>32948</th>\n      <td>7814c273ab16783d73a9863ebfa8b141</td>\n      <td>7814c273ab16783d73a9863ebfa8b141</td>\n      <td>9a7c6041fa9592d9d9ef6cfe62a71f8c</td>\n      <td>cama_mesa_banho</td>\n      <td>f847f9f6a559fe5fedf35c9542c29dbe</td>\n      <td>96563a6cccd0e1af7719f9a67929f13c</td>\n    </tr>\n    <tr>\n      <th>32949</th>\n      <td>8d7654102992872ef4342f91f9997e64</td>\n      <td>8d7654102992872ef4342f91f9997e64</td>\n      <td>83808703fc0706a22e264b9d75f04a2e</td>\n      <td>informatica_acessorios</td>\n      <td>48e6590a35c4212b1525039dbe8cd750</td>\n      <td>193a0a61cc788e051974f428cc35df10</td>\n    </tr>\n    <tr>\n      <th>32950</th>\n      <td>4601231c3480315049971ea0a61d3839</td>\n      <td>4601231c3480315049971ea0a61d3839</td>\n      <td>106392145fca363410d287a815be6de4</td>\n      <td>cama_mesa_banho</td>\n      <td>fb46ec58122be3837cc47f9d175de2bf</td>\n      <td>4cad73afd092cc3432dd5ce0b5fa5d6d</td>\n    </tr>\n  </tbody>\n</table>\n<p>32951 rows × 6 columns</p>\n</div>"
     },
     "metadata": {}
    }
   ]
  },
  {
   "cell_type": "code",
   "metadata": {
    "cell_id": "d4d0e76e89f94d81b7a766ade3756610",
    "tags": [],
    "deepnote_cell_type": "code",
    "deepnote_cell_height": 66
   },
   "source": "",
   "execution_count": null,
   "outputs": []
  },
  {
   "cell_type": "markdown",
   "source": "<a style='text-decoration:none;line-height:16px;display:flex;color:#5B5B62;padding:10px;justify-content:end;' href='https://deepnote.com?utm_source=created-in-deepnote-cell&projectId=be227019-db34-4793-a64f-21e28b13a8e3' target=\"_blank\">\n<img alt='Created in deepnote.com' style='display:inline;max-height:16px;margin:0px;margin-right:7.5px;' src='data:image/svg+xml;base64,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' > </img>\nCreated in <span style='font-weight:600;margin-left:4px;'>Deepnote</span></a>",
   "metadata": {
    "tags": [],
    "created_in_deepnote_cell": true,
    "deepnote_cell_type": "markdown"
   }
  }
 ],
 "nbformat": 4,
 "nbformat_minor": 2,
 "metadata": {
  "orig_nbformat": 2,
  "deepnote": {},
  "deepnote_notebook_id": "d6f2b54c-e8a6-4fb0-81d7-ee2b2c747703",
  "deepnote_execution_queue": []
 }
}