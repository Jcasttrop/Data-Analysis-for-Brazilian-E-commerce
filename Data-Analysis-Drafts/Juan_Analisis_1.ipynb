{
 "cells": [
  {
   "cell_type": "code",
   "metadata": {
    "tags": [],
    "cell_id": "219418a6-7da4-44e4-b13c-00201572ed89",
    "deepnote_to_be_reexecuted": false,
    "source_hash": "9b82ee11",
    "execution_start": 1650937935702,
    "execution_millis": 0,
    "deepnote_cell_type": "code",
    "deepnote_cell_height": 81
   },
   "source": "import pandas as pd",
   "execution_count": null,
   "outputs": []
  },
  {
   "cell_type": "code",
   "metadata": {
    "cell_id": "e9b9de24ef364ec28b3c039d321620bb",
    "tags": [],
    "deepnote_to_be_reexecuted": false,
    "source_hash": "c07d1fd2",
    "execution_start": 1650937935703,
    "execution_millis": 1571,
    "deepnote_cell_type": "code",
    "deepnote_cell_height": 132.375
   },
   "source": "!ls /datasets/drive",
   "execution_count": null,
   "outputs": [
    {
     "name": "stdout",
     "text": "'Colab Notebooks'\t\t\t\t platzi_master\r\n'Course 1 Foundations: Data, Data, Everywhere'\r\n",
     "output_type": "stream"
    }
   ]
  },
  {
   "cell_type": "code",
   "metadata": {
    "cell_id": "49eefca8c41c4cfb9bf12d2baa4ac074",
    "tags": [],
    "deepnote_to_be_reexecuted": false,
    "source_hash": "8e3c3ccc",
    "execution_start": 1650937937278,
    "execution_millis": 2322,
    "deepnote_cell_type": "code",
    "deepnote_cell_height": 192.9375
   },
   "source": "!ls /datasets/drive/platzi_master/proyecto_1/",
   "execution_count": null,
   "outputs": [
    {
     "name": "stdout",
     "text": "e_commerce.drawio\t\t  olist_order_reviews_dataset.csv\r\nolist_customers_dataset.csv\t  olist_orders_dataset.csv\r\nolist_geolocation_dataset.csv\t  olist_products_dataset.csv\r\nolist_order_items_dataset.csv\t  olist_sellers_dataset.csv\r\nolist_order_payments_dataset.csv  product_category_name_translation.csv\r\n",
     "output_type": "stream"
    }
   ]
  },
  {
   "cell_type": "code",
   "metadata": {
    "cell_id": "03191c8566ed43789ca409dbd12e9d11",
    "tags": [],
    "deepnote_to_be_reexecuted": false,
    "source_hash": "9c6f8bc0",
    "execution_start": 1650937939607,
    "execution_millis": 16749,
    "deepnote_cell_type": "code",
    "deepnote_cell_height": 225
   },
   "source": "dir_pandas = '/datasets/drive/platzi_master/proyecto_1/{}'\nitems = pd.read_csv(dir_pandas.format('olist_order_items_dataset.csv'))\nsellers = pd.read_csv(dir_pandas.format('olist_sellers_dataset.csv'))\nproducts = pd.read_csv(dir_pandas.format('olist_products_dataset.csv'))\ncustomers = pd.read_csv(dir_pandas.format('olist_customers_dataset.csv'))\ngeolocation = pd.read_csv(dir_pandas.format('olist_geolocation_dataset.csv'))\npayments = pd.read_csv(dir_pandas.format('olist_order_payments_dataset.csv'))\nreviews = pd.read_csv(dir_pandas.format('olist_order_reviews_dataset.csv'))\norders = pd.read_csv(dir_pandas.format('olist_orders_dataset.csv'))",
   "execution_count": null,
   "outputs": []
  },
  {
   "cell_type": "code",
   "metadata": {
    "cell_id": "6ce52f37a22d4f2fb6a6383aa8208e74",
    "tags": [],
    "deepnote_to_be_reexecuted": false,
    "source_hash": "772745f2",
    "execution_start": 1650937956357,
    "execution_millis": 573,
    "deepnote_cell_type": "code",
    "deepnote_cell_height": 313.6875
   },
   "source": "dbs = [customers, geolocation, items, payments, reviews, orders, products, sellers, orders]\nfor i in dbs:\n    print(list(i))",
   "execution_count": null,
   "outputs": [
    {
     "name": "stdout",
     "text": "['customer_id', 'customer_unique_id', 'customer_zip_code_prefix', 'customer_city', 'customer_state']\n['geolocation_zip_code_prefix', 'geolocation_lat', 'geolocation_lng', 'geolocation_city', 'geolocation_state']\n['order_id', 'order_item_id', 'product_id', 'seller_id', 'shipping_limit_date', 'price', 'freight_value']\n['order_id', 'payment_sequential', 'payment_type', 'payment_installments', 'payment_value']\n['review_id', 'order_id', 'review_score', 'review_comment_title', 'review_comment_message', 'review_creation_date', 'review_answer_timestamp']\n['order_id', 'customer_id', 'order_status', 'order_purchase_timestamp', 'order_approved_at', 'order_delivered_carrier_date', 'order_delivered_customer_date', 'order_estimated_delivery_date']\n['product_id', 'product_category_name', 'product_name_lenght', 'product_description_lenght', 'product_photos_qty', 'product_weight_g', 'product_length_cm', 'product_height_cm', 'product_width_cm']\n['seller_id', 'seller_zip_code_prefix', 'seller_city', 'seller_state']\n['order_id', 'customer_id', 'order_status', 'order_purchase_timestamp', 'order_approved_at', 'order_delivered_carrier_date', 'order_delivered_customer_date', 'order_estimated_delivery_date']\n",
     "output_type": "stream"
    }
   ]
  },
  {
   "cell_type": "code",
   "metadata": {
    "cell_id": "8402e19bc20246efb1fc6260c174cd21",
    "tags": [],
    "deepnote_to_be_reexecuted": false,
    "source_hash": "9ab2ca52",
    "execution_start": 1650937956406,
    "execution_millis": 1,
    "deepnote_cell_type": "code",
    "deepnote_cell_height": 81
   },
   "source": "# pd.options.display.float_format = '{:,.lf}'.format",
   "execution_count": null,
   "outputs": []
  },
  {
   "cell_type": "markdown",
   "source": "## Items",
   "metadata": {
    "formattedRanges": [],
    "cell_id": "71168950009942b688f510da23f4d418",
    "tags": [],
    "is_collapsed": false,
    "owner_user_id": "2dbf2bcb-4b1f-487d-8450-9cfa28d2e998",
    "deepnote_cell_type": "text-cell-h2"
   }
  },
  {
   "cell_type": "code",
   "metadata": {
    "cell_id": "6863a9cca3bc428b8f1af95078978687",
    "tags": [],
    "deepnote_to_be_reexecuted": false,
    "source_hash": "5b5236a3",
    "execution_start": 1650937956407,
    "execution_millis": 529,
    "deepnote_cell_type": "code",
    "deepnote_cell_height": 617
   },
   "source": "items",
   "execution_count": null,
   "outputs": [
    {
     "output_type": "execute_result",
     "execution_count": 7,
     "data": {
      "application/vnd.deepnote.dataframe.v3+json": {
       "column_count": 7,
       "row_count": 112650,
       "columns": [
        {
         "name": "order_id",
         "dtype": "object"
        },
        {
         "name": "order_item_id",
         "dtype": "int64"
        },
        {
         "name": "product_id",
         "dtype": "object"
        },
        {
         "name": "seller_id",
         "dtype": "object"
        },
        {
         "name": "shipping_limit_date",
         "dtype": "object"
        },
        {
         "name": "price",
         "dtype": "float64"
        },
        {
         "name": "freight_value",
         "dtype": "float64"
        },
        {
         "name": "_deepnote_index_column",
         "dtype": "int64"
        }
       ],
       "rows": [
        {
         "order_id": "00010242fe8c5a6d1ba2dd792cb16214",
         "order_item_id": 1,
         "product_id": "4244733e06e7ecb4970a6e2683c13e61",
         "seller_id": "48436dade18ac8b2bce089ec2a041202",
         "shipping_limit_date": "2017-09-19 09:45:35",
         "price": 58.9,
         "freight_value": 13.29,
         "_deepnote_index_column": 0
        },
        {
         "order_id": "00018f77f2f0320c557190d7a144bdd3",
         "order_item_id": 1,
         "product_id": "e5f2d52b802189ee658865ca93d83a8f",
         "seller_id": "dd7ddc04e1b6c2c614352b383efe2d36",
         "shipping_limit_date": "2017-05-03 11:05:13",
         "price": 239.9,
         "freight_value": 19.93,
         "_deepnote_index_column": 1
        },
        {
         "order_id": "000229ec398224ef6ca0657da4fc703e",
         "order_item_id": 1,
         "product_id": "c777355d18b72b67abbeef9df44fd0fd",
         "seller_id": "5b51032eddd242adc84c38acab88f23d",
         "shipping_limit_date": "2018-01-18 14:48:30",
         "price": 199,
         "freight_value": 17.87,
         "_deepnote_index_column": 2
        },
        {
         "order_id": "00024acbcdf0a6daa1e931b038114c75",
         "order_item_id": 1,
         "product_id": "7634da152a4610f1595efa32f14722fc",
         "seller_id": "9d7a1d34a5052409006425275ba1c2b4",
         "shipping_limit_date": "2018-08-15 10:10:18",
         "price": 12.99,
         "freight_value": 12.79,
         "_deepnote_index_column": 3
        },
        {
         "order_id": "00042b26cf59d7ce69dfabb4e55b4fd9",
         "order_item_id": 1,
         "product_id": "ac6c3623068f30de03045865e4e10089",
         "seller_id": "df560393f3a51e74553ab94004ba5c87",
         "shipping_limit_date": "2017-02-13 13:57:51",
         "price": 199.9,
         "freight_value": 18.14,
         "_deepnote_index_column": 4
        },
        {
         "order_id": "00048cc3ae777c65dbb7d2a0634bc1ea",
         "order_item_id": 1,
         "product_id": "ef92defde845ab8450f9d70c526ef70f",
         "seller_id": "6426d21aca402a131fc0a5d0960a3c90",
         "shipping_limit_date": "2017-05-23 03:55:27",
         "price": 21.9,
         "freight_value": 12.69,
         "_deepnote_index_column": 5
        },
        {
         "order_id": "00054e8431b9d7675808bcb819fb4a32",
         "order_item_id": 1,
         "product_id": "8d4f2bb7e93e6710a28f34fa83ee7d28",
         "seller_id": "7040e82f899a04d1b434b795a43b4617",
         "shipping_limit_date": "2017-12-14 12:10:31",
         "price": 19.9,
         "freight_value": 11.85,
         "_deepnote_index_column": 6
        },
        {
         "order_id": "000576fe39319847cbb9d288c5617fa6",
         "order_item_id": 1,
         "product_id": "557d850972a7d6f792fd18ae1400d9b6",
         "seller_id": "5996cddab893a4652a15592fb58ab8db",
         "shipping_limit_date": "2018-07-10 12:30:45",
         "price": 810,
         "freight_value": 70.75,
         "_deepnote_index_column": 7
        },
        {
         "order_id": "0005a1a1728c9d785b8e2b08b904576c",
         "order_item_id": 1,
         "product_id": "310ae3c140ff94b03219ad0adc3c778f",
         "seller_id": "a416b6a846a11724393025641d4edd5e",
         "shipping_limit_date": "2018-03-26 18:31:29",
         "price": 145.95,
         "freight_value": 11.65,
         "_deepnote_index_column": 8
        },
        {
         "order_id": "0005f50442cb953dcd1d21e1fb923495",
         "order_item_id": 1,
         "product_id": "4535b0e1091c278dfd193e5a1d63b39f",
         "seller_id": "ba143b05f0110f0dc71ad71b4466ce92",
         "shipping_limit_date": "2018-07-06 14:10:56",
         "price": 53.99,
         "freight_value": 11.4,
         "_deepnote_index_column": 9
        }
       ]
      },
      "text/plain": "                                order_id  order_item_id  \\\n0       00010242fe8c5a6d1ba2dd792cb16214              1   \n1       00018f77f2f0320c557190d7a144bdd3              1   \n2       000229ec398224ef6ca0657da4fc703e              1   \n3       00024acbcdf0a6daa1e931b038114c75              1   \n4       00042b26cf59d7ce69dfabb4e55b4fd9              1   \n...                                  ...            ...   \n112645  fffc94f6ce00a00581880bf54a75a037              1   \n112646  fffcd46ef2263f404302a634eb57f7eb              1   \n112647  fffce4705a9662cd70adb13d4a31832d              1   \n112648  fffe18544ffabc95dfada21779c9644f              1   \n112649  fffe41c64501cc87c801fd61db3f6244              1   \n\n                              product_id                         seller_id  \\\n0       4244733e06e7ecb4970a6e2683c13e61  48436dade18ac8b2bce089ec2a041202   \n1       e5f2d52b802189ee658865ca93d83a8f  dd7ddc04e1b6c2c614352b383efe2d36   \n2       c777355d18b72b67abbeef9df44fd0fd  5b51032eddd242adc84c38acab88f23d   \n3       7634da152a4610f1595efa32f14722fc  9d7a1d34a5052409006425275ba1c2b4   \n4       ac6c3623068f30de03045865e4e10089  df560393f3a51e74553ab94004ba5c87   \n...                                  ...                               ...   \n112645  4aa6014eceb682077f9dc4bffebc05b0  b8bc237ba3788b23da09c0f1f3a3288c   \n112646  32e07fd915822b0765e448c4dd74c828  f3c38ab652836d21de61fb8314b69182   \n112647  72a30483855e2eafc67aee5dc2560482  c3cfdc648177fdbbbb35635a37472c53   \n112648  9c422a519119dcad7575db5af1ba540e  2b3e4a2a3ea8e01938cabda2a3e5cc79   \n112649  350688d9dc1e75ff97be326363655e01  f7ccf836d21b2fb1de37564105216cc1   \n\n        shipping_limit_date   price  freight_value  \n0       2017-09-19 09:45:35   58.90          13.29  \n1       2017-05-03 11:05:13  239.90          19.93  \n2       2018-01-18 14:48:30  199.00          17.87  \n3       2018-08-15 10:10:18   12.99          12.79  \n4       2017-02-13 13:57:51  199.90          18.14  \n...                     ...     ...            ...  \n112645  2018-05-02 04:11:01  299.99          43.41  \n112646  2018-07-20 04:31:48  350.00          36.53  \n112647  2017-10-30 17:14:25   99.90          16.95  \n112648  2017-08-21 00:04:32   55.99           8.72  \n112649  2018-06-12 17:10:13   43.00          12.79  \n\n[112650 rows x 7 columns]",
      "text/html": "<div>\n<style scoped>\n    .dataframe tbody tr th:only-of-type {\n        vertical-align: middle;\n    }\n\n    .dataframe tbody tr th {\n        vertical-align: top;\n    }\n\n    .dataframe thead th {\n        text-align: right;\n    }\n</style>\n<table border=\"1\" class=\"dataframe\">\n  <thead>\n    <tr style=\"text-align: right;\">\n      <th></th>\n      <th>order_id</th>\n      <th>order_item_id</th>\n      <th>product_id</th>\n      <th>seller_id</th>\n      <th>shipping_limit_date</th>\n      <th>price</th>\n      <th>freight_value</th>\n    </tr>\n  </thead>\n  <tbody>\n    <tr>\n      <th>0</th>\n      <td>00010242fe8c5a6d1ba2dd792cb16214</td>\n      <td>1</td>\n      <td>4244733e06e7ecb4970a6e2683c13e61</td>\n      <td>48436dade18ac8b2bce089ec2a041202</td>\n      <td>2017-09-19 09:45:35</td>\n      <td>58.90</td>\n      <td>13.29</td>\n    </tr>\n    <tr>\n      <th>1</th>\n      <td>00018f77f2f0320c557190d7a144bdd3</td>\n      <td>1</td>\n      <td>e5f2d52b802189ee658865ca93d83a8f</td>\n      <td>dd7ddc04e1b6c2c614352b383efe2d36</td>\n      <td>2017-05-03 11:05:13</td>\n      <td>239.90</td>\n      <td>19.93</td>\n    </tr>\n    <tr>\n      <th>2</th>\n      <td>000229ec398224ef6ca0657da4fc703e</td>\n      <td>1</td>\n      <td>c777355d18b72b67abbeef9df44fd0fd</td>\n      <td>5b51032eddd242adc84c38acab88f23d</td>\n      <td>2018-01-18 14:48:30</td>\n      <td>199.00</td>\n      <td>17.87</td>\n    </tr>\n    <tr>\n      <th>3</th>\n      <td>00024acbcdf0a6daa1e931b038114c75</td>\n      <td>1</td>\n      <td>7634da152a4610f1595efa32f14722fc</td>\n      <td>9d7a1d34a5052409006425275ba1c2b4</td>\n      <td>2018-08-15 10:10:18</td>\n      <td>12.99</td>\n      <td>12.79</td>\n    </tr>\n    <tr>\n      <th>4</th>\n      <td>00042b26cf59d7ce69dfabb4e55b4fd9</td>\n      <td>1</td>\n      <td>ac6c3623068f30de03045865e4e10089</td>\n      <td>df560393f3a51e74553ab94004ba5c87</td>\n      <td>2017-02-13 13:57:51</td>\n      <td>199.90</td>\n      <td>18.14</td>\n    </tr>\n    <tr>\n      <th>...</th>\n      <td>...</td>\n      <td>...</td>\n      <td>...</td>\n      <td>...</td>\n      <td>...</td>\n      <td>...</td>\n      <td>...</td>\n    </tr>\n    <tr>\n      <th>112645</th>\n      <td>fffc94f6ce00a00581880bf54a75a037</td>\n      <td>1</td>\n      <td>4aa6014eceb682077f9dc4bffebc05b0</td>\n      <td>b8bc237ba3788b23da09c0f1f3a3288c</td>\n      <td>2018-05-02 04:11:01</td>\n      <td>299.99</td>\n      <td>43.41</td>\n    </tr>\n    <tr>\n      <th>112646</th>\n      <td>fffcd46ef2263f404302a634eb57f7eb</td>\n      <td>1</td>\n      <td>32e07fd915822b0765e448c4dd74c828</td>\n      <td>f3c38ab652836d21de61fb8314b69182</td>\n      <td>2018-07-20 04:31:48</td>\n      <td>350.00</td>\n      <td>36.53</td>\n    </tr>\n    <tr>\n      <th>112647</th>\n      <td>fffce4705a9662cd70adb13d4a31832d</td>\n      <td>1</td>\n      <td>72a30483855e2eafc67aee5dc2560482</td>\n      <td>c3cfdc648177fdbbbb35635a37472c53</td>\n      <td>2017-10-30 17:14:25</td>\n      <td>99.90</td>\n      <td>16.95</td>\n    </tr>\n    <tr>\n      <th>112648</th>\n      <td>fffe18544ffabc95dfada21779c9644f</td>\n      <td>1</td>\n      <td>9c422a519119dcad7575db5af1ba540e</td>\n      <td>2b3e4a2a3ea8e01938cabda2a3e5cc79</td>\n      <td>2017-08-21 00:04:32</td>\n      <td>55.99</td>\n      <td>8.72</td>\n    </tr>\n    <tr>\n      <th>112649</th>\n      <td>fffe41c64501cc87c801fd61db3f6244</td>\n      <td>1</td>\n      <td>350688d9dc1e75ff97be326363655e01</td>\n      <td>f7ccf836d21b2fb1de37564105216cc1</td>\n      <td>2018-06-12 17:10:13</td>\n      <td>43.00</td>\n      <td>12.79</td>\n    </tr>\n  </tbody>\n</table>\n<p>112650 rows × 7 columns</p>\n</div>"
     },
     "metadata": {}
    }
   ]
  },
  {
   "cell_type": "code",
   "metadata": {
    "cell_id": "def477d6f6164ec2931f5098a04e03fe",
    "tags": [],
    "deepnote_to_be_reexecuted": false,
    "source_hash": "e908d745",
    "execution_start": 1650937956442,
    "execution_millis": 497,
    "deepnote_cell_type": "code",
    "deepnote_cell_height": 118.1875,
    "deepnote_output_heights": [
     21.1875
    ]
   },
   "source": "items.shape",
   "execution_count": null,
   "outputs": [
    {
     "output_type": "execute_result",
     "execution_count": 8,
     "data": {
      "text/plain": "(112650, 7)"
     },
     "metadata": {}
    }
   ]
  },
  {
   "cell_type": "code",
   "metadata": {
    "cell_id": "8d85828ff50f4cddb7017c4c44f08185",
    "tags": [],
    "deepnote_to_be_reexecuted": false,
    "source_hash": "ca216c80",
    "execution_start": 1650937956455,
    "execution_millis": 486,
    "deepnote_cell_type": "code",
    "deepnote_cell_height": 374.625
   },
   "source": "items.info()",
   "execution_count": null,
   "outputs": [
    {
     "name": "stdout",
     "text": "<class 'pandas.core.frame.DataFrame'>\nRangeIndex: 112650 entries, 0 to 112649\nData columns (total 7 columns):\n #   Column               Non-Null Count   Dtype  \n---  ------               --------------   -----  \n 0   order_id             112650 non-null  object \n 1   order_item_id        112650 non-null  int64  \n 2   product_id           112650 non-null  object \n 3   seller_id            112650 non-null  object \n 4   shipping_limit_date  112650 non-null  object \n 5   price                112650 non-null  float64\n 6   freight_value        112650 non-null  float64\ndtypes: float64(2), int64(1), object(4)\nmemory usage: 6.0+ MB\n",
     "output_type": "stream"
    }
   ]
  },
  {
   "cell_type": "code",
   "metadata": {
    "cell_id": "d7219a8c4aaf4739bfdb0afb81110b50",
    "tags": [],
    "deepnote_to_be_reexecuted": false,
    "source_hash": "323c3eb3",
    "execution_start": 1650937956500,
    "execution_millis": 445,
    "deepnote_cell_type": "code",
    "deepnote_cell_height": 251
   },
   "source": "items.dtypes",
   "execution_count": null,
   "outputs": [
    {
     "output_type": "execute_result",
     "execution_count": 10,
     "data": {
      "text/plain": "order_id                object\norder_item_id            int64\nproduct_id              object\nseller_id               object\nshipping_limit_date     object\nprice                  float64\nfreight_value          float64\ndtype: object"
     },
     "metadata": {}
    }
   ]
  },
  {
   "cell_type": "code",
   "metadata": {
    "cell_id": "aec197ddeb864ef7a2867e9c2e58d83b",
    "tags": [],
    "deepnote_to_be_reexecuted": false,
    "source_hash": "7e6f48bc",
    "execution_start": 1650937956503,
    "execution_millis": 0,
    "deepnote_cell_type": "code",
    "deepnote_cell_height": 99
   },
   "source": "# items['shipping_limit_date'] = pd.to_datetime(items['shipping_limit_date'])\n# items",
   "execution_count": null,
   "outputs": []
  },
  {
   "cell_type": "code",
   "metadata": {
    "cell_id": "b578f1987fd543d48e70254d2c7752f4",
    "tags": [],
    "deepnote_to_be_reexecuted": false,
    "source_hash": "5b5236a3",
    "execution_start": 1650937956528,
    "execution_millis": 433,
    "deepnote_cell_type": "code",
    "deepnote_cell_height": 617
   },
   "source": "items",
   "execution_count": null,
   "outputs": [
    {
     "output_type": "execute_result",
     "execution_count": 12,
     "data": {
      "application/vnd.deepnote.dataframe.v3+json": {
       "column_count": 7,
       "row_count": 112650,
       "columns": [
        {
         "name": "order_id",
         "dtype": "object"
        },
        {
         "name": "order_item_id",
         "dtype": "int64"
        },
        {
         "name": "product_id",
         "dtype": "object"
        },
        {
         "name": "seller_id",
         "dtype": "object"
        },
        {
         "name": "shipping_limit_date",
         "dtype": "object"
        },
        {
         "name": "price",
         "dtype": "float64"
        },
        {
         "name": "freight_value",
         "dtype": "float64"
        },
        {
         "name": "_deepnote_index_column",
         "dtype": "int64"
        }
       ],
       "rows": [
        {
         "order_id": "00010242fe8c5a6d1ba2dd792cb16214",
         "order_item_id": 1,
         "product_id": "4244733e06e7ecb4970a6e2683c13e61",
         "seller_id": "48436dade18ac8b2bce089ec2a041202",
         "shipping_limit_date": "2017-09-19 09:45:35",
         "price": 58.9,
         "freight_value": 13.29,
         "_deepnote_index_column": 0
        },
        {
         "order_id": "00018f77f2f0320c557190d7a144bdd3",
         "order_item_id": 1,
         "product_id": "e5f2d52b802189ee658865ca93d83a8f",
         "seller_id": "dd7ddc04e1b6c2c614352b383efe2d36",
         "shipping_limit_date": "2017-05-03 11:05:13",
         "price": 239.9,
         "freight_value": 19.93,
         "_deepnote_index_column": 1
        },
        {
         "order_id": "000229ec398224ef6ca0657da4fc703e",
         "order_item_id": 1,
         "product_id": "c777355d18b72b67abbeef9df44fd0fd",
         "seller_id": "5b51032eddd242adc84c38acab88f23d",
         "shipping_limit_date": "2018-01-18 14:48:30",
         "price": 199,
         "freight_value": 17.87,
         "_deepnote_index_column": 2
        },
        {
         "order_id": "00024acbcdf0a6daa1e931b038114c75",
         "order_item_id": 1,
         "product_id": "7634da152a4610f1595efa32f14722fc",
         "seller_id": "9d7a1d34a5052409006425275ba1c2b4",
         "shipping_limit_date": "2018-08-15 10:10:18",
         "price": 12.99,
         "freight_value": 12.79,
         "_deepnote_index_column": 3
        },
        {
         "order_id": "00042b26cf59d7ce69dfabb4e55b4fd9",
         "order_item_id": 1,
         "product_id": "ac6c3623068f30de03045865e4e10089",
         "seller_id": "df560393f3a51e74553ab94004ba5c87",
         "shipping_limit_date": "2017-02-13 13:57:51",
         "price": 199.9,
         "freight_value": 18.14,
         "_deepnote_index_column": 4
        },
        {
         "order_id": "00048cc3ae777c65dbb7d2a0634bc1ea",
         "order_item_id": 1,
         "product_id": "ef92defde845ab8450f9d70c526ef70f",
         "seller_id": "6426d21aca402a131fc0a5d0960a3c90",
         "shipping_limit_date": "2017-05-23 03:55:27",
         "price": 21.9,
         "freight_value": 12.69,
         "_deepnote_index_column": 5
        },
        {
         "order_id": "00054e8431b9d7675808bcb819fb4a32",
         "order_item_id": 1,
         "product_id": "8d4f2bb7e93e6710a28f34fa83ee7d28",
         "seller_id": "7040e82f899a04d1b434b795a43b4617",
         "shipping_limit_date": "2017-12-14 12:10:31",
         "price": 19.9,
         "freight_value": 11.85,
         "_deepnote_index_column": 6
        },
        {
         "order_id": "000576fe39319847cbb9d288c5617fa6",
         "order_item_id": 1,
         "product_id": "557d850972a7d6f792fd18ae1400d9b6",
         "seller_id": "5996cddab893a4652a15592fb58ab8db",
         "shipping_limit_date": "2018-07-10 12:30:45",
         "price": 810,
         "freight_value": 70.75,
         "_deepnote_index_column": 7
        },
        {
         "order_id": "0005a1a1728c9d785b8e2b08b904576c",
         "order_item_id": 1,
         "product_id": "310ae3c140ff94b03219ad0adc3c778f",
         "seller_id": "a416b6a846a11724393025641d4edd5e",
         "shipping_limit_date": "2018-03-26 18:31:29",
         "price": 145.95,
         "freight_value": 11.65,
         "_deepnote_index_column": 8
        },
        {
         "order_id": "0005f50442cb953dcd1d21e1fb923495",
         "order_item_id": 1,
         "product_id": "4535b0e1091c278dfd193e5a1d63b39f",
         "seller_id": "ba143b05f0110f0dc71ad71b4466ce92",
         "shipping_limit_date": "2018-07-06 14:10:56",
         "price": 53.99,
         "freight_value": 11.4,
         "_deepnote_index_column": 9
        }
       ]
      },
      "text/plain": "                                order_id  order_item_id  \\\n0       00010242fe8c5a6d1ba2dd792cb16214              1   \n1       00018f77f2f0320c557190d7a144bdd3              1   \n2       000229ec398224ef6ca0657da4fc703e              1   \n3       00024acbcdf0a6daa1e931b038114c75              1   \n4       00042b26cf59d7ce69dfabb4e55b4fd9              1   \n...                                  ...            ...   \n112645  fffc94f6ce00a00581880bf54a75a037              1   \n112646  fffcd46ef2263f404302a634eb57f7eb              1   \n112647  fffce4705a9662cd70adb13d4a31832d              1   \n112648  fffe18544ffabc95dfada21779c9644f              1   \n112649  fffe41c64501cc87c801fd61db3f6244              1   \n\n                              product_id                         seller_id  \\\n0       4244733e06e7ecb4970a6e2683c13e61  48436dade18ac8b2bce089ec2a041202   \n1       e5f2d52b802189ee658865ca93d83a8f  dd7ddc04e1b6c2c614352b383efe2d36   \n2       c777355d18b72b67abbeef9df44fd0fd  5b51032eddd242adc84c38acab88f23d   \n3       7634da152a4610f1595efa32f14722fc  9d7a1d34a5052409006425275ba1c2b4   \n4       ac6c3623068f30de03045865e4e10089  df560393f3a51e74553ab94004ba5c87   \n...                                  ...                               ...   \n112645  4aa6014eceb682077f9dc4bffebc05b0  b8bc237ba3788b23da09c0f1f3a3288c   \n112646  32e07fd915822b0765e448c4dd74c828  f3c38ab652836d21de61fb8314b69182   \n112647  72a30483855e2eafc67aee5dc2560482  c3cfdc648177fdbbbb35635a37472c53   \n112648  9c422a519119dcad7575db5af1ba540e  2b3e4a2a3ea8e01938cabda2a3e5cc79   \n112649  350688d9dc1e75ff97be326363655e01  f7ccf836d21b2fb1de37564105216cc1   \n\n        shipping_limit_date   price  freight_value  \n0       2017-09-19 09:45:35   58.90          13.29  \n1       2017-05-03 11:05:13  239.90          19.93  \n2       2018-01-18 14:48:30  199.00          17.87  \n3       2018-08-15 10:10:18   12.99          12.79  \n4       2017-02-13 13:57:51  199.90          18.14  \n...                     ...     ...            ...  \n112645  2018-05-02 04:11:01  299.99          43.41  \n112646  2018-07-20 04:31:48  350.00          36.53  \n112647  2017-10-30 17:14:25   99.90          16.95  \n112648  2017-08-21 00:04:32   55.99           8.72  \n112649  2018-06-12 17:10:13   43.00          12.79  \n\n[112650 rows x 7 columns]",
      "text/html": "<div>\n<style scoped>\n    .dataframe tbody tr th:only-of-type {\n        vertical-align: middle;\n    }\n\n    .dataframe tbody tr th {\n        vertical-align: top;\n    }\n\n    .dataframe thead th {\n        text-align: right;\n    }\n</style>\n<table border=\"1\" class=\"dataframe\">\n  <thead>\n    <tr style=\"text-align: right;\">\n      <th></th>\n      <th>order_id</th>\n      <th>order_item_id</th>\n      <th>product_id</th>\n      <th>seller_id</th>\n      <th>shipping_limit_date</th>\n      <th>price</th>\n      <th>freight_value</th>\n    </tr>\n  </thead>\n  <tbody>\n    <tr>\n      <th>0</th>\n      <td>00010242fe8c5a6d1ba2dd792cb16214</td>\n      <td>1</td>\n      <td>4244733e06e7ecb4970a6e2683c13e61</td>\n      <td>48436dade18ac8b2bce089ec2a041202</td>\n      <td>2017-09-19 09:45:35</td>\n      <td>58.90</td>\n      <td>13.29</td>\n    </tr>\n    <tr>\n      <th>1</th>\n      <td>00018f77f2f0320c557190d7a144bdd3</td>\n      <td>1</td>\n      <td>e5f2d52b802189ee658865ca93d83a8f</td>\n      <td>dd7ddc04e1b6c2c614352b383efe2d36</td>\n      <td>2017-05-03 11:05:13</td>\n      <td>239.90</td>\n      <td>19.93</td>\n    </tr>\n    <tr>\n      <th>2</th>\n      <td>000229ec398224ef6ca0657da4fc703e</td>\n      <td>1</td>\n      <td>c777355d18b72b67abbeef9df44fd0fd</td>\n      <td>5b51032eddd242adc84c38acab88f23d</td>\n      <td>2018-01-18 14:48:30</td>\n      <td>199.00</td>\n      <td>17.87</td>\n    </tr>\n    <tr>\n      <th>3</th>\n      <td>00024acbcdf0a6daa1e931b038114c75</td>\n      <td>1</td>\n      <td>7634da152a4610f1595efa32f14722fc</td>\n      <td>9d7a1d34a5052409006425275ba1c2b4</td>\n      <td>2018-08-15 10:10:18</td>\n      <td>12.99</td>\n      <td>12.79</td>\n    </tr>\n    <tr>\n      <th>4</th>\n      <td>00042b26cf59d7ce69dfabb4e55b4fd9</td>\n      <td>1</td>\n      <td>ac6c3623068f30de03045865e4e10089</td>\n      <td>df560393f3a51e74553ab94004ba5c87</td>\n      <td>2017-02-13 13:57:51</td>\n      <td>199.90</td>\n      <td>18.14</td>\n    </tr>\n    <tr>\n      <th>...</th>\n      <td>...</td>\n      <td>...</td>\n      <td>...</td>\n      <td>...</td>\n      <td>...</td>\n      <td>...</td>\n      <td>...</td>\n    </tr>\n    <tr>\n      <th>112645</th>\n      <td>fffc94f6ce00a00581880bf54a75a037</td>\n      <td>1</td>\n      <td>4aa6014eceb682077f9dc4bffebc05b0</td>\n      <td>b8bc237ba3788b23da09c0f1f3a3288c</td>\n      <td>2018-05-02 04:11:01</td>\n      <td>299.99</td>\n      <td>43.41</td>\n    </tr>\n    <tr>\n      <th>112646</th>\n      <td>fffcd46ef2263f404302a634eb57f7eb</td>\n      <td>1</td>\n      <td>32e07fd915822b0765e448c4dd74c828</td>\n      <td>f3c38ab652836d21de61fb8314b69182</td>\n      <td>2018-07-20 04:31:48</td>\n      <td>350.00</td>\n      <td>36.53</td>\n    </tr>\n    <tr>\n      <th>112647</th>\n      <td>fffce4705a9662cd70adb13d4a31832d</td>\n      <td>1</td>\n      <td>72a30483855e2eafc67aee5dc2560482</td>\n      <td>c3cfdc648177fdbbbb35635a37472c53</td>\n      <td>2017-10-30 17:14:25</td>\n      <td>99.90</td>\n      <td>16.95</td>\n    </tr>\n    <tr>\n      <th>112648</th>\n      <td>fffe18544ffabc95dfada21779c9644f</td>\n      <td>1</td>\n      <td>9c422a519119dcad7575db5af1ba540e</td>\n      <td>2b3e4a2a3ea8e01938cabda2a3e5cc79</td>\n      <td>2017-08-21 00:04:32</td>\n      <td>55.99</td>\n      <td>8.72</td>\n    </tr>\n    <tr>\n      <th>112649</th>\n      <td>fffe41c64501cc87c801fd61db3f6244</td>\n      <td>1</td>\n      <td>350688d9dc1e75ff97be326363655e01</td>\n      <td>f7ccf836d21b2fb1de37564105216cc1</td>\n      <td>2018-06-12 17:10:13</td>\n      <td>43.00</td>\n      <td>12.79</td>\n    </tr>\n  </tbody>\n</table>\n<p>112650 rows × 7 columns</p>\n</div>"
     },
     "metadata": {}
    }
   ]
  },
  {
   "cell_type": "code",
   "metadata": {
    "cell_id": "2028bbb922e744148e07bd49405641d0",
    "tags": [],
    "deepnote_to_be_reexecuted": false,
    "source_hash": "407960c0",
    "execution_start": 1650937956536,
    "execution_millis": 431,
    "deepnote_cell_type": "code",
    "deepnote_cell_height": 251
   },
   "source": "items.convert_dtypes().dtypes",
   "execution_count": null,
   "outputs": [
    {
     "output_type": "execute_result",
     "execution_count": 13,
     "data": {
      "text/plain": "order_id                string\norder_item_id            Int64\nproduct_id              string\nseller_id               string\nshipping_limit_date     string\nprice                  Float64\nfreight_value          Float64\ndtype: object"
     },
     "metadata": {}
    }
   ]
  },
  {
   "cell_type": "markdown",
   "source": "## Sellers",
   "metadata": {
    "formattedRanges": [],
    "cell_id": "d9cd9d5fc5924c22861e5c4990a8c99d",
    "tags": [],
    "is_collapsed": false,
    "deepnote_cell_type": "text-cell-h2"
   }
  },
  {
   "cell_type": "code",
   "metadata": {
    "cell_id": "a9ab3b1fb82d48728b7ed35fd0094a74",
    "tags": [],
    "deepnote_to_be_reexecuted": false,
    "source_hash": "b387b796",
    "execution_start": 1650937956585,
    "execution_millis": 383,
    "deepnote_cell_type": "code",
    "deepnote_cell_height": 600
   },
   "source": "sellers",
   "execution_count": null,
   "outputs": [
    {
     "output_type": "execute_result",
     "execution_count": 14,
     "data": {
      "application/vnd.deepnote.dataframe.v3+json": {
       "column_count": 4,
       "row_count": 3095,
       "columns": [
        {
         "name": "seller_id",
         "dtype": "object",
         "stats": {
          "unique_count": 3095,
          "nan_count": 0,
          "categories": [
           {
            "name": "3442f8959a84dea7ee197c632cb2df15",
            "count": 1
           },
           {
            "name": "d1b65fc7debc3361ea86b5f14c68d2e2",
            "count": 1
           },
           {
            "name": "3093 others",
            "count": 3093
           }
          ]
         }
        },
        {
         "name": "seller_zip_code_prefix",
         "dtype": "int64",
         "stats": {
          "unique_count": 2246,
          "nan_count": 0,
          "min": "1001",
          "max": "99730",
          "histogram": [
           {
            "bin_start": 1001,
            "bin_end": 10873.9,
            "count": 1027
           },
           {
            "bin_start": 10873.9,
            "bin_end": 20746.8,
            "count": 809
           },
           {
            "bin_start": 20746.8,
            "bin_end": 30619.699999999997,
            "count": 206
           },
           {
            "bin_start": 30619.699999999997,
            "bin_end": 40492.6,
            "count": 228
           },
           {
            "bin_start": 40492.6,
            "bin_end": 50365.5,
            "count": 18
           },
           {
            "bin_start": 50365.5,
            "bin_end": 60238.399999999994,
            "count": 21
           },
           {
            "bin_start": 60238.399999999994,
            "bin_end": 70111.3,
            "count": 16
           },
           {
            "bin_start": 70111.3,
            "bin_end": 79984.2,
            "count": 81
           },
           {
            "bin_start": 79984.2,
            "bin_end": 89857.09999999999,
            "count": 554
           },
           {
            "bin_start": 89857.09999999999,
            "bin_end": 99730,
            "count": 135
           }
          ]
         }
        },
        {
         "name": "seller_city",
         "dtype": "object",
         "stats": {
          "unique_count": 611,
          "nan_count": 0,
          "categories": [
           {
            "name": "sao paulo",
            "count": 694
           },
           {
            "name": "curitiba",
            "count": 127
           },
           {
            "name": "609 others",
            "count": 2274
           }
          ]
         }
        },
        {
         "name": "seller_state",
         "dtype": "object",
         "stats": {
          "unique_count": 23,
          "nan_count": 0,
          "categories": [
           {
            "name": "SP",
            "count": 1849
           },
           {
            "name": "PR",
            "count": 349
           },
           {
            "name": "21 others",
            "count": 897
           }
          ]
         }
        },
        {
         "name": "_deepnote_index_column",
         "dtype": "int64"
        }
       ],
       "rows": [
        {
         "seller_id": "3442f8959a84dea7ee197c632cb2df15",
         "seller_zip_code_prefix": 13023,
         "seller_city": "campinas",
         "seller_state": "SP",
         "_deepnote_index_column": 0
        },
        {
         "seller_id": "d1b65fc7debc3361ea86b5f14c68d2e2",
         "seller_zip_code_prefix": 13844,
         "seller_city": "mogi guacu",
         "seller_state": "SP",
         "_deepnote_index_column": 1
        },
        {
         "seller_id": "ce3ad9de960102d0677a81f5d0bb7b2d",
         "seller_zip_code_prefix": 20031,
         "seller_city": "rio de janeiro",
         "seller_state": "RJ",
         "_deepnote_index_column": 2
        },
        {
         "seller_id": "c0f3eea2e14555b6faeea3dd58c1b1c3",
         "seller_zip_code_prefix": 4195,
         "seller_city": "sao paulo",
         "seller_state": "SP",
         "_deepnote_index_column": 3
        },
        {
         "seller_id": "51a04a8a6bdcb23deccc82b0b80742cf",
         "seller_zip_code_prefix": 12914,
         "seller_city": "braganca paulista",
         "seller_state": "SP",
         "_deepnote_index_column": 4
        },
        {
         "seller_id": "c240c4061717ac1806ae6ee72be3533b",
         "seller_zip_code_prefix": 20920,
         "seller_city": "rio de janeiro",
         "seller_state": "RJ",
         "_deepnote_index_column": 5
        },
        {
         "seller_id": "e49c26c3edfa46d227d5121a6b6e4d37",
         "seller_zip_code_prefix": 55325,
         "seller_city": "brejao",
         "seller_state": "PE",
         "_deepnote_index_column": 6
        },
        {
         "seller_id": "1b938a7ec6ac5061a66a3766e0e75f90",
         "seller_zip_code_prefix": 16304,
         "seller_city": "penapolis",
         "seller_state": "SP",
         "_deepnote_index_column": 7
        },
        {
         "seller_id": "768a86e36ad6aae3d03ee3c6433d61df",
         "seller_zip_code_prefix": 1529,
         "seller_city": "sao paulo",
         "seller_state": "SP",
         "_deepnote_index_column": 8
        },
        {
         "seller_id": "ccc4bbb5f32a6ab2b7066a4130f114e3",
         "seller_zip_code_prefix": 80310,
         "seller_city": "curitiba",
         "seller_state": "PR",
         "_deepnote_index_column": 9
        }
       ]
      },
      "text/plain": "                             seller_id  seller_zip_code_prefix  \\\n0     3442f8959a84dea7ee197c632cb2df15                   13023   \n1     d1b65fc7debc3361ea86b5f14c68d2e2                   13844   \n2     ce3ad9de960102d0677a81f5d0bb7b2d                   20031   \n3     c0f3eea2e14555b6faeea3dd58c1b1c3                    4195   \n4     51a04a8a6bdcb23deccc82b0b80742cf                   12914   \n...                                ...                     ...   \n3090  98dddbc4601dd4443ca174359b237166                   87111   \n3091  f8201cab383e484733266d1906e2fdfa                   88137   \n3092  74871d19219c7d518d0090283e03c137                    4650   \n3093  e603cf3fec55f8697c9059638d6c8eb5                   96080   \n3094  9e25199f6ef7e7c347120ff175652c3b                   12051   \n\n            seller_city seller_state  \n0              campinas           SP  \n1            mogi guacu           SP  \n2        rio de janeiro           RJ  \n3             sao paulo           SP  \n4     braganca paulista           SP  \n...                 ...          ...  \n3090            sarandi           PR  \n3091            palhoca           SC  \n3092          sao paulo           SP  \n3093            pelotas           RS  \n3094            taubate           SP  \n\n[3095 rows x 4 columns]",
      "text/html": "<div>\n<style scoped>\n    .dataframe tbody tr th:only-of-type {\n        vertical-align: middle;\n    }\n\n    .dataframe tbody tr th {\n        vertical-align: top;\n    }\n\n    .dataframe thead th {\n        text-align: right;\n    }\n</style>\n<table border=\"1\" class=\"dataframe\">\n  <thead>\n    <tr style=\"text-align: right;\">\n      <th></th>\n      <th>seller_id</th>\n      <th>seller_zip_code_prefix</th>\n      <th>seller_city</th>\n      <th>seller_state</th>\n    </tr>\n  </thead>\n  <tbody>\n    <tr>\n      <th>0</th>\n      <td>3442f8959a84dea7ee197c632cb2df15</td>\n      <td>13023</td>\n      <td>campinas</td>\n      <td>SP</td>\n    </tr>\n    <tr>\n      <th>1</th>\n      <td>d1b65fc7debc3361ea86b5f14c68d2e2</td>\n      <td>13844</td>\n      <td>mogi guacu</td>\n      <td>SP</td>\n    </tr>\n    <tr>\n      <th>2</th>\n      <td>ce3ad9de960102d0677a81f5d0bb7b2d</td>\n      <td>20031</td>\n      <td>rio de janeiro</td>\n      <td>RJ</td>\n    </tr>\n    <tr>\n      <th>3</th>\n      <td>c0f3eea2e14555b6faeea3dd58c1b1c3</td>\n      <td>4195</td>\n      <td>sao paulo</td>\n      <td>SP</td>\n    </tr>\n    <tr>\n      <th>4</th>\n      <td>51a04a8a6bdcb23deccc82b0b80742cf</td>\n      <td>12914</td>\n      <td>braganca paulista</td>\n      <td>SP</td>\n    </tr>\n    <tr>\n      <th>...</th>\n      <td>...</td>\n      <td>...</td>\n      <td>...</td>\n      <td>...</td>\n    </tr>\n    <tr>\n      <th>3090</th>\n      <td>98dddbc4601dd4443ca174359b237166</td>\n      <td>87111</td>\n      <td>sarandi</td>\n      <td>PR</td>\n    </tr>\n    <tr>\n      <th>3091</th>\n      <td>f8201cab383e484733266d1906e2fdfa</td>\n      <td>88137</td>\n      <td>palhoca</td>\n      <td>SC</td>\n    </tr>\n    <tr>\n      <th>3092</th>\n      <td>74871d19219c7d518d0090283e03c137</td>\n      <td>4650</td>\n      <td>sao paulo</td>\n      <td>SP</td>\n    </tr>\n    <tr>\n      <th>3093</th>\n      <td>e603cf3fec55f8697c9059638d6c8eb5</td>\n      <td>96080</td>\n      <td>pelotas</td>\n      <td>RS</td>\n    </tr>\n    <tr>\n      <th>3094</th>\n      <td>9e25199f6ef7e7c347120ff175652c3b</td>\n      <td>12051</td>\n      <td>taubate</td>\n      <td>SP</td>\n    </tr>\n  </tbody>\n</table>\n<p>3095 rows × 4 columns</p>\n</div>"
     },
     "metadata": {}
    }
   ]
  },
  {
   "cell_type": "code",
   "metadata": {
    "cell_id": "51c25e3fab5c43c08b7374697f3e9705",
    "tags": [],
    "deepnote_to_be_reexecuted": false,
    "source_hash": "30b9ca82",
    "execution_start": 1650937956648,
    "execution_millis": 321,
    "deepnote_cell_type": "code",
    "deepnote_cell_height": 118
   },
   "source": "sellers.shape",
   "execution_count": null,
   "outputs": [
    {
     "output_type": "execute_result",
     "execution_count": 15,
     "data": {
      "text/plain": "(3095, 4)"
     },
     "metadata": {}
    }
   ]
  },
  {
   "cell_type": "code",
   "metadata": {
    "cell_id": "b2db833781b64ea393d49f22a6a3612a",
    "tags": [],
    "deepnote_to_be_reexecuted": false,
    "source_hash": "ecf2c031",
    "execution_start": 1650937956649,
    "execution_millis": 321,
    "deepnote_cell_type": "code",
    "deepnote_cell_height": 314.0625
   },
   "source": "sellers.info()",
   "execution_count": null,
   "outputs": [
    {
     "name": "stdout",
     "text": "<class 'pandas.core.frame.DataFrame'>\nRangeIndex: 3095 entries, 0 to 3094\nData columns (total 4 columns):\n #   Column                  Non-Null Count  Dtype \n---  ------                  --------------  ----- \n 0   seller_id               3095 non-null   object\n 1   seller_zip_code_prefix  3095 non-null   int64 \n 2   seller_city             3095 non-null   object\n 3   seller_state            3095 non-null   object\ndtypes: int64(1), object(3)\nmemory usage: 96.8+ KB\n",
     "output_type": "stream"
    }
   ]
  },
  {
   "cell_type": "code",
   "metadata": {
    "cell_id": "2590847fb6eb43ee9b66de30239231e8",
    "tags": [],
    "deepnote_to_be_reexecuted": false,
    "source_hash": "8d36e4f3",
    "execution_start": 1650937956650,
    "execution_millis": 320,
    "deepnote_cell_type": "code",
    "deepnote_cell_height": 194
   },
   "source": "sellers.dtypes",
   "execution_count": null,
   "outputs": [
    {
     "output_type": "execute_result",
     "execution_count": 17,
     "data": {
      "text/plain": "seller_id                 object\nseller_zip_code_prefix     int64\nseller_city               object\nseller_state              object\ndtype: object"
     },
     "metadata": {}
    }
   ]
  },
  {
   "cell_type": "code",
   "metadata": {
    "cell_id": "2fe35617b9af4605aa966a00a99a0423",
    "tags": [],
    "deepnote_to_be_reexecuted": false,
    "source_hash": "90ed9669",
    "execution_start": 1650937956652,
    "execution_millis": 318,
    "deepnote_cell_type": "code",
    "deepnote_cell_height": 194
   },
   "source": "sellers.convert_dtypes().dtypes",
   "execution_count": null,
   "outputs": [
    {
     "output_type": "execute_result",
     "execution_count": 18,
     "data": {
      "text/plain": "seller_id                 string\nseller_zip_code_prefix     Int64\nseller_city               string\nseller_state              string\ndtype: object"
     },
     "metadata": {}
    }
   ]
  },
  {
   "cell_type": "code",
   "metadata": {
    "cell_id": "c6be1f7eabb449deb8809b0a063802a6",
    "tags": [],
    "deepnote_to_be_reexecuted": false,
    "source_hash": "928d157c",
    "execution_start": 1650937956665,
    "execution_millis": 3,
    "deepnote_cell_type": "code",
    "deepnote_cell_height": 81
   },
   "source": "sellers_copy = sellers.copy(deep=True)",
   "execution_count": null,
   "outputs": []
  },
  {
   "cell_type": "code",
   "metadata": {
    "cell_id": "0d9a575dc60445d28f904663bf2ed627",
    "tags": [],
    "deepnote_to_be_reexecuted": false,
    "source_hash": "13ddbb3f",
    "execution_start": 1650937956671,
    "execution_millis": 1,
    "deepnote_cell_type": "code",
    "deepnote_cell_height": 81
   },
   "source": "sellers_copy.drop(columns='seller_zip_code_prefix', inplace=True)",
   "execution_count": null,
   "outputs": []
  },
  {
   "cell_type": "code",
   "metadata": {
    "cell_id": "4586de94606a4c3fa4ce66996058db16",
    "tags": [],
    "deepnote_to_be_reexecuted": false,
    "source_hash": "e1cbfd2e",
    "execution_start": 1650937956716,
    "execution_millis": 256,
    "deepnote_cell_type": "code",
    "deepnote_cell_height": 600
   },
   "source": "sellers_copy",
   "execution_count": null,
   "outputs": [
    {
     "output_type": "execute_result",
     "execution_count": 21,
     "data": {
      "application/vnd.deepnote.dataframe.v3+json": {
       "column_count": 3,
       "row_count": 3095,
       "columns": [
        {
         "name": "seller_id",
         "dtype": "object",
         "stats": {
          "unique_count": 3095,
          "nan_count": 0,
          "categories": [
           {
            "name": "3442f8959a84dea7ee197c632cb2df15",
            "count": 1
           },
           {
            "name": "d1b65fc7debc3361ea86b5f14c68d2e2",
            "count": 1
           },
           {
            "name": "3093 others",
            "count": 3093
           }
          ]
         }
        },
        {
         "name": "seller_city",
         "dtype": "object",
         "stats": {
          "unique_count": 611,
          "nan_count": 0,
          "categories": [
           {
            "name": "sao paulo",
            "count": 694
           },
           {
            "name": "curitiba",
            "count": 127
           },
           {
            "name": "609 others",
            "count": 2274
           }
          ]
         }
        },
        {
         "name": "seller_state",
         "dtype": "object",
         "stats": {
          "unique_count": 23,
          "nan_count": 0,
          "categories": [
           {
            "name": "SP",
            "count": 1849
           },
           {
            "name": "PR",
            "count": 349
           },
           {
            "name": "21 others",
            "count": 897
           }
          ]
         }
        },
        {
         "name": "_deepnote_index_column",
         "dtype": "int64"
        }
       ],
       "rows": [
        {
         "seller_id": "3442f8959a84dea7ee197c632cb2df15",
         "seller_city": "campinas",
         "seller_state": "SP",
         "_deepnote_index_column": 0
        },
        {
         "seller_id": "d1b65fc7debc3361ea86b5f14c68d2e2",
         "seller_city": "mogi guacu",
         "seller_state": "SP",
         "_deepnote_index_column": 1
        },
        {
         "seller_id": "ce3ad9de960102d0677a81f5d0bb7b2d",
         "seller_city": "rio de janeiro",
         "seller_state": "RJ",
         "_deepnote_index_column": 2
        },
        {
         "seller_id": "c0f3eea2e14555b6faeea3dd58c1b1c3",
         "seller_city": "sao paulo",
         "seller_state": "SP",
         "_deepnote_index_column": 3
        },
        {
         "seller_id": "51a04a8a6bdcb23deccc82b0b80742cf",
         "seller_city": "braganca paulista",
         "seller_state": "SP",
         "_deepnote_index_column": 4
        },
        {
         "seller_id": "c240c4061717ac1806ae6ee72be3533b",
         "seller_city": "rio de janeiro",
         "seller_state": "RJ",
         "_deepnote_index_column": 5
        },
        {
         "seller_id": "e49c26c3edfa46d227d5121a6b6e4d37",
         "seller_city": "brejao",
         "seller_state": "PE",
         "_deepnote_index_column": 6
        },
        {
         "seller_id": "1b938a7ec6ac5061a66a3766e0e75f90",
         "seller_city": "penapolis",
         "seller_state": "SP",
         "_deepnote_index_column": 7
        },
        {
         "seller_id": "768a86e36ad6aae3d03ee3c6433d61df",
         "seller_city": "sao paulo",
         "seller_state": "SP",
         "_deepnote_index_column": 8
        },
        {
         "seller_id": "ccc4bbb5f32a6ab2b7066a4130f114e3",
         "seller_city": "curitiba",
         "seller_state": "PR",
         "_deepnote_index_column": 9
        }
       ]
      },
      "text/plain": "                             seller_id        seller_city seller_state\n0     3442f8959a84dea7ee197c632cb2df15           campinas           SP\n1     d1b65fc7debc3361ea86b5f14c68d2e2         mogi guacu           SP\n2     ce3ad9de960102d0677a81f5d0bb7b2d     rio de janeiro           RJ\n3     c0f3eea2e14555b6faeea3dd58c1b1c3          sao paulo           SP\n4     51a04a8a6bdcb23deccc82b0b80742cf  braganca paulista           SP\n...                                ...                ...          ...\n3090  98dddbc4601dd4443ca174359b237166            sarandi           PR\n3091  f8201cab383e484733266d1906e2fdfa            palhoca           SC\n3092  74871d19219c7d518d0090283e03c137          sao paulo           SP\n3093  e603cf3fec55f8697c9059638d6c8eb5            pelotas           RS\n3094  9e25199f6ef7e7c347120ff175652c3b            taubate           SP\n\n[3095 rows x 3 columns]",
      "text/html": "<div>\n<style scoped>\n    .dataframe tbody tr th:only-of-type {\n        vertical-align: middle;\n    }\n\n    .dataframe tbody tr th {\n        vertical-align: top;\n    }\n\n    .dataframe thead th {\n        text-align: right;\n    }\n</style>\n<table border=\"1\" class=\"dataframe\">\n  <thead>\n    <tr style=\"text-align: right;\">\n      <th></th>\n      <th>seller_id</th>\n      <th>seller_city</th>\n      <th>seller_state</th>\n    </tr>\n  </thead>\n  <tbody>\n    <tr>\n      <th>0</th>\n      <td>3442f8959a84dea7ee197c632cb2df15</td>\n      <td>campinas</td>\n      <td>SP</td>\n    </tr>\n    <tr>\n      <th>1</th>\n      <td>d1b65fc7debc3361ea86b5f14c68d2e2</td>\n      <td>mogi guacu</td>\n      <td>SP</td>\n    </tr>\n    <tr>\n      <th>2</th>\n      <td>ce3ad9de960102d0677a81f5d0bb7b2d</td>\n      <td>rio de janeiro</td>\n      <td>RJ</td>\n    </tr>\n    <tr>\n      <th>3</th>\n      <td>c0f3eea2e14555b6faeea3dd58c1b1c3</td>\n      <td>sao paulo</td>\n      <td>SP</td>\n    </tr>\n    <tr>\n      <th>4</th>\n      <td>51a04a8a6bdcb23deccc82b0b80742cf</td>\n      <td>braganca paulista</td>\n      <td>SP</td>\n    </tr>\n    <tr>\n      <th>...</th>\n      <td>...</td>\n      <td>...</td>\n      <td>...</td>\n    </tr>\n    <tr>\n      <th>3090</th>\n      <td>98dddbc4601dd4443ca174359b237166</td>\n      <td>sarandi</td>\n      <td>PR</td>\n    </tr>\n    <tr>\n      <th>3091</th>\n      <td>f8201cab383e484733266d1906e2fdfa</td>\n      <td>palhoca</td>\n      <td>SC</td>\n    </tr>\n    <tr>\n      <th>3092</th>\n      <td>74871d19219c7d518d0090283e03c137</td>\n      <td>sao paulo</td>\n      <td>SP</td>\n    </tr>\n    <tr>\n      <th>3093</th>\n      <td>e603cf3fec55f8697c9059638d6c8eb5</td>\n      <td>pelotas</td>\n      <td>RS</td>\n    </tr>\n    <tr>\n      <th>3094</th>\n      <td>9e25199f6ef7e7c347120ff175652c3b</td>\n      <td>taubate</td>\n      <td>SP</td>\n    </tr>\n  </tbody>\n</table>\n<p>3095 rows × 3 columns</p>\n</div>"
     },
     "metadata": {}
    }
   ]
  },
  {
   "cell_type": "markdown",
   "source": "## Products",
   "metadata": {
    "formattedRanges": [],
    "cell_id": "6a608dfc8b1648cd991e97bd2a61b1d5",
    "tags": [],
    "is_collapsed": false,
    "deepnote_cell_type": "text-cell-h2"
   }
  },
  {
   "cell_type": "code",
   "metadata": {
    "cell_id": "473ac7959d854bccba14bbe2d46d53cf",
    "tags": [],
    "deepnote_to_be_reexecuted": false,
    "source_hash": "dcc8ea91",
    "execution_start": 1650937956718,
    "execution_millis": 255,
    "deepnote_cell_type": "code",
    "deepnote_cell_height": 412
   },
   "source": "products.head()",
   "execution_count": null,
   "outputs": [
    {
     "output_type": "execute_result",
     "execution_count": 22,
     "data": {
      "application/vnd.deepnote.dataframe.v3+json": {
       "column_count": 9,
       "row_count": 5,
       "columns": [
        {
         "name": "product_id",
         "dtype": "object",
         "stats": {
          "unique_count": 5,
          "nan_count": 0,
          "categories": [
           {
            "name": "1e9e8ef04dbcff4541ed26657ea517e5",
            "count": 1
           },
           {
            "name": "3aa071139cb16b67ca9e5dea641aaa2f",
            "count": 1
           },
           {
            "name": "3 others",
            "count": 3
           }
          ]
         }
        },
        {
         "name": "product_category_name",
         "dtype": "object",
         "stats": {
          "unique_count": 5,
          "nan_count": 0,
          "categories": [
           {
            "name": "perfumaria",
            "count": 1
           },
           {
            "name": "artes",
            "count": 1
           },
           {
            "name": "3 others",
            "count": 3
           }
          ]
         }
        },
        {
         "name": "product_name_lenght",
         "dtype": "float64",
         "stats": {
          "unique_count": 5,
          "nan_count": 0,
          "min": "27.0",
          "max": "46.0",
          "histogram": [
           {
            "bin_start": 27,
            "bin_end": 28.9,
            "count": 1
           },
           {
            "bin_start": 28.9,
            "bin_end": 30.8,
            "count": 0
           },
           {
            "bin_start": 30.8,
            "bin_end": 32.7,
            "count": 0
           },
           {
            "bin_start": 32.7,
            "bin_end": 34.6,
            "count": 0
           },
           {
            "bin_start": 34.6,
            "bin_end": 36.5,
            "count": 0
           },
           {
            "bin_start": 36.5,
            "bin_end": 38.4,
            "count": 1
           },
           {
            "bin_start": 38.4,
            "bin_end": 40.3,
            "count": 1
           },
           {
            "bin_start": 40.3,
            "bin_end": 42.2,
            "count": 0
           },
           {
            "bin_start": 42.2,
            "bin_end": 44.099999999999994,
            "count": 1
           },
           {
            "bin_start": 44.099999999999994,
            "bin_end": 46,
            "count": 1
           }
          ]
         }
        },
        {
         "name": "product_description_lenght",
         "dtype": "float64",
         "stats": {
          "unique_count": 5,
          "nan_count": 0,
          "min": "250.0",
          "max": "402.0",
          "histogram": [
           {
            "bin_start": 250,
            "bin_end": 265.2,
            "count": 2
           },
           {
            "bin_start": 265.2,
            "bin_end": 280.4,
            "count": 1
           },
           {
            "bin_start": 280.4,
            "bin_end": 295.6,
            "count": 1
           },
           {
            "bin_start": 295.6,
            "bin_end": 310.8,
            "count": 0
           },
           {
            "bin_start": 310.8,
            "bin_end": 326,
            "count": 0
           },
           {
            "bin_start": 326,
            "bin_end": 341.2,
            "count": 0
           },
           {
            "bin_start": 341.2,
            "bin_end": 356.4,
            "count": 0
           },
           {
            "bin_start": 356.4,
            "bin_end": 371.6,
            "count": 0
           },
           {
            "bin_start": 371.6,
            "bin_end": 386.79999999999995,
            "count": 0
           },
           {
            "bin_start": 386.79999999999995,
            "bin_end": 402,
            "count": 1
           }
          ]
         }
        },
        {
         "name": "product_photos_qty",
         "dtype": "float64",
         "stats": {
          "unique_count": 2,
          "nan_count": 0,
          "min": "1.0",
          "max": "4.0",
          "histogram": [
           {
            "bin_start": 1,
            "bin_end": 1.3,
            "count": 4
           },
           {
            "bin_start": 1.3,
            "bin_end": 1.6,
            "count": 0
           },
           {
            "bin_start": 1.6,
            "bin_end": 1.9,
            "count": 0
           },
           {
            "bin_start": 1.9,
            "bin_end": 2.2,
            "count": 0
           },
           {
            "bin_start": 2.2,
            "bin_end": 2.5,
            "count": 0
           },
           {
            "bin_start": 2.5,
            "bin_end": 2.8,
            "count": 0
           },
           {
            "bin_start": 2.8,
            "bin_end": 3.1,
            "count": 0
           },
           {
            "bin_start": 3.1,
            "bin_end": 3.4,
            "count": 0
           },
           {
            "bin_start": 3.4,
            "bin_end": 3.6999999999999997,
            "count": 0
           },
           {
            "bin_start": 3.6999999999999997,
            "bin_end": 4,
            "count": 1
           }
          ]
         }
        },
        {
         "name": "product_weight_g",
         "dtype": "float64",
         "stats": {
          "unique_count": 5,
          "nan_count": 0,
          "min": "154.0",
          "max": "1000.0",
          "histogram": [
           {
            "bin_start": 154,
            "bin_end": 238.6,
            "count": 2
           },
           {
            "bin_start": 238.6,
            "bin_end": 323.2,
            "count": 0
           },
           {
            "bin_start": 323.2,
            "bin_end": 407.79999999999995,
            "count": 1
           },
           {
            "bin_start": 407.79999999999995,
            "bin_end": 492.4,
            "count": 0
           },
           {
            "bin_start": 492.4,
            "bin_end": 577,
            "count": 0
           },
           {
            "bin_start": 577,
            "bin_end": 661.5999999999999,
            "count": 1
           },
           {
            "bin_start": 661.5999999999999,
            "bin_end": 746.1999999999999,
            "count": 0
           },
           {
            "bin_start": 746.1999999999999,
            "bin_end": 830.8,
            "count": 0
           },
           {
            "bin_start": 830.8,
            "bin_end": 915.4,
            "count": 0
           },
           {
            "bin_start": 915.4,
            "bin_end": 1000,
            "count": 1
           }
          ]
         }
        },
        {
         "name": "product_length_cm",
         "dtype": "float64",
         "stats": {
          "unique_count": 5,
          "nan_count": 0,
          "min": "16.0",
          "max": "30.0",
          "histogram": [
           {
            "bin_start": 16,
            "bin_end": 17.4,
            "count": 1
           },
           {
            "bin_start": 17.4,
            "bin_end": 18.8,
            "count": 1
           },
           {
            "bin_start": 18.8,
            "bin_end": 20.2,
            "count": 1
           },
           {
            "bin_start": 20.2,
            "bin_end": 21.6,
            "count": 0
           },
           {
            "bin_start": 21.6,
            "bin_end": 23,
            "count": 0
           },
           {
            "bin_start": 23,
            "bin_end": 24.4,
            "count": 0
           },
           {
            "bin_start": 24.4,
            "bin_end": 25.799999999999997,
            "count": 0
           },
           {
            "bin_start": 25.799999999999997,
            "bin_end": 27.2,
            "count": 1
           },
           {
            "bin_start": 27.2,
            "bin_end": 28.6,
            "count": 0
           },
           {
            "bin_start": 28.6,
            "bin_end": 30,
            "count": 1
           }
          ]
         }
        },
        {
         "name": "product_height_cm",
         "dtype": "float64",
         "stats": {
          "unique_count": 5,
          "nan_count": 0,
          "min": "4.0",
          "max": "18.0",
          "histogram": [
           {
            "bin_start": 4,
            "bin_end": 5.4,
            "count": 1
           },
           {
            "bin_start": 5.4,
            "bin_end": 6.8,
            "count": 0
           },
           {
            "bin_start": 6.8,
            "bin_end": 8.2,
            "count": 0
           },
           {
            "bin_start": 8.2,
            "bin_end": 9.6,
            "count": 1
           },
           {
            "bin_start": 9.6,
            "bin_end": 11,
            "count": 1
           },
           {
            "bin_start": 11,
            "bin_end": 12.399999999999999,
            "count": 0
           },
           {
            "bin_start": 12.399999999999999,
            "bin_end": 13.799999999999999,
            "count": 0
           },
           {
            "bin_start": 13.799999999999999,
            "bin_end": 15.2,
            "count": 0
           },
           {
            "bin_start": 15.2,
            "bin_end": 16.6,
            "count": 0
           },
           {
            "bin_start": 16.6,
            "bin_end": 18,
            "count": 2
           }
          ]
         }
        },
        {
         "name": "product_width_cm",
         "dtype": "float64",
         "stats": {
          "unique_count": 5,
          "nan_count": 0,
          "min": "13.0",
          "max": "26.0",
          "histogram": [
           {
            "bin_start": 13,
            "bin_end": 14.3,
            "count": 2
           },
           {
            "bin_start": 14.3,
            "bin_end": 15.6,
            "count": 1
           },
           {
            "bin_start": 15.6,
            "bin_end": 16.9,
            "count": 0
           },
           {
            "bin_start": 16.9,
            "bin_end": 18.2,
            "count": 0
           },
           {
            "bin_start": 18.2,
            "bin_end": 19.5,
            "count": 0
           },
           {
            "bin_start": 19.5,
            "bin_end": 20.8,
            "count": 1
           },
           {
            "bin_start": 20.8,
            "bin_end": 22.1,
            "count": 0
           },
           {
            "bin_start": 22.1,
            "bin_end": 23.4,
            "count": 0
           },
           {
            "bin_start": 23.4,
            "bin_end": 24.700000000000003,
            "count": 0
           },
           {
            "bin_start": 24.700000000000003,
            "bin_end": 26,
            "count": 1
           }
          ]
         }
        },
        {
         "name": "_deepnote_index_column",
         "dtype": "int64"
        }
       ],
       "rows": [
        {
         "product_id": "1e9e8ef04dbcff4541ed26657ea517e5",
         "product_category_name": "perfumaria",
         "product_name_lenght": 40,
         "product_description_lenght": 287,
         "product_photos_qty": 1,
         "product_weight_g": 225,
         "product_length_cm": 16,
         "product_height_cm": 10,
         "product_width_cm": 14,
         "_deepnote_index_column": 0
        },
        {
         "product_id": "3aa071139cb16b67ca9e5dea641aaa2f",
         "product_category_name": "artes",
         "product_name_lenght": 44,
         "product_description_lenght": 276,
         "product_photos_qty": 1,
         "product_weight_g": 1000,
         "product_length_cm": 30,
         "product_height_cm": 18,
         "product_width_cm": 20,
         "_deepnote_index_column": 1
        },
        {
         "product_id": "96bd76ec8810374ed1b65e291975717f",
         "product_category_name": "esporte_lazer",
         "product_name_lenght": 46,
         "product_description_lenght": 250,
         "product_photos_qty": 1,
         "product_weight_g": 154,
         "product_length_cm": 18,
         "product_height_cm": 9,
         "product_width_cm": 15,
         "_deepnote_index_column": 2
        },
        {
         "product_id": "cef67bcfe19066a932b7673e239eb23d",
         "product_category_name": "bebes",
         "product_name_lenght": 27,
         "product_description_lenght": 261,
         "product_photos_qty": 1,
         "product_weight_g": 371,
         "product_length_cm": 26,
         "product_height_cm": 4,
         "product_width_cm": 26,
         "_deepnote_index_column": 3
        },
        {
         "product_id": "9dc1a7de274444849c219cff195d0b71",
         "product_category_name": "utilidades_domesticas",
         "product_name_lenght": 37,
         "product_description_lenght": 402,
         "product_photos_qty": 4,
         "product_weight_g": 625,
         "product_length_cm": 20,
         "product_height_cm": 17,
         "product_width_cm": 13,
         "_deepnote_index_column": 4
        }
       ]
      },
      "text/plain": "                         product_id  product_category_name  \\\n0  1e9e8ef04dbcff4541ed26657ea517e5             perfumaria   \n1  3aa071139cb16b67ca9e5dea641aaa2f                  artes   \n2  96bd76ec8810374ed1b65e291975717f          esporte_lazer   \n3  cef67bcfe19066a932b7673e239eb23d                  bebes   \n4  9dc1a7de274444849c219cff195d0b71  utilidades_domesticas   \n\n   product_name_lenght  product_description_lenght  product_photos_qty  \\\n0                 40.0                       287.0                 1.0   \n1                 44.0                       276.0                 1.0   \n2                 46.0                       250.0                 1.0   \n3                 27.0                       261.0                 1.0   \n4                 37.0                       402.0                 4.0   \n\n   product_weight_g  product_length_cm  product_height_cm  product_width_cm  \n0             225.0               16.0               10.0              14.0  \n1            1000.0               30.0               18.0              20.0  \n2             154.0               18.0                9.0              15.0  \n3             371.0               26.0                4.0              26.0  \n4             625.0               20.0               17.0              13.0  ",
      "text/html": "<div>\n<style scoped>\n    .dataframe tbody tr th:only-of-type {\n        vertical-align: middle;\n    }\n\n    .dataframe tbody tr th {\n        vertical-align: top;\n    }\n\n    .dataframe thead th {\n        text-align: right;\n    }\n</style>\n<table border=\"1\" class=\"dataframe\">\n  <thead>\n    <tr style=\"text-align: right;\">\n      <th></th>\n      <th>product_id</th>\n      <th>product_category_name</th>\n      <th>product_name_lenght</th>\n      <th>product_description_lenght</th>\n      <th>product_photos_qty</th>\n      <th>product_weight_g</th>\n      <th>product_length_cm</th>\n      <th>product_height_cm</th>\n      <th>product_width_cm</th>\n    </tr>\n  </thead>\n  <tbody>\n    <tr>\n      <th>0</th>\n      <td>1e9e8ef04dbcff4541ed26657ea517e5</td>\n      <td>perfumaria</td>\n      <td>40.0</td>\n      <td>287.0</td>\n      <td>1.0</td>\n      <td>225.0</td>\n      <td>16.0</td>\n      <td>10.0</td>\n      <td>14.0</td>\n    </tr>\n    <tr>\n      <th>1</th>\n      <td>3aa071139cb16b67ca9e5dea641aaa2f</td>\n      <td>artes</td>\n      <td>44.0</td>\n      <td>276.0</td>\n      <td>1.0</td>\n      <td>1000.0</td>\n      <td>30.0</td>\n      <td>18.0</td>\n      <td>20.0</td>\n    </tr>\n    <tr>\n      <th>2</th>\n      <td>96bd76ec8810374ed1b65e291975717f</td>\n      <td>esporte_lazer</td>\n      <td>46.0</td>\n      <td>250.0</td>\n      <td>1.0</td>\n      <td>154.0</td>\n      <td>18.0</td>\n      <td>9.0</td>\n      <td>15.0</td>\n    </tr>\n    <tr>\n      <th>3</th>\n      <td>cef67bcfe19066a932b7673e239eb23d</td>\n      <td>bebes</td>\n      <td>27.0</td>\n      <td>261.0</td>\n      <td>1.0</td>\n      <td>371.0</td>\n      <td>26.0</td>\n      <td>4.0</td>\n      <td>26.0</td>\n    </tr>\n    <tr>\n      <th>4</th>\n      <td>9dc1a7de274444849c219cff195d0b71</td>\n      <td>utilidades_domesticas</td>\n      <td>37.0</td>\n      <td>402.0</td>\n      <td>4.0</td>\n      <td>625.0</td>\n      <td>20.0</td>\n      <td>17.0</td>\n      <td>13.0</td>\n    </tr>\n  </tbody>\n</table>\n</div>"
     },
     "metadata": {}
    }
   ]
  },
  {
   "cell_type": "code",
   "metadata": {
    "cell_id": "0c6ade45fee54b41ab1e8a645e28d258",
    "tags": [],
    "deepnote_to_be_reexecuted": false,
    "source_hash": "78de3d6d",
    "execution_start": 1650937956768,
    "execution_millis": 206,
    "deepnote_cell_type": "code",
    "deepnote_cell_height": 118
   },
   "source": "products.shape",
   "execution_count": null,
   "outputs": [
    {
     "output_type": "execute_result",
     "execution_count": 23,
     "data": {
      "text/plain": "(32951, 9)"
     },
     "metadata": {}
    }
   ]
  },
  {
   "cell_type": "code",
   "metadata": {
    "cell_id": "0d7392427bcc4c9886ea54464d704f58",
    "tags": [],
    "deepnote_to_be_reexecuted": false,
    "source_hash": "4eba0eb3",
    "execution_start": 1650937956769,
    "execution_millis": 205,
    "deepnote_cell_type": "code",
    "deepnote_cell_height": 415
   },
   "source": "products.info()",
   "execution_count": null,
   "outputs": [
    {
     "name": "stdout",
     "text": "<class 'pandas.core.frame.DataFrame'>\nRangeIndex: 32951 entries, 0 to 32950\nData columns (total 9 columns):\n #   Column                      Non-Null Count  Dtype  \n---  ------                      --------------  -----  \n 0   product_id                  32951 non-null  object \n 1   product_category_name       32341 non-null  object \n 2   product_name_lenght         32341 non-null  float64\n 3   product_description_lenght  32341 non-null  float64\n 4   product_photos_qty          32341 non-null  float64\n 5   product_weight_g            32949 non-null  float64\n 6   product_length_cm           32949 non-null  float64\n 7   product_height_cm           32949 non-null  float64\n 8   product_width_cm            32949 non-null  float64\ndtypes: float64(7), object(2)\nmemory usage: 2.3+ MB\n",
     "output_type": "stream"
    }
   ]
  },
  {
   "cell_type": "code",
   "metadata": {
    "cell_id": "d1943b3e3c234eb391a39a09168c9a9b",
    "tags": [],
    "deepnote_to_be_reexecuted": false,
    "source_hash": "32ba39c",
    "execution_start": 1650937956771,
    "execution_millis": 203,
    "deepnote_cell_type": "code",
    "deepnote_cell_height": 327
   },
   "source": "products['product_height_cm'].value_counts()",
   "execution_count": null,
   "outputs": [
    {
     "output_type": "execute_result",
     "execution_count": 25,
     "data": {
      "text/plain": "10.0    2548\n15.0    2022\n20.0    1991\n16.0    1595\n11.0    1551\n        ... \n98.0       2\n97.0       2\n99.0       1\n94.0       1\n89.0       1\nName: product_height_cm, Length: 102, dtype: int64"
     },
     "metadata": {}
    }
   ]
  },
  {
   "cell_type": "code",
   "metadata": {
    "cell_id": "0425b4d205e2498e82cf01a9acadf4a2",
    "tags": [],
    "deepnote_to_be_reexecuted": false,
    "source_hash": "29aee772",
    "execution_start": 1650937956773,
    "execution_millis": 202,
    "deepnote_cell_type": "code",
    "deepnote_cell_height": 289
   },
   "source": "products.convert_dtypes().dtypes",
   "execution_count": null,
   "outputs": [
    {
     "output_type": "execute_result",
     "execution_count": 26,
     "data": {
      "text/plain": "product_id                    string\nproduct_category_name         string\nproduct_name_lenght            Int64\nproduct_description_lenght     Int64\nproduct_photos_qty             Int64\nproduct_weight_g               Int64\nproduct_length_cm              Int64\nproduct_height_cm              Int64\nproduct_width_cm               Int64\ndtype: object"
     },
     "metadata": {}
    }
   ]
  },
  {
   "cell_type": "code",
   "metadata": {
    "cell_id": "c6e548319f414d5f9e8ba3fd0bdca993",
    "tags": [],
    "deepnote_to_be_reexecuted": false,
    "source_hash": "6d63a87d",
    "execution_start": 1650937956792,
    "execution_millis": 184,
    "deepnote_cell_type": "code",
    "deepnote_cell_height": 535
   },
   "source": "products.describe()",
   "execution_count": null,
   "outputs": [
    {
     "output_type": "execute_result",
     "execution_count": 27,
     "data": {
      "application/vnd.deepnote.dataframe.v3+json": {
       "column_count": 7,
       "row_count": 8,
       "columns": [
        {
         "name": "product_name_lenght",
         "dtype": "float64",
         "stats": {
          "unique_count": 8,
          "nan_count": 0,
          "min": "5.0",
          "max": "32341.0",
          "histogram": [
           {
            "bin_start": 5,
            "bin_end": 3238.6,
            "count": 7
           },
           {
            "bin_start": 3238.6,
            "bin_end": 6472.2,
            "count": 0
           },
           {
            "bin_start": 6472.2,
            "bin_end": 9705.8,
            "count": 0
           },
           {
            "bin_start": 9705.8,
            "bin_end": 12939.4,
            "count": 0
           },
           {
            "bin_start": 12939.4,
            "bin_end": 16173,
            "count": 0
           },
           {
            "bin_start": 16173,
            "bin_end": 19406.6,
            "count": 0
           },
           {
            "bin_start": 19406.6,
            "bin_end": 22640.2,
            "count": 0
           },
           {
            "bin_start": 22640.2,
            "bin_end": 25873.8,
            "count": 0
           },
           {
            "bin_start": 25873.8,
            "bin_end": 29107.399999999998,
            "count": 0
           },
           {
            "bin_start": 29107.399999999998,
            "bin_end": 32341,
            "count": 1
           }
          ]
         }
        },
        {
         "name": "product_description_lenght",
         "dtype": "float64",
         "stats": {
          "unique_count": 8,
          "nan_count": 0,
          "min": "4.0",
          "max": "32341.0",
          "histogram": [
           {
            "bin_start": 4,
            "bin_end": 3237.7,
            "count": 6
           },
           {
            "bin_start": 3237.7,
            "bin_end": 6471.4,
            "count": 1
           },
           {
            "bin_start": 6471.4,
            "bin_end": 9705.099999999999,
            "count": 0
           },
           {
            "bin_start": 9705.099999999999,
            "bin_end": 12938.8,
            "count": 0
           },
           {
            "bin_start": 12938.8,
            "bin_end": 16172.5,
            "count": 0
           },
           {
            "bin_start": 16172.5,
            "bin_end": 19406.199999999997,
            "count": 0
           },
           {
            "bin_start": 19406.199999999997,
            "bin_end": 22639.899999999998,
            "count": 0
           },
           {
            "bin_start": 22639.899999999998,
            "bin_end": 25873.6,
            "count": 0
           },
           {
            "bin_start": 25873.6,
            "bin_end": 29107.3,
            "count": 0
           },
           {
            "bin_start": 29107.3,
            "bin_end": 32341,
            "count": 1
           }
          ]
         }
        },
        {
         "name": "product_photos_qty",
         "dtype": "float64",
         "stats": {
          "unique_count": 6,
          "nan_count": 0,
          "min": "1.0",
          "max": "32341.0",
          "histogram": [
           {
            "bin_start": 1,
            "bin_end": 3235,
            "count": 7
           },
           {
            "bin_start": 3235,
            "bin_end": 6469,
            "count": 0
           },
           {
            "bin_start": 6469,
            "bin_end": 9703,
            "count": 0
           },
           {
            "bin_start": 9703,
            "bin_end": 12937,
            "count": 0
           },
           {
            "bin_start": 12937,
            "bin_end": 16171,
            "count": 0
           },
           {
            "bin_start": 16171,
            "bin_end": 19405,
            "count": 0
           },
           {
            "bin_start": 19405,
            "bin_end": 22639,
            "count": 0
           },
           {
            "bin_start": 22639,
            "bin_end": 25873,
            "count": 0
           },
           {
            "bin_start": 25873,
            "bin_end": 29107,
            "count": 0
           },
           {
            "bin_start": 29107,
            "bin_end": 32341,
            "count": 1
           }
          ]
         }
        },
        {
         "name": "product_weight_g",
         "dtype": "float64",
         "stats": {
          "unique_count": 8,
          "nan_count": 0,
          "min": "0.0",
          "max": "40425.0",
          "histogram": [
           {
            "bin_start": 0,
            "bin_end": 4042.5,
            "count": 5
           },
           {
            "bin_start": 4042.5,
            "bin_end": 8085,
            "count": 1
           },
           {
            "bin_start": 8085,
            "bin_end": 12127.5,
            "count": 0
           },
           {
            "bin_start": 12127.5,
            "bin_end": 16170,
            "count": 0
           },
           {
            "bin_start": 16170,
            "bin_end": 20212.5,
            "count": 0
           },
           {
            "bin_start": 20212.5,
            "bin_end": 24255,
            "count": 0
           },
           {
            "bin_start": 24255,
            "bin_end": 28297.5,
            "count": 0
           },
           {
            "bin_start": 28297.5,
            "bin_end": 32340,
            "count": 0
           },
           {
            "bin_start": 32340,
            "bin_end": 36382.5,
            "count": 1
           },
           {
            "bin_start": 36382.5,
            "bin_end": 40425,
            "count": 1
           }
          ]
         }
        },
        {
         "name": "product_length_cm",
         "dtype": "float64",
         "stats": {
          "unique_count": 8,
          "nan_count": 0,
          "min": "7.0",
          "max": "32949.0",
          "histogram": [
           {
            "bin_start": 7,
            "bin_end": 3301.2,
            "count": 7
           },
           {
            "bin_start": 3301.2,
            "bin_end": 6595.4,
            "count": 0
           },
           {
            "bin_start": 6595.4,
            "bin_end": 9889.599999999999,
            "count": 0
           },
           {
            "bin_start": 9889.599999999999,
            "bin_end": 13183.8,
            "count": 0
           },
           {
            "bin_start": 13183.8,
            "bin_end": 16478,
            "count": 0
           },
           {
            "bin_start": 16478,
            "bin_end": 19772.199999999997,
            "count": 0
           },
           {
            "bin_start": 19772.199999999997,
            "bin_end": 23066.399999999998,
            "count": 0
           },
           {
            "bin_start": 23066.399999999998,
            "bin_end": 26360.6,
            "count": 0
           },
           {
            "bin_start": 26360.6,
            "bin_end": 29654.8,
            "count": 0
           },
           {
            "bin_start": 29654.8,
            "bin_end": 32949,
            "count": 1
           }
          ]
         }
        },
        {
         "name": "product_height_cm",
         "dtype": "float64",
         "stats": {
          "unique_count": 8,
          "nan_count": 0,
          "min": "2.0",
          "max": "32949.0",
          "histogram": [
           {
            "bin_start": 2,
            "bin_end": 3296.7,
            "count": 7
           },
           {
            "bin_start": 3296.7,
            "bin_end": 6591.4,
            "count": 0
           },
           {
            "bin_start": 6591.4,
            "bin_end": 9886.099999999999,
            "count": 0
           },
           {
            "bin_start": 9886.099999999999,
            "bin_end": 13180.8,
            "count": 0
           },
           {
            "bin_start": 13180.8,
            "bin_end": 16475.5,
            "count": 0
           },
           {
            "bin_start": 16475.5,
            "bin_end": 19770.199999999997,
            "count": 0
           },
           {
            "bin_start": 19770.199999999997,
            "bin_end": 23064.899999999998,
            "count": 0
           },
           {
            "bin_start": 23064.899999999998,
            "bin_end": 26359.6,
            "count": 0
           },
           {
            "bin_start": 26359.6,
            "bin_end": 29654.3,
            "count": 0
           },
           {
            "bin_start": 29654.3,
            "bin_end": 32949,
            "count": 1
           }
          ]
         }
        },
        {
         "name": "product_width_cm",
         "dtype": "float64",
         "stats": {
          "unique_count": 8,
          "nan_count": 0,
          "min": "6.0",
          "max": "32949.0",
          "histogram": [
           {
            "bin_start": 6,
            "bin_end": 3300.3,
            "count": 7
           },
           {
            "bin_start": 3300.3,
            "bin_end": 6594.6,
            "count": 0
           },
           {
            "bin_start": 6594.6,
            "bin_end": 9888.900000000001,
            "count": 0
           },
           {
            "bin_start": 9888.900000000001,
            "bin_end": 13183.2,
            "count": 0
           },
           {
            "bin_start": 13183.2,
            "bin_end": 16477.5,
            "count": 0
           },
           {
            "bin_start": 16477.5,
            "bin_end": 19771.800000000003,
            "count": 0
           },
           {
            "bin_start": 19771.800000000003,
            "bin_end": 23066.100000000002,
            "count": 0
           },
           {
            "bin_start": 23066.100000000002,
            "bin_end": 26360.4,
            "count": 0
           },
           {
            "bin_start": 26360.4,
            "bin_end": 29654.7,
            "count": 0
           },
           {
            "bin_start": 29654.7,
            "bin_end": 32949,
            "count": 1
           }
          ]
         }
        },
        {
         "name": "_deepnote_index_column",
         "dtype": "object"
        }
       ],
       "rows": [
        {
         "product_name_lenght": 32341,
         "product_description_lenght": 32341,
         "product_photos_qty": 32341,
         "product_weight_g": 32949,
         "product_length_cm": 32949,
         "product_height_cm": 32949,
         "product_width_cm": 32949,
         "_deepnote_index_column": "count"
        },
        {
         "product_name_lenght": 48.47694876472589,
         "product_description_lenght": 771.4952846232337,
         "product_photos_qty": 2.1889861166939797,
         "product_weight_g": 2276.4724877841513,
         "product_length_cm": 30.81507784758263,
         "product_height_cm": 16.937661234028347,
         "product_width_cm": 23.196728277034204,
         "_deepnote_index_column": "mean"
        },
        {
         "product_name_lenght": 10.245740725237239,
         "product_description_lenght": 635.1152246349538,
         "product_photos_qty": 1.7367656379315444,
         "product_weight_g": 4282.038730977007,
         "product_length_cm": 16.914458054065967,
         "product_height_cm": 13.637554061749494,
         "product_width_cm": 12.079047453227835,
         "_deepnote_index_column": "std"
        },
        {
         "product_name_lenght": 5,
         "product_description_lenght": 4,
         "product_photos_qty": 1,
         "product_weight_g": 0,
         "product_length_cm": 7,
         "product_height_cm": 2,
         "product_width_cm": 6,
         "_deepnote_index_column": "min"
        },
        {
         "product_name_lenght": 42,
         "product_description_lenght": 339,
         "product_photos_qty": 1,
         "product_weight_g": 300,
         "product_length_cm": 18,
         "product_height_cm": 8,
         "product_width_cm": 15,
         "_deepnote_index_column": "25%"
        },
        {
         "product_name_lenght": 51,
         "product_description_lenght": 595,
         "product_photos_qty": 1,
         "product_weight_g": 700,
         "product_length_cm": 25,
         "product_height_cm": 13,
         "product_width_cm": 20,
         "_deepnote_index_column": "50%"
        },
        {
         "product_name_lenght": 57,
         "product_description_lenght": 972,
         "product_photos_qty": 3,
         "product_weight_g": 1900,
         "product_length_cm": 38,
         "product_height_cm": 21,
         "product_width_cm": 30,
         "_deepnote_index_column": "75%"
        },
        {
         "product_name_lenght": 76,
         "product_description_lenght": 3992,
         "product_photos_qty": 20,
         "product_weight_g": 40425,
         "product_length_cm": 105,
         "product_height_cm": 105,
         "product_width_cm": 118,
         "_deepnote_index_column": "max"
        }
       ]
      },
      "text/plain": "       product_name_lenght  product_description_lenght  product_photos_qty  \\\ncount         32341.000000                32341.000000        32341.000000   \nmean             48.476949                  771.495285            2.188986   \nstd              10.245741                  635.115225            1.736766   \nmin               5.000000                    4.000000            1.000000   \n25%              42.000000                  339.000000            1.000000   \n50%              51.000000                  595.000000            1.000000   \n75%              57.000000                  972.000000            3.000000   \nmax              76.000000                 3992.000000           20.000000   \n\n       product_weight_g  product_length_cm  product_height_cm  \\\ncount      32949.000000       32949.000000       32949.000000   \nmean        2276.472488          30.815078          16.937661   \nstd         4282.038731          16.914458          13.637554   \nmin            0.000000           7.000000           2.000000   \n25%          300.000000          18.000000           8.000000   \n50%          700.000000          25.000000          13.000000   \n75%         1900.000000          38.000000          21.000000   \nmax        40425.000000         105.000000         105.000000   \n\n       product_width_cm  \ncount      32949.000000  \nmean          23.196728  \nstd           12.079047  \nmin            6.000000  \n25%           15.000000  \n50%           20.000000  \n75%           30.000000  \nmax          118.000000  ",
      "text/html": "<div>\n<style scoped>\n    .dataframe tbody tr th:only-of-type {\n        vertical-align: middle;\n    }\n\n    .dataframe tbody tr th {\n        vertical-align: top;\n    }\n\n    .dataframe thead th {\n        text-align: right;\n    }\n</style>\n<table border=\"1\" class=\"dataframe\">\n  <thead>\n    <tr style=\"text-align: right;\">\n      <th></th>\n      <th>product_name_lenght</th>\n      <th>product_description_lenght</th>\n      <th>product_photos_qty</th>\n      <th>product_weight_g</th>\n      <th>product_length_cm</th>\n      <th>product_height_cm</th>\n      <th>product_width_cm</th>\n    </tr>\n  </thead>\n  <tbody>\n    <tr>\n      <th>count</th>\n      <td>32341.000000</td>\n      <td>32341.000000</td>\n      <td>32341.000000</td>\n      <td>32949.000000</td>\n      <td>32949.000000</td>\n      <td>32949.000000</td>\n      <td>32949.000000</td>\n    </tr>\n    <tr>\n      <th>mean</th>\n      <td>48.476949</td>\n      <td>771.495285</td>\n      <td>2.188986</td>\n      <td>2276.472488</td>\n      <td>30.815078</td>\n      <td>16.937661</td>\n      <td>23.196728</td>\n    </tr>\n    <tr>\n      <th>std</th>\n      <td>10.245741</td>\n      <td>635.115225</td>\n      <td>1.736766</td>\n      <td>4282.038731</td>\n      <td>16.914458</td>\n      <td>13.637554</td>\n      <td>12.079047</td>\n    </tr>\n    <tr>\n      <th>min</th>\n      <td>5.000000</td>\n      <td>4.000000</td>\n      <td>1.000000</td>\n      <td>0.000000</td>\n      <td>7.000000</td>\n      <td>2.000000</td>\n      <td>6.000000</td>\n    </tr>\n    <tr>\n      <th>25%</th>\n      <td>42.000000</td>\n      <td>339.000000</td>\n      <td>1.000000</td>\n      <td>300.000000</td>\n      <td>18.000000</td>\n      <td>8.000000</td>\n      <td>15.000000</td>\n    </tr>\n    <tr>\n      <th>50%</th>\n      <td>51.000000</td>\n      <td>595.000000</td>\n      <td>1.000000</td>\n      <td>700.000000</td>\n      <td>25.000000</td>\n      <td>13.000000</td>\n      <td>20.000000</td>\n    </tr>\n    <tr>\n      <th>75%</th>\n      <td>57.000000</td>\n      <td>972.000000</td>\n      <td>3.000000</td>\n      <td>1900.000000</td>\n      <td>38.000000</td>\n      <td>21.000000</td>\n      <td>30.000000</td>\n    </tr>\n    <tr>\n      <th>max</th>\n      <td>76.000000</td>\n      <td>3992.000000</td>\n      <td>20.000000</td>\n      <td>40425.000000</td>\n      <td>105.000000</td>\n      <td>105.000000</td>\n      <td>118.000000</td>\n    </tr>\n  </tbody>\n</table>\n</div>"
     },
     "metadata": {}
    }
   ]
  },
  {
   "cell_type": "markdown",
   "source": "## Customers",
   "metadata": {
    "formattedRanges": [],
    "cell_id": "ac1fc8c1ffc44d1a96717b8e924c3bcb",
    "tags": [],
    "is_collapsed": false,
    "deepnote_cell_type": "text-cell-h2"
   }
  },
  {
   "cell_type": "code",
   "metadata": {
    "cell_id": "94caf8bd54324145b130f15e3608a327",
    "tags": [],
    "deepnote_to_be_reexecuted": false,
    "source_hash": "62590b01",
    "execution_start": 1650937956864,
    "execution_millis": 112,
    "deepnote_cell_type": "code",
    "deepnote_cell_height": 412
   },
   "source": "customers.head()",
   "execution_count": null,
   "outputs": [
    {
     "output_type": "execute_result",
     "execution_count": 28,
     "data": {
      "application/vnd.deepnote.dataframe.v3+json": {
       "column_count": 5,
       "row_count": 5,
       "columns": [
        {
         "name": "customer_id",
         "dtype": "object",
         "stats": {
          "unique_count": 5,
          "nan_count": 0,
          "categories": [
           {
            "name": "06b8999e2fba1a1fbc88172c00ba8bc7",
            "count": 1
           },
           {
            "name": "18955e83d337fd6b2def6b18a428ac77",
            "count": 1
           },
           {
            "name": "3 others",
            "count": 3
           }
          ]
         }
        },
        {
         "name": "customer_unique_id",
         "dtype": "object",
         "stats": {
          "unique_count": 5,
          "nan_count": 0,
          "categories": [
           {
            "name": "861eff4711a542e4b93843c6dd7febb0",
            "count": 1
           },
           {
            "name": "290c77bc529b7ac935b93aa66c333dc3",
            "count": 1
           },
           {
            "name": "3 others",
            "count": 3
           }
          ]
         }
        },
        {
         "name": "customer_zip_code_prefix",
         "dtype": "int64",
         "stats": {
          "unique_count": 5,
          "nan_count": 0,
          "min": "1151",
          "max": "14409",
          "histogram": [
           {
            "bin_start": 1151,
            "bin_end": 2476.8,
            "count": 1
           },
           {
            "bin_start": 2476.8,
            "bin_end": 3802.6,
            "count": 0
           },
           {
            "bin_start": 3802.6,
            "bin_end": 5128.4,
            "count": 0
           },
           {
            "bin_start": 5128.4,
            "bin_end": 6454.2,
            "count": 0
           },
           {
            "bin_start": 6454.2,
            "bin_end": 7780,
            "count": 0
           },
           {
            "bin_start": 7780,
            "bin_end": 9105.8,
            "count": 1
           },
           {
            "bin_start": 9105.8,
            "bin_end": 10431.6,
            "count": 1
           },
           {
            "bin_start": 10431.6,
            "bin_end": 11757.4,
            "count": 0
           },
           {
            "bin_start": 11757.4,
            "bin_end": 13083.199999999999,
            "count": 1
           },
           {
            "bin_start": 13083.199999999999,
            "bin_end": 14409,
            "count": 1
           }
          ]
         }
        },
        {
         "name": "customer_city",
         "dtype": "object",
         "stats": {
          "unique_count": 5,
          "nan_count": 0,
          "categories": [
           {
            "name": "franca",
            "count": 1
           },
           {
            "name": "sao bernardo do campo",
            "count": 1
           },
           {
            "name": "3 others",
            "count": 3
           }
          ]
         }
        },
        {
         "name": "customer_state",
         "dtype": "object",
         "stats": {
          "unique_count": 1,
          "nan_count": 0,
          "categories": [
           {
            "name": "SP",
            "count": 5
           }
          ]
         }
        },
        {
         "name": "_deepnote_index_column",
         "dtype": "int64"
        }
       ],
       "rows": [
        {
         "customer_id": "06b8999e2fba1a1fbc88172c00ba8bc7",
         "customer_unique_id": "861eff4711a542e4b93843c6dd7febb0",
         "customer_zip_code_prefix": 14409,
         "customer_city": "franca",
         "customer_state": "SP",
         "_deepnote_index_column": 0
        },
        {
         "customer_id": "18955e83d337fd6b2def6b18a428ac77",
         "customer_unique_id": "290c77bc529b7ac935b93aa66c333dc3",
         "customer_zip_code_prefix": 9790,
         "customer_city": "sao bernardo do campo",
         "customer_state": "SP",
         "_deepnote_index_column": 1
        },
        {
         "customer_id": "4e7b3e00288586ebd08712fdd0374a03",
         "customer_unique_id": "060e732b5b29e8181a18229c7b0b2b5e",
         "customer_zip_code_prefix": 1151,
         "customer_city": "sao paulo",
         "customer_state": "SP",
         "_deepnote_index_column": 2
        },
        {
         "customer_id": "b2b6027bc5c5109e529d4dc6358b12c3",
         "customer_unique_id": "259dac757896d24d7702b9acbbff3f3c",
         "customer_zip_code_prefix": 8775,
         "customer_city": "mogi das cruzes",
         "customer_state": "SP",
         "_deepnote_index_column": 3
        },
        {
         "customer_id": "4f2d8ab171c80ec8364f7c12e35b23ad",
         "customer_unique_id": "345ecd01c38d18a9036ed96c73b8d066",
         "customer_zip_code_prefix": 13056,
         "customer_city": "campinas",
         "customer_state": "SP",
         "_deepnote_index_column": 4
        }
       ]
      },
      "text/plain": "                        customer_id                customer_unique_id  \\\n0  06b8999e2fba1a1fbc88172c00ba8bc7  861eff4711a542e4b93843c6dd7febb0   \n1  18955e83d337fd6b2def6b18a428ac77  290c77bc529b7ac935b93aa66c333dc3   \n2  4e7b3e00288586ebd08712fdd0374a03  060e732b5b29e8181a18229c7b0b2b5e   \n3  b2b6027bc5c5109e529d4dc6358b12c3  259dac757896d24d7702b9acbbff3f3c   \n4  4f2d8ab171c80ec8364f7c12e35b23ad  345ecd01c38d18a9036ed96c73b8d066   \n\n   customer_zip_code_prefix          customer_city customer_state  \n0                     14409                 franca             SP  \n1                      9790  sao bernardo do campo             SP  \n2                      1151              sao paulo             SP  \n3                      8775        mogi das cruzes             SP  \n4                     13056               campinas             SP  ",
      "text/html": "<div>\n<style scoped>\n    .dataframe tbody tr th:only-of-type {\n        vertical-align: middle;\n    }\n\n    .dataframe tbody tr th {\n        vertical-align: top;\n    }\n\n    .dataframe thead th {\n        text-align: right;\n    }\n</style>\n<table border=\"1\" class=\"dataframe\">\n  <thead>\n    <tr style=\"text-align: right;\">\n      <th></th>\n      <th>customer_id</th>\n      <th>customer_unique_id</th>\n      <th>customer_zip_code_prefix</th>\n      <th>customer_city</th>\n      <th>customer_state</th>\n    </tr>\n  </thead>\n  <tbody>\n    <tr>\n      <th>0</th>\n      <td>06b8999e2fba1a1fbc88172c00ba8bc7</td>\n      <td>861eff4711a542e4b93843c6dd7febb0</td>\n      <td>14409</td>\n      <td>franca</td>\n      <td>SP</td>\n    </tr>\n    <tr>\n      <th>1</th>\n      <td>18955e83d337fd6b2def6b18a428ac77</td>\n      <td>290c77bc529b7ac935b93aa66c333dc3</td>\n      <td>9790</td>\n      <td>sao bernardo do campo</td>\n      <td>SP</td>\n    </tr>\n    <tr>\n      <th>2</th>\n      <td>4e7b3e00288586ebd08712fdd0374a03</td>\n      <td>060e732b5b29e8181a18229c7b0b2b5e</td>\n      <td>1151</td>\n      <td>sao paulo</td>\n      <td>SP</td>\n    </tr>\n    <tr>\n      <th>3</th>\n      <td>b2b6027bc5c5109e529d4dc6358b12c3</td>\n      <td>259dac757896d24d7702b9acbbff3f3c</td>\n      <td>8775</td>\n      <td>mogi das cruzes</td>\n      <td>SP</td>\n    </tr>\n    <tr>\n      <th>4</th>\n      <td>4f2d8ab171c80ec8364f7c12e35b23ad</td>\n      <td>345ecd01c38d18a9036ed96c73b8d066</td>\n      <td>13056</td>\n      <td>campinas</td>\n      <td>SP</td>\n    </tr>\n  </tbody>\n</table>\n</div>"
     },
     "metadata": {}
    }
   ]
  },
  {
   "cell_type": "code",
   "metadata": {
    "cell_id": "ccf10d71d9764f2f8fe3240f40664d52",
    "tags": [],
    "deepnote_to_be_reexecuted": false,
    "source_hash": "f580358a",
    "execution_start": 1650937956921,
    "execution_millis": 0,
    "deepnote_cell_type": "code",
    "deepnote_cell_height": 118
   },
   "source": "customers.shape",
   "execution_count": null,
   "outputs": [
    {
     "output_type": "execute_result",
     "execution_count": 29,
     "data": {
      "text/plain": "(99441, 5)"
     },
     "metadata": {}
    }
   ]
  },
  {
   "cell_type": "code",
   "metadata": {
    "cell_id": "0fe8b35687764e27addd6acd79ac5b8d",
    "tags": [],
    "deepnote_to_be_reexecuted": false,
    "source_hash": "9a59c4e8",
    "execution_start": 1650937956923,
    "execution_millis": 55,
    "deepnote_cell_type": "code",
    "deepnote_cell_height": 334.25
   },
   "source": "customers.info()",
   "execution_count": null,
   "outputs": [
    {
     "name": "stdout",
     "text": "<class 'pandas.core.frame.DataFrame'>\nRangeIndex: 99441 entries, 0 to 99440\nData columns (total 5 columns):\n #   Column                    Non-Null Count  Dtype \n---  ------                    --------------  ----- \n 0   customer_id               99441 non-null  object\n 1   customer_unique_id        99441 non-null  object\n 2   customer_zip_code_prefix  99441 non-null  int64 \n 3   customer_city             99441 non-null  object\n 4   customer_state            99441 non-null  object\ndtypes: int64(1), object(4)\nmemory usage: 3.8+ MB\n",
     "output_type": "stream"
    }
   ]
  },
  {
   "cell_type": "code",
   "metadata": {
    "cell_id": "c1105725f410482080f81b68ae4aaac2",
    "tags": [],
    "deepnote_to_be_reexecuted": false,
    "source_hash": "aa4be52c",
    "execution_start": 1650937956925,
    "execution_millis": 54,
    "deepnote_cell_type": "code",
    "deepnote_cell_height": 213
   },
   "source": "customers.dtypes",
   "execution_count": null,
   "outputs": [
    {
     "output_type": "execute_result",
     "execution_count": 31,
     "data": {
      "text/plain": "customer_id                 object\ncustomer_unique_id          object\ncustomer_zip_code_prefix     int64\ncustomer_city               object\ncustomer_state              object\ndtype: object"
     },
     "metadata": {}
    }
   ]
  },
  {
   "cell_type": "code",
   "metadata": {
    "cell_id": "6f291e8375c441038ec89940acbb7314",
    "tags": [],
    "deepnote_to_be_reexecuted": false,
    "source_hash": "7d2335f8",
    "execution_start": 1650937956966,
    "execution_millis": 23,
    "deepnote_cell_type": "code",
    "deepnote_cell_height": 213
   },
   "source": "customers.convert_dtypes().dtypes",
   "execution_count": null,
   "outputs": [
    {
     "output_type": "execute_result",
     "execution_count": 32,
     "data": {
      "text/plain": "customer_id                 string\ncustomer_unique_id          string\ncustomer_zip_code_prefix     Int64\ncustomer_city               string\ncustomer_state              string\ndtype: object"
     },
     "metadata": {}
    }
   ]
  },
  {
   "cell_type": "code",
   "metadata": {
    "cell_id": "87f5af9248144f238c5d912ad49577a4",
    "tags": [],
    "deepnote_to_be_reexecuted": false,
    "source_hash": "9b150103",
    "execution_start": 1650937956987,
    "execution_millis": 3,
    "deepnote_cell_type": "code",
    "deepnote_cell_height": 194
   },
   "source": "list(customers)",
   "execution_count": null,
   "outputs": [
    {
     "output_type": "execute_result",
     "execution_count": 33,
     "data": {
      "text/plain": "['customer_id',\n 'customer_unique_id',\n 'customer_zip_code_prefix',\n 'customer_city',\n 'customer_state']"
     },
     "metadata": {}
    }
   ]
  },
  {
   "cell_type": "markdown",
   "source": "## Geolocation",
   "metadata": {
    "formattedRanges": [],
    "cell_id": "a9b3e399eb5f4770bc372fe8d65c203d",
    "tags": [],
    "is_collapsed": false,
    "deepnote_cell_type": "text-cell-h2"
   }
  },
  {
   "cell_type": "code",
   "metadata": {
    "cell_id": "cda1efe8d6d148689fb1cee2667201d1",
    "tags": [],
    "deepnote_to_be_reexecuted": false,
    "source_hash": "81165f3d",
    "execution_start": 1650937956998,
    "execution_millis": 6,
    "deepnote_table_state": {
     "pageSize": 100,
     "pageIndex": 0,
     "filters": [],
     "sortBy": []
    },
    "deepnote_table_loading": false,
    "deepnote_cell_type": "code",
    "deepnote_cell_height": 412
   },
   "source": "geolocation.head()",
   "execution_count": null,
   "outputs": [
    {
     "output_type": "execute_result",
     "execution_count": 34,
     "data": {
      "application/vnd.deepnote.dataframe.v3+json": {
       "column_count": 5,
       "row_count": 5,
       "columns": [
        {
         "name": "geolocation_zip_code_prefix",
         "dtype": "int64",
         "stats": {
          "unique_count": 4,
          "nan_count": 0,
          "min": "1035",
          "max": "1046",
          "histogram": [
           {
            "bin_start": 1035,
            "bin_end": 1036.1,
            "count": 1
           },
           {
            "bin_start": 1036.1,
            "bin_end": 1037.2,
            "count": 1
           },
           {
            "bin_start": 1037.2,
            "bin_end": 1038.3,
            "count": 0
           },
           {
            "bin_start": 1038.3,
            "bin_end": 1039.4,
            "count": 0
           },
           {
            "bin_start": 1039.4,
            "bin_end": 1040.5,
            "count": 0
           },
           {
            "bin_start": 1040.5,
            "bin_end": 1041.6,
            "count": 1
           },
           {
            "bin_start": 1041.6,
            "bin_end": 1042.7,
            "count": 0
           },
           {
            "bin_start": 1042.7,
            "bin_end": 1043.8,
            "count": 0
           },
           {
            "bin_start": 1043.8,
            "bin_end": 1044.9,
            "count": 0
           },
           {
            "bin_start": 1044.9,
            "bin_end": 1046,
            "count": 2
           }
          ]
         }
        },
        {
         "name": "geolocation_lat",
         "dtype": "float64",
         "stats": {
          "unique_count": 5,
          "nan_count": 0,
          "min": "-23.54612896641469",
          "max": "-23.541577961711493",
          "histogram": [
           {
            "bin_start": -23.54612896641469,
            "bin_end": -23.545673865944373,
            "count": 2
           },
           {
            "bin_start": -23.545673865944373,
            "bin_end": -23.54521876547405,
            "count": 1
           },
           {
            "bin_start": -23.54521876547405,
            "bin_end": -23.54476366500373,
            "count": 0
           },
           {
            "bin_start": -23.54476366500373,
            "bin_end": -23.544308564533413,
            "count": 1
           },
           {
            "bin_start": -23.544308564533413,
            "bin_end": -23.54385346406309,
            "count": 0
           },
           {
            "bin_start": -23.54385346406309,
            "bin_end": -23.54339836359277,
            "count": 0
           },
           {
            "bin_start": -23.54339836359277,
            "bin_end": -23.542943263122453,
            "count": 0
           },
           {
            "bin_start": -23.542943263122453,
            "bin_end": -23.542488162652134,
            "count": 0
           },
           {
            "bin_start": -23.542488162652134,
            "bin_end": -23.54203306218181,
            "count": 0
           },
           {
            "bin_start": -23.54203306218181,
            "bin_end": -23.541577961711493,
            "count": 1
           }
          ]
         }
        },
        {
         "name": "geolocation_lng",
         "dtype": "float64",
         "stats": {
          "unique_count": 5,
          "nan_count": 0,
          "min": "-46.64482029837157",
          "max": "-46.63929204800168",
          "histogram": [
           {
            "bin_start": -46.64482029837157,
            "bin_end": -46.64426747333458,
            "count": 1
           },
           {
            "bin_start": -46.64426747333458,
            "bin_end": -46.64371464829759,
            "count": 0
           },
           {
            "bin_start": -46.64371464829759,
            "bin_end": -46.643161823260606,
            "count": 0
           },
           {
            "bin_start": -46.643161823260606,
            "bin_end": -46.642608998223615,
            "count": 1
           },
           {
            "bin_start": -46.642608998223615,
            "bin_end": -46.642056173186624,
            "count": 0
           },
           {
            "bin_start": -46.642056173186624,
            "bin_end": -46.641503348149634,
            "count": 1
           },
           {
            "bin_start": -46.641503348149634,
            "bin_end": -46.64095052311264,
            "count": 0
           },
           {
            "bin_start": -46.64095052311264,
            "bin_end": -46.64039769807566,
            "count": 0
           },
           {
            "bin_start": -46.64039769807566,
            "bin_end": -46.63984487303867,
            "count": 0
           },
           {
            "bin_start": -46.63984487303867,
            "bin_end": -46.63929204800168,
            "count": 2
           }
          ]
         }
        },
        {
         "name": "geolocation_city",
         "dtype": "object",
         "stats": {
          "unique_count": 1,
          "nan_count": 0,
          "categories": [
           {
            "name": "sao paulo",
            "count": 5
           }
          ]
         }
        },
        {
         "name": "geolocation_state",
         "dtype": "object",
         "stats": {
          "unique_count": 1,
          "nan_count": 0,
          "categories": [
           {
            "name": "SP",
            "count": 5
           }
          ]
         }
        },
        {
         "name": "_deepnote_index_column",
         "dtype": "int64"
        }
       ],
       "rows": [
        {
         "geolocation_zip_code_prefix": 1037,
         "geolocation_lat": -23.54562128115268,
         "geolocation_lng": -46.63929204800168,
         "geolocation_city": "sao paulo",
         "geolocation_state": "SP",
         "_deepnote_index_column": 0
        },
        {
         "geolocation_zip_code_prefix": 1046,
         "geolocation_lat": -23.54608112703553,
         "geolocation_lng": -46.64482029837157,
         "geolocation_city": "sao paulo",
         "geolocation_state": "SP",
         "_deepnote_index_column": 1
        },
        {
         "geolocation_zip_code_prefix": 1046,
         "geolocation_lat": -23.54612896641469,
         "geolocation_lng": -46.64295148361138,
         "geolocation_city": "sao paulo",
         "geolocation_state": "SP",
         "_deepnote_index_column": 2
        },
        {
         "geolocation_zip_code_prefix": 1041,
         "geolocation_lat": -23.5443921648681,
         "geolocation_lng": -46.63949930627844,
         "geolocation_city": "sao paulo",
         "geolocation_state": "SP",
         "_deepnote_index_column": 3
        },
        {
         "geolocation_zip_code_prefix": 1035,
         "geolocation_lat": -23.541577961711493,
         "geolocation_lng": -46.64160722329613,
         "geolocation_city": "sao paulo",
         "geolocation_state": "SP",
         "_deepnote_index_column": 4
        }
       ]
      },
      "text/plain": "   geolocation_zip_code_prefix  geolocation_lat  geolocation_lng  \\\n0                         1037       -23.545621       -46.639292   \n1                         1046       -23.546081       -46.644820   \n2                         1046       -23.546129       -46.642951   \n3                         1041       -23.544392       -46.639499   \n4                         1035       -23.541578       -46.641607   \n\n  geolocation_city geolocation_state  \n0        sao paulo                SP  \n1        sao paulo                SP  \n2        sao paulo                SP  \n3        sao paulo                SP  \n4        sao paulo                SP  ",
      "text/html": "<div>\n<style scoped>\n    .dataframe tbody tr th:only-of-type {\n        vertical-align: middle;\n    }\n\n    .dataframe tbody tr th {\n        vertical-align: top;\n    }\n\n    .dataframe thead th {\n        text-align: right;\n    }\n</style>\n<table border=\"1\" class=\"dataframe\">\n  <thead>\n    <tr style=\"text-align: right;\">\n      <th></th>\n      <th>geolocation_zip_code_prefix</th>\n      <th>geolocation_lat</th>\n      <th>geolocation_lng</th>\n      <th>geolocation_city</th>\n      <th>geolocation_state</th>\n    </tr>\n  </thead>\n  <tbody>\n    <tr>\n      <th>0</th>\n      <td>1037</td>\n      <td>-23.545621</td>\n      <td>-46.639292</td>\n      <td>sao paulo</td>\n      <td>SP</td>\n    </tr>\n    <tr>\n      <th>1</th>\n      <td>1046</td>\n      <td>-23.546081</td>\n      <td>-46.644820</td>\n      <td>sao paulo</td>\n      <td>SP</td>\n    </tr>\n    <tr>\n      <th>2</th>\n      <td>1046</td>\n      <td>-23.546129</td>\n      <td>-46.642951</td>\n      <td>sao paulo</td>\n      <td>SP</td>\n    </tr>\n    <tr>\n      <th>3</th>\n      <td>1041</td>\n      <td>-23.544392</td>\n      <td>-46.639499</td>\n      <td>sao paulo</td>\n      <td>SP</td>\n    </tr>\n    <tr>\n      <th>4</th>\n      <td>1035</td>\n      <td>-23.541578</td>\n      <td>-46.641607</td>\n      <td>sao paulo</td>\n      <td>SP</td>\n    </tr>\n  </tbody>\n</table>\n</div>"
     },
     "metadata": {}
    }
   ]
  },
  {
   "cell_type": "code",
   "metadata": {
    "cell_id": "959732bf462a48ee90ef76fb74907eed",
    "tags": [],
    "deepnote_to_be_reexecuted": false,
    "source_hash": "773de8e3",
    "execution_start": 1650937957005,
    "execution_millis": 6,
    "deepnote_cell_type": "code",
    "deepnote_cell_height": 118
   },
   "source": "geolocation.shape",
   "execution_count": null,
   "outputs": [
    {
     "output_type": "execute_result",
     "execution_count": 35,
     "data": {
      "text/plain": "(1000163, 5)"
     },
     "metadata": {}
    }
   ]
  },
  {
   "cell_type": "code",
   "metadata": {
    "cell_id": "f3329d6f5a0b4987bdc1d5b2a671145a",
    "tags": [],
    "deepnote_to_be_reexecuted": false,
    "source_hash": "8036cd5a",
    "execution_start": 1650937957013,
    "execution_millis": 82,
    "deepnote_cell_type": "code",
    "deepnote_cell_height": 334.25
   },
   "source": "geolocation.info()",
   "execution_count": null,
   "outputs": [
    {
     "name": "stdout",
     "text": "<class 'pandas.core.frame.DataFrame'>\nRangeIndex: 1000163 entries, 0 to 1000162\nData columns (total 5 columns):\n #   Column                       Non-Null Count    Dtype  \n---  ------                       --------------    -----  \n 0   geolocation_zip_code_prefix  1000163 non-null  int64  \n 1   geolocation_lat              1000163 non-null  float64\n 2   geolocation_lng              1000163 non-null  float64\n 3   geolocation_city             1000163 non-null  object \n 4   geolocation_state            1000163 non-null  object \ndtypes: float64(2), int64(1), object(2)\nmemory usage: 38.2+ MB\n",
     "output_type": "stream"
    }
   ]
  },
  {
   "cell_type": "code",
   "metadata": {
    "cell_id": "18ab613178cb44669db98c2d776a1b34",
    "tags": [],
    "deepnote_to_be_reexecuted": false,
    "source_hash": "beb32ebd",
    "execution_start": 1650937957096,
    "execution_millis": 4,
    "deepnote_cell_type": "code",
    "deepnote_cell_height": 213
   },
   "source": "geolocation.dtypes",
   "execution_count": null,
   "outputs": [
    {
     "output_type": "execute_result",
     "execution_count": 37,
     "data": {
      "text/plain": "geolocation_zip_code_prefix      int64\ngeolocation_lat                float64\ngeolocation_lng                float64\ngeolocation_city                object\ngeolocation_state               object\ndtype: object"
     },
     "metadata": {}
    }
   ]
  },
  {
   "cell_type": "code",
   "metadata": {
    "cell_id": "749283b92f384266b2235fb794ab0b78",
    "tags": [],
    "deepnote_to_be_reexecuted": false,
    "source_hash": "aba3ca2d",
    "execution_start": 1650937957149,
    "execution_millis": 164,
    "deepnote_cell_type": "code",
    "deepnote_cell_height": 213
   },
   "source": "geolocation.convert_dtypes().dtypes",
   "execution_count": null,
   "outputs": [
    {
     "output_type": "execute_result",
     "execution_count": 38,
     "data": {
      "text/plain": "geolocation_zip_code_prefix      Int64\ngeolocation_lat                Float64\ngeolocation_lng                Float64\ngeolocation_city                string\ngeolocation_state               string\ndtype: object"
     },
     "metadata": {}
    }
   ]
  },
  {
   "cell_type": "markdown",
   "source": "## Payments",
   "metadata": {
    "formattedRanges": [],
    "cell_id": "a555bb7d3062407e88b1d9db80ee0571",
    "tags": [],
    "is_collapsed": false,
    "deepnote_cell_type": "text-cell-h2"
   }
  },
  {
   "cell_type": "code",
   "metadata": {
    "cell_id": "207b81cb2aaf490f9540a95dfdf51d1e",
    "tags": [],
    "deepnote_to_be_reexecuted": false,
    "source_hash": "f5cd0687",
    "execution_start": 1650937957312,
    "execution_millis": 5,
    "deepnote_cell_type": "code",
    "deepnote_cell_height": 395
   },
   "source": "payments.head()",
   "execution_count": null,
   "outputs": [
    {
     "output_type": "execute_result",
     "execution_count": 39,
     "data": {
      "application/vnd.deepnote.dataframe.v3+json": {
       "column_count": 5,
       "row_count": 5,
       "columns": [
        {
         "name": "order_id",
         "dtype": "object",
         "stats": {
          "unique_count": 5,
          "nan_count": 0,
          "categories": [
           {
            "name": "b81ef226f3fe1789b1e8b2acac839d17",
            "count": 1
           },
           {
            "name": "a9810da82917af2d9aefd1278f1dcfa0",
            "count": 1
           },
           {
            "name": "3 others",
            "count": 3
           }
          ]
         }
        },
        {
         "name": "payment_sequential",
         "dtype": "int64",
         "stats": {
          "unique_count": 1,
          "nan_count": 0,
          "min": "1",
          "max": "1",
          "histogram": [
           {
            "bin_start": 0.5,
            "bin_end": 0.6,
            "count": 0
           },
           {
            "bin_start": 0.6,
            "bin_end": 0.7,
            "count": 0
           },
           {
            "bin_start": 0.7,
            "bin_end": 0.8,
            "count": 0
           },
           {
            "bin_start": 0.8,
            "bin_end": 0.9,
            "count": 0
           },
           {
            "bin_start": 0.9,
            "bin_end": 1,
            "count": 0
           },
           {
            "bin_start": 1,
            "bin_end": 1.1,
            "count": 5
           },
           {
            "bin_start": 1.1,
            "bin_end": 1.2000000000000002,
            "count": 0
           },
           {
            "bin_start": 1.2000000000000002,
            "bin_end": 1.3,
            "count": 0
           },
           {
            "bin_start": 1.3,
            "bin_end": 1.4,
            "count": 0
           },
           {
            "bin_start": 1.4,
            "bin_end": 1.5,
            "count": 0
           }
          ]
         }
        },
        {
         "name": "payment_type",
         "dtype": "object",
         "stats": {
          "unique_count": 1,
          "nan_count": 0,
          "categories": [
           {
            "name": "credit_card",
            "count": 5
           }
          ]
         }
        },
        {
         "name": "payment_installments",
         "dtype": "int64",
         "stats": {
          "unique_count": 3,
          "nan_count": 0,
          "min": "1",
          "max": "8",
          "histogram": [
           {
            "bin_start": 1,
            "bin_end": 1.7,
            "count": 2
           },
           {
            "bin_start": 1.7,
            "bin_end": 2.4,
            "count": 1
           },
           {
            "bin_start": 2.4,
            "bin_end": 3.0999999999999996,
            "count": 0
           },
           {
            "bin_start": 3.0999999999999996,
            "bin_end": 3.8,
            "count": 0
           },
           {
            "bin_start": 3.8,
            "bin_end": 4.5,
            "count": 0
           },
           {
            "bin_start": 4.5,
            "bin_end": 5.199999999999999,
            "count": 0
           },
           {
            "bin_start": 5.199999999999999,
            "bin_end": 5.8999999999999995,
            "count": 0
           },
           {
            "bin_start": 5.8999999999999995,
            "bin_end": 6.6,
            "count": 0
           },
           {
            "bin_start": 6.6,
            "bin_end": 7.3,
            "count": 0
           },
           {
            "bin_start": 7.3,
            "bin_end": 8,
            "count": 2
           }
          ]
         }
        },
        {
         "name": "payment_value",
         "dtype": "float64",
         "stats": {
          "unique_count": 5,
          "nan_count": 0,
          "min": "24.39",
          "max": "128.45",
          "histogram": [
           {
            "bin_start": 24.39,
            "bin_end": 34.796,
            "count": 1
           },
           {
            "bin_start": 34.796,
            "bin_end": 45.202,
            "count": 0
           },
           {
            "bin_start": 45.202,
            "bin_end": 55.608,
            "count": 0
           },
           {
            "bin_start": 55.608,
            "bin_end": 66.014,
            "count": 1
           },
           {
            "bin_start": 66.014,
            "bin_end": 76.41999999999999,
            "count": 0
           },
           {
            "bin_start": 76.41999999999999,
            "bin_end": 86.826,
            "count": 0
           },
           {
            "bin_start": 86.826,
            "bin_end": 97.23199999999999,
            "count": 0
           },
           {
            "bin_start": 97.23199999999999,
            "bin_end": 107.63799999999999,
            "count": 1
           },
           {
            "bin_start": 107.63799999999999,
            "bin_end": 118.044,
            "count": 1
           },
           {
            "bin_start": 118.044,
            "bin_end": 128.45,
            "count": 1
           }
          ]
         }
        },
        {
         "name": "_deepnote_index_column",
         "dtype": "int64"
        }
       ],
       "rows": [
        {
         "order_id": "b81ef226f3fe1789b1e8b2acac839d17",
         "payment_sequential": 1,
         "payment_type": "credit_card",
         "payment_installments": 8,
         "payment_value": 99.33,
         "_deepnote_index_column": 0
        },
        {
         "order_id": "a9810da82917af2d9aefd1278f1dcfa0",
         "payment_sequential": 1,
         "payment_type": "credit_card",
         "payment_installments": 1,
         "payment_value": 24.39,
         "_deepnote_index_column": 1
        },
        {
         "order_id": "25e8ea4e93396b6fa0d3dd708e76c1bd",
         "payment_sequential": 1,
         "payment_type": "credit_card",
         "payment_installments": 1,
         "payment_value": 65.71,
         "_deepnote_index_column": 2
        },
        {
         "order_id": "ba78997921bbcdc1373bb41e913ab953",
         "payment_sequential": 1,
         "payment_type": "credit_card",
         "payment_installments": 8,
         "payment_value": 107.78,
         "_deepnote_index_column": 3
        },
        {
         "order_id": "42fdf880ba16b47b59251dd489d4441a",
         "payment_sequential": 1,
         "payment_type": "credit_card",
         "payment_installments": 2,
         "payment_value": 128.45,
         "_deepnote_index_column": 4
        }
       ]
      },
      "text/plain": "                           order_id  payment_sequential payment_type  \\\n0  b81ef226f3fe1789b1e8b2acac839d17                   1  credit_card   \n1  a9810da82917af2d9aefd1278f1dcfa0                   1  credit_card   \n2  25e8ea4e93396b6fa0d3dd708e76c1bd                   1  credit_card   \n3  ba78997921bbcdc1373bb41e913ab953                   1  credit_card   \n4  42fdf880ba16b47b59251dd489d4441a                   1  credit_card   \n\n   payment_installments  payment_value  \n0                     8          99.33  \n1                     1          24.39  \n2                     1          65.71  \n3                     8         107.78  \n4                     2         128.45  ",
      "text/html": "<div>\n<style scoped>\n    .dataframe tbody tr th:only-of-type {\n        vertical-align: middle;\n    }\n\n    .dataframe tbody tr th {\n        vertical-align: top;\n    }\n\n    .dataframe thead th {\n        text-align: right;\n    }\n</style>\n<table border=\"1\" class=\"dataframe\">\n  <thead>\n    <tr style=\"text-align: right;\">\n      <th></th>\n      <th>order_id</th>\n      <th>payment_sequential</th>\n      <th>payment_type</th>\n      <th>payment_installments</th>\n      <th>payment_value</th>\n    </tr>\n  </thead>\n  <tbody>\n    <tr>\n      <th>0</th>\n      <td>b81ef226f3fe1789b1e8b2acac839d17</td>\n      <td>1</td>\n      <td>credit_card</td>\n      <td>8</td>\n      <td>99.33</td>\n    </tr>\n    <tr>\n      <th>1</th>\n      <td>a9810da82917af2d9aefd1278f1dcfa0</td>\n      <td>1</td>\n      <td>credit_card</td>\n      <td>1</td>\n      <td>24.39</td>\n    </tr>\n    <tr>\n      <th>2</th>\n      <td>25e8ea4e93396b6fa0d3dd708e76c1bd</td>\n      <td>1</td>\n      <td>credit_card</td>\n      <td>1</td>\n      <td>65.71</td>\n    </tr>\n    <tr>\n      <th>3</th>\n      <td>ba78997921bbcdc1373bb41e913ab953</td>\n      <td>1</td>\n      <td>credit_card</td>\n      <td>8</td>\n      <td>107.78</td>\n    </tr>\n    <tr>\n      <th>4</th>\n      <td>42fdf880ba16b47b59251dd489d4441a</td>\n      <td>1</td>\n      <td>credit_card</td>\n      <td>2</td>\n      <td>128.45</td>\n    </tr>\n  </tbody>\n</table>\n</div>"
     },
     "metadata": {}
    }
   ]
  },
  {
   "cell_type": "code",
   "metadata": {
    "cell_id": "4a8ae5a1dda84b5f9f7755e7363f17a8",
    "tags": [],
    "deepnote_to_be_reexecuted": false,
    "source_hash": "7829fc0f",
    "execution_start": 1650937957328,
    "execution_millis": 6,
    "deepnote_cell_type": "code",
    "deepnote_cell_height": 669
   },
   "source": "payments['payment_sequential'].value_counts()",
   "execution_count": null,
   "outputs": [
    {
     "output_type": "execute_result",
     "execution_count": 40,
     "data": {
      "text/plain": "1     99360\n2      3039\n3       581\n4       278\n5       170\n6       118\n7        82\n8        54\n9        43\n10       34\n11       29\n12       21\n13       13\n14       10\n15        8\n16        6\n17        6\n18        6\n19        6\n20        4\n21        4\n22        3\n23        2\n24        2\n25        2\n26        2\n27        1\n28        1\n29        1\nName: payment_sequential, dtype: int64"
     },
     "metadata": {}
    }
   ]
  },
  {
   "cell_type": "code",
   "metadata": {
    "cell_id": "9ec1406c57da412b94d9148e37c47705",
    "tags": [],
    "deepnote_to_be_reexecuted": false,
    "source_hash": "3c02f5ce",
    "execution_start": 1650937957341,
    "execution_millis": 121528442,
    "deepnote_cell_type": "code",
    "deepnote_cell_height": 118.1875,
    "deepnote_output_heights": [
     21.1875
    ]
   },
   "source": "payments.shape",
   "execution_count": null,
   "outputs": [
    {
     "output_type": "execute_result",
     "execution_count": 41,
     "data": {
      "text/plain": "(103886, 5)"
     },
     "metadata": {}
    }
   ]
  },
  {
   "cell_type": "code",
   "metadata": {
    "cell_id": "87874df8ff8d40789e7851be6a9fb7f6",
    "tags": [],
    "deepnote_to_be_reexecuted": false,
    "source_hash": "62f39cf1",
    "execution_start": 1650937957376,
    "execution_millis": 3,
    "deepnote_cell_type": "code",
    "deepnote_cell_height": 518
   },
   "source": "payments.describe()",
   "execution_count": null,
   "outputs": [
    {
     "output_type": "execute_result",
     "execution_count": 42,
     "data": {
      "application/vnd.deepnote.dataframe.v3+json": {
       "column_count": 3,
       "row_count": 8,
       "columns": [
        {
         "name": "payment_sequential",
         "dtype": "float64",
         "stats": {
          "unique_count": 5,
          "nan_count": 0,
          "min": "0.7065837791949956",
          "max": "103886.0",
          "histogram": [
           {
            "bin_start": 0.7065837791949956,
            "bin_end": 10389.235925401275,
            "count": 7
           },
           {
            "bin_start": 10389.235925401275,
            "bin_end": 20777.76526702336,
            "count": 0
           },
           {
            "bin_start": 20777.76526702336,
            "bin_end": 31166.29460864544,
            "count": 0
           },
           {
            "bin_start": 31166.29460864544,
            "bin_end": 41554.82395026752,
            "count": 0
           },
           {
            "bin_start": 41554.82395026752,
            "bin_end": 51943.3532918896,
            "count": 0
           },
           {
            "bin_start": 51943.3532918896,
            "bin_end": 62331.88263351168,
            "count": 0
           },
           {
            "bin_start": 62331.88263351168,
            "bin_end": 72720.41197513376,
            "count": 0
           },
           {
            "bin_start": 72720.41197513376,
            "bin_end": 83108.94131675584,
            "count": 0
           },
           {
            "bin_start": 83108.94131675584,
            "bin_end": 93497.47065837792,
            "count": 0
           },
           {
            "bin_start": 93497.47065837792,
            "bin_end": 103886,
            "count": 1
           }
          ]
         }
        },
        {
         "name": "payment_installments",
         "dtype": "float64",
         "stats": {
          "unique_count": 7,
          "nan_count": 0,
          "min": "0.0",
          "max": "103886.0",
          "histogram": [
           {
            "bin_start": 0,
            "bin_end": 10388.6,
            "count": 7
           },
           {
            "bin_start": 10388.6,
            "bin_end": 20777.2,
            "count": 0
           },
           {
            "bin_start": 20777.2,
            "bin_end": 31165.800000000003,
            "count": 0
           },
           {
            "bin_start": 31165.800000000003,
            "bin_end": 41554.4,
            "count": 0
           },
           {
            "bin_start": 41554.4,
            "bin_end": 51943,
            "count": 0
           },
           {
            "bin_start": 51943,
            "bin_end": 62331.600000000006,
            "count": 0
           },
           {
            "bin_start": 62331.600000000006,
            "bin_end": 72720.2,
            "count": 0
           },
           {
            "bin_start": 72720.2,
            "bin_end": 83108.8,
            "count": 0
           },
           {
            "bin_start": 83108.8,
            "bin_end": 93497.40000000001,
            "count": 0
           },
           {
            "bin_start": 93497.40000000001,
            "bin_end": 103886,
            "count": 1
           }
          ]
         }
        },
        {
         "name": "payment_value",
         "dtype": "float64",
         "stats": {
          "unique_count": 8,
          "nan_count": 0,
          "min": "0.0",
          "max": "103886.0",
          "histogram": [
           {
            "bin_start": 0,
            "bin_end": 10388.6,
            "count": 6
           },
           {
            "bin_start": 10388.6,
            "bin_end": 20777.2,
            "count": 1
           },
           {
            "bin_start": 20777.2,
            "bin_end": 31165.800000000003,
            "count": 0
           },
           {
            "bin_start": 31165.800000000003,
            "bin_end": 41554.4,
            "count": 0
           },
           {
            "bin_start": 41554.4,
            "bin_end": 51943,
            "count": 0
           },
           {
            "bin_start": 51943,
            "bin_end": 62331.600000000006,
            "count": 0
           },
           {
            "bin_start": 62331.600000000006,
            "bin_end": 72720.2,
            "count": 0
           },
           {
            "bin_start": 72720.2,
            "bin_end": 83108.8,
            "count": 0
           },
           {
            "bin_start": 83108.8,
            "bin_end": 93497.40000000001,
            "count": 0
           },
           {
            "bin_start": 93497.40000000001,
            "bin_end": 103886,
            "count": 1
           }
          ]
         }
        },
        {
         "name": "_deepnote_index_column",
         "dtype": "object"
        }
       ],
       "rows": [
        {
         "payment_sequential": 103886,
         "payment_installments": 103886,
         "payment_value": 103886,
         "_deepnote_index_column": "count"
        },
        {
         "payment_sequential": 1.0926785129853878,
         "payment_installments": 2.853348863176944,
         "payment_value": 154.10038041699553,
         "_deepnote_index_column": "mean"
        },
        {
         "payment_sequential": 0.7065837791949956,
         "payment_installments": 2.6870506738564797,
         "payment_value": 217.49406386472435,
         "_deepnote_index_column": "std"
        },
        {
         "payment_sequential": 1,
         "payment_installments": 0,
         "payment_value": 0,
         "_deepnote_index_column": "min"
        },
        {
         "payment_sequential": 1,
         "payment_installments": 1,
         "payment_value": 56.79,
         "_deepnote_index_column": "25%"
        },
        {
         "payment_sequential": 1,
         "payment_installments": 1,
         "payment_value": 100,
         "_deepnote_index_column": "50%"
        },
        {
         "payment_sequential": 1,
         "payment_installments": 4,
         "payment_value": 171.8375,
         "_deepnote_index_column": "75%"
        },
        {
         "payment_sequential": 29,
         "payment_installments": 24,
         "payment_value": 13664.08,
         "_deepnote_index_column": "max"
        }
       ]
      },
      "text/plain": "       payment_sequential  payment_installments  payment_value\ncount       103886.000000         103886.000000  103886.000000\nmean             1.092679              2.853349     154.100380\nstd              0.706584              2.687051     217.494064\nmin              1.000000              0.000000       0.000000\n25%              1.000000              1.000000      56.790000\n50%              1.000000              1.000000     100.000000\n75%              1.000000              4.000000     171.837500\nmax             29.000000             24.000000   13664.080000",
      "text/html": "<div>\n<style scoped>\n    .dataframe tbody tr th:only-of-type {\n        vertical-align: middle;\n    }\n\n    .dataframe tbody tr th {\n        vertical-align: top;\n    }\n\n    .dataframe thead th {\n        text-align: right;\n    }\n</style>\n<table border=\"1\" class=\"dataframe\">\n  <thead>\n    <tr style=\"text-align: right;\">\n      <th></th>\n      <th>payment_sequential</th>\n      <th>payment_installments</th>\n      <th>payment_value</th>\n    </tr>\n  </thead>\n  <tbody>\n    <tr>\n      <th>count</th>\n      <td>103886.000000</td>\n      <td>103886.000000</td>\n      <td>103886.000000</td>\n    </tr>\n    <tr>\n      <th>mean</th>\n      <td>1.092679</td>\n      <td>2.853349</td>\n      <td>154.100380</td>\n    </tr>\n    <tr>\n      <th>std</th>\n      <td>0.706584</td>\n      <td>2.687051</td>\n      <td>217.494064</td>\n    </tr>\n    <tr>\n      <th>min</th>\n      <td>1.000000</td>\n      <td>0.000000</td>\n      <td>0.000000</td>\n    </tr>\n    <tr>\n      <th>25%</th>\n      <td>1.000000</td>\n      <td>1.000000</td>\n      <td>56.790000</td>\n    </tr>\n    <tr>\n      <th>50%</th>\n      <td>1.000000</td>\n      <td>1.000000</td>\n      <td>100.000000</td>\n    </tr>\n    <tr>\n      <th>75%</th>\n      <td>1.000000</td>\n      <td>4.000000</td>\n      <td>171.837500</td>\n    </tr>\n    <tr>\n      <th>max</th>\n      <td>29.000000</td>\n      <td>24.000000</td>\n      <td>13664.080000</td>\n    </tr>\n  </tbody>\n</table>\n</div>"
     },
     "metadata": {}
    }
   ]
  },
  {
   "cell_type": "code",
   "metadata": {
    "cell_id": "502b95e672324fb48f056fd1bba2fc03",
    "tags": [],
    "deepnote_to_be_reexecuted": false,
    "source_hash": "de0d4dd3",
    "execution_start": 1650937957385,
    "execution_millis": 16,
    "deepnote_cell_type": "code",
    "deepnote_cell_height": 334.25
   },
   "source": "payments.info()",
   "execution_count": null,
   "outputs": [
    {
     "name": "stdout",
     "text": "<class 'pandas.core.frame.DataFrame'>\nRangeIndex: 103886 entries, 0 to 103885\nData columns (total 5 columns):\n #   Column                Non-Null Count   Dtype  \n---  ------                --------------   -----  \n 0   order_id              103886 non-null  object \n 1   payment_sequential    103886 non-null  int64  \n 2   payment_type          103886 non-null  object \n 3   payment_installments  103886 non-null  int64  \n 4   payment_value         103886 non-null  float64\ndtypes: float64(1), int64(2), object(2)\nmemory usage: 4.0+ MB\n",
     "output_type": "stream"
    }
   ]
  },
  {
   "cell_type": "code",
   "metadata": {
    "cell_id": "fd93060795ce4c68951cc8c509df8d39",
    "tags": [],
    "deepnote_to_be_reexecuted": false,
    "source_hash": "474f1d8b",
    "execution_start": 1650937957405,
    "execution_millis": 3,
    "deepnote_cell_type": "code",
    "deepnote_cell_height": 214.125,
    "deepnote_output_heights": [
     117.125
    ]
   },
   "source": "payments.dtypes",
   "execution_count": null,
   "outputs": [
    {
     "output_type": "execute_result",
     "execution_count": 44,
     "data": {
      "text/plain": "order_id                 object\npayment_sequential        int64\npayment_type             object\npayment_installments      int64\npayment_value           float64\ndtype: object"
     },
     "metadata": {}
    }
   ]
  },
  {
   "cell_type": "code",
   "metadata": {
    "cell_id": "97d605912a484b239528a52b8eb8da5d",
    "tags": [],
    "deepnote_to_be_reexecuted": false,
    "source_hash": "dd3f69ee",
    "execution_start": 1650937957410,
    "execution_millis": 39,
    "deepnote_cell_type": "code",
    "deepnote_cell_height": 214.125,
    "deepnote_output_heights": [
     117.125
    ]
   },
   "source": "payments.convert_dtypes().dtypes",
   "execution_count": null,
   "outputs": [
    {
     "output_type": "execute_result",
     "execution_count": 45,
     "data": {
      "text/plain": "order_id                 string\npayment_sequential        Int64\npayment_type             string\npayment_installments      Int64\npayment_value           Float64\ndtype: object"
     },
     "metadata": {}
    }
   ]
  },
  {
   "cell_type": "markdown",
   "source": "## Reviews",
   "metadata": {
    "formattedRanges": [],
    "cell_id": "faf544fc35b14337a4b2bb66ce92a68a",
    "tags": [],
    "is_collapsed": false,
    "deepnote_cell_type": "text-cell-h2"
   }
  },
  {
   "cell_type": "code",
   "metadata": {
    "cell_id": "c4bb126ae82e4a74805e438fd75d30df",
    "tags": [],
    "deepnote_to_be_reexecuted": false,
    "source_hash": "4f9fa8ec",
    "execution_start": 1650937957452,
    "execution_millis": 25,
    "deepnote_cell_type": "code",
    "deepnote_cell_height": 412
   },
   "source": "reviews.head()",
   "execution_count": null,
   "outputs": [
    {
     "output_type": "execute_result",
     "execution_count": 46,
     "data": {
      "application/vnd.deepnote.dataframe.v3+json": {
       "column_count": 7,
       "row_count": 5,
       "columns": [
        {
         "name": "review_id",
         "dtype": "object",
         "stats": {
          "unique_count": 5,
          "nan_count": 0,
          "categories": [
           {
            "name": "7bc2406110b926393aa56f80a40eba40",
            "count": 1
           },
           {
            "name": "80e641a11e56f04c1ad469d5645fdfde",
            "count": 1
           },
           {
            "name": "3 others",
            "count": 3
           }
          ]
         }
        },
        {
         "name": "order_id",
         "dtype": "object",
         "stats": {
          "unique_count": 5,
          "nan_count": 0,
          "categories": [
           {
            "name": "73fc7af87114b39712e6da79b0a377eb",
            "count": 1
           },
           {
            "name": "a548910a1c6147796b98fdf73dbeba33",
            "count": 1
           },
           {
            "name": "3 others",
            "count": 3
           }
          ]
         }
        },
        {
         "name": "review_score",
         "dtype": "int64",
         "stats": {
          "unique_count": 2,
          "nan_count": 0,
          "min": "4",
          "max": "5",
          "histogram": [
           {
            "bin_start": 4,
            "bin_end": 4.1,
            "count": 1
           },
           {
            "bin_start": 4.1,
            "bin_end": 4.2,
            "count": 0
           },
           {
            "bin_start": 4.2,
            "bin_end": 4.3,
            "count": 0
           },
           {
            "bin_start": 4.3,
            "bin_end": 4.4,
            "count": 0
           },
           {
            "bin_start": 4.4,
            "bin_end": 4.5,
            "count": 0
           },
           {
            "bin_start": 4.5,
            "bin_end": 4.6,
            "count": 0
           },
           {
            "bin_start": 4.6,
            "bin_end": 4.7,
            "count": 0
           },
           {
            "bin_start": 4.7,
            "bin_end": 4.8,
            "count": 0
           },
           {
            "bin_start": 4.8,
            "bin_end": 4.9,
            "count": 0
           },
           {
            "bin_start": 4.9,
            "bin_end": 5,
            "count": 4
           }
          ]
         }
        },
        {
         "name": "review_comment_title",
         "dtype": "object",
         "stats": {
          "unique_count": 0,
          "nan_count": 5,
          "categories": [
           {
            "name": "Missing",
            "count": 5
           }
          ]
         }
        },
        {
         "name": "review_comment_message",
         "dtype": "object",
         "stats": {
          "unique_count": 2,
          "nan_count": 3,
          "categories": [
           {
            "name": "Recebi bem antes do prazo estipulado.",
            "count": 1
           },
           {
            "name": "Parabéns lojas lannister adorei comprar pela Internet seguro e prático Parabéns a todos feliz Páscoa",
            "count": 1
           },
           {
            "name": "Missing",
            "count": 3
           }
          ]
         }
        },
        {
         "name": "review_creation_date",
         "dtype": "object",
         "stats": {
          "unique_count": 5,
          "nan_count": 0,
          "categories": [
           {
            "name": "2018-01-18 00:00:00",
            "count": 1
           },
           {
            "name": "2018-03-10 00:00:00",
            "count": 1
           },
           {
            "name": "3 others",
            "count": 3
           }
          ]
         }
        },
        {
         "name": "review_answer_timestamp",
         "dtype": "object",
         "stats": {
          "unique_count": 5,
          "nan_count": 0,
          "categories": [
           {
            "name": "2018-01-18 21:46:59",
            "count": 1
           },
           {
            "name": "2018-03-11 03:05:13",
            "count": 1
           },
           {
            "name": "3 others",
            "count": 3
           }
          ]
         }
        },
        {
         "name": "_deepnote_index_column",
         "dtype": "int64"
        }
       ],
       "rows": [
        {
         "review_id": "7bc2406110b926393aa56f80a40eba40",
         "order_id": "73fc7af87114b39712e6da79b0a377eb",
         "review_score": 4,
         "review_comment_title": "nan",
         "review_comment_message": "nan",
         "review_creation_date": "2018-01-18 00:00:00",
         "review_answer_timestamp": "2018-01-18 21:46:59",
         "_deepnote_index_column": 0
        },
        {
         "review_id": "80e641a11e56f04c1ad469d5645fdfde",
         "order_id": "a548910a1c6147796b98fdf73dbeba33",
         "review_score": 5,
         "review_comment_title": "nan",
         "review_comment_message": "nan",
         "review_creation_date": "2018-03-10 00:00:00",
         "review_answer_timestamp": "2018-03-11 03:05:13",
         "_deepnote_index_column": 1
        },
        {
         "review_id": "228ce5500dc1d8e020d8d1322874b6f0",
         "order_id": "f9e4b658b201a9f2ecdecbb34bed034b",
         "review_score": 5,
         "review_comment_title": "nan",
         "review_comment_message": "nan",
         "review_creation_date": "2018-02-17 00:00:00",
         "review_answer_timestamp": "2018-02-18 14:36:24",
         "_deepnote_index_column": 2
        },
        {
         "review_id": "e64fb393e7b32834bb789ff8bb30750e",
         "order_id": "658677c97b385a9be170737859d3511b",
         "review_score": 5,
         "review_comment_title": "nan",
         "review_comment_message": "Recebi bem antes do prazo estipulado.",
         "review_creation_date": "2017-04-21 00:00:00",
         "review_answer_timestamp": "2017-04-21 22:02:06",
         "_deepnote_index_column": 3
        },
        {
         "review_id": "f7c4243c7fe1938f181bec41a392bdeb",
         "order_id": "8e6bfb81e283fa7e4f11123a3fb894f1",
         "review_score": 5,
         "review_comment_title": "nan",
         "review_comment_message": "Parabéns lojas lannister adorei comprar pela Internet seguro e prático Parabéns a todos feliz Páscoa",
         "review_creation_date": "2018-03-01 00:00:00",
         "review_answer_timestamp": "2018-03-02 10:26:53",
         "_deepnote_index_column": 4
        }
       ]
      },
      "text/plain": "                          review_id                          order_id  \\\n0  7bc2406110b926393aa56f80a40eba40  73fc7af87114b39712e6da79b0a377eb   \n1  80e641a11e56f04c1ad469d5645fdfde  a548910a1c6147796b98fdf73dbeba33   \n2  228ce5500dc1d8e020d8d1322874b6f0  f9e4b658b201a9f2ecdecbb34bed034b   \n3  e64fb393e7b32834bb789ff8bb30750e  658677c97b385a9be170737859d3511b   \n4  f7c4243c7fe1938f181bec41a392bdeb  8e6bfb81e283fa7e4f11123a3fb894f1   \n\n   review_score review_comment_title  \\\n0             4                  NaN   \n1             5                  NaN   \n2             5                  NaN   \n3             5                  NaN   \n4             5                  NaN   \n\n                              review_comment_message review_creation_date  \\\n0                                                NaN  2018-01-18 00:00:00   \n1                                                NaN  2018-03-10 00:00:00   \n2                                                NaN  2018-02-17 00:00:00   \n3              Recebi bem antes do prazo estipulado.  2017-04-21 00:00:00   \n4  Parabéns lojas lannister adorei comprar pela I...  2018-03-01 00:00:00   \n\n  review_answer_timestamp  \n0     2018-01-18 21:46:59  \n1     2018-03-11 03:05:13  \n2     2018-02-18 14:36:24  \n3     2017-04-21 22:02:06  \n4     2018-03-02 10:26:53  ",
      "text/html": "<div>\n<style scoped>\n    .dataframe tbody tr th:only-of-type {\n        vertical-align: middle;\n    }\n\n    .dataframe tbody tr th {\n        vertical-align: top;\n    }\n\n    .dataframe thead th {\n        text-align: right;\n    }\n</style>\n<table border=\"1\" class=\"dataframe\">\n  <thead>\n    <tr style=\"text-align: right;\">\n      <th></th>\n      <th>review_id</th>\n      <th>order_id</th>\n      <th>review_score</th>\n      <th>review_comment_title</th>\n      <th>review_comment_message</th>\n      <th>review_creation_date</th>\n      <th>review_answer_timestamp</th>\n    </tr>\n  </thead>\n  <tbody>\n    <tr>\n      <th>0</th>\n      <td>7bc2406110b926393aa56f80a40eba40</td>\n      <td>73fc7af87114b39712e6da79b0a377eb</td>\n      <td>4</td>\n      <td>NaN</td>\n      <td>NaN</td>\n      <td>2018-01-18 00:00:00</td>\n      <td>2018-01-18 21:46:59</td>\n    </tr>\n    <tr>\n      <th>1</th>\n      <td>80e641a11e56f04c1ad469d5645fdfde</td>\n      <td>a548910a1c6147796b98fdf73dbeba33</td>\n      <td>5</td>\n      <td>NaN</td>\n      <td>NaN</td>\n      <td>2018-03-10 00:00:00</td>\n      <td>2018-03-11 03:05:13</td>\n    </tr>\n    <tr>\n      <th>2</th>\n      <td>228ce5500dc1d8e020d8d1322874b6f0</td>\n      <td>f9e4b658b201a9f2ecdecbb34bed034b</td>\n      <td>5</td>\n      <td>NaN</td>\n      <td>NaN</td>\n      <td>2018-02-17 00:00:00</td>\n      <td>2018-02-18 14:36:24</td>\n    </tr>\n    <tr>\n      <th>3</th>\n      <td>e64fb393e7b32834bb789ff8bb30750e</td>\n      <td>658677c97b385a9be170737859d3511b</td>\n      <td>5</td>\n      <td>NaN</td>\n      <td>Recebi bem antes do prazo estipulado.</td>\n      <td>2017-04-21 00:00:00</td>\n      <td>2017-04-21 22:02:06</td>\n    </tr>\n    <tr>\n      <th>4</th>\n      <td>f7c4243c7fe1938f181bec41a392bdeb</td>\n      <td>8e6bfb81e283fa7e4f11123a3fb894f1</td>\n      <td>5</td>\n      <td>NaN</td>\n      <td>Parabéns lojas lannister adorei comprar pela I...</td>\n      <td>2018-03-01 00:00:00</td>\n      <td>2018-03-02 10:26:53</td>\n    </tr>\n  </tbody>\n</table>\n</div>"
     },
     "metadata": {}
    }
   ]
  },
  {
   "cell_type": "code",
   "metadata": {
    "cell_id": "fbd2c07e8c3f469e8e203f80642f5325",
    "tags": [],
    "deepnote_to_be_reexecuted": false,
    "source_hash": "e6fe26d1",
    "execution_start": 1650937957480,
    "execution_millis": 5,
    "deepnote_cell_type": "code",
    "deepnote_cell_height": 118.1875,
    "deepnote_output_heights": [
     21.1875
    ]
   },
   "source": "reviews.shape",
   "execution_count": null,
   "outputs": [
    {
     "output_type": "execute_result",
     "execution_count": 47,
     "data": {
      "text/plain": "(99224, 7)"
     },
     "metadata": {}
    }
   ]
  },
  {
   "cell_type": "code",
   "metadata": {
    "cell_id": "afd8523cca694bddb1c86a7550f7c546",
    "tags": [],
    "deepnote_to_be_reexecuted": false,
    "source_hash": "f972137e",
    "execution_start": 1650937957529,
    "execution_millis": 2,
    "deepnote_cell_type": "code",
    "deepnote_cell_height": 374.625
   },
   "source": "reviews.info()",
   "execution_count": null,
   "outputs": [
    {
     "name": "stdout",
     "text": "<class 'pandas.core.frame.DataFrame'>\nRangeIndex: 99224 entries, 0 to 99223\nData columns (total 7 columns):\n #   Column                   Non-Null Count  Dtype \n---  ------                   --------------  ----- \n 0   review_id                99224 non-null  object\n 1   order_id                 99224 non-null  object\n 2   review_score             99224 non-null  int64 \n 3   review_comment_title     11568 non-null  object\n 4   review_comment_message   40977 non-null  object\n 5   review_creation_date     99224 non-null  object\n 6   review_answer_timestamp  99224 non-null  object\ndtypes: int64(1), object(6)\nmemory usage: 5.3+ MB\n",
     "output_type": "stream"
    }
   ]
  },
  {
   "cell_type": "code",
   "metadata": {
    "cell_id": "c32b68d6c3b24658b9b7fc107b1dfdca",
    "tags": [],
    "deepnote_to_be_reexecuted": false,
    "source_hash": "f68f786f",
    "execution_start": 1650937957529,
    "execution_millis": 2,
    "deepnote_cell_type": "code",
    "deepnote_cell_height": 252.5,
    "deepnote_output_heights": [
     155.5
    ]
   },
   "source": "reviews.dtypes",
   "execution_count": null,
   "outputs": [
    {
     "output_type": "execute_result",
     "execution_count": 49,
     "data": {
      "text/plain": "review_id                  object\norder_id                   object\nreview_score                int64\nreview_comment_title       object\nreview_comment_message     object\nreview_creation_date       object\nreview_answer_timestamp    object\ndtype: object"
     },
     "metadata": {}
    }
   ]
  },
  {
   "cell_type": "code",
   "metadata": {
    "cell_id": "4687fbd9763842b09e31fa3d6193378a",
    "tags": [],
    "deepnote_to_be_reexecuted": false,
    "source_hash": "3a13b1d4",
    "execution_start": 1650937957530,
    "execution_millis": 69,
    "deepnote_cell_type": "code",
    "deepnote_cell_height": 252.5,
    "deepnote_output_heights": [
     155.5
    ]
   },
   "source": "reviews.convert_dtypes().dtypes",
   "execution_count": null,
   "outputs": [
    {
     "output_type": "execute_result",
     "execution_count": 50,
     "data": {
      "text/plain": "review_id                  string\norder_id                   string\nreview_score                Int64\nreview_comment_title       string\nreview_comment_message     string\nreview_creation_date       string\nreview_answer_timestamp    string\ndtype: object"
     },
     "metadata": {}
    }
   ]
  },
  {
   "cell_type": "markdown",
   "source": "## Orders",
   "metadata": {
    "formattedRanges": [],
    "cell_id": "ea728f8bfb3f484a8f35c35a90e821b3",
    "tags": [],
    "is_collapsed": false,
    "deepnote_cell_type": "text-cell-h2"
   }
  },
  {
   "cell_type": "code",
   "metadata": {
    "cell_id": "f4464115e50a443b9c4ad6d505126383",
    "tags": [],
    "deepnote_to_be_reexecuted": false,
    "source_hash": "a4643e54",
    "execution_start": 1650937957615,
    "execution_millis": 23,
    "deepnote_cell_type": "code",
    "deepnote_cell_height": 494
   },
   "source": "orders.head(7)",
   "execution_count": null,
   "outputs": [
    {
     "output_type": "execute_result",
     "execution_count": 51,
     "data": {
      "application/vnd.deepnote.dataframe.v3+json": {
       "column_count": 8,
       "row_count": 7,
       "columns": [
        {
         "name": "order_id",
         "dtype": "object",
         "stats": {
          "unique_count": 7,
          "nan_count": 0,
          "categories": [
           {
            "name": "e481f51cbdc54678b7cc49136f2d6af7",
            "count": 1
           },
           {
            "name": "53cdb2fc8bc7dce0b6741e2150273451",
            "count": 1
           },
           {
            "name": "5 others",
            "count": 5
           }
          ]
         }
        },
        {
         "name": "customer_id",
         "dtype": "object",
         "stats": {
          "unique_count": 7,
          "nan_count": 0,
          "categories": [
           {
            "name": "9ef432eb6251297304e76186b10a928d",
            "count": 1
           },
           {
            "name": "b0830fb4747a6c6d20dea0b8c802d7ef",
            "count": 1
           },
           {
            "name": "5 others",
            "count": 5
           }
          ]
         }
        },
        {
         "name": "order_status",
         "dtype": "object",
         "stats": {
          "unique_count": 2,
          "nan_count": 0,
          "categories": [
           {
            "name": "delivered",
            "count": 6
           },
           {
            "name": "invoiced",
            "count": 1
           }
          ]
         }
        },
        {
         "name": "order_purchase_timestamp",
         "dtype": "object",
         "stats": {
          "unique_count": 7,
          "nan_count": 0,
          "categories": [
           {
            "name": "2017-10-02 10:56:33",
            "count": 1
           },
           {
            "name": "2018-07-24 20:41:37",
            "count": 1
           },
           {
            "name": "5 others",
            "count": 5
           }
          ]
         }
        },
        {
         "name": "order_approved_at",
         "dtype": "object",
         "stats": {
          "unique_count": 7,
          "nan_count": 0,
          "categories": [
           {
            "name": "2017-10-02 11:07:15",
            "count": 1
           },
           {
            "name": "2018-07-26 03:24:27",
            "count": 1
           },
           {
            "name": "5 others",
            "count": 5
           }
          ]
         }
        },
        {
         "name": "order_delivered_carrier_date",
         "dtype": "object",
         "stats": {
          "unique_count": 6,
          "nan_count": 1,
          "categories": [
           {
            "name": "2017-10-04 19:55:00",
            "count": 1
           },
           {
            "name": "5 others",
            "count": 5
           },
           {
            "name": "Missing",
            "count": 1
           }
          ]
         }
        },
        {
         "name": "order_delivered_customer_date",
         "dtype": "object",
         "stats": {
          "unique_count": 6,
          "nan_count": 1,
          "categories": [
           {
            "name": "2017-10-10 21:25:13",
            "count": 1
           },
           {
            "name": "5 others",
            "count": 5
           },
           {
            "name": "Missing",
            "count": 1
           }
          ]
         }
        },
        {
         "name": "order_estimated_delivery_date",
         "dtype": "object",
         "stats": {
          "unique_count": 7,
          "nan_count": 0,
          "categories": [
           {
            "name": "2017-10-18 00:00:00",
            "count": 1
           },
           {
            "name": "2018-08-13 00:00:00",
            "count": 1
           },
           {
            "name": "5 others",
            "count": 5
           }
          ]
         }
        },
        {
         "name": "_deepnote_index_column",
         "dtype": "int64"
        }
       ],
       "rows": [
        {
         "order_id": "e481f51cbdc54678b7cc49136f2d6af7",
         "customer_id": "9ef432eb6251297304e76186b10a928d",
         "order_status": "delivered",
         "order_purchase_timestamp": "2017-10-02 10:56:33",
         "order_approved_at": "2017-10-02 11:07:15",
         "order_delivered_carrier_date": "2017-10-04 19:55:00",
         "order_delivered_customer_date": "2017-10-10 21:25:13",
         "order_estimated_delivery_date": "2017-10-18 00:00:00",
         "_deepnote_index_column": 0
        },
        {
         "order_id": "53cdb2fc8bc7dce0b6741e2150273451",
         "customer_id": "b0830fb4747a6c6d20dea0b8c802d7ef",
         "order_status": "delivered",
         "order_purchase_timestamp": "2018-07-24 20:41:37",
         "order_approved_at": "2018-07-26 03:24:27",
         "order_delivered_carrier_date": "2018-07-26 14:31:00",
         "order_delivered_customer_date": "2018-08-07 15:27:45",
         "order_estimated_delivery_date": "2018-08-13 00:00:00",
         "_deepnote_index_column": 1
        },
        {
         "order_id": "47770eb9100c2d0c44946d9cf07ec65d",
         "customer_id": "41ce2a54c0b03bf3443c3d931a367089",
         "order_status": "delivered",
         "order_purchase_timestamp": "2018-08-08 08:38:49",
         "order_approved_at": "2018-08-08 08:55:23",
         "order_delivered_carrier_date": "2018-08-08 13:50:00",
         "order_delivered_customer_date": "2018-08-17 18:06:29",
         "order_estimated_delivery_date": "2018-09-04 00:00:00",
         "_deepnote_index_column": 2
        },
        {
         "order_id": "949d5b44dbf5de918fe9c16f97b45f8a",
         "customer_id": "f88197465ea7920adcdbec7375364d82",
         "order_status": "delivered",
         "order_purchase_timestamp": "2017-11-18 19:28:06",
         "order_approved_at": "2017-11-18 19:45:59",
         "order_delivered_carrier_date": "2017-11-22 13:39:59",
         "order_delivered_customer_date": "2017-12-02 00:28:42",
         "order_estimated_delivery_date": "2017-12-15 00:00:00",
         "_deepnote_index_column": 3
        },
        {
         "order_id": "ad21c59c0840e6cb83a9ceb5573f8159",
         "customer_id": "8ab97904e6daea8866dbdbc4fb7aad2c",
         "order_status": "delivered",
         "order_purchase_timestamp": "2018-02-13 21:18:39",
         "order_approved_at": "2018-02-13 22:20:29",
         "order_delivered_carrier_date": "2018-02-14 19:46:34",
         "order_delivered_customer_date": "2018-02-16 18:17:02",
         "order_estimated_delivery_date": "2018-02-26 00:00:00",
         "_deepnote_index_column": 4
        },
        {
         "order_id": "a4591c265e18cb1dcee52889e2d8acc3",
         "customer_id": "503740e9ca751ccdda7ba28e9ab8f608",
         "order_status": "delivered",
         "order_purchase_timestamp": "2017-07-09 21:57:05",
         "order_approved_at": "2017-07-09 22:10:13",
         "order_delivered_carrier_date": "2017-07-11 14:58:04",
         "order_delivered_customer_date": "2017-07-26 10:57:55",
         "order_estimated_delivery_date": "2017-08-01 00:00:00",
         "_deepnote_index_column": 5
        },
        {
         "order_id": "136cce7faa42fdb2cefd53fdc79a6098",
         "customer_id": "ed0271e0b7da060a393796590e7b737a",
         "order_status": "invoiced",
         "order_purchase_timestamp": "2017-04-11 12:22:08",
         "order_approved_at": "2017-04-13 13:25:17",
         "order_delivered_carrier_date": "nan",
         "order_delivered_customer_date": "nan",
         "order_estimated_delivery_date": "2017-05-09 00:00:00",
         "_deepnote_index_column": 6
        }
       ]
      },
      "text/plain": "                           order_id                       customer_id  \\\n0  e481f51cbdc54678b7cc49136f2d6af7  9ef432eb6251297304e76186b10a928d   \n1  53cdb2fc8bc7dce0b6741e2150273451  b0830fb4747a6c6d20dea0b8c802d7ef   \n2  47770eb9100c2d0c44946d9cf07ec65d  41ce2a54c0b03bf3443c3d931a367089   \n3  949d5b44dbf5de918fe9c16f97b45f8a  f88197465ea7920adcdbec7375364d82   \n4  ad21c59c0840e6cb83a9ceb5573f8159  8ab97904e6daea8866dbdbc4fb7aad2c   \n5  a4591c265e18cb1dcee52889e2d8acc3  503740e9ca751ccdda7ba28e9ab8f608   \n6  136cce7faa42fdb2cefd53fdc79a6098  ed0271e0b7da060a393796590e7b737a   \n\n  order_status order_purchase_timestamp    order_approved_at  \\\n0    delivered      2017-10-02 10:56:33  2017-10-02 11:07:15   \n1    delivered      2018-07-24 20:41:37  2018-07-26 03:24:27   \n2    delivered      2018-08-08 08:38:49  2018-08-08 08:55:23   \n3    delivered      2017-11-18 19:28:06  2017-11-18 19:45:59   \n4    delivered      2018-02-13 21:18:39  2018-02-13 22:20:29   \n5    delivered      2017-07-09 21:57:05  2017-07-09 22:10:13   \n6     invoiced      2017-04-11 12:22:08  2017-04-13 13:25:17   \n\n  order_delivered_carrier_date order_delivered_customer_date  \\\n0          2017-10-04 19:55:00           2017-10-10 21:25:13   \n1          2018-07-26 14:31:00           2018-08-07 15:27:45   \n2          2018-08-08 13:50:00           2018-08-17 18:06:29   \n3          2017-11-22 13:39:59           2017-12-02 00:28:42   \n4          2018-02-14 19:46:34           2018-02-16 18:17:02   \n5          2017-07-11 14:58:04           2017-07-26 10:57:55   \n6                          NaN                           NaN   \n\n  order_estimated_delivery_date  \n0           2017-10-18 00:00:00  \n1           2018-08-13 00:00:00  \n2           2018-09-04 00:00:00  \n3           2017-12-15 00:00:00  \n4           2018-02-26 00:00:00  \n5           2017-08-01 00:00:00  \n6           2017-05-09 00:00:00  ",
      "text/html": "<div>\n<style scoped>\n    .dataframe tbody tr th:only-of-type {\n        vertical-align: middle;\n    }\n\n    .dataframe tbody tr th {\n        vertical-align: top;\n    }\n\n    .dataframe thead th {\n        text-align: right;\n    }\n</style>\n<table border=\"1\" class=\"dataframe\">\n  <thead>\n    <tr style=\"text-align: right;\">\n      <th></th>\n      <th>order_id</th>\n      <th>customer_id</th>\n      <th>order_status</th>\n      <th>order_purchase_timestamp</th>\n      <th>order_approved_at</th>\n      <th>order_delivered_carrier_date</th>\n      <th>order_delivered_customer_date</th>\n      <th>order_estimated_delivery_date</th>\n    </tr>\n  </thead>\n  <tbody>\n    <tr>\n      <th>0</th>\n      <td>e481f51cbdc54678b7cc49136f2d6af7</td>\n      <td>9ef432eb6251297304e76186b10a928d</td>\n      <td>delivered</td>\n      <td>2017-10-02 10:56:33</td>\n      <td>2017-10-02 11:07:15</td>\n      <td>2017-10-04 19:55:00</td>\n      <td>2017-10-10 21:25:13</td>\n      <td>2017-10-18 00:00:00</td>\n    </tr>\n    <tr>\n      <th>1</th>\n      <td>53cdb2fc8bc7dce0b6741e2150273451</td>\n      <td>b0830fb4747a6c6d20dea0b8c802d7ef</td>\n      <td>delivered</td>\n      <td>2018-07-24 20:41:37</td>\n      <td>2018-07-26 03:24:27</td>\n      <td>2018-07-26 14:31:00</td>\n      <td>2018-08-07 15:27:45</td>\n      <td>2018-08-13 00:00:00</td>\n    </tr>\n    <tr>\n      <th>2</th>\n      <td>47770eb9100c2d0c44946d9cf07ec65d</td>\n      <td>41ce2a54c0b03bf3443c3d931a367089</td>\n      <td>delivered</td>\n      <td>2018-08-08 08:38:49</td>\n      <td>2018-08-08 08:55:23</td>\n      <td>2018-08-08 13:50:00</td>\n      <td>2018-08-17 18:06:29</td>\n      <td>2018-09-04 00:00:00</td>\n    </tr>\n    <tr>\n      <th>3</th>\n      <td>949d5b44dbf5de918fe9c16f97b45f8a</td>\n      <td>f88197465ea7920adcdbec7375364d82</td>\n      <td>delivered</td>\n      <td>2017-11-18 19:28:06</td>\n      <td>2017-11-18 19:45:59</td>\n      <td>2017-11-22 13:39:59</td>\n      <td>2017-12-02 00:28:42</td>\n      <td>2017-12-15 00:00:00</td>\n    </tr>\n    <tr>\n      <th>4</th>\n      <td>ad21c59c0840e6cb83a9ceb5573f8159</td>\n      <td>8ab97904e6daea8866dbdbc4fb7aad2c</td>\n      <td>delivered</td>\n      <td>2018-02-13 21:18:39</td>\n      <td>2018-02-13 22:20:29</td>\n      <td>2018-02-14 19:46:34</td>\n      <td>2018-02-16 18:17:02</td>\n      <td>2018-02-26 00:00:00</td>\n    </tr>\n    <tr>\n      <th>5</th>\n      <td>a4591c265e18cb1dcee52889e2d8acc3</td>\n      <td>503740e9ca751ccdda7ba28e9ab8f608</td>\n      <td>delivered</td>\n      <td>2017-07-09 21:57:05</td>\n      <td>2017-07-09 22:10:13</td>\n      <td>2017-07-11 14:58:04</td>\n      <td>2017-07-26 10:57:55</td>\n      <td>2017-08-01 00:00:00</td>\n    </tr>\n    <tr>\n      <th>6</th>\n      <td>136cce7faa42fdb2cefd53fdc79a6098</td>\n      <td>ed0271e0b7da060a393796590e7b737a</td>\n      <td>invoiced</td>\n      <td>2017-04-11 12:22:08</td>\n      <td>2017-04-13 13:25:17</td>\n      <td>NaN</td>\n      <td>NaN</td>\n      <td>2017-05-09 00:00:00</td>\n    </tr>\n  </tbody>\n</table>\n</div>"
     },
     "metadata": {}
    }
   ]
  },
  {
   "cell_type": "code",
   "metadata": {
    "cell_id": "5ef972e6fb2044c5a2be1be6f33829e5",
    "tags": [],
    "deepnote_to_be_reexecuted": false,
    "source_hash": "73061d04",
    "execution_start": 1650938134213,
    "execution_millis": 156,
    "deepnote_table_state": {
     "pageSize": 10,
     "pageIndex": 0,
     "filters": [
      {
       "id": "order_status",
       "value": "can",
       "type": "contains"
      }
     ],
     "sortBy": []
    },
    "deepnote_table_loading": false,
    "deepnote_cell_type": "code",
    "deepnote_cell_height": 667
   },
   "source": "orders['order_approved_at'] = pd.to_datetime(orders['order_approved_at'])\norders",
   "execution_count": null,
   "outputs": [
    {
     "output_type": "execute_result",
     "execution_count": 60,
     "data": {
      "application/vnd.deepnote.dataframe.v3+json": {
       "column_count": 8,
       "row_count": 625,
       "columns": [
        {
         "name": "order_id",
         "dtype": "object",
         "stats": {
          "unique_count": 625,
          "nan_count": 0,
          "categories": [
           {
            "name": "1b9ecfe83cdc259250e1a8aca174f0ad",
            "count": 1
           },
           {
            "name": "714fb133a6730ab81fa1d3c1b2007291",
            "count": 1
           },
           {
            "name": "623 others",
            "count": 623
           }
          ]
         }
        },
        {
         "name": "customer_id",
         "dtype": "object",
         "stats": {
          "unique_count": 625,
          "nan_count": 0,
          "categories": [
           {
            "name": "6d6b50b66d79f80827b6d96751528d30",
            "count": 1
           },
           {
            "name": "e3fe72696c4713d64d3c10afe71e75ed",
            "count": 1
           },
           {
            "name": "623 others",
            "count": 623
           }
          ]
         }
        },
        {
         "name": "order_status",
         "dtype": "object",
         "stats": {
          "unique_count": 1,
          "nan_count": 0,
          "categories": [
           {
            "name": "canceled",
            "count": 625
           }
          ]
         }
        },
        {
         "name": "order_purchase_timestamp",
         "dtype": "object",
         "stats": {
          "unique_count": 625,
          "nan_count": 0,
          "categories": [
           {
            "name": "2018-08-04 14:29:27",
            "count": 1
           },
           {
            "name": "2018-01-26 21:34:08",
            "count": 1
           },
           {
            "name": "623 others",
            "count": 623
           }
          ]
         }
        },
        {
         "name": "order_approved_at",
         "dtype": "datetime64[ns]",
         "stats": {
          "unique_count": 483,
          "nan_count": 141,
          "min": "2016-10-04 10:18:57",
          "max": "2018-08-24 11:45:18",
          "histogram": [
           {
            "bin_start": 1475576337000000000,
            "bin_end": 1481529815100000000,
            "count": 20
           },
           {
            "bin_start": 1481529815100000000,
            "bin_end": 1487483293200000000,
            "count": 11
           },
           {
            "bin_start": 1487483293200000000,
            "bin_end": 1493436771300000000,
            "count": 50
           },
           {
            "bin_start": 1493436771300000000,
            "bin_end": 1499390249400000000,
            "count": 36
           },
           {
            "bin_start": 1499390249400000000,
            "bin_end": 1505343727500000000,
            "count": 49
           },
           {
            "bin_start": 1505343727500000000,
            "bin_end": 1511297205600000000,
            "count": 54
           },
           {
            "bin_start": 1511297205600000000,
            "bin_end": 1517250683700000000,
            "count": 33
           },
           {
            "bin_start": 1517250683700000000,
            "bin_end": 1523204161800000000,
            "count": 106
           },
           {
            "bin_start": 1523204161800000000,
            "bin_end": 1529157639900000000,
            "count": 42
           },
           {
            "bin_start": 1529157639900000000,
            "bin_end": 1535111118000000000,
            "count": 83
           }
          ]
         }
        },
        {
         "name": "order_delivered_carrier_date",
         "dtype": "object",
         "stats": {
          "unique_count": 74,
          "nan_count": 550,
          "categories": [
           {
            "name": "2018-01-26 20:12:58",
            "count": 2
           },
           {
            "name": "73 others",
            "count": 73
           },
           {
            "name": "Missing",
            "count": 550
           }
          ]
         }
        },
        {
         "name": "order_delivered_customer_date",
         "dtype": "object",
         "stats": {
          "unique_count": 6,
          "nan_count": 619,
          "categories": [
           {
            "name": "2018-03-21 22:03:51",
            "count": 1
           },
           {
            "name": "5 others",
            "count": 5
           },
           {
            "name": "Missing",
            "count": 619
           }
          ]
         }
        },
        {
         "name": "order_estimated_delivery_date",
         "dtype": "object",
         "stats": {
          "unique_count": 289,
          "nan_count": 0,
          "categories": [
           {
            "name": "2018-03-09 00:00:00",
            "count": 9
           },
           {
            "name": "2018-03-07 00:00:00",
            "count": 9
           },
           {
            "name": "287 others",
            "count": 607
           }
          ]
         }
        },
        {
         "name": "_deepnote_index_column",
         "dtype": "int64"
        }
       ],
       "rows": [
        {
         "order_id": "1b9ecfe83cdc259250e1a8aca174f0ad",
         "customer_id": "6d6b50b66d79f80827b6d96751528d30",
         "order_status": "canceled",
         "order_purchase_timestamp": "2018-08-04 14:29:27",
         "order_approved_at": "2018-08-07 04:10:26",
         "order_delivered_carrier_date": "nan",
         "order_delivered_customer_date": "nan",
         "order_estimated_delivery_date": "2018-08-14 00:00:00",
         "_deepnote_index_column": 397
        },
        {
         "order_id": "714fb133a6730ab81fa1d3c1b2007291",
         "customer_id": "e3fe72696c4713d64d3c10afe71e75ed",
         "order_status": "canceled",
         "order_purchase_timestamp": "2018-01-26 21:34:08",
         "order_approved_at": "2018-01-26 21:58:39",
         "order_delivered_carrier_date": "2018-01-29 22:33:25",
         "order_delivered_customer_date": "nan",
         "order_estimated_delivery_date": "2018-02-22 00:00:00",
         "_deepnote_index_column": 613
        },
        {
         "order_id": "3a129877493c8189c59c60eb71d97c29",
         "customer_id": "0913cdce793684e52bbfac69d87e91fd",
         "order_status": "canceled",
         "order_purchase_timestamp": "2018-01-25 13:34:24",
         "order_approved_at": "2018-01-25 13:50:20",
         "order_delivered_carrier_date": "2018-01-26 21:42:18",
         "order_delivered_customer_date": "nan",
         "order_estimated_delivery_date": "2018-02-23 00:00:00",
         "_deepnote_index_column": 1058
        },
        {
         "order_id": "00b1cb0320190ca0daa2c88b35206009",
         "customer_id": "3532ba38a3fd242259a514ac2b6ae6b6",
         "order_status": "canceled",
         "order_purchase_timestamp": "2018-08-28 15:26:39",
         "order_approved_at": "NaT",
         "order_delivered_carrier_date": "nan",
         "order_delivered_customer_date": "nan",
         "order_estimated_delivery_date": "2018-09-12 00:00:00",
         "_deepnote_index_column": 1130
        },
        {
         "order_id": "ed3efbd3a87bea76c2812c66a0b32219",
         "customer_id": "191984a8ba4cbb2145acb4fe35b69664",
         "order_status": "canceled",
         "order_purchase_timestamp": "2018-09-20 13:54:16",
         "order_approved_at": "NaT",
         "order_delivered_carrier_date": "nan",
         "order_delivered_customer_date": "nan",
         "order_estimated_delivery_date": "2018-10-17 00:00:00",
         "_deepnote_index_column": 1801
        },
        {
         "order_id": "0966b61e30c4a07edbd7523f59b3f3e4",
         "customer_id": "2fcc597b8934d99715dbfff7909dd27f",
         "order_status": "canceled",
         "order_purchase_timestamp": "2018-05-22 18:50:55",
         "order_approved_at": "2018-05-22 19:17:15",
         "order_delivered_carrier_date": "nan",
         "order_delivered_customer_date": "nan",
         "order_estimated_delivery_date": "2018-07-03 00:00:00",
         "_deepnote_index_column": 1811
        },
        {
         "order_id": "9021cf1919f615a121410790dcce848f",
         "customer_id": "7acf55df0298e1d2c31200fb4f6fb93b",
         "order_status": "canceled",
         "order_purchase_timestamp": "2018-07-04 16:05:56",
         "order_approved_at": "2018-07-06 02:55:16",
         "order_delivered_carrier_date": "nan",
         "order_delivered_customer_date": "nan",
         "order_estimated_delivery_date": "2018-08-22 00:00:00",
         "_deepnote_index_column": 1819
        },
        {
         "order_id": "df8282afe61008dc26c6c31011474d02",
         "customer_id": "aa797b187b5466bc6925aaaa4bb3bed1",
         "order_status": "canceled",
         "order_purchase_timestamp": "2017-03-04 12:14:30",
         "order_approved_at": "NaT",
         "order_delivered_carrier_date": "nan",
         "order_delivered_customer_date": "nan",
         "order_estimated_delivery_date": "2017-04-10 00:00:00",
         "_deepnote_index_column": 1868
        },
        {
         "order_id": "a39d3db795a5cf4c8b6c9dd050f0d326",
         "customer_id": "ec66df2cb66dfda07c03050470e21f69",
         "order_status": "canceled",
         "order_purchase_timestamp": "2017-03-13 16:12:24",
         "order_approved_at": "2017-03-13 16:12:24",
         "order_delivered_carrier_date": "nan",
         "order_delivered_customer_date": "nan",
         "order_estimated_delivery_date": "2017-03-30 00:00:00",
         "_deepnote_index_column": 1971
        },
        {
         "order_id": "8d4c637f1accf7a88a4555f02741e606",
         "customer_id": "b1dd715db389a2077f43174e7a675d07",
         "order_status": "canceled",
         "order_purchase_timestamp": "2018-08-29 16:27:49",
         "order_approved_at": "NaT",
         "order_delivered_carrier_date": "nan",
         "order_delivered_customer_date": "nan",
         "order_estimated_delivery_date": "2018-09-13 00:00:00",
         "_deepnote_index_column": 2029
        }
       ]
      },
      "text/plain": "                               order_id                       customer_id  \\\n0      e481f51cbdc54678b7cc49136f2d6af7  9ef432eb6251297304e76186b10a928d   \n1      53cdb2fc8bc7dce0b6741e2150273451  b0830fb4747a6c6d20dea0b8c802d7ef   \n2      47770eb9100c2d0c44946d9cf07ec65d  41ce2a54c0b03bf3443c3d931a367089   \n3      949d5b44dbf5de918fe9c16f97b45f8a  f88197465ea7920adcdbec7375364d82   \n4      ad21c59c0840e6cb83a9ceb5573f8159  8ab97904e6daea8866dbdbc4fb7aad2c   \n...                                 ...                               ...   \n99436  9c5dedf39a927c1b2549525ed64a053c  39bd1228ee8140590ac3aca26f2dfe00   \n99437  63943bddc261676b46f01ca7ac2f7bd8  1fca14ff2861355f6e5f14306ff977a7   \n99438  83c1379a015df1e13d02aae0204711ab  1aa71eb042121263aafbe80c1b562c9c   \n99439  11c177c8e97725db2631073c19f07b62  b331b74b18dc79bcdf6532d51e1637c1   \n99440  66dea50a8b16d9b4dee7af250b4be1a5  edb027a75a1449115f6b43211ae02a24   \n\n      order_status order_purchase_timestamp   order_approved_at  \\\n0        delivered      2017-10-02 10:56:33 2017-10-02 11:07:15   \n1        delivered      2018-07-24 20:41:37 2018-07-26 03:24:27   \n2        delivered      2018-08-08 08:38:49 2018-08-08 08:55:23   \n3        delivered      2017-11-18 19:28:06 2017-11-18 19:45:59   \n4        delivered      2018-02-13 21:18:39 2018-02-13 22:20:29   \n...            ...                      ...                 ...   \n99436    delivered      2017-03-09 09:54:05 2017-03-09 09:54:05   \n99437    delivered      2018-02-06 12:58:58 2018-02-06 13:10:37   \n99438    delivered      2017-08-27 14:46:43 2017-08-27 15:04:16   \n99439    delivered      2018-01-08 21:28:27 2018-01-08 21:36:21   \n99440    delivered      2018-03-08 20:57:30 2018-03-09 11:20:28   \n\n      order_delivered_carrier_date order_delivered_customer_date  \\\n0              2017-10-04 19:55:00           2017-10-10 21:25:13   \n1              2018-07-26 14:31:00           2018-08-07 15:27:45   \n2              2018-08-08 13:50:00           2018-08-17 18:06:29   \n3              2017-11-22 13:39:59           2017-12-02 00:28:42   \n4              2018-02-14 19:46:34           2018-02-16 18:17:02   \n...                            ...                           ...   \n99436          2017-03-10 11:18:03           2017-03-17 15:08:01   \n99437          2018-02-07 23:22:42           2018-02-28 17:37:56   \n99438          2017-08-28 20:52:26           2017-09-21 11:24:17   \n99439          2018-01-12 15:35:03           2018-01-25 23:32:54   \n99440          2018-03-09 22:11:59           2018-03-16 13:08:30   \n\n      order_estimated_delivery_date  \n0               2017-10-18 00:00:00  \n1               2018-08-13 00:00:00  \n2               2018-09-04 00:00:00  \n3               2017-12-15 00:00:00  \n4               2018-02-26 00:00:00  \n...                             ...  \n99436           2017-03-28 00:00:00  \n99437           2018-03-02 00:00:00  \n99438           2017-09-27 00:00:00  \n99439           2018-02-15 00:00:00  \n99440           2018-04-03 00:00:00  \n\n[99441 rows x 8 columns]",
      "text/html": "<div>\n<style scoped>\n    .dataframe tbody tr th:only-of-type {\n        vertical-align: middle;\n    }\n\n    .dataframe tbody tr th {\n        vertical-align: top;\n    }\n\n    .dataframe thead th {\n        text-align: right;\n    }\n</style>\n<table border=\"1\" class=\"dataframe\">\n  <thead>\n    <tr style=\"text-align: right;\">\n      <th></th>\n      <th>order_id</th>\n      <th>customer_id</th>\n      <th>order_status</th>\n      <th>order_purchase_timestamp</th>\n      <th>order_approved_at</th>\n      <th>order_delivered_carrier_date</th>\n      <th>order_delivered_customer_date</th>\n      <th>order_estimated_delivery_date</th>\n    </tr>\n  </thead>\n  <tbody>\n    <tr>\n      <th>0</th>\n      <td>e481f51cbdc54678b7cc49136f2d6af7</td>\n      <td>9ef432eb6251297304e76186b10a928d</td>\n      <td>delivered</td>\n      <td>2017-10-02 10:56:33</td>\n      <td>2017-10-02 11:07:15</td>\n      <td>2017-10-04 19:55:00</td>\n      <td>2017-10-10 21:25:13</td>\n      <td>2017-10-18 00:00:00</td>\n    </tr>\n    <tr>\n      <th>1</th>\n      <td>53cdb2fc8bc7dce0b6741e2150273451</td>\n      <td>b0830fb4747a6c6d20dea0b8c802d7ef</td>\n      <td>delivered</td>\n      <td>2018-07-24 20:41:37</td>\n      <td>2018-07-26 03:24:27</td>\n      <td>2018-07-26 14:31:00</td>\n      <td>2018-08-07 15:27:45</td>\n      <td>2018-08-13 00:00:00</td>\n    </tr>\n    <tr>\n      <th>2</th>\n      <td>47770eb9100c2d0c44946d9cf07ec65d</td>\n      <td>41ce2a54c0b03bf3443c3d931a367089</td>\n      <td>delivered</td>\n      <td>2018-08-08 08:38:49</td>\n      <td>2018-08-08 08:55:23</td>\n      <td>2018-08-08 13:50:00</td>\n      <td>2018-08-17 18:06:29</td>\n      <td>2018-09-04 00:00:00</td>\n    </tr>\n    <tr>\n      <th>3</th>\n      <td>949d5b44dbf5de918fe9c16f97b45f8a</td>\n      <td>f88197465ea7920adcdbec7375364d82</td>\n      <td>delivered</td>\n      <td>2017-11-18 19:28:06</td>\n      <td>2017-11-18 19:45:59</td>\n      <td>2017-11-22 13:39:59</td>\n      <td>2017-12-02 00:28:42</td>\n      <td>2017-12-15 00:00:00</td>\n    </tr>\n    <tr>\n      <th>4</th>\n      <td>ad21c59c0840e6cb83a9ceb5573f8159</td>\n      <td>8ab97904e6daea8866dbdbc4fb7aad2c</td>\n      <td>delivered</td>\n      <td>2018-02-13 21:18:39</td>\n      <td>2018-02-13 22:20:29</td>\n      <td>2018-02-14 19:46:34</td>\n      <td>2018-02-16 18:17:02</td>\n      <td>2018-02-26 00:00:00</td>\n    </tr>\n    <tr>\n      <th>...</th>\n      <td>...</td>\n      <td>...</td>\n      <td>...</td>\n      <td>...</td>\n      <td>...</td>\n      <td>...</td>\n      <td>...</td>\n      <td>...</td>\n    </tr>\n    <tr>\n      <th>99436</th>\n      <td>9c5dedf39a927c1b2549525ed64a053c</td>\n      <td>39bd1228ee8140590ac3aca26f2dfe00</td>\n      <td>delivered</td>\n      <td>2017-03-09 09:54:05</td>\n      <td>2017-03-09 09:54:05</td>\n      <td>2017-03-10 11:18:03</td>\n      <td>2017-03-17 15:08:01</td>\n      <td>2017-03-28 00:00:00</td>\n    </tr>\n    <tr>\n      <th>99437</th>\n      <td>63943bddc261676b46f01ca7ac2f7bd8</td>\n      <td>1fca14ff2861355f6e5f14306ff977a7</td>\n      <td>delivered</td>\n      <td>2018-02-06 12:58:58</td>\n      <td>2018-02-06 13:10:37</td>\n      <td>2018-02-07 23:22:42</td>\n      <td>2018-02-28 17:37:56</td>\n      <td>2018-03-02 00:00:00</td>\n    </tr>\n    <tr>\n      <th>99438</th>\n      <td>83c1379a015df1e13d02aae0204711ab</td>\n      <td>1aa71eb042121263aafbe80c1b562c9c</td>\n      <td>delivered</td>\n      <td>2017-08-27 14:46:43</td>\n      <td>2017-08-27 15:04:16</td>\n      <td>2017-08-28 20:52:26</td>\n      <td>2017-09-21 11:24:17</td>\n      <td>2017-09-27 00:00:00</td>\n    </tr>\n    <tr>\n      <th>99439</th>\n      <td>11c177c8e97725db2631073c19f07b62</td>\n      <td>b331b74b18dc79bcdf6532d51e1637c1</td>\n      <td>delivered</td>\n      <td>2018-01-08 21:28:27</td>\n      <td>2018-01-08 21:36:21</td>\n      <td>2018-01-12 15:35:03</td>\n      <td>2018-01-25 23:32:54</td>\n      <td>2018-02-15 00:00:00</td>\n    </tr>\n    <tr>\n      <th>99440</th>\n      <td>66dea50a8b16d9b4dee7af250b4be1a5</td>\n      <td>edb027a75a1449115f6b43211ae02a24</td>\n      <td>delivered</td>\n      <td>2018-03-08 20:57:30</td>\n      <td>2018-03-09 11:20:28</td>\n      <td>2018-03-09 22:11:59</td>\n      <td>2018-03-16 13:08:30</td>\n      <td>2018-04-03 00:00:00</td>\n    </tr>\n  </tbody>\n</table>\n<p>99441 rows × 8 columns</p>\n</div>"
     },
     "metadata": {}
    }
   ]
  },
  {
   "cell_type": "code",
   "metadata": {
    "cell_id": "5c10acd08eab44059f8f6363ea3c96f2",
    "tags": [],
    "deepnote_to_be_reexecuted": false,
    "source_hash": "f1935096",
    "execution_start": 1650937957880,
    "execution_millis": 2,
    "deepnote_cell_type": "code",
    "deepnote_cell_height": 118
   },
   "source": "orders.shape",
   "execution_count": null,
   "outputs": [
    {
     "output_type": "execute_result",
     "execution_count": 53,
     "data": {
      "text/plain": "(99441, 8)"
     },
     "metadata": {}
    }
   ]
  },
  {
   "cell_type": "code",
   "metadata": {
    "cell_id": "c59a892371644f54a300aa8f615fd075",
    "tags": [],
    "deepnote_to_be_reexecuted": false,
    "source_hash": "b9dc5fe1",
    "execution_start": 1650937957881,
    "execution_millis": 48,
    "deepnote_cell_type": "code",
    "deepnote_cell_height": 394.8125
   },
   "source": "orders.info()",
   "execution_count": null,
   "outputs": [
    {
     "name": "stdout",
     "text": "<class 'pandas.core.frame.DataFrame'>\nRangeIndex: 99441 entries, 0 to 99440\nData columns (total 8 columns):\n #   Column                         Non-Null Count  Dtype \n---  ------                         --------------  ----- \n 0   order_id                       99441 non-null  object\n 1   customer_id                    99441 non-null  object\n 2   order_status                   99441 non-null  object\n 3   order_purchase_timestamp       99441 non-null  object\n 4   order_approved_at              99281 non-null  object\n 5   order_delivered_carrier_date   97658 non-null  object\n 6   order_delivered_customer_date  96476 non-null  object\n 7   order_estimated_delivery_date  99441 non-null  object\ndtypes: object(8)\nmemory usage: 6.1+ MB\n",
     "output_type": "stream"
    }
   ]
  },
  {
   "cell_type": "code",
   "metadata": {
    "cell_id": "e5d4b4ae0eab4aa782f8ba66801f1bb9",
    "tags": [],
    "deepnote_to_be_reexecuted": false,
    "source_hash": "e308c7fd",
    "execution_start": 1650937957927,
    "execution_millis": 3,
    "deepnote_cell_type": "code",
    "deepnote_cell_height": 271.6875,
    "deepnote_output_heights": [
     174.6875
    ]
   },
   "source": "orders.dtypes",
   "execution_count": null,
   "outputs": [
    {
     "output_type": "execute_result",
     "execution_count": 55,
     "data": {
      "text/plain": "order_id                         object\ncustomer_id                      object\norder_status                     object\norder_purchase_timestamp         object\norder_approved_at                object\norder_delivered_carrier_date     object\norder_delivered_customer_date    object\norder_estimated_delivery_date    object\ndtype: object"
     },
     "metadata": {}
    }
   ]
  },
  {
   "cell_type": "code",
   "metadata": {
    "cell_id": "94d6654c94ab4a34812891186219087a",
    "tags": [],
    "deepnote_to_be_reexecuted": false,
    "source_hash": "a6117d10",
    "execution_start": 1650937957928,
    "execution_millis": 62,
    "deepnote_cell_type": "code",
    "deepnote_cell_height": 270
   },
   "source": "orders.convert_dtypes().dtypes",
   "execution_count": null,
   "outputs": [
    {
     "output_type": "execute_result",
     "execution_count": 56,
     "data": {
      "text/plain": "order_id                         string\ncustomer_id                      string\norder_status                     string\norder_purchase_timestamp         string\norder_approved_at                string\norder_delivered_carrier_date     string\norder_delivered_customer_date    string\norder_estimated_delivery_date    string\ndtype: object"
     },
     "metadata": {}
    }
   ]
  },
  {
   "cell_type": "code",
   "metadata": {
    "cell_id": "d5f59ce6afdc41a799fae3f953708d4f",
    "tags": [],
    "deepnote_to_be_reexecuted": false,
    "source_hash": "3917e9a6",
    "execution_start": 1650937957990,
    "execution_millis": 28,
    "deepnote_table_state": {
     "pageSize": 50,
     "pageIndex": 0,
     "filters": [],
     "sortBy": []
    },
    "deepnote_table_loading": false,
    "deepnote_cell_type": "code",
    "deepnote_cell_height": 248
   },
   "source": "orders.sample()",
   "execution_count": null,
   "outputs": [
    {
     "output_type": "execute_result",
     "execution_count": 57,
     "data": {
      "application/vnd.deepnote.dataframe.v3+json": {
       "column_count": 8,
       "row_count": 1,
       "columns": [
        {
         "name": "order_id",
         "dtype": "object",
         "stats": {
          "unique_count": 1,
          "nan_count": 0,
          "categories": [
           {
            "name": "28f3ef4df1e409cd6f55d7d67fc81a9f",
            "count": 1
           }
          ]
         }
        },
        {
         "name": "customer_id",
         "dtype": "object",
         "stats": {
          "unique_count": 1,
          "nan_count": 0,
          "categories": [
           {
            "name": "22272f1666fcfc5100100e0c7a41e738",
            "count": 1
           }
          ]
         }
        },
        {
         "name": "order_status",
         "dtype": "object",
         "stats": {
          "unique_count": 1,
          "nan_count": 0,
          "categories": [
           {
            "name": "delivered",
            "count": 1
           }
          ]
         }
        },
        {
         "name": "order_purchase_timestamp",
         "dtype": "object",
         "stats": {
          "unique_count": 1,
          "nan_count": 0,
          "categories": [
           {
            "name": "2018-08-16 08:42:47",
            "count": 1
           }
          ]
         }
        },
        {
         "name": "order_approved_at",
         "dtype": "object",
         "stats": {
          "unique_count": 1,
          "nan_count": 0,
          "categories": [
           {
            "name": "2018-08-16 08:55:25",
            "count": 1
           }
          ]
         }
        },
        {
         "name": "order_delivered_carrier_date",
         "dtype": "object",
         "stats": {
          "unique_count": 1,
          "nan_count": 0,
          "categories": [
           {
            "name": "2018-08-17 13:51:00",
            "count": 1
           }
          ]
         }
        },
        {
         "name": "order_delivered_customer_date",
         "dtype": "object",
         "stats": {
          "unique_count": 1,
          "nan_count": 0,
          "categories": [
           {
            "name": "2018-08-22 17:38:33",
            "count": 1
           }
          ]
         }
        },
        {
         "name": "order_estimated_delivery_date",
         "dtype": "object",
         "stats": {
          "unique_count": 1,
          "nan_count": 0,
          "categories": [
           {
            "name": "2018-08-31 00:00:00",
            "count": 1
           }
          ]
         }
        },
        {
         "name": "_deepnote_index_column",
         "dtype": "int64"
        }
       ],
       "rows": [
        {
         "order_id": "28f3ef4df1e409cd6f55d7d67fc81a9f",
         "customer_id": "22272f1666fcfc5100100e0c7a41e738",
         "order_status": "delivered",
         "order_purchase_timestamp": "2018-08-16 08:42:47",
         "order_approved_at": "2018-08-16 08:55:25",
         "order_delivered_carrier_date": "2018-08-17 13:51:00",
         "order_delivered_customer_date": "2018-08-22 17:38:33",
         "order_estimated_delivery_date": "2018-08-31 00:00:00",
         "_deepnote_index_column": 58857
        }
       ]
      },
      "text/plain": "                               order_id                       customer_id  \\\n58857  28f3ef4df1e409cd6f55d7d67fc81a9f  22272f1666fcfc5100100e0c7a41e738   \n\n      order_status order_purchase_timestamp    order_approved_at  \\\n58857    delivered      2018-08-16 08:42:47  2018-08-16 08:55:25   \n\n      order_delivered_carrier_date order_delivered_customer_date  \\\n58857          2018-08-17 13:51:00           2018-08-22 17:38:33   \n\n      order_estimated_delivery_date  \n58857           2018-08-31 00:00:00  ",
      "text/html": "<div>\n<style scoped>\n    .dataframe tbody tr th:only-of-type {\n        vertical-align: middle;\n    }\n\n    .dataframe tbody tr th {\n        vertical-align: top;\n    }\n\n    .dataframe thead th {\n        text-align: right;\n    }\n</style>\n<table border=\"1\" class=\"dataframe\">\n  <thead>\n    <tr style=\"text-align: right;\">\n      <th></th>\n      <th>order_id</th>\n      <th>customer_id</th>\n      <th>order_status</th>\n      <th>order_purchase_timestamp</th>\n      <th>order_approved_at</th>\n      <th>order_delivered_carrier_date</th>\n      <th>order_delivered_customer_date</th>\n      <th>order_estimated_delivery_date</th>\n    </tr>\n  </thead>\n  <tbody>\n    <tr>\n      <th>58857</th>\n      <td>28f3ef4df1e409cd6f55d7d67fc81a9f</td>\n      <td>22272f1666fcfc5100100e0c7a41e738</td>\n      <td>delivered</td>\n      <td>2018-08-16 08:42:47</td>\n      <td>2018-08-16 08:55:25</td>\n      <td>2018-08-17 13:51:00</td>\n      <td>2018-08-22 17:38:33</td>\n      <td>2018-08-31 00:00:00</td>\n    </tr>\n  </tbody>\n</table>\n</div>"
     },
     "metadata": {}
    }
   ]
  },
  {
   "cell_type": "markdown",
   "source": "<a style='text-decoration:none;line-height:16px;display:flex;color:#5B5B62;padding:10px;justify-content:end;' href='https://deepnote.com?utm_source=created-in-deepnote-cell&projectId=121826e1-6393-4f2b-82a6-a1186eee7df2' target=\"_blank\">\n<img alt='Created in deepnote.com' style='display:inline;max-height:16px;margin:0px;margin-right:7.5px;' src='data:image/svg+xml;base64,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' > </img>\nCreated in <span style='font-weight:600;margin-left:4px;'>Deepnote</span></a>",
   "metadata": {
    "tags": [],
    "created_in_deepnote_cell": true,
    "deepnote_cell_type": "markdown"
   }
  }
 ],
 "nbformat": 4,
 "nbformat_minor": 2,
 "metadata": {
  "orig_nbformat": 2,
  "deepnote": {
   "is_reactive": false
  },
  "deepnote_notebook_id": "73f7bd87-a425-42e5-bc22-c20a21cbd0f6",
  "deepnote_execution_queue": []
 }
}