{
 "cells": [
  {
   "cell_type": "markdown",
   "source": "# Libraries",
   "metadata": {
    "formattedRanges": [],
    "cell_id": "d6b30f9b091c4fa9834b2f85a00b2a60",
    "tags": [],
    "is_collapsed": false,
    "deepnote_cell_type": "text-cell-h1"
   }
  },
  {
   "cell_type": "code",
   "metadata": {
    "tags": [],
    "cell_id": "3440c9e3-30c0-43f7-90c7-54cf308ec67f",
    "deepnote_to_be_reexecuted": false,
    "source_hash": "c76c7c51",
    "execution_start": 1651114386855,
    "execution_millis": 42,
    "deepnote_cell_type": "code",
    "deepnote_cell_height": 63
   },
   "source": "import pandas as pd\nimport numpy as np",
   "execution_count": null,
   "outputs": []
  },
  {
   "cell_type": "markdown",
   "source": "# Reading files",
   "metadata": {
    "formattedRanges": [],
    "cell_id": "0dcce77be4ab45559ec05dd2f2574708",
    "tags": [],
    "is_collapsed": false,
    "deepnote_cell_type": "text-cell-h1"
   }
  },
  {
   "cell_type": "code",
   "metadata": {
    "cell_id": "0af611bc9cae49fa83b5df6d29344548",
    "tags": [],
    "deepnote_to_be_reexecuted": false,
    "source_hash": "81513b34",
    "execution_start": 1651114386898,
    "execution_millis": 816,
    "deepnote_cell_type": "code",
    "deepnote_cell_height": 63
   },
   "source": "dir_pandas = '/datasets/drive/platzi_master/proyecto_1/{}'\nitems = pd.read_csv(dir_pandas.format('olist_order_items_dataset.csv')).convert_dtypes()\nsellers = pd.read_csv(dir_pandas.format('olist_sellers_dataset.csv')).convert_dtypes()\norders = pd.read_csv(dir_pandas.format('olist_orders_dataset.csv')).convert_dtypes()\nproducts = pd.read_csv(dir_pandas.format('olist_products_dataset.csv')).convert_dtypes()",
   "execution_count": null,
   "outputs": []
  },
  {
   "cell_type": "markdown",
   "source": "## Applying correct date format",
   "metadata": {
    "formattedRanges": [],
    "cell_id": "017893c7ce464bd1ae2a0c9d1c85f165",
    "tags": [],
    "is_collapsed": false,
    "deepnote_cell_type": "text-cell-h2"
   }
  },
  {
   "cell_type": "code",
   "metadata": {
    "cell_id": "3007d44dfc264551a7a7f32b6a3c987f",
    "tags": [],
    "deepnote_to_be_reexecuted": false,
    "source_hash": "bf5adf25",
    "execution_start": 1651114387720,
    "execution_millis": 9049,
    "deepnote_cell_type": "code",
    "deepnote_cell_height": 63
   },
   "source": "items['shipping_limit_date'] = items['shipping_limit_date'].apply(pd.to_datetime)\norders.iloc[:,3:] = orders.iloc[:,3:].apply(pd.to_datetime)",
   "execution_count": null,
   "outputs": []
  },
  {
   "cell_type": "markdown",
   "source": "## Joining tables",
   "metadata": {
    "formattedRanges": [],
    "cell_id": "17f7e1c7c06049378f0fd7a941291f0a",
    "tags": [],
    "is_collapsed": false,
    "deepnote_cell_type": "text-cell-h2"
   }
  },
  {
   "cell_type": "markdown",
   "source": "Joined items and sellers tables to obtain the orders' city. Joined items and orders tables to obtain the orders' dates.",
   "metadata": {
    "formattedRanges": [],
    "cell_id": "5c5922fa496841be9fbd4f60b1ece5a1",
    "tags": [],
    "is_collapsed": false,
    "deepnote_cell_type": "text-cell-p"
   }
  },
  {
   "cell_type": "code",
   "metadata": {
    "cell_id": "dde3acf7e28540c595642b21cc9b9ac8",
    "tags": [],
    "deepnote_to_be_reexecuted": false,
    "source_hash": "ab32b4e5",
    "execution_start": 1651114396780,
    "execution_millis": 286,
    "deepnote_table_state": {
     "pageSize": 10,
     "pageIndex": 0,
     "filters": [],
     "sortBy": []
    },
    "deepnote_table_loading": false,
    "deepnote_cell_type": "code",
    "deepnote_cell_height": 582
   },
   "source": "items_sellers = pd.merge(items, sellers, how='left', on='seller_id')\norders_items = pd.merge(items, orders, how='left', on='order_id')\norders_items['order_year'] = pd.DatetimeIndex(orders_items['order_approved_at']).year\norders_items",
   "execution_count": null,
   "outputs": [
    {
     "output_type": "execute_result",
     "execution_count": 4,
     "data": {
      "application/vnd.deepnote.dataframe.v3+json": {
       "column_count": 15,
       "row_count": 112650,
       "columns": [
        {
         "name": "order_id",
         "dtype": "string"
        },
        {
         "name": "order_item_id",
         "dtype": "Int64"
        },
        {
         "name": "product_id",
         "dtype": "string"
        },
        {
         "name": "seller_id",
         "dtype": "string"
        },
        {
         "name": "shipping_limit_date",
         "dtype": "datetime64[ns]"
        },
        {
         "name": "price",
         "dtype": "Float64"
        },
        {
         "name": "freight_value",
         "dtype": "Float64"
        },
        {
         "name": "customer_id",
         "dtype": "string"
        },
        {
         "name": "order_status",
         "dtype": "string"
        },
        {
         "name": "order_purchase_timestamp",
         "dtype": "datetime64[ns]"
        },
        {
         "name": "order_approved_at",
         "dtype": "datetime64[ns]"
        },
        {
         "name": "order_delivered_carrier_date",
         "dtype": "datetime64[ns]"
        },
        {
         "name": "order_delivered_customer_date",
         "dtype": "datetime64[ns]"
        },
        {
         "name": "order_estimated_delivery_date",
         "dtype": "datetime64[ns]"
        },
        {
         "name": "order_year",
         "dtype": "float64"
        },
        {
         "name": "_deepnote_index_column",
         "dtype": "int64"
        }
       ],
       "rows": [
        {
         "order_id": "00010242fe8c5a6d1ba2dd792cb16214",
         "order_item_id": 1,
         "product_id": "4244733e06e7ecb4970a6e2683c13e61",
         "seller_id": "48436dade18ac8b2bce089ec2a041202",
         "shipping_limit_date": "2017-09-19T09:45:35.000000",
         "price": 58.9,
         "freight_value": 13.29,
         "customer_id": "3ce436f183e68e07877b285a838db11a",
         "order_status": "delivered",
         "order_purchase_timestamp": "2017-09-13T08:59:02.000000",
         "order_approved_at": "2017-09-13T09:45:35.000000",
         "order_delivered_carrier_date": "2017-09-19T18:34:16.000000",
         "order_delivered_customer_date": "2017-09-20T23:43:48.000000",
         "order_estimated_delivery_date": "2017-09-29T00:00:00.000000",
         "order_year": 2017,
         "_deepnote_index_column": 0
        },
        {
         "order_id": "00018f77f2f0320c557190d7a144bdd3",
         "order_item_id": 1,
         "product_id": "e5f2d52b802189ee658865ca93d83a8f",
         "seller_id": "dd7ddc04e1b6c2c614352b383efe2d36",
         "shipping_limit_date": "2017-05-03T11:05:13.000000",
         "price": 239.9,
         "freight_value": 19.93,
         "customer_id": "f6dd3ec061db4e3987629fe6b26e5cce",
         "order_status": "delivered",
         "order_purchase_timestamp": "2017-04-26T10:53:06.000000",
         "order_approved_at": "2017-04-26T11:05:13.000000",
         "order_delivered_carrier_date": "2017-05-04T14:35:00.000000",
         "order_delivered_customer_date": "2017-05-12T16:04:24.000000",
         "order_estimated_delivery_date": "2017-05-15T00:00:00.000000",
         "order_year": 2017,
         "_deepnote_index_column": 1
        },
        {
         "order_id": "000229ec398224ef6ca0657da4fc703e",
         "order_item_id": 1,
         "product_id": "c777355d18b72b67abbeef9df44fd0fd",
         "seller_id": "5b51032eddd242adc84c38acab88f23d",
         "shipping_limit_date": "2018-01-18T14:48:30.000000",
         "price": 199,
         "freight_value": 17.87,
         "customer_id": "6489ae5e4333f3693df5ad4372dab6d3",
         "order_status": "delivered",
         "order_purchase_timestamp": "2018-01-14T14:33:31.000000",
         "order_approved_at": "2018-01-14T14:48:30.000000",
         "order_delivered_carrier_date": "2018-01-16T12:36:48.000000",
         "order_delivered_customer_date": "2018-01-22T13:19:16.000000",
         "order_estimated_delivery_date": "2018-02-05T00:00:00.000000",
         "order_year": 2018,
         "_deepnote_index_column": 2
        },
        {
         "order_id": "00024acbcdf0a6daa1e931b038114c75",
         "order_item_id": 1,
         "product_id": "7634da152a4610f1595efa32f14722fc",
         "seller_id": "9d7a1d34a5052409006425275ba1c2b4",
         "shipping_limit_date": "2018-08-15T10:10:18.000000",
         "price": 12.99,
         "freight_value": 12.79,
         "customer_id": "d4eb9395c8c0431ee92fce09860c5a06",
         "order_status": "delivered",
         "order_purchase_timestamp": "2018-08-08T10:00:35.000000",
         "order_approved_at": "2018-08-08T10:10:18.000000",
         "order_delivered_carrier_date": "2018-08-10T13:28:00.000000",
         "order_delivered_customer_date": "2018-08-14T13:32:39.000000",
         "order_estimated_delivery_date": "2018-08-20T00:00:00.000000",
         "order_year": 2018,
         "_deepnote_index_column": 3
        },
        {
         "order_id": "00042b26cf59d7ce69dfabb4e55b4fd9",
         "order_item_id": 1,
         "product_id": "ac6c3623068f30de03045865e4e10089",
         "seller_id": "df560393f3a51e74553ab94004ba5c87",
         "shipping_limit_date": "2017-02-13T13:57:51.000000",
         "price": 199.9,
         "freight_value": 18.14,
         "customer_id": "58dbd0b2d70206bf40e62cd34e84d795",
         "order_status": "delivered",
         "order_purchase_timestamp": "2017-02-04T13:57:51.000000",
         "order_approved_at": "2017-02-04T14:10:13.000000",
         "order_delivered_carrier_date": "2017-02-16T09:46:09.000000",
         "order_delivered_customer_date": "2017-03-01T16:42:31.000000",
         "order_estimated_delivery_date": "2017-03-17T00:00:00.000000",
         "order_year": 2017,
         "_deepnote_index_column": 4
        },
        {
         "order_id": "00048cc3ae777c65dbb7d2a0634bc1ea",
         "order_item_id": 1,
         "product_id": "ef92defde845ab8450f9d70c526ef70f",
         "seller_id": "6426d21aca402a131fc0a5d0960a3c90",
         "shipping_limit_date": "2017-05-23T03:55:27.000000",
         "price": 21.9,
         "freight_value": 12.69,
         "customer_id": "816cbea969fe5b689b39cfc97a506742",
         "order_status": "delivered",
         "order_purchase_timestamp": "2017-05-15T21:42:34.000000",
         "order_approved_at": "2017-05-17T03:55:27.000000",
         "order_delivered_carrier_date": "2017-05-17T11:05:55.000000",
         "order_delivered_customer_date": "2017-05-22T13:44:35.000000",
         "order_estimated_delivery_date": "2017-06-06T00:00:00.000000",
         "order_year": 2017,
         "_deepnote_index_column": 5
        },
        {
         "order_id": "00054e8431b9d7675808bcb819fb4a32",
         "order_item_id": 1,
         "product_id": "8d4f2bb7e93e6710a28f34fa83ee7d28",
         "seller_id": "7040e82f899a04d1b434b795a43b4617",
         "shipping_limit_date": "2017-12-14T12:10:31.000000",
         "price": 19.9,
         "freight_value": 11.85,
         "customer_id": "32e2e6ab09e778d99bf2e0ecd4898718",
         "order_status": "delivered",
         "order_purchase_timestamp": "2017-12-10T11:53:48.000000",
         "order_approved_at": "2017-12-10T12:10:31.000000",
         "order_delivered_carrier_date": "2017-12-12T01:07:48.000000",
         "order_delivered_customer_date": "2017-12-18T22:03:38.000000",
         "order_estimated_delivery_date": "2018-01-04T00:00:00.000000",
         "order_year": 2017,
         "_deepnote_index_column": 6
        },
        {
         "order_id": "000576fe39319847cbb9d288c5617fa6",
         "order_item_id": 1,
         "product_id": "557d850972a7d6f792fd18ae1400d9b6",
         "seller_id": "5996cddab893a4652a15592fb58ab8db",
         "shipping_limit_date": "2018-07-10T12:30:45.000000",
         "price": 810,
         "freight_value": 70.75,
         "customer_id": "9ed5e522dd9dd85b4af4a077526d8117",
         "order_status": "delivered",
         "order_purchase_timestamp": "2018-07-04T12:08:27.000000",
         "order_approved_at": "2018-07-05T16:35:48.000000",
         "order_delivered_carrier_date": "2018-07-05T12:15:00.000000",
         "order_delivered_customer_date": "2018-07-09T14:04:07.000000",
         "order_estimated_delivery_date": "2018-07-25T00:00:00.000000",
         "order_year": 2018,
         "_deepnote_index_column": 7
        },
        {
         "order_id": "0005a1a1728c9d785b8e2b08b904576c",
         "order_item_id": 1,
         "product_id": "310ae3c140ff94b03219ad0adc3c778f",
         "seller_id": "a416b6a846a11724393025641d4edd5e",
         "shipping_limit_date": "2018-03-26T18:31:29.000000",
         "price": 145.95,
         "freight_value": 11.65,
         "customer_id": "16150771dfd4776261284213b89c304e",
         "order_status": "delivered",
         "order_purchase_timestamp": "2018-03-19T18:40:33.000000",
         "order_approved_at": "2018-03-20T18:35:21.000000",
         "order_delivered_carrier_date": "2018-03-28T00:37:42.000000",
         "order_delivered_customer_date": "2018-03-29T18:17:31.000000",
         "order_estimated_delivery_date": "2018-03-29T00:00:00.000000",
         "order_year": 2018,
         "_deepnote_index_column": 8
        },
        {
         "order_id": "0005f50442cb953dcd1d21e1fb923495",
         "order_item_id": 1,
         "product_id": "4535b0e1091c278dfd193e5a1d63b39f",
         "seller_id": "ba143b05f0110f0dc71ad71b4466ce92",
         "shipping_limit_date": "2018-07-06T14:10:56.000000",
         "price": 53.99,
         "freight_value": 11.4,
         "customer_id": "351d3cb2cee3c7fd0af6616c82df21d3",
         "order_status": "delivered",
         "order_purchase_timestamp": "2018-07-02T13:59:39.000000",
         "order_approved_at": "2018-07-02T14:10:56.000000",
         "order_delivered_carrier_date": "2018-07-03T14:25:00.000000",
         "order_delivered_customer_date": "2018-07-04T17:28:31.000000",
         "order_estimated_delivery_date": "2018-07-23T00:00:00.000000",
         "order_year": 2018,
         "_deepnote_index_column": 9
        }
       ]
      },
      "text/plain": "                                order_id  order_item_id  \\\n0       00010242fe8c5a6d1ba2dd792cb16214              1   \n1       00018f77f2f0320c557190d7a144bdd3              1   \n2       000229ec398224ef6ca0657da4fc703e              1   \n3       00024acbcdf0a6daa1e931b038114c75              1   \n4       00042b26cf59d7ce69dfabb4e55b4fd9              1   \n...                                  ...            ...   \n112645  fffc94f6ce00a00581880bf54a75a037              1   \n112646  fffcd46ef2263f404302a634eb57f7eb              1   \n112647  fffce4705a9662cd70adb13d4a31832d              1   \n112648  fffe18544ffabc95dfada21779c9644f              1   \n112649  fffe41c64501cc87c801fd61db3f6244              1   \n\n                              product_id                         seller_id  \\\n0       4244733e06e7ecb4970a6e2683c13e61  48436dade18ac8b2bce089ec2a041202   \n1       e5f2d52b802189ee658865ca93d83a8f  dd7ddc04e1b6c2c614352b383efe2d36   \n2       c777355d18b72b67abbeef9df44fd0fd  5b51032eddd242adc84c38acab88f23d   \n3       7634da152a4610f1595efa32f14722fc  9d7a1d34a5052409006425275ba1c2b4   \n4       ac6c3623068f30de03045865e4e10089  df560393f3a51e74553ab94004ba5c87   \n...                                  ...                               ...   \n112645  4aa6014eceb682077f9dc4bffebc05b0  b8bc237ba3788b23da09c0f1f3a3288c   \n112646  32e07fd915822b0765e448c4dd74c828  f3c38ab652836d21de61fb8314b69182   \n112647  72a30483855e2eafc67aee5dc2560482  c3cfdc648177fdbbbb35635a37472c53   \n112648  9c422a519119dcad7575db5af1ba540e  2b3e4a2a3ea8e01938cabda2a3e5cc79   \n112649  350688d9dc1e75ff97be326363655e01  f7ccf836d21b2fb1de37564105216cc1   \n\n       shipping_limit_date   price  freight_value  \\\n0      2017-09-19 09:45:35    58.9          13.29   \n1      2017-05-03 11:05:13   239.9          19.93   \n2      2018-01-18 14:48:30   199.0          17.87   \n3      2018-08-15 10:10:18   12.99          12.79   \n4      2017-02-13 13:57:51   199.9          18.14   \n...                    ...     ...            ...   \n112645 2018-05-02 04:11:01  299.99          43.41   \n112646 2018-07-20 04:31:48   350.0          36.53   \n112647 2017-10-30 17:14:25    99.9          16.95   \n112648 2017-08-21 00:04:32   55.99           8.72   \n112649 2018-06-12 17:10:13    43.0          12.79   \n\n                             customer_id order_status  \\\n0       3ce436f183e68e07877b285a838db11a    delivered   \n1       f6dd3ec061db4e3987629fe6b26e5cce    delivered   \n2       6489ae5e4333f3693df5ad4372dab6d3    delivered   \n3       d4eb9395c8c0431ee92fce09860c5a06    delivered   \n4       58dbd0b2d70206bf40e62cd34e84d795    delivered   \n...                                  ...          ...   \n112645  b51593916b4b8e0d6f66f2ae24f2673d    delivered   \n112646  84c5d4fbaf120aae381fad077416eaa0    delivered   \n112647  29309aa813182aaddc9b259e31b870e6    delivered   \n112648  b5e6afd5a41800fdf401e0272ca74655    delivered   \n112649  96d649da0cc4ff33bb408b199d4c7dcf    delivered   \n\n       order_purchase_timestamp   order_approved_at  \\\n0           2017-09-13 08:59:02 2017-09-13 09:45:35   \n1           2017-04-26 10:53:06 2017-04-26 11:05:13   \n2           2018-01-14 14:33:31 2018-01-14 14:48:30   \n3           2018-08-08 10:00:35 2018-08-08 10:10:18   \n4           2017-02-04 13:57:51 2017-02-04 14:10:13   \n...                         ...                 ...   \n112645      2018-04-23 13:57:06 2018-04-25 04:11:01   \n112646      2018-07-14 10:26:46 2018-07-17 04:31:48   \n112647      2017-10-23 17:07:56 2017-10-24 17:14:25   \n112648      2017-08-14 23:02:59 2017-08-15 00:04:32   \n112649      2018-06-09 17:00:18 2018-06-09 17:10:13   \n\n       order_delivered_carrier_date order_delivered_customer_date  \\\n0               2017-09-19 18:34:16           2017-09-20 23:43:48   \n1               2017-05-04 14:35:00           2017-05-12 16:04:24   \n2               2018-01-16 12:36:48           2018-01-22 13:19:16   \n3               2018-08-10 13:28:00           2018-08-14 13:32:39   \n4               2017-02-16 09:46:09           2017-03-01 16:42:31   \n...                             ...                           ...   \n112645          2018-04-25 12:09:00           2018-05-10 22:56:40   \n112646          2018-07-17 08:05:00           2018-07-23 20:31:55   \n112647          2017-10-26 15:13:14           2017-10-28 12:22:22   \n112648          2017-08-15 19:02:53           2017-08-16 21:59:40   \n112649          2018-06-11 14:11:00           2018-06-14 17:56:26   \n\n       order_estimated_delivery_date  order_year  \n0                         2017-09-29      2017.0  \n1                         2017-05-15      2017.0  \n2                         2018-02-05      2018.0  \n3                         2018-08-20      2018.0  \n4                         2017-03-17      2017.0  \n...                              ...         ...  \n112645                    2018-05-18      2018.0  \n112646                    2018-08-01      2018.0  \n112647                    2017-11-10      2017.0  \n112648                    2017-08-25      2017.0  \n112649                    2018-06-28      2018.0  \n\n[112650 rows x 15 columns]",
      "text/html": "<div>\n<style scoped>\n    .dataframe tbody tr th:only-of-type {\n        vertical-align: middle;\n    }\n\n    .dataframe tbody tr th {\n        vertical-align: top;\n    }\n\n    .dataframe thead th {\n        text-align: right;\n    }\n</style>\n<table border=\"1\" class=\"dataframe\">\n  <thead>\n    <tr style=\"text-align: right;\">\n      <th></th>\n      <th>order_id</th>\n      <th>order_item_id</th>\n      <th>product_id</th>\n      <th>seller_id</th>\n      <th>shipping_limit_date</th>\n      <th>price</th>\n      <th>freight_value</th>\n      <th>customer_id</th>\n      <th>order_status</th>\n      <th>order_purchase_timestamp</th>\n      <th>order_approved_at</th>\n      <th>order_delivered_carrier_date</th>\n      <th>order_delivered_customer_date</th>\n      <th>order_estimated_delivery_date</th>\n      <th>order_year</th>\n    </tr>\n  </thead>\n  <tbody>\n    <tr>\n      <th>0</th>\n      <td>00010242fe8c5a6d1ba2dd792cb16214</td>\n      <td>1</td>\n      <td>4244733e06e7ecb4970a6e2683c13e61</td>\n      <td>48436dade18ac8b2bce089ec2a041202</td>\n      <td>2017-09-19 09:45:35</td>\n      <td>58.9</td>\n      <td>13.29</td>\n      <td>3ce436f183e68e07877b285a838db11a</td>\n      <td>delivered</td>\n      <td>2017-09-13 08:59:02</td>\n      <td>2017-09-13 09:45:35</td>\n      <td>2017-09-19 18:34:16</td>\n      <td>2017-09-20 23:43:48</td>\n      <td>2017-09-29</td>\n      <td>2017.0</td>\n    </tr>\n    <tr>\n      <th>1</th>\n      <td>00018f77f2f0320c557190d7a144bdd3</td>\n      <td>1</td>\n      <td>e5f2d52b802189ee658865ca93d83a8f</td>\n      <td>dd7ddc04e1b6c2c614352b383efe2d36</td>\n      <td>2017-05-03 11:05:13</td>\n      <td>239.9</td>\n      <td>19.93</td>\n      <td>f6dd3ec061db4e3987629fe6b26e5cce</td>\n      <td>delivered</td>\n      <td>2017-04-26 10:53:06</td>\n      <td>2017-04-26 11:05:13</td>\n      <td>2017-05-04 14:35:00</td>\n      <td>2017-05-12 16:04:24</td>\n      <td>2017-05-15</td>\n      <td>2017.0</td>\n    </tr>\n    <tr>\n      <th>2</th>\n      <td>000229ec398224ef6ca0657da4fc703e</td>\n      <td>1</td>\n      <td>c777355d18b72b67abbeef9df44fd0fd</td>\n      <td>5b51032eddd242adc84c38acab88f23d</td>\n      <td>2018-01-18 14:48:30</td>\n      <td>199.0</td>\n      <td>17.87</td>\n      <td>6489ae5e4333f3693df5ad4372dab6d3</td>\n      <td>delivered</td>\n      <td>2018-01-14 14:33:31</td>\n      <td>2018-01-14 14:48:30</td>\n      <td>2018-01-16 12:36:48</td>\n      <td>2018-01-22 13:19:16</td>\n      <td>2018-02-05</td>\n      <td>2018.0</td>\n    </tr>\n    <tr>\n      <th>3</th>\n      <td>00024acbcdf0a6daa1e931b038114c75</td>\n      <td>1</td>\n      <td>7634da152a4610f1595efa32f14722fc</td>\n      <td>9d7a1d34a5052409006425275ba1c2b4</td>\n      <td>2018-08-15 10:10:18</td>\n      <td>12.99</td>\n      <td>12.79</td>\n      <td>d4eb9395c8c0431ee92fce09860c5a06</td>\n      <td>delivered</td>\n      <td>2018-08-08 10:00:35</td>\n      <td>2018-08-08 10:10:18</td>\n      <td>2018-08-10 13:28:00</td>\n      <td>2018-08-14 13:32:39</td>\n      <td>2018-08-20</td>\n      <td>2018.0</td>\n    </tr>\n    <tr>\n      <th>4</th>\n      <td>00042b26cf59d7ce69dfabb4e55b4fd9</td>\n      <td>1</td>\n      <td>ac6c3623068f30de03045865e4e10089</td>\n      <td>df560393f3a51e74553ab94004ba5c87</td>\n      <td>2017-02-13 13:57:51</td>\n      <td>199.9</td>\n      <td>18.14</td>\n      <td>58dbd0b2d70206bf40e62cd34e84d795</td>\n      <td>delivered</td>\n      <td>2017-02-04 13:57:51</td>\n      <td>2017-02-04 14:10:13</td>\n      <td>2017-02-16 09:46:09</td>\n      <td>2017-03-01 16:42:31</td>\n      <td>2017-03-17</td>\n      <td>2017.0</td>\n    </tr>\n    <tr>\n      <th>...</th>\n      <td>...</td>\n      <td>...</td>\n      <td>...</td>\n      <td>...</td>\n      <td>...</td>\n      <td>...</td>\n      <td>...</td>\n      <td>...</td>\n      <td>...</td>\n      <td>...</td>\n      <td>...</td>\n      <td>...</td>\n      <td>...</td>\n      <td>...</td>\n      <td>...</td>\n    </tr>\n    <tr>\n      <th>112645</th>\n      <td>fffc94f6ce00a00581880bf54a75a037</td>\n      <td>1</td>\n      <td>4aa6014eceb682077f9dc4bffebc05b0</td>\n      <td>b8bc237ba3788b23da09c0f1f3a3288c</td>\n      <td>2018-05-02 04:11:01</td>\n      <td>299.99</td>\n      <td>43.41</td>\n      <td>b51593916b4b8e0d6f66f2ae24f2673d</td>\n      <td>delivered</td>\n      <td>2018-04-23 13:57:06</td>\n      <td>2018-04-25 04:11:01</td>\n      <td>2018-04-25 12:09:00</td>\n      <td>2018-05-10 22:56:40</td>\n      <td>2018-05-18</td>\n      <td>2018.0</td>\n    </tr>\n    <tr>\n      <th>112646</th>\n      <td>fffcd46ef2263f404302a634eb57f7eb</td>\n      <td>1</td>\n      <td>32e07fd915822b0765e448c4dd74c828</td>\n      <td>f3c38ab652836d21de61fb8314b69182</td>\n      <td>2018-07-20 04:31:48</td>\n      <td>350.0</td>\n      <td>36.53</td>\n      <td>84c5d4fbaf120aae381fad077416eaa0</td>\n      <td>delivered</td>\n      <td>2018-07-14 10:26:46</td>\n      <td>2018-07-17 04:31:48</td>\n      <td>2018-07-17 08:05:00</td>\n      <td>2018-07-23 20:31:55</td>\n      <td>2018-08-01</td>\n      <td>2018.0</td>\n    </tr>\n    <tr>\n      <th>112647</th>\n      <td>fffce4705a9662cd70adb13d4a31832d</td>\n      <td>1</td>\n      <td>72a30483855e2eafc67aee5dc2560482</td>\n      <td>c3cfdc648177fdbbbb35635a37472c53</td>\n      <td>2017-10-30 17:14:25</td>\n      <td>99.9</td>\n      <td>16.95</td>\n      <td>29309aa813182aaddc9b259e31b870e6</td>\n      <td>delivered</td>\n      <td>2017-10-23 17:07:56</td>\n      <td>2017-10-24 17:14:25</td>\n      <td>2017-10-26 15:13:14</td>\n      <td>2017-10-28 12:22:22</td>\n      <td>2017-11-10</td>\n      <td>2017.0</td>\n    </tr>\n    <tr>\n      <th>112648</th>\n      <td>fffe18544ffabc95dfada21779c9644f</td>\n      <td>1</td>\n      <td>9c422a519119dcad7575db5af1ba540e</td>\n      <td>2b3e4a2a3ea8e01938cabda2a3e5cc79</td>\n      <td>2017-08-21 00:04:32</td>\n      <td>55.99</td>\n      <td>8.72</td>\n      <td>b5e6afd5a41800fdf401e0272ca74655</td>\n      <td>delivered</td>\n      <td>2017-08-14 23:02:59</td>\n      <td>2017-08-15 00:04:32</td>\n      <td>2017-08-15 19:02:53</td>\n      <td>2017-08-16 21:59:40</td>\n      <td>2017-08-25</td>\n      <td>2017.0</td>\n    </tr>\n    <tr>\n      <th>112649</th>\n      <td>fffe41c64501cc87c801fd61db3f6244</td>\n      <td>1</td>\n      <td>350688d9dc1e75ff97be326363655e01</td>\n      <td>f7ccf836d21b2fb1de37564105216cc1</td>\n      <td>2018-06-12 17:10:13</td>\n      <td>43.0</td>\n      <td>12.79</td>\n      <td>96d649da0cc4ff33bb408b199d4c7dcf</td>\n      <td>delivered</td>\n      <td>2018-06-09 17:00:18</td>\n      <td>2018-06-09 17:10:13</td>\n      <td>2018-06-11 14:11:00</td>\n      <td>2018-06-14 17:56:26</td>\n      <td>2018-06-28</td>\n      <td>2018.0</td>\n    </tr>\n  </tbody>\n</table>\n<p>112650 rows × 15 columns</p>\n</div>"
     },
     "metadata": {}
    }
   ]
  },
  {
   "cell_type": "markdown",
   "source": "# Questions",
   "metadata": {
    "formattedRanges": [],
    "cell_id": "cbd6389a9d2d4a5da5c6ace230d4d82c",
    "tags": [],
    "is_collapsed": false,
    "deepnote_cell_type": "text-cell-h1"
   }
  },
  {
   "cell_type": "markdown",
   "source": "## 1. What are the top 10 sellers and their cities?",
   "metadata": {
    "formattedRanges": [],
    "cell_id": "82a800ae61fa404980b6eed29d06aa79",
    "tags": [],
    "is_collapsed": false,
    "owner_user_id": "2dbf2bcb-4b1f-487d-8450-9cfa28d2e998",
    "deepnote_cell_type": "text-cell-h2"
   }
  },
  {
   "cell_type": "markdown",
   "source": "### Answer option 1",
   "metadata": {
    "formattedRanges": [],
    "cell_id": "ff4a146831cb42da8bd051644464aafc",
    "tags": [],
    "is_collapsed": false,
    "deepnote_cell_type": "text-cell-h3"
   }
  },
  {
   "cell_type": "code",
   "metadata": {
    "cell_id": "5fdaa2f8d9e94ed9ac1d907fde315632",
    "tags": [],
    "deepnote_to_be_reexecuted": false,
    "source_hash": "a358643",
    "execution_start": 1651114397075,
    "execution_millis": 80,
    "deepnote_cell_type": "code",
    "deepnote_cell_height": 309,
    "deepnote_output_heights": [
     230
    ]
   },
   "source": "items_sellers[['seller_id','seller_city']].value_counts().head(10)",
   "execution_count": null,
   "outputs": [
    {
     "output_type": "execute_result",
     "execution_count": 5,
     "data": {
      "text/plain": "seller_id                         seller_city          \n6560211a19b47992c3666cc44a7e94c0  sao paulo                2033\n4a3ca9315b744ce9f8e9374361493884  ibitinga                 1987\n1f50f920176fa81dab994f9023523100  sao jose do rio preto    1931\ncc419e0650a3c5ba77189a1882b7556a  santo andre              1775\nda8622b14eb17ae2831f4ac5b9dab84a  piracicaba               1551\n955fee9216a65b617aa5c0531780ce60  sao paulo                1499\n1025f0e2d44d7041d6cf58b6550e0bfa  sao paulo                1428\n7c67e1448b00f6e969d365cea6b010ab  itaquaquecetuba          1364\nea8482cd71df3c1969d7b9473ff13abc  sao paulo                1203\n7a67c85e85bb2ce8582c35f2203ad736  sao paulo                1171\ndtype: int64"
     },
     "metadata": {}
    }
   ]
  },
  {
   "cell_type": "markdown",
   "source": "### Answer option 2",
   "metadata": {
    "formattedRanges": [],
    "cell_id": "d678df2a28384cf3a22313cb48c39a09",
    "tags": [],
    "is_collapsed": false,
    "deepnote_cell_type": "text-cell-h3"
   }
  },
  {
   "cell_type": "code",
   "metadata": {
    "cell_id": "602fa44104e64baf940f20b10582d034",
    "tags": [],
    "deepnote_to_be_reexecuted": false,
    "source_hash": "9d61743c",
    "execution_start": 1651114397153,
    "execution_millis": 225,
    "deepnote_cell_type": "code",
    "deepnote_cell_height": 582
   },
   "source": "items_sellers.pivot_table(values='order_item_id', index=['seller_id', 'seller_city'], aggfunc=np.count_nonzero).sort_values('order_item_id', ascending=False).head(10)",
   "execution_count": null,
   "outputs": [
    {
     "output_type": "execute_result",
     "execution_count": 6,
     "data": {
      "application/vnd.deepnote.dataframe.v3+json": {
       "column_count": 1,
       "row_count": 10,
       "columns": [
        {
         "name": "order_item_id",
         "dtype": "float64",
         "stats": {
          "unique_count": 10,
          "nan_count": 0,
          "min": "1171.0",
          "max": "2033.0",
          "histogram": [
           {
            "bin_start": 1171,
            "bin_end": 1257.2,
            "count": 2
           },
           {
            "bin_start": 1257.2,
            "bin_end": 1343.4,
            "count": 0
           },
           {
            "bin_start": 1343.4,
            "bin_end": 1429.6,
            "count": 2
           },
           {
            "bin_start": 1429.6,
            "bin_end": 1515.8,
            "count": 1
           },
           {
            "bin_start": 1515.8,
            "bin_end": 1602,
            "count": 1
           },
           {
            "bin_start": 1602,
            "bin_end": 1688.2,
            "count": 0
           },
           {
            "bin_start": 1688.2,
            "bin_end": 1774.4,
            "count": 0
           },
           {
            "bin_start": 1774.4,
            "bin_end": 1860.6,
            "count": 1
           },
           {
            "bin_start": 1860.6,
            "bin_end": 1946.8000000000002,
            "count": 1
           },
           {
            "bin_start": 1946.8000000000002,
            "bin_end": 2033,
            "count": 2
           }
          ]
         }
        },
        {
         "name": "_deepnote_index_column",
         "dtype": "object"
        }
       ],
       "rows": [
        {
         "order_item_id": 2033,
         "_deepnote_index_column": "('6560211a19b47992c3666cc44a7e94c0', 'sao paulo')"
        },
        {
         "order_item_id": 1987,
         "_deepnote_index_column": "('4a3ca9315b744ce9f8e9374361493884', 'ibitinga')"
        },
        {
         "order_item_id": 1931,
         "_deepnote_index_column": "('1f50f920176fa81dab994f9023523100', 'sao jose do rio preto')"
        },
        {
         "order_item_id": 1775,
         "_deepnote_index_column": "('cc419e0650a3c5ba77189a1882b7556a', 'santo andre')"
        },
        {
         "order_item_id": 1551,
         "_deepnote_index_column": "('da8622b14eb17ae2831f4ac5b9dab84a', 'piracicaba')"
        },
        {
         "order_item_id": 1499,
         "_deepnote_index_column": "('955fee9216a65b617aa5c0531780ce60', 'sao paulo')"
        },
        {
         "order_item_id": 1428,
         "_deepnote_index_column": "('1025f0e2d44d7041d6cf58b6550e0bfa', 'sao paulo')"
        },
        {
         "order_item_id": 1364,
         "_deepnote_index_column": "('7c67e1448b00f6e969d365cea6b010ab', 'itaquaquecetuba')"
        },
        {
         "order_item_id": 1203,
         "_deepnote_index_column": "('ea8482cd71df3c1969d7b9473ff13abc', 'sao paulo')"
        },
        {
         "order_item_id": 1171,
         "_deepnote_index_column": "('7a67c85e85bb2ce8582c35f2203ad736', 'sao paulo')"
        }
       ]
      },
      "text/plain": "                                                        order_item_id\nseller_id                        seller_city                         \n6560211a19b47992c3666cc44a7e94c0 sao paulo                     2033.0\n4a3ca9315b744ce9f8e9374361493884 ibitinga                      1987.0\n1f50f920176fa81dab994f9023523100 sao jose do rio preto         1931.0\ncc419e0650a3c5ba77189a1882b7556a santo andre                   1775.0\nda8622b14eb17ae2831f4ac5b9dab84a piracicaba                    1551.0\n955fee9216a65b617aa5c0531780ce60 sao paulo                     1499.0\n1025f0e2d44d7041d6cf58b6550e0bfa sao paulo                     1428.0\n7c67e1448b00f6e969d365cea6b010ab itaquaquecetuba               1364.0\nea8482cd71df3c1969d7b9473ff13abc sao paulo                     1203.0\n7a67c85e85bb2ce8582c35f2203ad736 sao paulo                     1171.0",
      "text/html": "<div>\n<style scoped>\n    .dataframe tbody tr th:only-of-type {\n        vertical-align: middle;\n    }\n\n    .dataframe tbody tr th {\n        vertical-align: top;\n    }\n\n    .dataframe thead th {\n        text-align: right;\n    }\n</style>\n<table border=\"1\" class=\"dataframe\">\n  <thead>\n    <tr style=\"text-align: right;\">\n      <th></th>\n      <th></th>\n      <th>order_item_id</th>\n    </tr>\n    <tr>\n      <th>seller_id</th>\n      <th>seller_city</th>\n      <th></th>\n    </tr>\n  </thead>\n  <tbody>\n    <tr>\n      <th>6560211a19b47992c3666cc44a7e94c0</th>\n      <th>sao paulo</th>\n      <td>2033.0</td>\n    </tr>\n    <tr>\n      <th>4a3ca9315b744ce9f8e9374361493884</th>\n      <th>ibitinga</th>\n      <td>1987.0</td>\n    </tr>\n    <tr>\n      <th>1f50f920176fa81dab994f9023523100</th>\n      <th>sao jose do rio preto</th>\n      <td>1931.0</td>\n    </tr>\n    <tr>\n      <th>cc419e0650a3c5ba77189a1882b7556a</th>\n      <th>santo andre</th>\n      <td>1775.0</td>\n    </tr>\n    <tr>\n      <th>da8622b14eb17ae2831f4ac5b9dab84a</th>\n      <th>piracicaba</th>\n      <td>1551.0</td>\n    </tr>\n    <tr>\n      <th>955fee9216a65b617aa5c0531780ce60</th>\n      <th>sao paulo</th>\n      <td>1499.0</td>\n    </tr>\n    <tr>\n      <th>1025f0e2d44d7041d6cf58b6550e0bfa</th>\n      <th>sao paulo</th>\n      <td>1428.0</td>\n    </tr>\n    <tr>\n      <th>7c67e1448b00f6e969d365cea6b010ab</th>\n      <th>itaquaquecetuba</th>\n      <td>1364.0</td>\n    </tr>\n    <tr>\n      <th>ea8482cd71df3c1969d7b9473ff13abc</th>\n      <th>sao paulo</th>\n      <td>1203.0</td>\n    </tr>\n    <tr>\n      <th>7a67c85e85bb2ce8582c35f2203ad736</th>\n      <th>sao paulo</th>\n      <td>1171.0</td>\n    </tr>\n  </tbody>\n</table>\n</div>"
     },
     "metadata": {}
    }
   ]
  },
  {
   "cell_type": "markdown",
   "source": "### Answer option 3",
   "metadata": {
    "formattedRanges": [],
    "cell_id": "60d5b69375064eb79cfd901336db1b7f",
    "tags": [],
    "is_collapsed": false,
    "deepnote_cell_type": "text-cell-h3"
   }
  },
  {
   "cell_type": "code",
   "metadata": {
    "cell_id": "7810b4c88c3b485db94ad9e0ab1099ab",
    "tags": [],
    "deepnote_to_be_reexecuted": false,
    "source_hash": "1837f2a3",
    "execution_start": 1651114397377,
    "execution_millis": 23,
    "deepnote_cell_type": "code"
   },
   "source": "items_sellers.groupby(['seller_id', 'seller_city']).agg({'order_item_id':'count'}).sort_values('order_item_id', ascending=False).head(10)",
   "execution_count": null,
   "outputs": [
    {
     "output_type": "execute_result",
     "execution_count": 7,
     "data": {
      "application/vnd.deepnote.dataframe.v3+json": {
       "column_count": 1,
       "row_count": 10,
       "columns": [
        {
         "name": "order_item_id",
         "dtype": "int64",
         "stats": {
          "unique_count": 10,
          "nan_count": 0,
          "min": "1171",
          "max": "2033",
          "histogram": [
           {
            "bin_start": 1171,
            "bin_end": 1257.2,
            "count": 2
           },
           {
            "bin_start": 1257.2,
            "bin_end": 1343.4,
            "count": 0
           },
           {
            "bin_start": 1343.4,
            "bin_end": 1429.6,
            "count": 2
           },
           {
            "bin_start": 1429.6,
            "bin_end": 1515.8,
            "count": 1
           },
           {
            "bin_start": 1515.8,
            "bin_end": 1602,
            "count": 1
           },
           {
            "bin_start": 1602,
            "bin_end": 1688.2,
            "count": 0
           },
           {
            "bin_start": 1688.2,
            "bin_end": 1774.4,
            "count": 0
           },
           {
            "bin_start": 1774.4,
            "bin_end": 1860.6,
            "count": 1
           },
           {
            "bin_start": 1860.6,
            "bin_end": 1946.8000000000002,
            "count": 1
           },
           {
            "bin_start": 1946.8000000000002,
            "bin_end": 2033,
            "count": 2
           }
          ]
         }
        },
        {
         "name": "_deepnote_index_column",
         "dtype": "object"
        }
       ],
       "rows": [
        {
         "order_item_id": 2033,
         "_deepnote_index_column": "('6560211a19b47992c3666cc44a7e94c0', 'sao paulo')"
        },
        {
         "order_item_id": 1987,
         "_deepnote_index_column": "('4a3ca9315b744ce9f8e9374361493884', 'ibitinga')"
        },
        {
         "order_item_id": 1931,
         "_deepnote_index_column": "('1f50f920176fa81dab994f9023523100', 'sao jose do rio preto')"
        },
        {
         "order_item_id": 1775,
         "_deepnote_index_column": "('cc419e0650a3c5ba77189a1882b7556a', 'santo andre')"
        },
        {
         "order_item_id": 1551,
         "_deepnote_index_column": "('da8622b14eb17ae2831f4ac5b9dab84a', 'piracicaba')"
        },
        {
         "order_item_id": 1499,
         "_deepnote_index_column": "('955fee9216a65b617aa5c0531780ce60', 'sao paulo')"
        },
        {
         "order_item_id": 1428,
         "_deepnote_index_column": "('1025f0e2d44d7041d6cf58b6550e0bfa', 'sao paulo')"
        },
        {
         "order_item_id": 1364,
         "_deepnote_index_column": "('7c67e1448b00f6e969d365cea6b010ab', 'itaquaquecetuba')"
        },
        {
         "order_item_id": 1203,
         "_deepnote_index_column": "('ea8482cd71df3c1969d7b9473ff13abc', 'sao paulo')"
        },
        {
         "order_item_id": 1171,
         "_deepnote_index_column": "('7a67c85e85bb2ce8582c35f2203ad736', 'sao paulo')"
        }
       ]
      },
      "text/plain": "                                                        order_item_id\nseller_id                        seller_city                         \n6560211a19b47992c3666cc44a7e94c0 sao paulo                       2033\n4a3ca9315b744ce9f8e9374361493884 ibitinga                        1987\n1f50f920176fa81dab994f9023523100 sao jose do rio preto           1931\ncc419e0650a3c5ba77189a1882b7556a santo andre                     1775\nda8622b14eb17ae2831f4ac5b9dab84a piracicaba                      1551\n955fee9216a65b617aa5c0531780ce60 sao paulo                       1499\n1025f0e2d44d7041d6cf58b6550e0bfa sao paulo                       1428\n7c67e1448b00f6e969d365cea6b010ab itaquaquecetuba                 1364\nea8482cd71df3c1969d7b9473ff13abc sao paulo                       1203\n7a67c85e85bb2ce8582c35f2203ad736 sao paulo                       1171",
      "text/html": "<div>\n<style scoped>\n    .dataframe tbody tr th:only-of-type {\n        vertical-align: middle;\n    }\n\n    .dataframe tbody tr th {\n        vertical-align: top;\n    }\n\n    .dataframe thead th {\n        text-align: right;\n    }\n</style>\n<table border=\"1\" class=\"dataframe\">\n  <thead>\n    <tr style=\"text-align: right;\">\n      <th></th>\n      <th></th>\n      <th>order_item_id</th>\n    </tr>\n    <tr>\n      <th>seller_id</th>\n      <th>seller_city</th>\n      <th></th>\n    </tr>\n  </thead>\n  <tbody>\n    <tr>\n      <th>6560211a19b47992c3666cc44a7e94c0</th>\n      <th>sao paulo</th>\n      <td>2033</td>\n    </tr>\n    <tr>\n      <th>4a3ca9315b744ce9f8e9374361493884</th>\n      <th>ibitinga</th>\n      <td>1987</td>\n    </tr>\n    <tr>\n      <th>1f50f920176fa81dab994f9023523100</th>\n      <th>sao jose do rio preto</th>\n      <td>1931</td>\n    </tr>\n    <tr>\n      <th>cc419e0650a3c5ba77189a1882b7556a</th>\n      <th>santo andre</th>\n      <td>1775</td>\n    </tr>\n    <tr>\n      <th>da8622b14eb17ae2831f4ac5b9dab84a</th>\n      <th>piracicaba</th>\n      <td>1551</td>\n    </tr>\n    <tr>\n      <th>955fee9216a65b617aa5c0531780ce60</th>\n      <th>sao paulo</th>\n      <td>1499</td>\n    </tr>\n    <tr>\n      <th>1025f0e2d44d7041d6cf58b6550e0bfa</th>\n      <th>sao paulo</th>\n      <td>1428</td>\n    </tr>\n    <tr>\n      <th>7c67e1448b00f6e969d365cea6b010ab</th>\n      <th>itaquaquecetuba</th>\n      <td>1364</td>\n    </tr>\n    <tr>\n      <th>ea8482cd71df3c1969d7b9473ff13abc</th>\n      <th>sao paulo</th>\n      <td>1203</td>\n    </tr>\n    <tr>\n      <th>7a67c85e85bb2ce8582c35f2203ad736</th>\n      <th>sao paulo</th>\n      <td>1171</td>\n    </tr>\n  </tbody>\n</table>\n</div>"
     },
     "metadata": {}
    }
   ]
  },
  {
   "cell_type": "markdown",
   "source": "## 2. What are the top 10 bestsellers and their cities?",
   "metadata": {
    "formattedRanges": [],
    "cell_id": "526624972cb040d688d2e5c21acebd54",
    "tags": [],
    "is_collapsed": false,
    "deepnote_cell_type": "text-cell-h2"
   }
  },
  {
   "cell_type": "code",
   "metadata": {
    "cell_id": "d549fa283b3c4c3895ac94c41b2a87a6",
    "tags": [],
    "deepnote_to_be_reexecuted": false,
    "source_hash": "c80fc0a7",
    "execution_start": 1651114397401,
    "execution_millis": 716,
    "deepnote_cell_type": "code"
   },
   "source": "items_sellers[['product_id', 'seller_city']].value_counts().head(10)",
   "execution_count": null,
   "outputs": [
    {
     "output_type": "execute_result",
     "execution_count": 8,
     "data": {
      "text/plain": "product_id                        seller_city          \naca2eb7d00ea1a7b8ebd4e68314663af  sao paulo                527\n99a4788cb24856965c36a24e339b6058  ibitinga                 488\n422879e10f46682990de24d770e7f83d  sao jose do rio preto    484\n389d119b48cf3043d311335e499d9c6b  sao jose do rio preto    392\n368c6c730842d78016ad823897a372db  sao jose do rio preto    388\n53759a2ecddad2bb87a079a1f1519f73  sao jose do rio preto    373\nd1c427060a0f73f6b889a5c7c61f2ac4  ilicinea                 343\n154e7e31ebfa092203795c972e5804a6  santo andre              281\n3dd2a17168ec895c781a9191c1e95ad7  recife                   274\n2b4609f8948be18874494203496bc318  santo andre              260\ndtype: int64"
     },
     "metadata": {}
    }
   ]
  },
  {
   "cell_type": "code",
   "metadata": {
    "cell_id": "54ec739c9c3e424eaaaedfe4b64e6e5e",
    "tags": [],
    "deepnote_to_be_reexecuted": false,
    "source_hash": "b1541a4f",
    "execution_start": 1651114397548,
    "execution_millis": 661,
    "deepnote_table_state": {
     "pageSize": 10,
     "pageIndex": 0,
     "filters": [],
     "sortBy": []
    },
    "deepnote_table_loading": false,
    "deepnote_cell_type": "code"
   },
   "source": "items_sellers.pivot_table(index=['product_id', 'seller_city'], values='order_item_id', aggfunc='count')\n",
   "execution_count": null,
   "outputs": [
    {
     "output_type": "execute_result",
     "execution_count": 9,
     "data": {
      "application/vnd.deepnote.dataframe.v3+json": {
       "column_count": 1,
       "row_count": 34146,
       "columns": [
        {
         "name": "order_item_id",
         "dtype": "int64",
         "stats": {
          "unique_count": 138,
          "nan_count": 0,
          "min": "1",
          "max": "527",
          "histogram": [
           {
            "bin_start": 1,
            "bin_end": 53.6,
            "count": 33993
           },
           {
            "bin_start": 53.6,
            "bin_end": 106.2,
            "count": 106
           },
           {
            "bin_start": 106.2,
            "bin_end": 158.8,
            "count": 27
           },
           {
            "bin_start": 158.8,
            "bin_end": 211.4,
            "count": 7
           },
           {
            "bin_start": 211.4,
            "bin_end": 264,
            "count": 4
           },
           {
            "bin_start": 264,
            "bin_end": 316.6,
            "count": 2
           },
           {
            "bin_start": 316.6,
            "bin_end": 369.2,
            "count": 1
           },
           {
            "bin_start": 369.2,
            "bin_end": 421.8,
            "count": 3
           },
           {
            "bin_start": 421.8,
            "bin_end": 474.40000000000003,
            "count": 0
           },
           {
            "bin_start": 474.40000000000003,
            "bin_end": 527,
            "count": 3
           }
          ]
         }
        },
        {
         "name": "_deepnote_index_column",
         "dtype": "object"
        }
       ],
       "rows": [
        {
         "order_item_id": 1,
         "_deepnote_index_column": "('00066f42aeeb9f3007548bb9d3f33c38', 'sao paulo')"
        },
        {
         "order_item_id": 1,
         "_deepnote_index_column": "('00088930e925c41fd95ebfe695fd2655', 'penapolis')"
        },
        {
         "order_item_id": 1,
         "_deepnote_index_column": "('0009406fd7479715e4bef61dd91f2462', 'ibitinga')"
        },
        {
         "order_item_id": 2,
         "_deepnote_index_column": "('000b8f95fcb9e0096488278317764d19', 'francisco beltrao')"
        },
        {
         "order_item_id": 1,
         "_deepnote_index_column": "('000d9be29b5207b54e86aa1b1ac54872', 'navegantes')"
        },
        {
         "order_item_id": 1,
         "_deepnote_index_column": "('0011c512eb256aa0dbbb544d8dffcf6e', 'sao paulo')"
        },
        {
         "order_item_id": 2,
         "_deepnote_index_column": "('00126f27c813603687e6ce486d909d01', 'ribeirao preto')"
        },
        {
         "order_item_id": 9,
         "_deepnote_index_column": "('001795ec6f1b187d37335e1c4704762e', 'sao paulo')"
        },
        {
         "order_item_id": 1,
         "_deepnote_index_column": "('001b237c0e9bb435f2e54071129237e9', 'ibitinga')"
        },
        {
         "order_item_id": 14,
         "_deepnote_index_column": "('001b72dfd63e9833e8c02742adf472e3', 'sao paulo')"
        }
       ]
      },
      "text/plain": "                                                    order_item_id\nproduct_id                       seller_city                     \n00066f42aeeb9f3007548bb9d3f33c38 sao paulo                      1\n00088930e925c41fd95ebfe695fd2655 penapolis                      1\n0009406fd7479715e4bef61dd91f2462 ibitinga                       1\n000b8f95fcb9e0096488278317764d19 francisco beltrao              2\n000d9be29b5207b54e86aa1b1ac54872 navegantes                     1\n...                                                           ...\nfff6177642830a9a94a0f2cba5e476d1 sao paulo                      2\nfff81cc3158d2725c0655ab9ba0f712c sao paulo                      1\nfff9553ac224cec9d15d49f5a263411f sao paulo                      1\nfffdb2d0ec8d6a61f0a0a0db3f25b441 sao paulo                      5\nfffe9eeff12fcbd74a2f2b007dde0c58 araguari                       1\n\n[34146 rows x 1 columns]",
      "text/html": "<div>\n<style scoped>\n    .dataframe tbody tr th:only-of-type {\n        vertical-align: middle;\n    }\n\n    .dataframe tbody tr th {\n        vertical-align: top;\n    }\n\n    .dataframe thead th {\n        text-align: right;\n    }\n</style>\n<table border=\"1\" class=\"dataframe\">\n  <thead>\n    <tr style=\"text-align: right;\">\n      <th></th>\n      <th></th>\n      <th>order_item_id</th>\n    </tr>\n    <tr>\n      <th>product_id</th>\n      <th>seller_city</th>\n      <th></th>\n    </tr>\n  </thead>\n  <tbody>\n    <tr>\n      <th>00066f42aeeb9f3007548bb9d3f33c38</th>\n      <th>sao paulo</th>\n      <td>1</td>\n    </tr>\n    <tr>\n      <th>00088930e925c41fd95ebfe695fd2655</th>\n      <th>penapolis</th>\n      <td>1</td>\n    </tr>\n    <tr>\n      <th>0009406fd7479715e4bef61dd91f2462</th>\n      <th>ibitinga</th>\n      <td>1</td>\n    </tr>\n    <tr>\n      <th>000b8f95fcb9e0096488278317764d19</th>\n      <th>francisco beltrao</th>\n      <td>2</td>\n    </tr>\n    <tr>\n      <th>000d9be29b5207b54e86aa1b1ac54872</th>\n      <th>navegantes</th>\n      <td>1</td>\n    </tr>\n    <tr>\n      <th>...</th>\n      <th>...</th>\n      <td>...</td>\n    </tr>\n    <tr>\n      <th>fff6177642830a9a94a0f2cba5e476d1</th>\n      <th>sao paulo</th>\n      <td>2</td>\n    </tr>\n    <tr>\n      <th>fff81cc3158d2725c0655ab9ba0f712c</th>\n      <th>sao paulo</th>\n      <td>1</td>\n    </tr>\n    <tr>\n      <th>fff9553ac224cec9d15d49f5a263411f</th>\n      <th>sao paulo</th>\n      <td>1</td>\n    </tr>\n    <tr>\n      <th>fffdb2d0ec8d6a61f0a0a0db3f25b441</th>\n      <th>sao paulo</th>\n      <td>5</td>\n    </tr>\n    <tr>\n      <th>fffe9eeff12fcbd74a2f2b007dde0c58</th>\n      <th>araguari</th>\n      <td>1</td>\n    </tr>\n  </tbody>\n</table>\n<p>34146 rows × 1 columns</p>\n</div>"
     },
     "metadata": {}
    }
   ]
  },
  {
   "cell_type": "code",
   "metadata": {
    "cell_id": "24d9bdd3ebb5412182d0ad708f373240",
    "tags": [],
    "deepnote_to_be_reexecuted": false,
    "source_hash": "cf4d320",
    "execution_start": 1651114397650,
    "execution_millis": 565,
    "deepnote_cell_type": "code"
   },
   "source": "items_sellers.groupby(['product_id','seller_city']).agg({'order_item_id': 'count'}).sort_values('order_item_id', ascending=False).head(10)",
   "execution_count": null,
   "outputs": [
    {
     "output_type": "execute_result",
     "execution_count": 10,
     "data": {
      "application/vnd.deepnote.dataframe.v3+json": {
       "column_count": 1,
       "row_count": 10,
       "columns": [
        {
         "name": "order_item_id",
         "dtype": "int64",
         "stats": {
          "unique_count": 10,
          "nan_count": 0,
          "min": "260",
          "max": "527",
          "histogram": [
           {
            "bin_start": 260,
            "bin_end": 286.7,
            "count": 3
           },
           {
            "bin_start": 286.7,
            "bin_end": 313.4,
            "count": 0
           },
           {
            "bin_start": 313.4,
            "bin_end": 340.1,
            "count": 0
           },
           {
            "bin_start": 340.1,
            "bin_end": 366.8,
            "count": 1
           },
           {
            "bin_start": 366.8,
            "bin_end": 393.5,
            "count": 3
           },
           {
            "bin_start": 393.5,
            "bin_end": 420.2,
            "count": 0
           },
           {
            "bin_start": 420.2,
            "bin_end": 446.9,
            "count": 0
           },
           {
            "bin_start": 446.9,
            "bin_end": 473.6,
            "count": 0
           },
           {
            "bin_start": 473.6,
            "bin_end": 500.29999999999995,
            "count": 2
           },
           {
            "bin_start": 500.29999999999995,
            "bin_end": 527,
            "count": 1
           }
          ]
         }
        },
        {
         "name": "_deepnote_index_column",
         "dtype": "object"
        }
       ],
       "rows": [
        {
         "order_item_id": 527,
         "_deepnote_index_column": "('aca2eb7d00ea1a7b8ebd4e68314663af', 'sao paulo')"
        },
        {
         "order_item_id": 488,
         "_deepnote_index_column": "('99a4788cb24856965c36a24e339b6058', 'ibitinga')"
        },
        {
         "order_item_id": 484,
         "_deepnote_index_column": "('422879e10f46682990de24d770e7f83d', 'sao jose do rio preto')"
        },
        {
         "order_item_id": 392,
         "_deepnote_index_column": "('389d119b48cf3043d311335e499d9c6b', 'sao jose do rio preto')"
        },
        {
         "order_item_id": 388,
         "_deepnote_index_column": "('368c6c730842d78016ad823897a372db', 'sao jose do rio preto')"
        },
        {
         "order_item_id": 373,
         "_deepnote_index_column": "('53759a2ecddad2bb87a079a1f1519f73', 'sao jose do rio preto')"
        },
        {
         "order_item_id": 343,
         "_deepnote_index_column": "('d1c427060a0f73f6b889a5c7c61f2ac4', 'ilicinea')"
        },
        {
         "order_item_id": 281,
         "_deepnote_index_column": "('154e7e31ebfa092203795c972e5804a6', 'santo andre')"
        },
        {
         "order_item_id": 274,
         "_deepnote_index_column": "('3dd2a17168ec895c781a9191c1e95ad7', 'recife')"
        },
        {
         "order_item_id": 260,
         "_deepnote_index_column": "('2b4609f8948be18874494203496bc318', 'santo andre')"
        }
       ]
      },
      "text/plain": "                                                        order_item_id\nproduct_id                       seller_city                         \naca2eb7d00ea1a7b8ebd4e68314663af sao paulo                        527\n99a4788cb24856965c36a24e339b6058 ibitinga                         488\n422879e10f46682990de24d770e7f83d sao jose do rio preto            484\n389d119b48cf3043d311335e499d9c6b sao jose do rio preto            392\n368c6c730842d78016ad823897a372db sao jose do rio preto            388\n53759a2ecddad2bb87a079a1f1519f73 sao jose do rio preto            373\nd1c427060a0f73f6b889a5c7c61f2ac4 ilicinea                         343\n154e7e31ebfa092203795c972e5804a6 santo andre                      281\n3dd2a17168ec895c781a9191c1e95ad7 recife                           274\n2b4609f8948be18874494203496bc318 santo andre                      260",
      "text/html": "<div>\n<style scoped>\n    .dataframe tbody tr th:only-of-type {\n        vertical-align: middle;\n    }\n\n    .dataframe tbody tr th {\n        vertical-align: top;\n    }\n\n    .dataframe thead th {\n        text-align: right;\n    }\n</style>\n<table border=\"1\" class=\"dataframe\">\n  <thead>\n    <tr style=\"text-align: right;\">\n      <th></th>\n      <th></th>\n      <th>order_item_id</th>\n    </tr>\n    <tr>\n      <th>product_id</th>\n      <th>seller_city</th>\n      <th></th>\n    </tr>\n  </thead>\n  <tbody>\n    <tr>\n      <th>aca2eb7d00ea1a7b8ebd4e68314663af</th>\n      <th>sao paulo</th>\n      <td>527</td>\n    </tr>\n    <tr>\n      <th>99a4788cb24856965c36a24e339b6058</th>\n      <th>ibitinga</th>\n      <td>488</td>\n    </tr>\n    <tr>\n      <th>422879e10f46682990de24d770e7f83d</th>\n      <th>sao jose do rio preto</th>\n      <td>484</td>\n    </tr>\n    <tr>\n      <th>389d119b48cf3043d311335e499d9c6b</th>\n      <th>sao jose do rio preto</th>\n      <td>392</td>\n    </tr>\n    <tr>\n      <th>368c6c730842d78016ad823897a372db</th>\n      <th>sao jose do rio preto</th>\n      <td>388</td>\n    </tr>\n    <tr>\n      <th>53759a2ecddad2bb87a079a1f1519f73</th>\n      <th>sao jose do rio preto</th>\n      <td>373</td>\n    </tr>\n    <tr>\n      <th>d1c427060a0f73f6b889a5c7c61f2ac4</th>\n      <th>ilicinea</th>\n      <td>343</td>\n    </tr>\n    <tr>\n      <th>154e7e31ebfa092203795c972e5804a6</th>\n      <th>santo andre</th>\n      <td>281</td>\n    </tr>\n    <tr>\n      <th>3dd2a17168ec895c781a9191c1e95ad7</th>\n      <th>recife</th>\n      <td>274</td>\n    </tr>\n    <tr>\n      <th>2b4609f8948be18874494203496bc318</th>\n      <th>santo andre</th>\n      <td>260</td>\n    </tr>\n  </tbody>\n</table>\n</div>"
     },
     "metadata": {}
    }
   ]
  },
  {
   "cell_type": "markdown",
   "source": "## 3. What is the city with most orders?",
   "metadata": {
    "formattedRanges": [],
    "cell_id": "60de942f48c04b2282e0bf5e5f5b50e8",
    "tags": [],
    "is_collapsed": false,
    "deepnote_cell_type": "text-cell-h2"
   }
  },
  {
   "cell_type": "code",
   "metadata": {
    "cell_id": "4ad40e96941f4e4f9e2a10421d5c9296",
    "tags": [],
    "deepnote_to_be_reexecuted": false,
    "source_hash": "48d24dc9",
    "execution_start": 1651114397715,
    "execution_millis": 501,
    "deepnote_cell_type": "code"
   },
   "source": "items_sellers.groupby('seller_city').agg({'order_item_id': 'count'}).sort_values('order_item_id', ascending=False).head(1)",
   "execution_count": null,
   "outputs": [
    {
     "output_type": "execute_result",
     "execution_count": 11,
     "data": {
      "application/vnd.deepnote.dataframe.v3+json": {
       "column_count": 1,
       "row_count": 1,
       "columns": [
        {
         "name": "order_item_id",
         "dtype": "int64",
         "stats": {
          "unique_count": 1,
          "nan_count": 0,
          "min": "27983",
          "max": "27983",
          "histogram": [
           {
            "bin_start": 27982.5,
            "bin_end": 27982.6,
            "count": 0
           },
           {
            "bin_start": 27982.6,
            "bin_end": 27982.7,
            "count": 0
           },
           {
            "bin_start": 27982.7,
            "bin_end": 27982.8,
            "count": 0
           },
           {
            "bin_start": 27982.8,
            "bin_end": 27982.9,
            "count": 0
           },
           {
            "bin_start": 27982.9,
            "bin_end": 27983,
            "count": 0
           },
           {
            "bin_start": 27983,
            "bin_end": 27983.1,
            "count": 1
           },
           {
            "bin_start": 27983.1,
            "bin_end": 27983.2,
            "count": 0
           },
           {
            "bin_start": 27983.2,
            "bin_end": 27983.3,
            "count": 0
           },
           {
            "bin_start": 27983.3,
            "bin_end": 27983.4,
            "count": 0
           },
           {
            "bin_start": 27983.4,
            "bin_end": 27983.5,
            "count": 0
           }
          ]
         }
        },
        {
         "name": "_deepnote_index_column",
         "dtype": "object"
        }
       ],
       "rows": [
        {
         "order_item_id": 27983,
         "_deepnote_index_column": "sao paulo"
        }
       ]
      },
      "text/plain": "             order_item_id\nseller_city               \nsao paulo            27983",
      "text/html": "<div>\n<style scoped>\n    .dataframe tbody tr th:only-of-type {\n        vertical-align: middle;\n    }\n\n    .dataframe tbody tr th {\n        vertical-align: top;\n    }\n\n    .dataframe thead th {\n        text-align: right;\n    }\n</style>\n<table border=\"1\" class=\"dataframe\">\n  <thead>\n    <tr style=\"text-align: right;\">\n      <th></th>\n      <th>order_item_id</th>\n    </tr>\n    <tr>\n      <th>seller_city</th>\n      <th></th>\n    </tr>\n  </thead>\n  <tbody>\n    <tr>\n      <th>sao paulo</th>\n      <td>27983</td>\n    </tr>\n  </tbody>\n</table>\n</div>"
     },
     "metadata": {}
    }
   ]
  },
  {
   "cell_type": "markdown",
   "source": "## 4. What is the customer with more orders?",
   "metadata": {
    "formattedRanges": [],
    "cell_id": "dc7e9c2b47924ae597a6e80c9c08fee1",
    "tags": [],
    "is_collapsed": false,
    "deepnote_cell_type": "text-cell-h2"
   }
  },
  {
   "cell_type": "code",
   "metadata": {
    "cell_id": "6703fb0f441342b9a4a8370cafddb8d5",
    "tags": [],
    "deepnote_to_be_reexecuted": false,
    "source_hash": "163c955",
    "execution_start": 1651114397759,
    "execution_millis": 460,
    "deepnote_cell_type": "code"
   },
   "source": "orders_items.groupby('customer_id').agg({'order_item_id': 'count'}).sort_values('order_item_id', ascending=False).head(1)",
   "execution_count": null,
   "outputs": [
    {
     "output_type": "execute_result",
     "execution_count": 12,
     "data": {
      "application/vnd.deepnote.dataframe.v3+json": {
       "column_count": 1,
       "row_count": 1,
       "columns": [
        {
         "name": "order_item_id",
         "dtype": "int64",
         "stats": {
          "unique_count": 1,
          "nan_count": 0,
          "min": "21",
          "max": "21",
          "histogram": [
           {
            "bin_start": 20.5,
            "bin_end": 20.6,
            "count": 0
           },
           {
            "bin_start": 20.6,
            "bin_end": 20.7,
            "count": 0
           },
           {
            "bin_start": 20.7,
            "bin_end": 20.8,
            "count": 0
           },
           {
            "bin_start": 20.8,
            "bin_end": 20.9,
            "count": 0
           },
           {
            "bin_start": 20.9,
            "bin_end": 21,
            "count": 0
           },
           {
            "bin_start": 21,
            "bin_end": 21.1,
            "count": 1
           },
           {
            "bin_start": 21.1,
            "bin_end": 21.2,
            "count": 0
           },
           {
            "bin_start": 21.2,
            "bin_end": 21.3,
            "count": 0
           },
           {
            "bin_start": 21.3,
            "bin_end": 21.4,
            "count": 0
           },
           {
            "bin_start": 21.4,
            "bin_end": 21.5,
            "count": 0
           }
          ]
         }
        },
        {
         "name": "_deepnote_index_column",
         "dtype": "object"
        }
       ],
       "rows": [
        {
         "order_item_id": 21,
         "_deepnote_index_column": "fc3d1daec319d62d49bfb5e1f83123e9"
        }
       ]
      },
      "text/plain": "                                  order_item_id\ncustomer_id                                    \nfc3d1daec319d62d49bfb5e1f83123e9             21",
      "text/html": "<div>\n<style scoped>\n    .dataframe tbody tr th:only-of-type {\n        vertical-align: middle;\n    }\n\n    .dataframe tbody tr th {\n        vertical-align: top;\n    }\n\n    .dataframe thead th {\n        text-align: right;\n    }\n</style>\n<table border=\"1\" class=\"dataframe\">\n  <thead>\n    <tr style=\"text-align: right;\">\n      <th></th>\n      <th>order_item_id</th>\n    </tr>\n    <tr>\n      <th>customer_id</th>\n      <th></th>\n    </tr>\n  </thead>\n  <tbody>\n    <tr>\n      <th>fc3d1daec319d62d49bfb5e1f83123e9</th>\n      <td>21</td>\n    </tr>\n  </tbody>\n</table>\n</div>"
     },
     "metadata": {}
    }
   ]
  },
  {
   "cell_type": "markdown",
   "source": "## 5. How many products are listed?",
   "metadata": {
    "formattedRanges": [],
    "cell_id": "ccf6ffeb6a024073b588fc9f5df3f085",
    "tags": [],
    "is_collapsed": false,
    "deepnote_cell_type": "text-cell-h2"
   }
  },
  {
   "cell_type": "code",
   "metadata": {
    "cell_id": "0a6d8afb611a4ea9b18bf3d48367d586",
    "tags": [],
    "deepnote_to_be_reexecuted": false,
    "source_hash": "eefdad8a",
    "execution_start": 1651114397953,
    "execution_millis": 267,
    "deepnote_cell_type": "code"
   },
   "source": "products['product_id'].count()",
   "execution_count": null,
   "outputs": [
    {
     "output_type": "execute_result",
     "execution_count": 13,
     "data": {
      "text/plain": "32951"
     },
     "metadata": {}
    }
   ]
  },
  {
   "cell_type": "markdown",
   "source": "## 6. What is the average ticket sale?",
   "metadata": {
    "formattedRanges": [],
    "cell_id": "c6be9ddaa3b545009bea9825b8cc34ab",
    "tags": [],
    "is_collapsed": false,
    "deepnote_cell_type": "text-cell-h2"
   }
  },
  {
   "cell_type": "code",
   "metadata": {
    "cell_id": "328ae20686f546a6b2bcfd17ea257d46",
    "tags": [],
    "deepnote_to_be_reexecuted": false,
    "source_hash": "71d17214",
    "execution_start": 1651114397954,
    "execution_millis": 266,
    "deepnote_cell_type": "code"
   },
   "source": "orders_items['price'].median()",
   "execution_count": null,
   "outputs": [
    {
     "output_type": "execute_result",
     "execution_count": 14,
     "data": {
      "text/plain": "74.99"
     },
     "metadata": {}
    }
   ]
  },
  {
   "cell_type": "markdown",
   "source": "## 7. How long does an order take to be delivered in average?",
   "metadata": {
    "formattedRanges": [],
    "cell_id": "90bafffe76a1476fb2efb3b85498ee14",
    "tags": [],
    "is_collapsed": false,
    "deepnote_cell_type": "text-cell-h2"
   }
  },
  {
   "cell_type": "code",
   "metadata": {
    "cell_id": "8763c94b7bbc4366b391c79428f2f073",
    "tags": [],
    "deepnote_to_be_reexecuted": false,
    "source_hash": "8af02146",
    "execution_start": 1651114397955,
    "execution_millis": 1,
    "deepnote_cell_type": "code"
   },
   "source": "orders_items['deliver_time'] = orders_items['order_delivered_customer_date'] - orders_items['order_delivered_carrier_date']",
   "execution_count": null,
   "outputs": []
  },
  {
   "cell_type": "code",
   "metadata": {
    "cell_id": "290b8fa1c65c45a185c54f491f31c492",
    "tags": [],
    "deepnote_to_be_reexecuted": false,
    "source_hash": "6335e873",
    "execution_start": 1651114397957,
    "execution_millis": 74,
    "deepnote_cell_type": "code"
   },
   "source": "orders_items_sellers = pd.merge(orders_items, sellers, how='left', on='seller_id')",
   "execution_count": null,
   "outputs": []
  },
  {
   "cell_type": "code",
   "metadata": {
    "cell_id": "6bfb62b7fc2d4b51b66c20a1b6bc6dcd",
    "tags": [],
    "deepnote_to_be_reexecuted": false,
    "source_hash": "cd4dbd22",
    "execution_start": 1651114398080,
    "execution_millis": 517,
    "deepnote_table_state": {
     "pageSize": 25,
     "pageIndex": 0,
     "filters": [],
     "sortBy": [
      {
       "id": "order_item_id",
       "type": "desc"
      }
     ]
    },
    "deepnote_table_loading": false,
    "deepnote_table_invalid": false,
    "deepnote_cell_type": "code"
   },
   "source": "orders_items_sellers[orders_items_sellers['order_status']=='delivered'].groupby(['seller_id','seller_city','order_year']).agg({'order_item_id':'count', 'deliver_time':lambda x: x.mean(numeric_only=False)}).reset_index().head(5)",
   "execution_count": null,
   "outputs": [
    {
     "output_type": "execute_result",
     "execution_count": 17,
     "data": {
      "application/vnd.deepnote.dataframe.v3+json": {
       "column_count": 5,
       "row_count": 5,
       "columns": [
        {
         "name": "seller_id",
         "dtype": "object",
         "stats": {
          "unique_count": 3,
          "nan_count": 0,
          "categories": [
           {
            "name": "001cca7ae9ae17fb1caed9dfb1094831",
            "count": 2
           },
           {
            "name": "002100f778ceb8431b7a1020ff7ab48f",
            "count": 2
           },
           {
            "name": "0015a82c2db000af6aaaf3ae2ecb0532",
            "count": 1
           }
          ]
         }
        },
        {
         "name": "seller_city",
         "dtype": "object",
         "stats": {
          "unique_count": 3,
          "nan_count": 0,
          "categories": [
           {
            "name": "cariacica",
            "count": 2
           },
           {
            "name": "franca",
            "count": 2
           },
           {
            "name": "santo andre",
            "count": 1
           }
          ]
         }
        },
        {
         "name": "order_year",
         "dtype": "float64",
         "stats": {
          "unique_count": 2,
          "nan_count": 0,
          "min": "2017.0",
          "max": "2018.0",
          "histogram": [
           {
            "bin_start": 2017,
            "bin_end": 2017.1,
            "count": 3
           },
           {
            "bin_start": 2017.1,
            "bin_end": 2017.2,
            "count": 0
           },
           {
            "bin_start": 2017.2,
            "bin_end": 2017.3,
            "count": 0
           },
           {
            "bin_start": 2017.3,
            "bin_end": 2017.4,
            "count": 0
           },
           {
            "bin_start": 2017.4,
            "bin_end": 2017.5,
            "count": 0
           },
           {
            "bin_start": 2017.5,
            "bin_end": 2017.6,
            "count": 0
           },
           {
            "bin_start": 2017.6,
            "bin_end": 2017.7,
            "count": 0
           },
           {
            "bin_start": 2017.7,
            "bin_end": 2017.8,
            "count": 0
           },
           {
            "bin_start": 2017.8,
            "bin_end": 2017.9,
            "count": 0
           },
           {
            "bin_start": 2017.9,
            "bin_end": 2018,
            "count": 2
           }
          ]
         }
        },
        {
         "name": "order_item_id",
         "dtype": "int64",
         "stats": {
          "unique_count": 5,
          "nan_count": 0,
          "min": "3",
          "max": "207",
          "histogram": [
           {
            "bin_start": 3,
            "bin_end": 23.4,
            "count": 2
           },
           {
            "bin_start": 23.4,
            "bin_end": 43.8,
            "count": 2
           },
           {
            "bin_start": 43.8,
            "bin_end": 64.19999999999999,
            "count": 0
           },
           {
            "bin_start": 64.19999999999999,
            "bin_end": 84.6,
            "count": 0
           },
           {
            "bin_start": 84.6,
            "bin_end": 105,
            "count": 0
           },
           {
            "bin_start": 105,
            "bin_end": 125.39999999999999,
            "count": 0
           },
           {
            "bin_start": 125.39999999999999,
            "bin_end": 145.79999999999998,
            "count": 0
           },
           {
            "bin_start": 145.79999999999998,
            "bin_end": 166.2,
            "count": 0
           },
           {
            "bin_start": 166.2,
            "bin_end": 186.6,
            "count": 0
           },
           {
            "bin_start": 186.6,
            "bin_end": 207,
            "count": 1
           }
          ]
         }
        },
        {
         "name": "deliver_time",
         "dtype": "timedelta64[ns]",
         "stats": {
          "unique_count": 5,
          "nan_count": 0,
          "min": "7 days 10:23:56.666666666",
          "max": "13 days 21:15:12.250000",
          "histogram": [
           {
            "bin_start": 642236666666666,
            "bin_end": 697984224999999.4,
            "count": 1
           },
           {
            "bin_start": 697984224999999.4,
            "bin_end": 753731783333332.8,
            "count": 0
           },
           {
            "bin_start": 753731783333332.8,
            "bin_end": 809479341666666.2,
            "count": 0
           },
           {
            "bin_start": 809479341666666.2,
            "bin_end": 865226899999999.6,
            "count": 0
           },
           {
            "bin_start": 865226899999999.6,
            "bin_end": 920974458333333,
            "count": 1
           },
           {
            "bin_start": 920974458333333,
            "bin_end": 976722016666666.4,
            "count": 1
           },
           {
            "bin_start": 976722016666666.4,
            "bin_end": 1032469574999999.8,
            "count": 0
           },
           {
            "bin_start": 1032469574999999.8,
            "bin_end": 1088217133333333.2,
            "count": 0
           },
           {
            "bin_start": 1088217133333333.2,
            "bin_end": 1143964691666666.5,
            "count": 1
           },
           {
            "bin_start": 1143964691666666.5,
            "bin_end": 1199712250000000,
            "count": 1
           }
          ]
         }
        },
        {
         "name": "_deepnote_index_column",
         "dtype": "int64"
        }
       ],
       "rows": [
        {
         "seller_id": "001cca7ae9ae17fb1caed9dfb1094831",
         "seller_city": "cariacica",
         "order_year": 2017,
         "order_item_id": 207,
         "deliver_time": "10 days 02:23:47.628019323",
         "_deepnote_index_column": 1
        },
        {
         "seller_id": "002100f778ceb8431b7a1020ff7ab48f",
         "seller_city": "franca",
         "order_year": 2017,
         "order_item_id": 42,
         "deliver_time": "11 days 01:43:15.309523809",
         "_deepnote_index_column": 3
        },
        {
         "seller_id": "001cca7ae9ae17fb1caed9dfb1094831",
         "seller_city": "cariacica",
         "order_year": 2018,
         "order_item_id": 27,
         "deliver_time": "13 days 05:08:23.259259259",
         "_deepnote_index_column": 2
        },
        {
         "seller_id": "002100f778ceb8431b7a1020ff7ab48f",
         "seller_city": "franca",
         "order_year": 2018,
         "order_item_id": 12,
         "deliver_time": "13 days 21:15:12.250000",
         "_deepnote_index_column": 4
        },
        {
         "seller_id": "0015a82c2db000af6aaaf3ae2ecb0532",
         "seller_city": "santo andre",
         "order_year": 2017,
         "order_item_id": 3,
         "deliver_time": "7 days 10:23:56.666666666",
         "_deepnote_index_column": 0
        }
       ]
      },
      "text/plain": "                          seller_id  seller_city  order_year  order_item_id  \\\n0  0015a82c2db000af6aaaf3ae2ecb0532  santo andre      2017.0              3   \n1  001cca7ae9ae17fb1caed9dfb1094831    cariacica      2017.0            207   \n2  001cca7ae9ae17fb1caed9dfb1094831    cariacica      2018.0             27   \n3  002100f778ceb8431b7a1020ff7ab48f       franca      2017.0             42   \n4  002100f778ceb8431b7a1020ff7ab48f       franca      2018.0             12   \n\n                deliver_time  \n0  7 days 10:23:56.666666666  \n1 10 days 02:23:47.628019323  \n2 13 days 05:08:23.259259259  \n3 11 days 01:43:15.309523809  \n4    13 days 21:15:12.250000  ",
      "text/html": "<div>\n<style scoped>\n    .dataframe tbody tr th:only-of-type {\n        vertical-align: middle;\n    }\n\n    .dataframe tbody tr th {\n        vertical-align: top;\n    }\n\n    .dataframe thead th {\n        text-align: right;\n    }\n</style>\n<table border=\"1\" class=\"dataframe\">\n  <thead>\n    <tr style=\"text-align: right;\">\n      <th></th>\n      <th>seller_id</th>\n      <th>seller_city</th>\n      <th>order_year</th>\n      <th>order_item_id</th>\n      <th>deliver_time</th>\n    </tr>\n  </thead>\n  <tbody>\n    <tr>\n      <th>0</th>\n      <td>0015a82c2db000af6aaaf3ae2ecb0532</td>\n      <td>santo andre</td>\n      <td>2017.0</td>\n      <td>3</td>\n      <td>7 days 10:23:56.666666666</td>\n    </tr>\n    <tr>\n      <th>1</th>\n      <td>001cca7ae9ae17fb1caed9dfb1094831</td>\n      <td>cariacica</td>\n      <td>2017.0</td>\n      <td>207</td>\n      <td>10 days 02:23:47.628019323</td>\n    </tr>\n    <tr>\n      <th>2</th>\n      <td>001cca7ae9ae17fb1caed9dfb1094831</td>\n      <td>cariacica</td>\n      <td>2018.0</td>\n      <td>27</td>\n      <td>13 days 05:08:23.259259259</td>\n    </tr>\n    <tr>\n      <th>3</th>\n      <td>002100f778ceb8431b7a1020ff7ab48f</td>\n      <td>franca</td>\n      <td>2017.0</td>\n      <td>42</td>\n      <td>11 days 01:43:15.309523809</td>\n    </tr>\n    <tr>\n      <th>4</th>\n      <td>002100f778ceb8431b7a1020ff7ab48f</td>\n      <td>franca</td>\n      <td>2018.0</td>\n      <td>12</td>\n      <td>13 days 21:15:12.250000</td>\n    </tr>\n  </tbody>\n</table>\n</div>"
     },
     "metadata": {}
    }
   ]
  },
  {
   "cell_type": "code",
   "metadata": {
    "cell_id": "353c348712ad4624a312335892498a6e",
    "tags": [],
    "deepnote_to_be_reexecuted": false,
    "source_hash": "215e72f3",
    "execution_start": 1651114837987,
    "execution_millis": 18,
    "deepnote_table_state": {
     "pageSize": 10,
     "pageIndex": 0,
     "filters": [],
     "sortBy": []
    },
    "deepnote_table_loading": false,
    "deepnote_cell_type": "code"
   },
   "source": "orders_items_sellers.pivot_table(index='product_id', columns='order_year', values='order_item_id', aggfunc='count')",
   "execution_count": null,
   "outputs": [
    {
     "output_type": "execute_result",
     "execution_count": 20,
     "data": {
      "application/vnd.deepnote.dataframe.v3+json": {
       "column_count": 3,
       "row_count": 32948,
       "columns": [
        {
         "name": 2016,
         "dtype": "float64",
         "stats": {
          "unique_count": 7,
          "nan_count": 32671,
          "min": "1.0",
          "max": "11.0",
          "histogram": [
           {
            "bin_start": 1,
            "bin_end": 2,
            "count": 226
           },
           {
            "bin_start": 2,
            "bin_end": 3,
            "count": 30
           },
           {
            "bin_start": 3,
            "bin_end": 4,
            "count": 11
           },
           {
            "bin_start": 4,
            "bin_end": 5,
            "count": 6
           },
           {
            "bin_start": 5,
            "bin_end": 6,
            "count": 2
           },
           {
            "bin_start": 6,
            "bin_end": 7,
            "count": 1
           },
           {
            "bin_start": 7,
            "bin_end": 8,
            "count": 0
           },
           {
            "bin_start": 8,
            "bin_end": 9,
            "count": 0
           },
           {
            "bin_start": 9,
            "bin_end": 10,
            "count": 0
           },
           {
            "bin_start": 10,
            "bin_end": 11,
            "count": 1
           }
          ]
         }
        },
        {
         "name": 2017,
         "dtype": "float64",
         "stats": {
          "unique_count": 88,
          "nan_count": 15689,
          "min": "1.0",
          "max": "358.0",
          "histogram": [
           {
            "bin_start": 1,
            "bin_end": 36.7,
            "count": 17156
           },
           {
            "bin_start": 36.7,
            "bin_end": 72.4,
            "count": 70
           },
           {
            "bin_start": 72.4,
            "bin_end": 108.10000000000001,
            "count": 20
           },
           {
            "bin_start": 108.10000000000001,
            "bin_end": 143.8,
            "count": 3
           },
           {
            "bin_start": 143.8,
            "bin_end": 179.5,
            "count": 4
           },
           {
            "bin_start": 179.5,
            "bin_end": 215.20000000000002,
            "count": 1
           },
           {
            "bin_start": 215.20000000000002,
            "bin_end": 250.90000000000003,
            "count": 3
           },
           {
            "bin_start": 250.90000000000003,
            "bin_end": 286.6,
            "count": 1
           },
           {
            "bin_start": 286.6,
            "bin_end": 322.3,
            "count": 0
           },
           {
            "bin_start": 322.3,
            "bin_end": 358,
            "count": 1
           }
          ]
         }
        },
        {
         "name": 2018,
         "dtype": "float64",
         "stats": {
          "unique_count": 104,
          "nan_count": 12441,
          "min": "1.0",
          "max": "414.0",
          "histogram": [
           {
            "bin_start": 1,
            "bin_end": 42.3,
            "count": 20401
           },
           {
            "bin_start": 42.3,
            "bin_end": 83.6,
            "count": 72
           },
           {
            "bin_start": 83.6,
            "bin_end": 124.89999999999999,
            "count": 17
           },
           {
            "bin_start": 124.89999999999999,
            "bin_end": 166.2,
            "count": 8
           },
           {
            "bin_start": 166.2,
            "bin_end": 207.5,
            "count": 4
           },
           {
            "bin_start": 207.5,
            "bin_end": 248.79999999999998,
            "count": 2
           },
           {
            "bin_start": 248.79999999999998,
            "bin_end": 290.09999999999997,
            "count": 2
           },
           {
            "bin_start": 290.09999999999997,
            "bin_end": 331.4,
            "count": 0
           },
           {
            "bin_start": 331.4,
            "bin_end": 372.7,
            "count": 0
           },
           {
            "bin_start": 372.7,
            "bin_end": 414,
            "count": 1
           }
          ]
         }
        },
        {
         "name": "_deepnote_index_column",
         "dtype": "object"
        }
       ],
       "rows": [
        {
         "2016.0": "nan",
         "2017.0": "nan",
         "2018.0": 1,
         "_deepnote_index_column": "00066f42aeeb9f3007548bb9d3f33c38"
        },
        {
         "2016.0": "nan",
         "2017.0": 1,
         "2018.0": "nan",
         "_deepnote_index_column": "00088930e925c41fd95ebfe695fd2655"
        },
        {
         "2016.0": "nan",
         "2017.0": 1,
         "2018.0": "nan",
         "_deepnote_index_column": "0009406fd7479715e4bef61dd91f2462"
        },
        {
         "2016.0": "nan",
         "2017.0": "nan",
         "2018.0": 2,
         "_deepnote_index_column": "000b8f95fcb9e0096488278317764d19"
        },
        {
         "2016.0": "nan",
         "2017.0": "nan",
         "2018.0": 1,
         "_deepnote_index_column": "000d9be29b5207b54e86aa1b1ac54872"
        },
        {
         "2016.0": "nan",
         "2017.0": 1,
         "2018.0": "nan",
         "_deepnote_index_column": "0011c512eb256aa0dbbb544d8dffcf6e"
        },
        {
         "2016.0": "nan",
         "2017.0": 2,
         "2018.0": "nan",
         "_deepnote_index_column": "00126f27c813603687e6ce486d909d01"
        },
        {
         "2016.0": "nan",
         "2017.0": 9,
         "2018.0": "nan",
         "_deepnote_index_column": "001795ec6f1b187d37335e1c4704762e"
        },
        {
         "2016.0": "nan",
         "2017.0": "nan",
         "2018.0": 1,
         "_deepnote_index_column": "001b237c0e9bb435f2e54071129237e9"
        },
        {
         "2016.0": "nan",
         "2017.0": 14,
         "2018.0": "nan",
         "_deepnote_index_column": "001b72dfd63e9833e8c02742adf472e3"
        }
       ]
      },
      "text/plain": "order_year                        2016.0  2017.0  2018.0\nproduct_id                                              \n00066f42aeeb9f3007548bb9d3f33c38     NaN     NaN     1.0\n00088930e925c41fd95ebfe695fd2655     NaN     1.0     NaN\n0009406fd7479715e4bef61dd91f2462     NaN     1.0     NaN\n000b8f95fcb9e0096488278317764d19     NaN     NaN     2.0\n000d9be29b5207b54e86aa1b1ac54872     NaN     NaN     1.0\n...                                  ...     ...     ...\nfff6177642830a9a94a0f2cba5e476d1     NaN     2.0     NaN\nfff81cc3158d2725c0655ab9ba0f712c     NaN     NaN     1.0\nfff9553ac224cec9d15d49f5a263411f     NaN     1.0     NaN\nfffdb2d0ec8d6a61f0a0a0db3f25b441     NaN     NaN     5.0\nfffe9eeff12fcbd74a2f2b007dde0c58     NaN     NaN     1.0\n\n[32948 rows x 3 columns]",
      "text/html": "<div>\n<style scoped>\n    .dataframe tbody tr th:only-of-type {\n        vertical-align: middle;\n    }\n\n    .dataframe tbody tr th {\n        vertical-align: top;\n    }\n\n    .dataframe thead th {\n        text-align: right;\n    }\n</style>\n<table border=\"1\" class=\"dataframe\">\n  <thead>\n    <tr style=\"text-align: right;\">\n      <th>order_year</th>\n      <th>2016.0</th>\n      <th>2017.0</th>\n      <th>2018.0</th>\n    </tr>\n    <tr>\n      <th>product_id</th>\n      <th></th>\n      <th></th>\n      <th></th>\n    </tr>\n  </thead>\n  <tbody>\n    <tr>\n      <th>00066f42aeeb9f3007548bb9d3f33c38</th>\n      <td>NaN</td>\n      <td>NaN</td>\n      <td>1.0</td>\n    </tr>\n    <tr>\n      <th>00088930e925c41fd95ebfe695fd2655</th>\n      <td>NaN</td>\n      <td>1.0</td>\n      <td>NaN</td>\n    </tr>\n    <tr>\n      <th>0009406fd7479715e4bef61dd91f2462</th>\n      <td>NaN</td>\n      <td>1.0</td>\n      <td>NaN</td>\n    </tr>\n    <tr>\n      <th>000b8f95fcb9e0096488278317764d19</th>\n      <td>NaN</td>\n      <td>NaN</td>\n      <td>2.0</td>\n    </tr>\n    <tr>\n      <th>000d9be29b5207b54e86aa1b1ac54872</th>\n      <td>NaN</td>\n      <td>NaN</td>\n      <td>1.0</td>\n    </tr>\n    <tr>\n      <th>...</th>\n      <td>...</td>\n      <td>...</td>\n      <td>...</td>\n    </tr>\n    <tr>\n      <th>fff6177642830a9a94a0f2cba5e476d1</th>\n      <td>NaN</td>\n      <td>2.0</td>\n      <td>NaN</td>\n    </tr>\n    <tr>\n      <th>fff81cc3158d2725c0655ab9ba0f712c</th>\n      <td>NaN</td>\n      <td>NaN</td>\n      <td>1.0</td>\n    </tr>\n    <tr>\n      <th>fff9553ac224cec9d15d49f5a263411f</th>\n      <td>NaN</td>\n      <td>1.0</td>\n      <td>NaN</td>\n    </tr>\n    <tr>\n      <th>fffdb2d0ec8d6a61f0a0a0db3f25b441</th>\n      <td>NaN</td>\n      <td>NaN</td>\n      <td>5.0</td>\n    </tr>\n    <tr>\n      <th>fffe9eeff12fcbd74a2f2b007dde0c58</th>\n      <td>NaN</td>\n      <td>NaN</td>\n      <td>1.0</td>\n    </tr>\n  </tbody>\n</table>\n<p>32948 rows × 3 columns</p>\n</div>"
     },
     "metadata": {}
    }
   ]
  },
  {
   "cell_type": "code",
   "metadata": {
    "cell_id": "016887c1d5c344ee9af046b71c3ae522",
    "tags": [],
    "deepnote_to_be_reexecuted": false,
    "source_hash": "bc09adad",
    "execution_start": 1651114850258,
    "execution_millis": 333,
    "deepnote_cell_type": "code"
   },
   "source": "orders_items_sellers",
   "execution_count": null,
   "outputs": [
    {
     "output_type": "execute_result",
     "execution_count": 21,
     "data": {
      "application/vnd.deepnote.dataframe.v3+json": {
       "column_count": 19,
       "row_count": 112650,
       "columns": [
        {
         "name": "order_id",
         "dtype": "string"
        },
        {
         "name": "order_item_id",
         "dtype": "Int64"
        },
        {
         "name": "product_id",
         "dtype": "string"
        },
        {
         "name": "seller_id",
         "dtype": "string"
        },
        {
         "name": "shipping_limit_date",
         "dtype": "datetime64[ns]"
        },
        {
         "name": "price",
         "dtype": "Float64"
        },
        {
         "name": "freight_value",
         "dtype": "Float64"
        },
        {
         "name": "customer_id",
         "dtype": "string"
        },
        {
         "name": "order_status",
         "dtype": "string"
        },
        {
         "name": "order_purchase_timestamp",
         "dtype": "datetime64[ns]"
        },
        {
         "name": "order_approved_at",
         "dtype": "datetime64[ns]"
        },
        {
         "name": "order_delivered_carrier_date",
         "dtype": "datetime64[ns]"
        },
        {
         "name": "order_delivered_customer_date",
         "dtype": "datetime64[ns]"
        },
        {
         "name": "order_estimated_delivery_date",
         "dtype": "datetime64[ns]"
        },
        {
         "name": "order_year",
         "dtype": "float64"
        },
        {
         "name": "deliver_time",
         "dtype": "timedelta64[ns]"
        },
        {
         "name": "seller_zip_code_prefix",
         "dtype": "Int64"
        },
        {
         "name": "seller_city",
         "dtype": "string"
        },
        {
         "name": "seller_state",
         "dtype": "string"
        },
        {
         "name": "_deepnote_index_column",
         "dtype": "int64"
        }
       ],
       "rows": [
        {
         "order_id": "00010242fe8c5a6d1ba2dd792cb16214",
         "order_item_id": 1,
         "product_id": "4244733e06e7ecb4970a6e2683c13e61",
         "seller_id": "48436dade18ac8b2bce089ec2a041202",
         "shipping_limit_date": "2017-09-19T09:45:35.000000",
         "price": 58.9,
         "freight_value": 13.29,
         "customer_id": "3ce436f183e68e07877b285a838db11a",
         "order_status": "delivered",
         "order_purchase_timestamp": "2017-09-13T08:59:02.000000",
         "order_approved_at": "2017-09-13T09:45:35.000000",
         "order_delivered_carrier_date": "2017-09-19T18:34:16.000000",
         "order_delivered_customer_date": "2017-09-20T23:43:48.000000",
         "order_estimated_delivery_date": "2017-09-29T00:00:00.000000",
         "order_year": 2017,
         "deliver_time": "1 days 05:09:32",
         "seller_zip_code_prefix": 27277,
         "seller_city": "volta redonda",
         "seller_state": "SP",
         "_deepnote_index_column": 0
        },
        {
         "order_id": "00018f77f2f0320c557190d7a144bdd3",
         "order_item_id": 1,
         "product_id": "e5f2d52b802189ee658865ca93d83a8f",
         "seller_id": "dd7ddc04e1b6c2c614352b383efe2d36",
         "shipping_limit_date": "2017-05-03T11:05:13.000000",
         "price": 239.9,
         "freight_value": 19.93,
         "customer_id": "f6dd3ec061db4e3987629fe6b26e5cce",
         "order_status": "delivered",
         "order_purchase_timestamp": "2017-04-26T10:53:06.000000",
         "order_approved_at": "2017-04-26T11:05:13.000000",
         "order_delivered_carrier_date": "2017-05-04T14:35:00.000000",
         "order_delivered_customer_date": "2017-05-12T16:04:24.000000",
         "order_estimated_delivery_date": "2017-05-15T00:00:00.000000",
         "order_year": 2017,
         "deliver_time": "8 days 01:29:24",
         "seller_zip_code_prefix": 3471,
         "seller_city": "sao paulo",
         "seller_state": "SP",
         "_deepnote_index_column": 1
        },
        {
         "order_id": "000229ec398224ef6ca0657da4fc703e",
         "order_item_id": 1,
         "product_id": "c777355d18b72b67abbeef9df44fd0fd",
         "seller_id": "5b51032eddd242adc84c38acab88f23d",
         "shipping_limit_date": "2018-01-18T14:48:30.000000",
         "price": 199,
         "freight_value": 17.87,
         "customer_id": "6489ae5e4333f3693df5ad4372dab6d3",
         "order_status": "delivered",
         "order_purchase_timestamp": "2018-01-14T14:33:31.000000",
         "order_approved_at": "2018-01-14T14:48:30.000000",
         "order_delivered_carrier_date": "2018-01-16T12:36:48.000000",
         "order_delivered_customer_date": "2018-01-22T13:19:16.000000",
         "order_estimated_delivery_date": "2018-02-05T00:00:00.000000",
         "order_year": 2018,
         "deliver_time": "6 days 00:42:28",
         "seller_zip_code_prefix": 37564,
         "seller_city": "borda da mata",
         "seller_state": "MG",
         "_deepnote_index_column": 2
        },
        {
         "order_id": "00024acbcdf0a6daa1e931b038114c75",
         "order_item_id": 1,
         "product_id": "7634da152a4610f1595efa32f14722fc",
         "seller_id": "9d7a1d34a5052409006425275ba1c2b4",
         "shipping_limit_date": "2018-08-15T10:10:18.000000",
         "price": 12.99,
         "freight_value": 12.79,
         "customer_id": "d4eb9395c8c0431ee92fce09860c5a06",
         "order_status": "delivered",
         "order_purchase_timestamp": "2018-08-08T10:00:35.000000",
         "order_approved_at": "2018-08-08T10:10:18.000000",
         "order_delivered_carrier_date": "2018-08-10T13:28:00.000000",
         "order_delivered_customer_date": "2018-08-14T13:32:39.000000",
         "order_estimated_delivery_date": "2018-08-20T00:00:00.000000",
         "order_year": 2018,
         "deliver_time": "4 days 00:04:39",
         "seller_zip_code_prefix": 14403,
         "seller_city": "franca",
         "seller_state": "SP",
         "_deepnote_index_column": 3
        },
        {
         "order_id": "00042b26cf59d7ce69dfabb4e55b4fd9",
         "order_item_id": 1,
         "product_id": "ac6c3623068f30de03045865e4e10089",
         "seller_id": "df560393f3a51e74553ab94004ba5c87",
         "shipping_limit_date": "2017-02-13T13:57:51.000000",
         "price": 199.9,
         "freight_value": 18.14,
         "customer_id": "58dbd0b2d70206bf40e62cd34e84d795",
         "order_status": "delivered",
         "order_purchase_timestamp": "2017-02-04T13:57:51.000000",
         "order_approved_at": "2017-02-04T14:10:13.000000",
         "order_delivered_carrier_date": "2017-02-16T09:46:09.000000",
         "order_delivered_customer_date": "2017-03-01T16:42:31.000000",
         "order_estimated_delivery_date": "2017-03-17T00:00:00.000000",
         "order_year": 2017,
         "deliver_time": "13 days 06:56:22",
         "seller_zip_code_prefix": 87900,
         "seller_city": "loanda",
         "seller_state": "PR",
         "_deepnote_index_column": 4
        },
        {
         "order_id": "00048cc3ae777c65dbb7d2a0634bc1ea",
         "order_item_id": 1,
         "product_id": "ef92defde845ab8450f9d70c526ef70f",
         "seller_id": "6426d21aca402a131fc0a5d0960a3c90",
         "shipping_limit_date": "2017-05-23T03:55:27.000000",
         "price": 21.9,
         "freight_value": 12.69,
         "customer_id": "816cbea969fe5b689b39cfc97a506742",
         "order_status": "delivered",
         "order_purchase_timestamp": "2017-05-15T21:42:34.000000",
         "order_approved_at": "2017-05-17T03:55:27.000000",
         "order_delivered_carrier_date": "2017-05-17T11:05:55.000000",
         "order_delivered_customer_date": "2017-05-22T13:44:35.000000",
         "order_estimated_delivery_date": "2017-06-06T00:00:00.000000",
         "order_year": 2017,
         "deliver_time": "5 days 02:38:40",
         "seller_zip_code_prefix": 14091,
         "seller_city": "ribeirao preto",
         "seller_state": "SP",
         "_deepnote_index_column": 5
        },
        {
         "order_id": "00054e8431b9d7675808bcb819fb4a32",
         "order_item_id": 1,
         "product_id": "8d4f2bb7e93e6710a28f34fa83ee7d28",
         "seller_id": "7040e82f899a04d1b434b795a43b4617",
         "shipping_limit_date": "2017-12-14T12:10:31.000000",
         "price": 19.9,
         "freight_value": 11.85,
         "customer_id": "32e2e6ab09e778d99bf2e0ecd4898718",
         "order_status": "delivered",
         "order_purchase_timestamp": "2017-12-10T11:53:48.000000",
         "order_approved_at": "2017-12-10T12:10:31.000000",
         "order_delivered_carrier_date": "2017-12-12T01:07:48.000000",
         "order_delivered_customer_date": "2017-12-18T22:03:38.000000",
         "order_estimated_delivery_date": "2018-01-04T00:00:00.000000",
         "order_year": 2017,
         "deliver_time": "6 days 20:55:50",
         "seller_zip_code_prefix": 1026,
         "seller_city": "sao paulo",
         "seller_state": "SP",
         "_deepnote_index_column": 6
        },
        {
         "order_id": "000576fe39319847cbb9d288c5617fa6",
         "order_item_id": 1,
         "product_id": "557d850972a7d6f792fd18ae1400d9b6",
         "seller_id": "5996cddab893a4652a15592fb58ab8db",
         "shipping_limit_date": "2018-07-10T12:30:45.000000",
         "price": 810,
         "freight_value": 70.75,
         "customer_id": "9ed5e522dd9dd85b4af4a077526d8117",
         "order_status": "delivered",
         "order_purchase_timestamp": "2018-07-04T12:08:27.000000",
         "order_approved_at": "2018-07-05T16:35:48.000000",
         "order_delivered_carrier_date": "2018-07-05T12:15:00.000000",
         "order_delivered_customer_date": "2018-07-09T14:04:07.000000",
         "order_estimated_delivery_date": "2018-07-25T00:00:00.000000",
         "order_year": 2018,
         "deliver_time": "4 days 01:49:07",
         "seller_zip_code_prefix": 19010,
         "seller_city": "presidente prudente",
         "seller_state": "SP",
         "_deepnote_index_column": 7
        },
        {
         "order_id": "0005a1a1728c9d785b8e2b08b904576c",
         "order_item_id": 1,
         "product_id": "310ae3c140ff94b03219ad0adc3c778f",
         "seller_id": "a416b6a846a11724393025641d4edd5e",
         "shipping_limit_date": "2018-03-26T18:31:29.000000",
         "price": 145.95,
         "freight_value": 11.65,
         "customer_id": "16150771dfd4776261284213b89c304e",
         "order_status": "delivered",
         "order_purchase_timestamp": "2018-03-19T18:40:33.000000",
         "order_approved_at": "2018-03-20T18:35:21.000000",
         "order_delivered_carrier_date": "2018-03-28T00:37:42.000000",
         "order_delivered_customer_date": "2018-03-29T18:17:31.000000",
         "order_estimated_delivery_date": "2018-03-29T00:00:00.000000",
         "order_year": 2018,
         "deliver_time": "1 days 17:39:49",
         "seller_zip_code_prefix": 3702,
         "seller_city": "sao paulo",
         "seller_state": "SP",
         "_deepnote_index_column": 8
        },
        {
         "order_id": "0005f50442cb953dcd1d21e1fb923495",
         "order_item_id": 1,
         "product_id": "4535b0e1091c278dfd193e5a1d63b39f",
         "seller_id": "ba143b05f0110f0dc71ad71b4466ce92",
         "shipping_limit_date": "2018-07-06T14:10:56.000000",
         "price": 53.99,
         "freight_value": 11.4,
         "customer_id": "351d3cb2cee3c7fd0af6616c82df21d3",
         "order_status": "delivered",
         "order_purchase_timestamp": "2018-07-02T13:59:39.000000",
         "order_approved_at": "2018-07-02T14:10:56.000000",
         "order_delivered_carrier_date": "2018-07-03T14:25:00.000000",
         "order_delivered_customer_date": "2018-07-04T17:28:31.000000",
         "order_estimated_delivery_date": "2018-07-23T00:00:00.000000",
         "order_year": 2018,
         "deliver_time": "1 days 03:03:31",
         "seller_zip_code_prefix": 2274,
         "seller_city": "sao paulo",
         "seller_state": "SP",
         "_deepnote_index_column": 9
        }
       ]
      },
      "text/plain": "                                order_id  order_item_id  \\\n0       00010242fe8c5a6d1ba2dd792cb16214              1   \n1       00018f77f2f0320c557190d7a144bdd3              1   \n2       000229ec398224ef6ca0657da4fc703e              1   \n3       00024acbcdf0a6daa1e931b038114c75              1   \n4       00042b26cf59d7ce69dfabb4e55b4fd9              1   \n...                                  ...            ...   \n112645  fffc94f6ce00a00581880bf54a75a037              1   \n112646  fffcd46ef2263f404302a634eb57f7eb              1   \n112647  fffce4705a9662cd70adb13d4a31832d              1   \n112648  fffe18544ffabc95dfada21779c9644f              1   \n112649  fffe41c64501cc87c801fd61db3f6244              1   \n\n                              product_id                         seller_id  \\\n0       4244733e06e7ecb4970a6e2683c13e61  48436dade18ac8b2bce089ec2a041202   \n1       e5f2d52b802189ee658865ca93d83a8f  dd7ddc04e1b6c2c614352b383efe2d36   \n2       c777355d18b72b67abbeef9df44fd0fd  5b51032eddd242adc84c38acab88f23d   \n3       7634da152a4610f1595efa32f14722fc  9d7a1d34a5052409006425275ba1c2b4   \n4       ac6c3623068f30de03045865e4e10089  df560393f3a51e74553ab94004ba5c87   \n...                                  ...                               ...   \n112645  4aa6014eceb682077f9dc4bffebc05b0  b8bc237ba3788b23da09c0f1f3a3288c   \n112646  32e07fd915822b0765e448c4dd74c828  f3c38ab652836d21de61fb8314b69182   \n112647  72a30483855e2eafc67aee5dc2560482  c3cfdc648177fdbbbb35635a37472c53   \n112648  9c422a519119dcad7575db5af1ba540e  2b3e4a2a3ea8e01938cabda2a3e5cc79   \n112649  350688d9dc1e75ff97be326363655e01  f7ccf836d21b2fb1de37564105216cc1   \n\n       shipping_limit_date   price  freight_value  \\\n0      2017-09-19 09:45:35    58.9          13.29   \n1      2017-05-03 11:05:13   239.9          19.93   \n2      2018-01-18 14:48:30   199.0          17.87   \n3      2018-08-15 10:10:18   12.99          12.79   \n4      2017-02-13 13:57:51   199.9          18.14   \n...                    ...     ...            ...   \n112645 2018-05-02 04:11:01  299.99          43.41   \n112646 2018-07-20 04:31:48   350.0          36.53   \n112647 2017-10-30 17:14:25    99.9          16.95   \n112648 2017-08-21 00:04:32   55.99           8.72   \n112649 2018-06-12 17:10:13    43.0          12.79   \n\n                             customer_id order_status  \\\n0       3ce436f183e68e07877b285a838db11a    delivered   \n1       f6dd3ec061db4e3987629fe6b26e5cce    delivered   \n2       6489ae5e4333f3693df5ad4372dab6d3    delivered   \n3       d4eb9395c8c0431ee92fce09860c5a06    delivered   \n4       58dbd0b2d70206bf40e62cd34e84d795    delivered   \n...                                  ...          ...   \n112645  b51593916b4b8e0d6f66f2ae24f2673d    delivered   \n112646  84c5d4fbaf120aae381fad077416eaa0    delivered   \n112647  29309aa813182aaddc9b259e31b870e6    delivered   \n112648  b5e6afd5a41800fdf401e0272ca74655    delivered   \n112649  96d649da0cc4ff33bb408b199d4c7dcf    delivered   \n\n       order_purchase_timestamp   order_approved_at  \\\n0           2017-09-13 08:59:02 2017-09-13 09:45:35   \n1           2017-04-26 10:53:06 2017-04-26 11:05:13   \n2           2018-01-14 14:33:31 2018-01-14 14:48:30   \n3           2018-08-08 10:00:35 2018-08-08 10:10:18   \n4           2017-02-04 13:57:51 2017-02-04 14:10:13   \n...                         ...                 ...   \n112645      2018-04-23 13:57:06 2018-04-25 04:11:01   \n112646      2018-07-14 10:26:46 2018-07-17 04:31:48   \n112647      2017-10-23 17:07:56 2017-10-24 17:14:25   \n112648      2017-08-14 23:02:59 2017-08-15 00:04:32   \n112649      2018-06-09 17:00:18 2018-06-09 17:10:13   \n\n       order_delivered_carrier_date order_delivered_customer_date  \\\n0               2017-09-19 18:34:16           2017-09-20 23:43:48   \n1               2017-05-04 14:35:00           2017-05-12 16:04:24   \n2               2018-01-16 12:36:48           2018-01-22 13:19:16   \n3               2018-08-10 13:28:00           2018-08-14 13:32:39   \n4               2017-02-16 09:46:09           2017-03-01 16:42:31   \n...                             ...                           ...   \n112645          2018-04-25 12:09:00           2018-05-10 22:56:40   \n112646          2018-07-17 08:05:00           2018-07-23 20:31:55   \n112647          2017-10-26 15:13:14           2017-10-28 12:22:22   \n112648          2017-08-15 19:02:53           2017-08-16 21:59:40   \n112649          2018-06-11 14:11:00           2018-06-14 17:56:26   \n\n       order_estimated_delivery_date  order_year     deliver_time  \\\n0                         2017-09-29      2017.0  1 days 05:09:32   \n1                         2017-05-15      2017.0  8 days 01:29:24   \n2                         2018-02-05      2018.0  6 days 00:42:28   \n3                         2018-08-20      2018.0  4 days 00:04:39   \n4                         2017-03-17      2017.0 13 days 06:56:22   \n...                              ...         ...              ...   \n112645                    2018-05-18      2018.0 15 days 10:47:40   \n112646                    2018-08-01      2018.0  6 days 12:26:55   \n112647                    2017-11-10      2017.0  1 days 21:09:08   \n112648                    2017-08-25      2017.0  1 days 02:56:47   \n112649                    2018-06-28      2018.0  3 days 03:45:26   \n\n        seller_zip_code_prefix    seller_city seller_state  \n0                        27277  volta redonda           SP  \n1                         3471      sao paulo           SP  \n2                        37564  borda da mata           MG  \n3                        14403         franca           SP  \n4                        87900         loanda           PR  \n...                        ...            ...          ...  \n112645                   88303         itajai           SC  \n112646                    1206      sao paulo           SP  \n112647                   80610       curitiba           PR  \n112648                    4733      sao paulo           SP  \n112649                   14940       ibitinga           SP  \n\n[112650 rows x 19 columns]",
      "text/html": "<div>\n<style scoped>\n    .dataframe tbody tr th:only-of-type {\n        vertical-align: middle;\n    }\n\n    .dataframe tbody tr th {\n        vertical-align: top;\n    }\n\n    .dataframe thead th {\n        text-align: right;\n    }\n</style>\n<table border=\"1\" class=\"dataframe\">\n  <thead>\n    <tr style=\"text-align: right;\">\n      <th></th>\n      <th>order_id</th>\n      <th>order_item_id</th>\n      <th>product_id</th>\n      <th>seller_id</th>\n      <th>shipping_limit_date</th>\n      <th>price</th>\n      <th>freight_value</th>\n      <th>customer_id</th>\n      <th>order_status</th>\n      <th>order_purchase_timestamp</th>\n      <th>order_approved_at</th>\n      <th>order_delivered_carrier_date</th>\n      <th>order_delivered_customer_date</th>\n      <th>order_estimated_delivery_date</th>\n      <th>order_year</th>\n      <th>deliver_time</th>\n      <th>seller_zip_code_prefix</th>\n      <th>seller_city</th>\n      <th>seller_state</th>\n    </tr>\n  </thead>\n  <tbody>\n    <tr>\n      <th>0</th>\n      <td>00010242fe8c5a6d1ba2dd792cb16214</td>\n      <td>1</td>\n      <td>4244733e06e7ecb4970a6e2683c13e61</td>\n      <td>48436dade18ac8b2bce089ec2a041202</td>\n      <td>2017-09-19 09:45:35</td>\n      <td>58.9</td>\n      <td>13.29</td>\n      <td>3ce436f183e68e07877b285a838db11a</td>\n      <td>delivered</td>\n      <td>2017-09-13 08:59:02</td>\n      <td>2017-09-13 09:45:35</td>\n      <td>2017-09-19 18:34:16</td>\n      <td>2017-09-20 23:43:48</td>\n      <td>2017-09-29</td>\n      <td>2017.0</td>\n      <td>1 days 05:09:32</td>\n      <td>27277</td>\n      <td>volta redonda</td>\n      <td>SP</td>\n    </tr>\n    <tr>\n      <th>1</th>\n      <td>00018f77f2f0320c557190d7a144bdd3</td>\n      <td>1</td>\n      <td>e5f2d52b802189ee658865ca93d83a8f</td>\n      <td>dd7ddc04e1b6c2c614352b383efe2d36</td>\n      <td>2017-05-03 11:05:13</td>\n      <td>239.9</td>\n      <td>19.93</td>\n      <td>f6dd3ec061db4e3987629fe6b26e5cce</td>\n      <td>delivered</td>\n      <td>2017-04-26 10:53:06</td>\n      <td>2017-04-26 11:05:13</td>\n      <td>2017-05-04 14:35:00</td>\n      <td>2017-05-12 16:04:24</td>\n      <td>2017-05-15</td>\n      <td>2017.0</td>\n      <td>8 days 01:29:24</td>\n      <td>3471</td>\n      <td>sao paulo</td>\n      <td>SP</td>\n    </tr>\n    <tr>\n      <th>2</th>\n      <td>000229ec398224ef6ca0657da4fc703e</td>\n      <td>1</td>\n      <td>c777355d18b72b67abbeef9df44fd0fd</td>\n      <td>5b51032eddd242adc84c38acab88f23d</td>\n      <td>2018-01-18 14:48:30</td>\n      <td>199.0</td>\n      <td>17.87</td>\n      <td>6489ae5e4333f3693df5ad4372dab6d3</td>\n      <td>delivered</td>\n      <td>2018-01-14 14:33:31</td>\n      <td>2018-01-14 14:48:30</td>\n      <td>2018-01-16 12:36:48</td>\n      <td>2018-01-22 13:19:16</td>\n      <td>2018-02-05</td>\n      <td>2018.0</td>\n      <td>6 days 00:42:28</td>\n      <td>37564</td>\n      <td>borda da mata</td>\n      <td>MG</td>\n    </tr>\n    <tr>\n      <th>3</th>\n      <td>00024acbcdf0a6daa1e931b038114c75</td>\n      <td>1</td>\n      <td>7634da152a4610f1595efa32f14722fc</td>\n      <td>9d7a1d34a5052409006425275ba1c2b4</td>\n      <td>2018-08-15 10:10:18</td>\n      <td>12.99</td>\n      <td>12.79</td>\n      <td>d4eb9395c8c0431ee92fce09860c5a06</td>\n      <td>delivered</td>\n      <td>2018-08-08 10:00:35</td>\n      <td>2018-08-08 10:10:18</td>\n      <td>2018-08-10 13:28:00</td>\n      <td>2018-08-14 13:32:39</td>\n      <td>2018-08-20</td>\n      <td>2018.0</td>\n      <td>4 days 00:04:39</td>\n      <td>14403</td>\n      <td>franca</td>\n      <td>SP</td>\n    </tr>\n    <tr>\n      <th>4</th>\n      <td>00042b26cf59d7ce69dfabb4e55b4fd9</td>\n      <td>1</td>\n      <td>ac6c3623068f30de03045865e4e10089</td>\n      <td>df560393f3a51e74553ab94004ba5c87</td>\n      <td>2017-02-13 13:57:51</td>\n      <td>199.9</td>\n      <td>18.14</td>\n      <td>58dbd0b2d70206bf40e62cd34e84d795</td>\n      <td>delivered</td>\n      <td>2017-02-04 13:57:51</td>\n      <td>2017-02-04 14:10:13</td>\n      <td>2017-02-16 09:46:09</td>\n      <td>2017-03-01 16:42:31</td>\n      <td>2017-03-17</td>\n      <td>2017.0</td>\n      <td>13 days 06:56:22</td>\n      <td>87900</td>\n      <td>loanda</td>\n      <td>PR</td>\n    </tr>\n    <tr>\n      <th>...</th>\n      <td>...</td>\n      <td>...</td>\n      <td>...</td>\n      <td>...</td>\n      <td>...</td>\n      <td>...</td>\n      <td>...</td>\n      <td>...</td>\n      <td>...</td>\n      <td>...</td>\n      <td>...</td>\n      <td>...</td>\n      <td>...</td>\n      <td>...</td>\n      <td>...</td>\n      <td>...</td>\n      <td>...</td>\n      <td>...</td>\n      <td>...</td>\n    </tr>\n    <tr>\n      <th>112645</th>\n      <td>fffc94f6ce00a00581880bf54a75a037</td>\n      <td>1</td>\n      <td>4aa6014eceb682077f9dc4bffebc05b0</td>\n      <td>b8bc237ba3788b23da09c0f1f3a3288c</td>\n      <td>2018-05-02 04:11:01</td>\n      <td>299.99</td>\n      <td>43.41</td>\n      <td>b51593916b4b8e0d6f66f2ae24f2673d</td>\n      <td>delivered</td>\n      <td>2018-04-23 13:57:06</td>\n      <td>2018-04-25 04:11:01</td>\n      <td>2018-04-25 12:09:00</td>\n      <td>2018-05-10 22:56:40</td>\n      <td>2018-05-18</td>\n      <td>2018.0</td>\n      <td>15 days 10:47:40</td>\n      <td>88303</td>\n      <td>itajai</td>\n      <td>SC</td>\n    </tr>\n    <tr>\n      <th>112646</th>\n      <td>fffcd46ef2263f404302a634eb57f7eb</td>\n      <td>1</td>\n      <td>32e07fd915822b0765e448c4dd74c828</td>\n      <td>f3c38ab652836d21de61fb8314b69182</td>\n      <td>2018-07-20 04:31:48</td>\n      <td>350.0</td>\n      <td>36.53</td>\n      <td>84c5d4fbaf120aae381fad077416eaa0</td>\n      <td>delivered</td>\n      <td>2018-07-14 10:26:46</td>\n      <td>2018-07-17 04:31:48</td>\n      <td>2018-07-17 08:05:00</td>\n      <td>2018-07-23 20:31:55</td>\n      <td>2018-08-01</td>\n      <td>2018.0</td>\n      <td>6 days 12:26:55</td>\n      <td>1206</td>\n      <td>sao paulo</td>\n      <td>SP</td>\n    </tr>\n    <tr>\n      <th>112647</th>\n      <td>fffce4705a9662cd70adb13d4a31832d</td>\n      <td>1</td>\n      <td>72a30483855e2eafc67aee5dc2560482</td>\n      <td>c3cfdc648177fdbbbb35635a37472c53</td>\n      <td>2017-10-30 17:14:25</td>\n      <td>99.9</td>\n      <td>16.95</td>\n      <td>29309aa813182aaddc9b259e31b870e6</td>\n      <td>delivered</td>\n      <td>2017-10-23 17:07:56</td>\n      <td>2017-10-24 17:14:25</td>\n      <td>2017-10-26 15:13:14</td>\n      <td>2017-10-28 12:22:22</td>\n      <td>2017-11-10</td>\n      <td>2017.0</td>\n      <td>1 days 21:09:08</td>\n      <td>80610</td>\n      <td>curitiba</td>\n      <td>PR</td>\n    </tr>\n    <tr>\n      <th>112648</th>\n      <td>fffe18544ffabc95dfada21779c9644f</td>\n      <td>1</td>\n      <td>9c422a519119dcad7575db5af1ba540e</td>\n      <td>2b3e4a2a3ea8e01938cabda2a3e5cc79</td>\n      <td>2017-08-21 00:04:32</td>\n      <td>55.99</td>\n      <td>8.72</td>\n      <td>b5e6afd5a41800fdf401e0272ca74655</td>\n      <td>delivered</td>\n      <td>2017-08-14 23:02:59</td>\n      <td>2017-08-15 00:04:32</td>\n      <td>2017-08-15 19:02:53</td>\n      <td>2017-08-16 21:59:40</td>\n      <td>2017-08-25</td>\n      <td>2017.0</td>\n      <td>1 days 02:56:47</td>\n      <td>4733</td>\n      <td>sao paulo</td>\n      <td>SP</td>\n    </tr>\n    <tr>\n      <th>112649</th>\n      <td>fffe41c64501cc87c801fd61db3f6244</td>\n      <td>1</td>\n      <td>350688d9dc1e75ff97be326363655e01</td>\n      <td>f7ccf836d21b2fb1de37564105216cc1</td>\n      <td>2018-06-12 17:10:13</td>\n      <td>43.0</td>\n      <td>12.79</td>\n      <td>96d649da0cc4ff33bb408b199d4c7dcf</td>\n      <td>delivered</td>\n      <td>2018-06-09 17:00:18</td>\n      <td>2018-06-09 17:10:13</td>\n      <td>2018-06-11 14:11:00</td>\n      <td>2018-06-14 17:56:26</td>\n      <td>2018-06-28</td>\n      <td>2018.0</td>\n      <td>3 days 03:45:26</td>\n      <td>14940</td>\n      <td>ibitinga</td>\n      <td>SP</td>\n    </tr>\n  </tbody>\n</table>\n<p>112650 rows × 19 columns</p>\n</div>"
     },
     "metadata": {}
    }
   ]
  },
  {
   "cell_type": "code",
   "metadata": {
    "cell_id": "d57d7f68342d4db488e37c40fa1d47df",
    "tags": [],
    "deepnote_to_be_reexecuted": false,
    "source_hash": "ba38e7c",
    "execution_start": 1651114850386,
    "execution_millis": 227,
    "deepnote_table_state": {
     "pageSize": 10,
     "pageIndex": 0,
     "filters": [],
     "sortBy": []
    },
    "deepnote_table_loading": false,
    "deepnote_cell_type": "code"
   },
   "source": "orders",
   "execution_count": null,
   "outputs": [
    {
     "output_type": "execute_result",
     "execution_count": 22,
     "data": {
      "application/vnd.deepnote.dataframe.v3+json": {
       "column_count": 8,
       "row_count": 99441,
       "columns": [
        {
         "name": "order_id",
         "dtype": "string",
         "stats": {
          "unique_count": 99441,
          "nan_count": 0,
          "categories": [
           {
            "name": "e481f51cbdc54678b7cc49136f2d6af7",
            "count": 1
           },
           {
            "name": "53cdb2fc8bc7dce0b6741e2150273451",
            "count": 1
           },
           {
            "name": "99439 others",
            "count": 99439
           }
          ]
         }
        },
        {
         "name": "customer_id",
         "dtype": "string"
        },
        {
         "name": "order_status",
         "dtype": "string"
        },
        {
         "name": "order_purchase_timestamp",
         "dtype": "datetime64[ns]"
        },
        {
         "name": "order_approved_at",
         "dtype": "datetime64[ns]"
        },
        {
         "name": "order_delivered_carrier_date",
         "dtype": "datetime64[ns]"
        },
        {
         "name": "order_delivered_customer_date",
         "dtype": "datetime64[ns]"
        },
        {
         "name": "order_estimated_delivery_date",
         "dtype": "datetime64[ns]"
        },
        {
         "name": "_deepnote_index_column",
         "dtype": "int64"
        }
       ],
       "rows": [
        {
         "order_id": "e481f51cbdc54678b7cc49136f2d6af7",
         "customer_id": "9ef432eb6251297304e76186b10a928d",
         "order_status": "delivered",
         "order_purchase_timestamp": "2017-10-02T10:56:33.000000",
         "order_approved_at": "2017-10-02T11:07:15.000000",
         "order_delivered_carrier_date": "2017-10-04 19:55:00",
         "order_delivered_customer_date": "2017-10-10 21:25:13",
         "order_estimated_delivery_date": "2017-10-18T00:00:00.000000",
         "_deepnote_index_column": 0
        },
        {
         "order_id": "53cdb2fc8bc7dce0b6741e2150273451",
         "customer_id": "b0830fb4747a6c6d20dea0b8c802d7ef",
         "order_status": "delivered",
         "order_purchase_timestamp": "2018-07-24T20:41:37.000000",
         "order_approved_at": "2018-07-26T03:24:27.000000",
         "order_delivered_carrier_date": "2018-07-26 14:31:00",
         "order_delivered_customer_date": "2018-08-07 15:27:45",
         "order_estimated_delivery_date": "2018-08-13T00:00:00.000000",
         "_deepnote_index_column": 1
        },
        {
         "order_id": "47770eb9100c2d0c44946d9cf07ec65d",
         "customer_id": "41ce2a54c0b03bf3443c3d931a367089",
         "order_status": "delivered",
         "order_purchase_timestamp": "2018-08-08T08:38:49.000000",
         "order_approved_at": "2018-08-08T08:55:23.000000",
         "order_delivered_carrier_date": "2018-08-08 13:50:00",
         "order_delivered_customer_date": "2018-08-17 18:06:29",
         "order_estimated_delivery_date": "2018-09-04T00:00:00.000000",
         "_deepnote_index_column": 2
        },
        {
         "order_id": "949d5b44dbf5de918fe9c16f97b45f8a",
         "customer_id": "f88197465ea7920adcdbec7375364d82",
         "order_status": "delivered",
         "order_purchase_timestamp": "2017-11-18T19:28:06.000000",
         "order_approved_at": "2017-11-18T19:45:59.000000",
         "order_delivered_carrier_date": "2017-11-22 13:39:59",
         "order_delivered_customer_date": "2017-12-02 00:28:42",
         "order_estimated_delivery_date": "2017-12-15T00:00:00.000000",
         "_deepnote_index_column": 3
        },
        {
         "order_id": "ad21c59c0840e6cb83a9ceb5573f8159",
         "customer_id": "8ab97904e6daea8866dbdbc4fb7aad2c",
         "order_status": "delivered",
         "order_purchase_timestamp": "2018-02-13T21:18:39.000000",
         "order_approved_at": "2018-02-13T22:20:29.000000",
         "order_delivered_carrier_date": "2018-02-14 19:46:34",
         "order_delivered_customer_date": "2018-02-16 18:17:02",
         "order_estimated_delivery_date": "2018-02-26T00:00:00.000000",
         "_deepnote_index_column": 4
        },
        {
         "order_id": "a4591c265e18cb1dcee52889e2d8acc3",
         "customer_id": "503740e9ca751ccdda7ba28e9ab8f608",
         "order_status": "delivered",
         "order_purchase_timestamp": "2017-07-09T21:57:05.000000",
         "order_approved_at": "2017-07-09T22:10:13.000000",
         "order_delivered_carrier_date": "2017-07-11 14:58:04",
         "order_delivered_customer_date": "2017-07-26 10:57:55",
         "order_estimated_delivery_date": "2017-08-01T00:00:00.000000",
         "_deepnote_index_column": 5
        },
        {
         "order_id": "136cce7faa42fdb2cefd53fdc79a6098",
         "customer_id": "ed0271e0b7da060a393796590e7b737a",
         "order_status": "invoiced",
         "order_purchase_timestamp": "2017-04-11T12:22:08.000000",
         "order_approved_at": "2017-04-13T13:25:17.000000",
         "order_delivered_carrier_date": "NaT",
         "order_delivered_customer_date": "NaT",
         "order_estimated_delivery_date": "2017-05-09T00:00:00.000000",
         "_deepnote_index_column": 6
        },
        {
         "order_id": "6514b8ad8028c9f2cc2374ded245783f",
         "customer_id": "9bdf08b4b3b52b5526ff42d37d47f222",
         "order_status": "delivered",
         "order_purchase_timestamp": "2017-05-16T13:10:30.000000",
         "order_approved_at": "2017-05-16T13:22:11.000000",
         "order_delivered_carrier_date": "2017-05-22 10:07:46",
         "order_delivered_customer_date": "2017-05-26 12:55:51",
         "order_estimated_delivery_date": "2017-06-07T00:00:00.000000",
         "_deepnote_index_column": 7
        },
        {
         "order_id": "76c6e866289321a7c93b82b54852dc33",
         "customer_id": "f54a9f0e6b351c431402b8461ea51999",
         "order_status": "delivered",
         "order_purchase_timestamp": "2017-01-23T18:29:09.000000",
         "order_approved_at": "2017-01-25T02:50:47.000000",
         "order_delivered_carrier_date": "2017-01-26 14:16:31",
         "order_delivered_customer_date": "2017-02-02 14:08:10",
         "order_estimated_delivery_date": "2017-03-06T00:00:00.000000",
         "_deepnote_index_column": 8
        },
        {
         "order_id": "e69bfb5eb88e0ed6a785585b27e16dbf",
         "customer_id": "31ad1d1b63eb9962463f764d4e6e0c9d",
         "order_status": "delivered",
         "order_purchase_timestamp": "2017-07-29T11:55:02.000000",
         "order_approved_at": "2017-07-29T12:05:32.000000",
         "order_delivered_carrier_date": "2017-08-10 19:45:24",
         "order_delivered_customer_date": "2017-08-16 17:14:30",
         "order_estimated_delivery_date": "2017-08-23T00:00:00.000000",
         "_deepnote_index_column": 9
        }
       ]
      },
      "text/plain": "                               order_id                       customer_id  \\\n0      e481f51cbdc54678b7cc49136f2d6af7  9ef432eb6251297304e76186b10a928d   \n1      53cdb2fc8bc7dce0b6741e2150273451  b0830fb4747a6c6d20dea0b8c802d7ef   \n2      47770eb9100c2d0c44946d9cf07ec65d  41ce2a54c0b03bf3443c3d931a367089   \n3      949d5b44dbf5de918fe9c16f97b45f8a  f88197465ea7920adcdbec7375364d82   \n4      ad21c59c0840e6cb83a9ceb5573f8159  8ab97904e6daea8866dbdbc4fb7aad2c   \n...                                 ...                               ...   \n99436  9c5dedf39a927c1b2549525ed64a053c  39bd1228ee8140590ac3aca26f2dfe00   \n99437  63943bddc261676b46f01ca7ac2f7bd8  1fca14ff2861355f6e5f14306ff977a7   \n99438  83c1379a015df1e13d02aae0204711ab  1aa71eb042121263aafbe80c1b562c9c   \n99439  11c177c8e97725db2631073c19f07b62  b331b74b18dc79bcdf6532d51e1637c1   \n99440  66dea50a8b16d9b4dee7af250b4be1a5  edb027a75a1449115f6b43211ae02a24   \n\n      order_status order_purchase_timestamp   order_approved_at  \\\n0        delivered      2017-10-02 10:56:33 2017-10-02 11:07:15   \n1        delivered      2018-07-24 20:41:37 2018-07-26 03:24:27   \n2        delivered      2018-08-08 08:38:49 2018-08-08 08:55:23   \n3        delivered      2017-11-18 19:28:06 2017-11-18 19:45:59   \n4        delivered      2018-02-13 21:18:39 2018-02-13 22:20:29   \n...            ...                      ...                 ...   \n99436    delivered      2017-03-09 09:54:05 2017-03-09 09:54:05   \n99437    delivered      2018-02-06 12:58:58 2018-02-06 13:10:37   \n99438    delivered      2017-08-27 14:46:43 2017-08-27 15:04:16   \n99439    delivered      2018-01-08 21:28:27 2018-01-08 21:36:21   \n99440    delivered      2018-03-08 20:57:30 2018-03-09 11:20:28   \n\n      order_delivered_carrier_date order_delivered_customer_date  \\\n0              2017-10-04 19:55:00           2017-10-10 21:25:13   \n1              2018-07-26 14:31:00           2018-08-07 15:27:45   \n2              2018-08-08 13:50:00           2018-08-17 18:06:29   \n3              2017-11-22 13:39:59           2017-12-02 00:28:42   \n4              2018-02-14 19:46:34           2018-02-16 18:17:02   \n...                            ...                           ...   \n99436          2017-03-10 11:18:03           2017-03-17 15:08:01   \n99437          2018-02-07 23:22:42           2018-02-28 17:37:56   \n99438          2017-08-28 20:52:26           2017-09-21 11:24:17   \n99439          2018-01-12 15:35:03           2018-01-25 23:32:54   \n99440          2018-03-09 22:11:59           2018-03-16 13:08:30   \n\n      order_estimated_delivery_date  \n0                        2017-10-18  \n1                        2018-08-13  \n2                        2018-09-04  \n3                        2017-12-15  \n4                        2018-02-26  \n...                             ...  \n99436                    2017-03-28  \n99437                    2018-03-02  \n99438                    2017-09-27  \n99439                    2018-02-15  \n99440                    2018-04-03  \n\n[99441 rows x 8 columns]",
      "text/html": "<div>\n<style scoped>\n    .dataframe tbody tr th:only-of-type {\n        vertical-align: middle;\n    }\n\n    .dataframe tbody tr th {\n        vertical-align: top;\n    }\n\n    .dataframe thead th {\n        text-align: right;\n    }\n</style>\n<table border=\"1\" class=\"dataframe\">\n  <thead>\n    <tr style=\"text-align: right;\">\n      <th></th>\n      <th>order_id</th>\n      <th>customer_id</th>\n      <th>order_status</th>\n      <th>order_purchase_timestamp</th>\n      <th>order_approved_at</th>\n      <th>order_delivered_carrier_date</th>\n      <th>order_delivered_customer_date</th>\n      <th>order_estimated_delivery_date</th>\n    </tr>\n  </thead>\n  <tbody>\n    <tr>\n      <th>0</th>\n      <td>e481f51cbdc54678b7cc49136f2d6af7</td>\n      <td>9ef432eb6251297304e76186b10a928d</td>\n      <td>delivered</td>\n      <td>2017-10-02 10:56:33</td>\n      <td>2017-10-02 11:07:15</td>\n      <td>2017-10-04 19:55:00</td>\n      <td>2017-10-10 21:25:13</td>\n      <td>2017-10-18</td>\n    </tr>\n    <tr>\n      <th>1</th>\n      <td>53cdb2fc8bc7dce0b6741e2150273451</td>\n      <td>b0830fb4747a6c6d20dea0b8c802d7ef</td>\n      <td>delivered</td>\n      <td>2018-07-24 20:41:37</td>\n      <td>2018-07-26 03:24:27</td>\n      <td>2018-07-26 14:31:00</td>\n      <td>2018-08-07 15:27:45</td>\n      <td>2018-08-13</td>\n    </tr>\n    <tr>\n      <th>2</th>\n      <td>47770eb9100c2d0c44946d9cf07ec65d</td>\n      <td>41ce2a54c0b03bf3443c3d931a367089</td>\n      <td>delivered</td>\n      <td>2018-08-08 08:38:49</td>\n      <td>2018-08-08 08:55:23</td>\n      <td>2018-08-08 13:50:00</td>\n      <td>2018-08-17 18:06:29</td>\n      <td>2018-09-04</td>\n    </tr>\n    <tr>\n      <th>3</th>\n      <td>949d5b44dbf5de918fe9c16f97b45f8a</td>\n      <td>f88197465ea7920adcdbec7375364d82</td>\n      <td>delivered</td>\n      <td>2017-11-18 19:28:06</td>\n      <td>2017-11-18 19:45:59</td>\n      <td>2017-11-22 13:39:59</td>\n      <td>2017-12-02 00:28:42</td>\n      <td>2017-12-15</td>\n    </tr>\n    <tr>\n      <th>4</th>\n      <td>ad21c59c0840e6cb83a9ceb5573f8159</td>\n      <td>8ab97904e6daea8866dbdbc4fb7aad2c</td>\n      <td>delivered</td>\n      <td>2018-02-13 21:18:39</td>\n      <td>2018-02-13 22:20:29</td>\n      <td>2018-02-14 19:46:34</td>\n      <td>2018-02-16 18:17:02</td>\n      <td>2018-02-26</td>\n    </tr>\n    <tr>\n      <th>...</th>\n      <td>...</td>\n      <td>...</td>\n      <td>...</td>\n      <td>...</td>\n      <td>...</td>\n      <td>...</td>\n      <td>...</td>\n      <td>...</td>\n    </tr>\n    <tr>\n      <th>99436</th>\n      <td>9c5dedf39a927c1b2549525ed64a053c</td>\n      <td>39bd1228ee8140590ac3aca26f2dfe00</td>\n      <td>delivered</td>\n      <td>2017-03-09 09:54:05</td>\n      <td>2017-03-09 09:54:05</td>\n      <td>2017-03-10 11:18:03</td>\n      <td>2017-03-17 15:08:01</td>\n      <td>2017-03-28</td>\n    </tr>\n    <tr>\n      <th>99437</th>\n      <td>63943bddc261676b46f01ca7ac2f7bd8</td>\n      <td>1fca14ff2861355f6e5f14306ff977a7</td>\n      <td>delivered</td>\n      <td>2018-02-06 12:58:58</td>\n      <td>2018-02-06 13:10:37</td>\n      <td>2018-02-07 23:22:42</td>\n      <td>2018-02-28 17:37:56</td>\n      <td>2018-03-02</td>\n    </tr>\n    <tr>\n      <th>99438</th>\n      <td>83c1379a015df1e13d02aae0204711ab</td>\n      <td>1aa71eb042121263aafbe80c1b562c9c</td>\n      <td>delivered</td>\n      <td>2017-08-27 14:46:43</td>\n      <td>2017-08-27 15:04:16</td>\n      <td>2017-08-28 20:52:26</td>\n      <td>2017-09-21 11:24:17</td>\n      <td>2017-09-27</td>\n    </tr>\n    <tr>\n      <th>99439</th>\n      <td>11c177c8e97725db2631073c19f07b62</td>\n      <td>b331b74b18dc79bcdf6532d51e1637c1</td>\n      <td>delivered</td>\n      <td>2018-01-08 21:28:27</td>\n      <td>2018-01-08 21:36:21</td>\n      <td>2018-01-12 15:35:03</td>\n      <td>2018-01-25 23:32:54</td>\n      <td>2018-02-15</td>\n    </tr>\n    <tr>\n      <th>99440</th>\n      <td>66dea50a8b16d9b4dee7af250b4be1a5</td>\n      <td>edb027a75a1449115f6b43211ae02a24</td>\n      <td>delivered</td>\n      <td>2018-03-08 20:57:30</td>\n      <td>2018-03-09 11:20:28</td>\n      <td>2018-03-09 22:11:59</td>\n      <td>2018-03-16 13:08:30</td>\n      <td>2018-04-03</td>\n    </tr>\n  </tbody>\n</table>\n<p>99441 rows × 8 columns</p>\n</div>"
     },
     "metadata": {}
    }
   ]
  },
  {
   "cell_type": "markdown",
   "source": "<a style='text-decoration:none;line-height:16px;display:flex;color:#5B5B62;padding:10px;justify-content:end;' href='https://deepnote.com?utm_source=created-in-deepnote-cell&projectId=121826e1-6393-4f2b-82a6-a1186eee7df2' target=\"_blank\">\n<img alt='Created in deepnote.com' style='display:inline;max-height:16px;margin:0px;margin-right:7.5px;' src='data:image/svg+xml;base64,PD94bWwgdmVyc2lvbj0iMS4wIiBlbmNvZGluZz0iVVRGLTgiPz4KPHN2ZyB3aWR0aD0iODBweCIgaGVpZ2h0PSI4MHB4IiB2aWV3Qm94PSIwIDAgODAgODAiIHZlcnNpb249IjEuMSIgeG1sbnM9Imh0dHA6Ly93d3cudzMub3JnLzIwMDAvc3ZnIiB4bWxuczp4bGluaz0iaHR0cDovL3d3dy53My5vcmcvMTk5OS94bGluayI+CiAgICA8IS0tIEdlbmVyYXRvcjogU2tldGNoIDU0LjEgKDc2NDkwKSAtIGh0dHBzOi8vc2tldGNoYXBwLmNvbSAtLT4KICAgIDx0aXRsZT5Hcm91cCAzPC90aXRsZT4KICAgIDxkZXNjPkNyZWF0ZWQgd2l0aCBTa2V0Y2guPC9kZXNjPgogICAgPGcgaWQ9IkxhbmRpbmciIHN0cm9rZT0ibm9uZSIgc3Ryb2tlLXdpZHRoPSIxIiBmaWxsPSJub25lIiBmaWxsLXJ1bGU9ImV2ZW5vZGQiPgogICAgICAgIDxnIGlkPSJBcnRib2FyZCIgdHJhbnNmb3JtPSJ0cmFuc2xhdGUoLTEyMzUuMDAwMDAwLCAtNzkuMDAwMDAwKSI+CiAgICAgICAgICAgIDxnIGlkPSJHcm91cC0zIiB0cmFuc2Zvcm09InRyYW5zbGF0ZSgxMjM1LjAwMDAwMCwgNzkuMDAwMDAwKSI+CiAgICAgICAgICAgICAgICA8cG9seWdvbiBpZD0iUGF0aC0yMCIgZmlsbD0iIzAyNjVCNCIgcG9pbnRzPSIyLjM3NjIzNzYyIDgwIDM4LjA0NzY2NjcgODAgNTcuODIxNzgyMiA3My44MDU3NTkyIDU3LjgyMTc4MjIgMzIuNzU5MjczOSAzOS4xNDAyMjc4IDMxLjY4MzE2ODMiPjwvcG9seWdvbj4KICAgICAgICAgICAgICAgIDxwYXRoIGQ9Ik0zNS4wMDc3MTgsODAgQzQyLjkwNjIwMDcsNzYuNDU0OTM1OCA0Ny41NjQ5MTY3LDcxLjU0MjI2NzEgNDguOTgzODY2LDY1LjI2MTk5MzkgQzUxLjExMjI4OTksNTUuODQxNTg0MiA0MS42NzcxNzk1LDQ5LjIxMjIyODQgMjUuNjIzOTg0Niw0OS4yMTIyMjg0IEMyNS40ODQ5Mjg5LDQ5LjEyNjg0NDggMjkuODI2MTI5Niw0My4yODM4MjQ4IDM4LjY0NzU4NjksMzEuNjgzMTY4MyBMNzIuODcxMjg3MSwzMi41NTQ0MjUgTDY1LjI4MDk3Myw2Ny42NzYzNDIxIEw1MS4xMTIyODk5LDc3LjM3NjE0NCBMMzUuMDA3NzE4LDgwIFoiIGlkPSJQYXRoLTIyIiBmaWxsPSIjMDAyODY4Ij48L3BhdGg+CiAgICAgICAgICAgICAgICA8cGF0aCBkPSJNMCwzNy43MzA0NDA1IEwyNy4xMTQ1MzcsMC4yNTcxMTE0MzYgQzYyLjM3MTUxMjMsLTEuOTkwNzE3MDEgODAsMTAuNTAwMzkyNyA4MCwzNy43MzA0NDA1IEM4MCw2NC45NjA0ODgyIDY0Ljc3NjUwMzgsNzkuMDUwMzQxNCAzNC4zMjk1MTEzLDgwIEM0Ny4wNTUzNDg5LDc3LjU2NzA4MDggNTMuNDE4MjY3Nyw3MC4zMTM2MTAzIDUzLjQxODI2NzcsNTguMjM5NTg4NSBDNTMuNDE4MjY3Nyw0MC4xMjg1NTU3IDM2LjMwMzk1NDQsMzcuNzMwNDQwNSAyNS4yMjc0MTcsMzcuNzMwNDQwNSBDMTcuODQzMDU4NiwzNy43MzA0NDA1IDkuNDMzOTE5NjYsMzcuNzMwNDQwNSAwLDM3LjczMDQ0MDUgWiIgaWQ9IlBhdGgtMTkiIGZpbGw9IiMzNzkzRUYiPjwvcGF0aD4KICAgICAgICAgICAgPC9nPgogICAgICAgIDwvZz4KICAgIDwvZz4KPC9zdmc+' > </img>\nCreated in <span style='font-weight:600;margin-left:4px;'>Deepnote</span></a>",
   "metadata": {
    "tags": [],
    "created_in_deepnote_cell": true,
    "deepnote_cell_type": "markdown"
   }
  }
 ],
 "nbformat": 4,
 "nbformat_minor": 2,
 "metadata": {
  "orig_nbformat": 2,
  "deepnote": {},
  "deepnote_notebook_id": "effa1378-97af-4de4-8f84-993645de8fd1",
  "deepnote_execution_queue": []
 }
}